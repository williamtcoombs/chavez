{
 "cells": [
  {
   "cell_type": "code",
   "execution_count": 1,
   "metadata": {
    "collapsed": true
   },
   "outputs": [],
   "source": [
    "# chavez & coombs\n",
    "# 2020-07-29\n",
    "# cognos_1s_management(v1).ipynb\n",
    "# this script takes jacobs-cognos-output data and transforms its format to make it compatible with the deltek spreadsheet"
   ]
  },
  {
   "cell_type": "code",
   "execution_count": 2,
   "metadata": {
    "collapsed": false
   },
   "outputs": [],
   "source": [
    "# import module(s)\n",
    "import pandas\n",
    "import os"
   ]
  },
  {
   "cell_type": "code",
   "execution_count": 3,
   "metadata": {
    "collapsed": false
   },
   "outputs": [
    {
     "name": "stdout",
     "output_type": "stream",
     "text": [
      "\\\\ain2\\dfsroot\\userdata48\\willitc0\\Data\n"
     ]
    }
   ],
   "source": [
    "# current working directory\n",
    "print(os.getcwd())"
   ]
  },
  {
   "cell_type": "code",
   "execution_count": 4,
   "metadata": {
    "collapsed": false
   },
   "outputs": [],
   "source": [
    "# read data (from U:\\ drive)\n",
    "# cognos data downloaded as excel, which is then saved as a csv file\n",
    "df = pandas.read_excel (r'U:\\import_this_data.xlsx')"
   ]
  },
  {
   "cell_type": "code",
   "execution_count": 5,
   "metadata": {
    "collapsed": true
   },
   "outputs": [],
   "source": [
    "# format data\n",
    "# round floating numbers to two decimal places in python pandas \n",
    "# pandas.options.display.float_format = '{:.2f}'.format"
   ]
  },
  {
   "cell_type": "code",
   "execution_count": 6,
   "metadata": {
    "collapsed": false
   },
   "outputs": [
    {
     "name": "stdout",
     "output_type": "stream",
     "text": [
      "<class 'pandas.core.frame.DataFrame'>\n",
      "RangeIndex: 595850 entries, 0 to 595849\n",
      "Data columns (total 23 columns):\n",
      "User                 595850 non-null object\n",
      "User Id              595850 non-null object\n",
      "Work Date            595850 non-null datetime64[ns]\n",
      "Month                595850 non-null datetime64[ns]\n",
      "Description          595850 non-null object\n",
      "REF ID               595850 non-null object\n",
      "CLIN                 595850 non-null object\n",
      "WBS                  9573 non-null object\n",
      "TASK                 308391 non-null object\n",
      "TPID                 595850 non-null object\n",
      "ProjNo               595850 non-null object\n",
      "WB2                  595832 non-null object\n",
      "Project Id           595850 non-null object\n",
      "Pay Type             595850 non-null object\n",
      "Corporation          595850 non-null object\n",
      "Company Name         595850 non-null object\n",
      "Approver             595850 non-null object\n",
      "Status               595850 non-null object\n",
      "Straight             595850 non-null float64\n",
      "Overtime             595850 non-null float64\n",
      "Total                595850 non-null float64\n",
      "Date Time Entered    595850 non-null datetime64[ns]\n",
      "Org Id               595850 non-null object\n",
      "dtypes: datetime64[ns](3), float64(3), object(17)\n",
      "memory usage: 104.6+ MB\n"
     ]
    }
   ],
   "source": [
    "# metadata\n",
    "df.info()"
   ]
  },
  {
   "cell_type": "code",
   "execution_count": 7,
   "metadata": {
    "collapsed": false
   },
   "outputs": [
    {
     "data": {
      "text/html": [
       "<div>\n",
       "<table border=\"1\" class=\"dataframe\">\n",
       "  <thead>\n",
       "    <tr style=\"text-align: right;\">\n",
       "      <th></th>\n",
       "      <th>User</th>\n",
       "      <th>User Id</th>\n",
       "      <th>Work Date</th>\n",
       "      <th>Month</th>\n",
       "      <th>Description</th>\n",
       "      <th>REF ID</th>\n",
       "      <th>CLIN</th>\n",
       "      <th>WBS</th>\n",
       "      <th>TASK</th>\n",
       "      <th>TPID</th>\n",
       "      <th>...</th>\n",
       "      <th>Pay Type</th>\n",
       "      <th>Corporation</th>\n",
       "      <th>Company Name</th>\n",
       "      <th>Approver</th>\n",
       "      <th>Status</th>\n",
       "      <th>Straight</th>\n",
       "      <th>Overtime</th>\n",
       "      <th>Total</th>\n",
       "      <th>Date Time Entered</th>\n",
       "      <th>Org Id</th>\n",
       "    </tr>\n",
       "  </thead>\n",
       "  <tbody>\n",
       "    <tr>\n",
       "      <th>0</th>\n",
       "      <td>THOMPSON, MORRIS R</td>\n",
       "      <td>51288</td>\n",
       "      <td>2017-07-21</td>\n",
       "      <td>2017-07-21</td>\n",
       "      <td>Unbillable L&amp;P</td>\n",
       "      <td>1SAP2</td>\n",
       "      <td>UNBL</td>\n",
       "      <td>NaN</td>\n",
       "      <td>LPUNBLL</td>\n",
       "      <td>1SAP2.X.UNBL.000.LPUNBLL</td>\n",
       "      <td>...</td>\n",
       "      <td>R</td>\n",
       "      <td>FNS</td>\n",
       "      <td>FNS</td>\n",
       "      <td>S-VAN LUONG</td>\n",
       "      <td>Processed</td>\n",
       "      <td>0.0</td>\n",
       "      <td>0.0</td>\n",
       "      <td>0.0</td>\n",
       "      <td>2017-07-20 15:04:19.000</td>\n",
       "      <td>1.01.01.01</td>\n",
       "    </tr>\n",
       "    <tr>\n",
       "      <th>1</th>\n",
       "      <td>THOMPSON, MORRIS R</td>\n",
       "      <td>51288</td>\n",
       "      <td>2017-07-24</td>\n",
       "      <td>2017-07-24</td>\n",
       "      <td>Asset Management</td>\n",
       "      <td>1SAP2</td>\n",
       "      <td>7400</td>\n",
       "      <td>NaN</td>\n",
       "      <td>NaN</td>\n",
       "      <td>1SAP2.C.7400.514</td>\n",
       "      <td>...</td>\n",
       "      <td>R</td>\n",
       "      <td>FNS</td>\n",
       "      <td>FNS</td>\n",
       "      <td>S-VAN LUONG</td>\n",
       "      <td>Processed</td>\n",
       "      <td>8.0</td>\n",
       "      <td>0.0</td>\n",
       "      <td>8.0</td>\n",
       "      <td>2017-07-24 16:13:24.999</td>\n",
       "      <td>1.01.01.01</td>\n",
       "    </tr>\n",
       "    <tr>\n",
       "      <th>2</th>\n",
       "      <td>THOMPSON, MORRIS R</td>\n",
       "      <td>51288</td>\n",
       "      <td>2017-07-31</td>\n",
       "      <td>2017-07-31</td>\n",
       "      <td>Asset Management</td>\n",
       "      <td>1SAP2</td>\n",
       "      <td>7400</td>\n",
       "      <td>NaN</td>\n",
       "      <td>NaN</td>\n",
       "      <td>1SAP2.C.7400.514</td>\n",
       "      <td>...</td>\n",
       "      <td>R</td>\n",
       "      <td>FNS</td>\n",
       "      <td>FNS</td>\n",
       "      <td>S-VAN LUONG</td>\n",
       "      <td>Processed</td>\n",
       "      <td>8.0</td>\n",
       "      <td>0.0</td>\n",
       "      <td>8.0</td>\n",
       "      <td>2017-07-31 16:28:13.000</td>\n",
       "      <td>1.01.01.01</td>\n",
       "    </tr>\n",
       "  </tbody>\n",
       "</table>\n",
       "<p>3 rows × 23 columns</p>\n",
       "</div>"
      ],
      "text/plain": [
       "                 User User Id  Work Date      Month       Description REF ID  \\\n",
       "0  THOMPSON, MORRIS R   51288 2017-07-21 2017-07-21    Unbillable L&P  1SAP2   \n",
       "1  THOMPSON, MORRIS R   51288 2017-07-24 2017-07-24  Asset Management  1SAP2   \n",
       "2  THOMPSON, MORRIS R   51288 2017-07-31 2017-07-31  Asset Management  1SAP2   \n",
       "\n",
       "   CLIN  WBS     TASK                      TPID     ...     Pay Type  \\\n",
       "0  UNBL  NaN  LPUNBLL  1SAP2.X.UNBL.000.LPUNBLL     ...            R   \n",
       "1  7400  NaN      NaN          1SAP2.C.7400.514     ...            R   \n",
       "2  7400  NaN      NaN          1SAP2.C.7400.514     ...            R   \n",
       "\n",
       "  Corporation Company Name     Approver     Status Straight Overtime Total  \\\n",
       "0         FNS          FNS  S-VAN LUONG  Processed      0.0      0.0   0.0   \n",
       "1         FNS          FNS  S-VAN LUONG  Processed      8.0      0.0   8.0   \n",
       "2         FNS          FNS  S-VAN LUONG  Processed      8.0      0.0   8.0   \n",
       "\n",
       "        Date Time Entered      Org Id  \n",
       "0 2017-07-20 15:04:19.000  1.01.01.01  \n",
       "1 2017-07-24 16:13:24.999  1.01.01.01  \n",
       "2 2017-07-31 16:28:13.000  1.01.01.01  \n",
       "\n",
       "[3 rows x 23 columns]"
      ]
     },
     "execution_count": 7,
     "metadata": {},
     "output_type": "execute_result"
    }
   ],
   "source": [
    "# data snapshot\n",
    "df.head(3)"
   ]
  },
  {
   "cell_type": "code",
   "execution_count": 8,
   "metadata": {
    "collapsed": false,
    "scrolled": false
   },
   "outputs": [
    {
     "data": {
      "text/html": [
       "<div>\n",
       "<table border=\"1\" class=\"dataframe\">\n",
       "  <thead>\n",
       "    <tr style=\"text-align: right;\">\n",
       "      <th></th>\n",
       "      <th>User</th>\n",
       "      <th>User Id</th>\n",
       "      <th>Work Date</th>\n",
       "      <th>Month</th>\n",
       "      <th>Description</th>\n",
       "      <th>REF ID</th>\n",
       "      <th>CLIN</th>\n",
       "      <th>WBS</th>\n",
       "      <th>TASK</th>\n",
       "      <th>TPID</th>\n",
       "      <th>...</th>\n",
       "      <th>Corporation</th>\n",
       "      <th>Company Name</th>\n",
       "      <th>Approver</th>\n",
       "      <th>Status</th>\n",
       "      <th>Straight</th>\n",
       "      <th>Overtime</th>\n",
       "      <th>Total</th>\n",
       "      <th>Date Time Entered</th>\n",
       "      <th>Org Id</th>\n",
       "      <th>ChangeID</th>\n",
       "    </tr>\n",
       "  </thead>\n",
       "  <tbody>\n",
       "    <tr>\n",
       "      <th>0</th>\n",
       "      <td>THOMPSON, MORRIS R</td>\n",
       "      <td>51288</td>\n",
       "      <td>2017-07-21</td>\n",
       "      <td>2017-07-21</td>\n",
       "      <td>Unbillable L&amp;P</td>\n",
       "      <td>1SAP2</td>\n",
       "      <td>UNBL</td>\n",
       "      <td>NaN</td>\n",
       "      <td>LPUNBLL</td>\n",
       "      <td>1SAP2.X.UNBL.000.LPUNBLL</td>\n",
       "      <td>...</td>\n",
       "      <td>FNS</td>\n",
       "      <td>FNS</td>\n",
       "      <td>S-VAN LUONG</td>\n",
       "      <td>Processed</td>\n",
       "      <td>0.0</td>\n",
       "      <td>0.0</td>\n",
       "      <td>0.0</td>\n",
       "      <td>2017-07-20 15:04:19.000</td>\n",
       "      <td>1.01.01.01</td>\n",
       "      <td>0</td>\n",
       "    </tr>\n",
       "    <tr>\n",
       "      <th>1</th>\n",
       "      <td>THOMPSON, MORRIS R</td>\n",
       "      <td>51288</td>\n",
       "      <td>2017-07-24</td>\n",
       "      <td>2017-07-24</td>\n",
       "      <td>Asset Management</td>\n",
       "      <td>1SAP2</td>\n",
       "      <td>7400</td>\n",
       "      <td>NaN</td>\n",
       "      <td>NaN</td>\n",
       "      <td>1SAP2.C.7400.514</td>\n",
       "      <td>...</td>\n",
       "      <td>FNS</td>\n",
       "      <td>FNS</td>\n",
       "      <td>S-VAN LUONG</td>\n",
       "      <td>Processed</td>\n",
       "      <td>8.0</td>\n",
       "      <td>0.0</td>\n",
       "      <td>8.0</td>\n",
       "      <td>2017-07-24 16:13:24.999</td>\n",
       "      <td>1.01.01.01</td>\n",
       "      <td>0</td>\n",
       "    </tr>\n",
       "    <tr>\n",
       "      <th>2</th>\n",
       "      <td>THOMPSON, MORRIS R</td>\n",
       "      <td>51288</td>\n",
       "      <td>2017-07-31</td>\n",
       "      <td>2017-07-31</td>\n",
       "      <td>Asset Management</td>\n",
       "      <td>1SAP2</td>\n",
       "      <td>7400</td>\n",
       "      <td>NaN</td>\n",
       "      <td>NaN</td>\n",
       "      <td>1SAP2.C.7400.514</td>\n",
       "      <td>...</td>\n",
       "      <td>FNS</td>\n",
       "      <td>FNS</td>\n",
       "      <td>S-VAN LUONG</td>\n",
       "      <td>Processed</td>\n",
       "      <td>8.0</td>\n",
       "      <td>0.0</td>\n",
       "      <td>8.0</td>\n",
       "      <td>2017-07-31 16:28:13.000</td>\n",
       "      <td>1.01.01.01</td>\n",
       "      <td>0</td>\n",
       "    </tr>\n",
       "  </tbody>\n",
       "</table>\n",
       "<p>3 rows × 24 columns</p>\n",
       "</div>"
      ],
      "text/plain": [
       "                 User User Id  Work Date      Month       Description REF ID  \\\n",
       "0  THOMPSON, MORRIS R   51288 2017-07-21 2017-07-21    Unbillable L&P  1SAP2   \n",
       "1  THOMPSON, MORRIS R   51288 2017-07-24 2017-07-24  Asset Management  1SAP2   \n",
       "2  THOMPSON, MORRIS R   51288 2017-07-31 2017-07-31  Asset Management  1SAP2   \n",
       "\n",
       "   CLIN  WBS     TASK                      TPID    ...    Corporation  \\\n",
       "0  UNBL  NaN  LPUNBLL  1SAP2.X.UNBL.000.LPUNBLL    ...            FNS   \n",
       "1  7400  NaN      NaN          1SAP2.C.7400.514    ...            FNS   \n",
       "2  7400  NaN      NaN          1SAP2.C.7400.514    ...            FNS   \n",
       "\n",
       "  Company Name     Approver     Status Straight Overtime Total  \\\n",
       "0          FNS  S-VAN LUONG  Processed      0.0      0.0   0.0   \n",
       "1          FNS  S-VAN LUONG  Processed      8.0      0.0   8.0   \n",
       "2          FNS  S-VAN LUONG  Processed      8.0      0.0   8.0   \n",
       "\n",
       "        Date Time Entered      Org Id  ChangeID  \n",
       "0 2017-07-20 15:04:19.000  1.01.01.01         0  \n",
       "1 2017-07-24 16:13:24.999  1.01.01.01         0  \n",
       "2 2017-07-31 16:28:13.000  1.01.01.01         0  \n",
       "\n",
       "[3 rows x 24 columns]"
      ]
     },
     "execution_count": 8,
     "metadata": {},
     "output_type": "execute_result"
    }
   ],
   "source": [
    "# add ChangeID\n",
    "df['ChangeID'] = df['ProjNo']\n",
    "df.head(3)"
   ]
  },
  {
   "cell_type": "code",
   "execution_count": 9,
   "metadata": {
    "collapsed": false
   },
   "outputs": [
    {
     "data": {
      "text/html": [
       "<div>\n",
       "<table border=\"1\" class=\"dataframe\">\n",
       "  <thead>\n",
       "    <tr style=\"text-align: right;\">\n",
       "      <th></th>\n",
       "      <th>User</th>\n",
       "      <th>User Id</th>\n",
       "      <th>Work Date</th>\n",
       "      <th>Month</th>\n",
       "      <th>Description</th>\n",
       "      <th>REF ID</th>\n",
       "      <th>CLIN</th>\n",
       "      <th>WBS</th>\n",
       "      <th>TASK</th>\n",
       "      <th>TPID</th>\n",
       "      <th>...</th>\n",
       "      <th>Company Name</th>\n",
       "      <th>Approver</th>\n",
       "      <th>Status</th>\n",
       "      <th>Straight</th>\n",
       "      <th>Overtime</th>\n",
       "      <th>Total</th>\n",
       "      <th>Date Time Entered</th>\n",
       "      <th>Org Id</th>\n",
       "      <th>ChangeID</th>\n",
       "      <th>OptYr</th>\n",
       "    </tr>\n",
       "  </thead>\n",
       "  <tbody>\n",
       "    <tr>\n",
       "      <th>0</th>\n",
       "      <td>THOMPSON, MORRIS R</td>\n",
       "      <td>51288</td>\n",
       "      <td>2017-07-21</td>\n",
       "      <td>2017-07-21</td>\n",
       "      <td>Unbillable L&amp;P</td>\n",
       "      <td>1SAP2</td>\n",
       "      <td>UNBL</td>\n",
       "      <td>NaN</td>\n",
       "      <td>LPUNBLL</td>\n",
       "      <td>1SAP2.X.UNBL.000.LPUNBLL</td>\n",
       "      <td>...</td>\n",
       "      <td>FNS</td>\n",
       "      <td>S-VAN LUONG</td>\n",
       "      <td>Processed</td>\n",
       "      <td>0.0</td>\n",
       "      <td>0.0</td>\n",
       "      <td>0.0</td>\n",
       "      <td>2017-07-20 15:04:19.000</td>\n",
       "      <td>1.01.01.01</td>\n",
       "      <td>0</td>\n",
       "      <td>OY</td>\n",
       "    </tr>\n",
       "    <tr>\n",
       "      <th>1</th>\n",
       "      <td>THOMPSON, MORRIS R</td>\n",
       "      <td>51288</td>\n",
       "      <td>2017-07-24</td>\n",
       "      <td>2017-07-24</td>\n",
       "      <td>Asset Management</td>\n",
       "      <td>1SAP2</td>\n",
       "      <td>7400</td>\n",
       "      <td>NaN</td>\n",
       "      <td>NaN</td>\n",
       "      <td>1SAP2.C.7400.514</td>\n",
       "      <td>...</td>\n",
       "      <td>FNS</td>\n",
       "      <td>S-VAN LUONG</td>\n",
       "      <td>Processed</td>\n",
       "      <td>8.0</td>\n",
       "      <td>0.0</td>\n",
       "      <td>8.0</td>\n",
       "      <td>2017-07-24 16:13:24.999</td>\n",
       "      <td>1.01.01.01</td>\n",
       "      <td>0</td>\n",
       "      <td>OY</td>\n",
       "    </tr>\n",
       "    <tr>\n",
       "      <th>2</th>\n",
       "      <td>THOMPSON, MORRIS R</td>\n",
       "      <td>51288</td>\n",
       "      <td>2017-07-31</td>\n",
       "      <td>2017-07-31</td>\n",
       "      <td>Asset Management</td>\n",
       "      <td>1SAP2</td>\n",
       "      <td>7400</td>\n",
       "      <td>NaN</td>\n",
       "      <td>NaN</td>\n",
       "      <td>1SAP2.C.7400.514</td>\n",
       "      <td>...</td>\n",
       "      <td>FNS</td>\n",
       "      <td>S-VAN LUONG</td>\n",
       "      <td>Processed</td>\n",
       "      <td>8.0</td>\n",
       "      <td>0.0</td>\n",
       "      <td>8.0</td>\n",
       "      <td>2017-07-31 16:28:13.000</td>\n",
       "      <td>1.01.01.01</td>\n",
       "      <td>0</td>\n",
       "      <td>OY</td>\n",
       "    </tr>\n",
       "  </tbody>\n",
       "</table>\n",
       "<p>3 rows × 25 columns</p>\n",
       "</div>"
      ],
      "text/plain": [
       "                 User User Id  Work Date      Month       Description REF ID  \\\n",
       "0  THOMPSON, MORRIS R   51288 2017-07-21 2017-07-21    Unbillable L&P  1SAP2   \n",
       "1  THOMPSON, MORRIS R   51288 2017-07-24 2017-07-24  Asset Management  1SAP2   \n",
       "2  THOMPSON, MORRIS R   51288 2017-07-31 2017-07-31  Asset Management  1SAP2   \n",
       "\n",
       "   CLIN  WBS     TASK                      TPID  ...   Company Name  \\\n",
       "0  UNBL  NaN  LPUNBLL  1SAP2.X.UNBL.000.LPUNBLL  ...            FNS   \n",
       "1  7400  NaN      NaN          1SAP2.C.7400.514  ...            FNS   \n",
       "2  7400  NaN      NaN          1SAP2.C.7400.514  ...            FNS   \n",
       "\n",
       "      Approver     Status Straight Overtime Total       Date Time Entered  \\\n",
       "0  S-VAN LUONG  Processed      0.0      0.0   0.0 2017-07-20 15:04:19.000   \n",
       "1  S-VAN LUONG  Processed      8.0      0.0   8.0 2017-07-24 16:13:24.999   \n",
       "2  S-VAN LUONG  Processed      8.0      0.0   8.0 2017-07-31 16:28:13.000   \n",
       "\n",
       "       Org Id  ChangeID  OptYr  \n",
       "0  1.01.01.01         0     OY  \n",
       "1  1.01.01.01         0     OY  \n",
       "2  1.01.01.01         0     OY  \n",
       "\n",
       "[3 rows x 25 columns]"
      ]
     },
     "execution_count": 9,
     "metadata": {},
     "output_type": "execute_result"
    }
   ],
   "source": [
    "# add option year\n",
    "df.insert(24, 'OptYr', 'OY')\n",
    "df.head(3)"
   ]
  },
  {
   "cell_type": "code",
   "execution_count": 10,
   "metadata": {
    "collapsed": false
   },
   "outputs": [
    {
     "name": "stdout",
     "output_type": "stream",
     "text": [
      "<class 'pandas.core.frame.DataFrame'>\n",
      "RangeIndex: 595850 entries, 0 to 595849\n",
      "Data columns (total 25 columns):\n",
      "User                 595850 non-null object\n",
      "User Id              595850 non-null object\n",
      "Work Date            595850 non-null datetime64[ns]\n",
      "Month                595850 non-null datetime64[ns]\n",
      "Description          595850 non-null object\n",
      "REF ID               595850 non-null object\n",
      "CLIN                 595850 non-null object\n",
      "WBS                  9573 non-null object\n",
      "TASK                 308391 non-null object\n",
      "TPID                 595850 non-null object\n",
      "ProjNo               595850 non-null object\n",
      "WB2                  595832 non-null object\n",
      "Project Id           595850 non-null object\n",
      "Pay Type             595850 non-null object\n",
      "Corporation          595850 non-null object\n",
      "Company Name         595850 non-null object\n",
      "Approver             595850 non-null object\n",
      "Status               595850 non-null object\n",
      "Straight             595850 non-null float64\n",
      "Overtime             595850 non-null float64\n",
      "Total                595850 non-null float64\n",
      "Date Time Entered    595850 non-null datetime64[ns]\n",
      "Org Id               595850 non-null object\n",
      "ChangeID             595850 non-null object\n",
      "OptYr                595850 non-null object\n",
      "dtypes: datetime64[ns](3), float64(3), object(19)\n",
      "memory usage: 113.6+ MB\n"
     ]
    }
   ],
   "source": [
    "# check data\n",
    "df.info()"
   ]
  },
  {
   "cell_type": "code",
   "execution_count": 11,
   "metadata": {
    "collapsed": false
   },
   "outputs": [
    {
     "data": {
      "text/plain": [
       "0    THOMPSON, MORRIS R\n",
       "1    THOMPSON, MORRIS R\n",
       "2    THOMPSON, MORRIS R\n",
       "Name: User, dtype: object"
      ]
     },
     "execution_count": 11,
     "metadata": {},
     "output_type": "execute_result"
    }
   ],
   "source": [
    "# column A\n",
    "df['User'].head(3)"
   ]
  },
  {
   "cell_type": "code",
   "execution_count": 12,
   "metadata": {
    "collapsed": false
   },
   "outputs": [
    {
     "data": {
      "text/plain": [
       "0    51288\n",
       "1    51288\n",
       "2    51288\n",
       "Name: User Id, dtype: object"
      ]
     },
     "execution_count": 12,
     "metadata": {},
     "output_type": "execute_result"
    }
   ],
   "source": [
    "# column B\n",
    "df['User Id'].head(3)"
   ]
  },
  {
   "cell_type": "code",
   "execution_count": 13,
   "metadata": {
    "collapsed": false
   },
   "outputs": [
    {
     "data": {
      "text/html": [
       "<div>\n",
       "<table border=\"1\" class=\"dataframe\">\n",
       "  <thead>\n",
       "    <tr style=\"text-align: right;\">\n",
       "      <th></th>\n",
       "      <th>User</th>\n",
       "      <th>User Id</th>\n",
       "      <th>Work Date</th>\n",
       "      <th>Month</th>\n",
       "      <th>Description</th>\n",
       "      <th>REF ID</th>\n",
       "      <th>CLIN</th>\n",
       "      <th>WBS</th>\n",
       "      <th>TASK</th>\n",
       "      <th>TPID</th>\n",
       "      <th>...</th>\n",
       "      <th>Company Name</th>\n",
       "      <th>Approver</th>\n",
       "      <th>Status</th>\n",
       "      <th>Straight</th>\n",
       "      <th>Overtime</th>\n",
       "      <th>Total</th>\n",
       "      <th>Date Time Entered</th>\n",
       "      <th>Org Id</th>\n",
       "      <th>ChangeID</th>\n",
       "      <th>OptYr</th>\n",
       "    </tr>\n",
       "  </thead>\n",
       "  <tbody>\n",
       "    <tr>\n",
       "      <th>0</th>\n",
       "      <td>THOMPSON, MORRIS R</td>\n",
       "      <td>51288</td>\n",
       "      <td>2017-07-21</td>\n",
       "      <td>2017-07-21</td>\n",
       "      <td>Unbillable L&amp;P</td>\n",
       "      <td>1SAP2</td>\n",
       "      <td>UNBL</td>\n",
       "      <td>NaN</td>\n",
       "      <td>LPUNBLL</td>\n",
       "      <td>1SAP2.X.UNBL.000.LPUNBLL</td>\n",
       "      <td>...</td>\n",
       "      <td>FNS</td>\n",
       "      <td>S-VAN LUONG</td>\n",
       "      <td>Processed</td>\n",
       "      <td>0.0</td>\n",
       "      <td>0.0</td>\n",
       "      <td>0.0</td>\n",
       "      <td>2017-07-20 15:04:19.000</td>\n",
       "      <td>1.01.01.01</td>\n",
       "      <td>0</td>\n",
       "      <td>OY</td>\n",
       "    </tr>\n",
       "    <tr>\n",
       "      <th>1</th>\n",
       "      <td>THOMPSON, MORRIS R</td>\n",
       "      <td>51288</td>\n",
       "      <td>2017-07-24</td>\n",
       "      <td>2017-07-24</td>\n",
       "      <td>Asset Management</td>\n",
       "      <td>1SAP2</td>\n",
       "      <td>7400</td>\n",
       "      <td>NaN</td>\n",
       "      <td>NaN</td>\n",
       "      <td>1SAP2.C.7400.514</td>\n",
       "      <td>...</td>\n",
       "      <td>FNS</td>\n",
       "      <td>S-VAN LUONG</td>\n",
       "      <td>Processed</td>\n",
       "      <td>8.0</td>\n",
       "      <td>0.0</td>\n",
       "      <td>8.0</td>\n",
       "      <td>2017-07-24 16:13:24.999</td>\n",
       "      <td>1.01.01.01</td>\n",
       "      <td>0</td>\n",
       "      <td>OY</td>\n",
       "    </tr>\n",
       "    <tr>\n",
       "      <th>2</th>\n",
       "      <td>THOMPSON, MORRIS R</td>\n",
       "      <td>51288</td>\n",
       "      <td>2017-07-31</td>\n",
       "      <td>2017-07-31</td>\n",
       "      <td>Asset Management</td>\n",
       "      <td>1SAP2</td>\n",
       "      <td>7400</td>\n",
       "      <td>NaN</td>\n",
       "      <td>NaN</td>\n",
       "      <td>1SAP2.C.7400.514</td>\n",
       "      <td>...</td>\n",
       "      <td>FNS</td>\n",
       "      <td>S-VAN LUONG</td>\n",
       "      <td>Processed</td>\n",
       "      <td>8.0</td>\n",
       "      <td>0.0</td>\n",
       "      <td>8.0</td>\n",
       "      <td>2017-07-31 16:28:13.000</td>\n",
       "      <td>1.01.01.01</td>\n",
       "      <td>0</td>\n",
       "      <td>OY</td>\n",
       "    </tr>\n",
       "  </tbody>\n",
       "</table>\n",
       "<p>3 rows × 25 columns</p>\n",
       "</div>"
      ],
      "text/plain": [
       "                 User User Id   Work Date      Month       Description REF ID  \\\n",
       "0  THOMPSON, MORRIS R   51288  2017-07-21 2017-07-21    Unbillable L&P  1SAP2   \n",
       "1  THOMPSON, MORRIS R   51288  2017-07-24 2017-07-24  Asset Management  1SAP2   \n",
       "2  THOMPSON, MORRIS R   51288  2017-07-31 2017-07-31  Asset Management  1SAP2   \n",
       "\n",
       "   CLIN  WBS     TASK                      TPID  ...   Company Name  \\\n",
       "0  UNBL  NaN  LPUNBLL  1SAP2.X.UNBL.000.LPUNBLL  ...            FNS   \n",
       "1  7400  NaN      NaN          1SAP2.C.7400.514  ...            FNS   \n",
       "2  7400  NaN      NaN          1SAP2.C.7400.514  ...            FNS   \n",
       "\n",
       "      Approver     Status Straight Overtime Total       Date Time Entered  \\\n",
       "0  S-VAN LUONG  Processed      0.0      0.0   0.0 2017-07-20 15:04:19.000   \n",
       "1  S-VAN LUONG  Processed      8.0      0.0   8.0 2017-07-24 16:13:24.999   \n",
       "2  S-VAN LUONG  Processed      8.0      0.0   8.0 2017-07-31 16:28:13.000   \n",
       "\n",
       "       Org Id  ChangeID  OptYr  \n",
       "0  1.01.01.01         0     OY  \n",
       "1  1.01.01.01         0     OY  \n",
       "2  1.01.01.01         0     OY  \n",
       "\n",
       "[3 rows x 25 columns]"
      ]
     },
     "execution_count": 13,
     "metadata": {},
     "output_type": "execute_result"
    }
   ],
   "source": [
    "# column C\n",
    "# modify workdate format\n",
    "df['Work Date'] = pandas.to_datetime(df['Work Date']).dt.strftime('%Y-%m-%d')\n",
    "df.head(3)"
   ]
  },
  {
   "cell_type": "code",
   "execution_count": 14,
   "metadata": {
    "collapsed": false
   },
   "outputs": [
    {
     "data": {
      "text/html": [
       "<div>\n",
       "<table border=\"1\" class=\"dataframe\">\n",
       "  <thead>\n",
       "    <tr style=\"text-align: right;\">\n",
       "      <th></th>\n",
       "      <th>User</th>\n",
       "      <th>User Id</th>\n",
       "      <th>Work Date</th>\n",
       "      <th>Month</th>\n",
       "      <th>Description</th>\n",
       "      <th>REF ID</th>\n",
       "      <th>CLIN</th>\n",
       "      <th>WBS</th>\n",
       "      <th>TASK</th>\n",
       "      <th>TPID</th>\n",
       "      <th>...</th>\n",
       "      <th>Company Name</th>\n",
       "      <th>Approver</th>\n",
       "      <th>Status</th>\n",
       "      <th>Straight</th>\n",
       "      <th>Overtime</th>\n",
       "      <th>Total</th>\n",
       "      <th>Date Time Entered</th>\n",
       "      <th>Org Id</th>\n",
       "      <th>ChangeID</th>\n",
       "      <th>OptYr</th>\n",
       "    </tr>\n",
       "  </thead>\n",
       "  <tbody>\n",
       "    <tr>\n",
       "      <th>0</th>\n",
       "      <td>THOMPSON, MORRIS R</td>\n",
       "      <td>51288</td>\n",
       "      <td>2017-07-21</td>\n",
       "      <td>2017-07</td>\n",
       "      <td>Unbillable L&amp;P</td>\n",
       "      <td>1SAP2</td>\n",
       "      <td>UNBL</td>\n",
       "      <td>NaN</td>\n",
       "      <td>LPUNBLL</td>\n",
       "      <td>1SAP2.X.UNBL.000.LPUNBLL</td>\n",
       "      <td>...</td>\n",
       "      <td>FNS</td>\n",
       "      <td>S-VAN LUONG</td>\n",
       "      <td>Processed</td>\n",
       "      <td>0.0</td>\n",
       "      <td>0.0</td>\n",
       "      <td>0.0</td>\n",
       "      <td>2017-07-20 15:04:19.000</td>\n",
       "      <td>1.01.01.01</td>\n",
       "      <td>0</td>\n",
       "      <td>OY</td>\n",
       "    </tr>\n",
       "    <tr>\n",
       "      <th>1</th>\n",
       "      <td>THOMPSON, MORRIS R</td>\n",
       "      <td>51288</td>\n",
       "      <td>2017-07-24</td>\n",
       "      <td>2017-07</td>\n",
       "      <td>Asset Management</td>\n",
       "      <td>1SAP2</td>\n",
       "      <td>7400</td>\n",
       "      <td>NaN</td>\n",
       "      <td>NaN</td>\n",
       "      <td>1SAP2.C.7400.514</td>\n",
       "      <td>...</td>\n",
       "      <td>FNS</td>\n",
       "      <td>S-VAN LUONG</td>\n",
       "      <td>Processed</td>\n",
       "      <td>8.0</td>\n",
       "      <td>0.0</td>\n",
       "      <td>8.0</td>\n",
       "      <td>2017-07-24 16:13:24.999</td>\n",
       "      <td>1.01.01.01</td>\n",
       "      <td>0</td>\n",
       "      <td>OY</td>\n",
       "    </tr>\n",
       "    <tr>\n",
       "      <th>2</th>\n",
       "      <td>THOMPSON, MORRIS R</td>\n",
       "      <td>51288</td>\n",
       "      <td>2017-07-31</td>\n",
       "      <td>2017-07</td>\n",
       "      <td>Asset Management</td>\n",
       "      <td>1SAP2</td>\n",
       "      <td>7400</td>\n",
       "      <td>NaN</td>\n",
       "      <td>NaN</td>\n",
       "      <td>1SAP2.C.7400.514</td>\n",
       "      <td>...</td>\n",
       "      <td>FNS</td>\n",
       "      <td>S-VAN LUONG</td>\n",
       "      <td>Processed</td>\n",
       "      <td>8.0</td>\n",
       "      <td>0.0</td>\n",
       "      <td>8.0</td>\n",
       "      <td>2017-07-31 16:28:13.000</td>\n",
       "      <td>1.01.01.01</td>\n",
       "      <td>0</td>\n",
       "      <td>OY</td>\n",
       "    </tr>\n",
       "  </tbody>\n",
       "</table>\n",
       "<p>3 rows × 25 columns</p>\n",
       "</div>"
      ],
      "text/plain": [
       "                 User User Id   Work Date    Month       Description REF ID  \\\n",
       "0  THOMPSON, MORRIS R   51288  2017-07-21  2017-07    Unbillable L&P  1SAP2   \n",
       "1  THOMPSON, MORRIS R   51288  2017-07-24  2017-07  Asset Management  1SAP2   \n",
       "2  THOMPSON, MORRIS R   51288  2017-07-31  2017-07  Asset Management  1SAP2   \n",
       "\n",
       "   CLIN  WBS     TASK                      TPID  ...   Company Name  \\\n",
       "0  UNBL  NaN  LPUNBLL  1SAP2.X.UNBL.000.LPUNBLL  ...            FNS   \n",
       "1  7400  NaN      NaN          1SAP2.C.7400.514  ...            FNS   \n",
       "2  7400  NaN      NaN          1SAP2.C.7400.514  ...            FNS   \n",
       "\n",
       "      Approver     Status Straight Overtime Total       Date Time Entered  \\\n",
       "0  S-VAN LUONG  Processed      0.0      0.0   0.0 2017-07-20 15:04:19.000   \n",
       "1  S-VAN LUONG  Processed      8.0      0.0   8.0 2017-07-24 16:13:24.999   \n",
       "2  S-VAN LUONG  Processed      8.0      0.0   8.0 2017-07-31 16:28:13.000   \n",
       "\n",
       "       Org Id  ChangeID  OptYr  \n",
       "0  1.01.01.01         0     OY  \n",
       "1  1.01.01.01         0     OY  \n",
       "2  1.01.01.01         0     OY  \n",
       "\n",
       "[3 rows x 25 columns]"
      ]
     },
     "execution_count": 14,
     "metadata": {},
     "output_type": "execute_result"
    }
   ],
   "source": [
    "# column D\n",
    "# modify month format\n",
    "df['Month'] = pandas.to_datetime(df['Month']).dt.strftime('%Y-%m')\n",
    "df.head(3)"
   ]
  },
  {
   "cell_type": "code",
   "execution_count": 15,
   "metadata": {
    "collapsed": false
   },
   "outputs": [
    {
     "data": {
      "text/plain": [
       "0      Unbillable L&P\n",
       "1    Asset Management\n",
       "2    Asset Management\n",
       "Name: Description, dtype: object"
      ]
     },
     "execution_count": 15,
     "metadata": {},
     "output_type": "execute_result"
    }
   ],
   "source": [
    "# column E\n",
    "df['Description'].head(3)"
   ]
  },
  {
   "cell_type": "code",
   "execution_count": 16,
   "metadata": {
    "collapsed": false
   },
   "outputs": [
    {
     "data": {
      "text/plain": [
       "0    1SAP2\n",
       "1    1SAP2\n",
       "2    1SAP2\n",
       "Name: REF ID, dtype: object"
      ]
     },
     "execution_count": 16,
     "metadata": {},
     "output_type": "execute_result"
    }
   ],
   "source": [
    "# column F\n",
    "df['REF ID'].head(3)"
   ]
  },
  {
   "cell_type": "code",
   "execution_count": 17,
   "metadata": {
    "collapsed": false
   },
   "outputs": [
    {
     "data": {
      "text/plain": [
       "0    1SAP2.X.UNBL.000.LPUNBLL\n",
       "1            1SAP2.C.7400.514\n",
       "2            1SAP2.C.7400.514\n",
       "Name: TPID, dtype: object"
      ]
     },
     "execution_count": 17,
     "metadata": {},
     "output_type": "execute_result"
    }
   ],
   "source": [
    "# Check TPID format\n",
    "df['TPID'].head(3)"
   ]
  },
  {
   "cell_type": "code",
   "execution_count": 18,
   "metadata": {
    "collapsed": false
   },
   "outputs": [
    {
     "data": {
      "text/plain": [
       "0    UNBL\n",
       "1    7400\n",
       "2    7400\n",
       "Name: CLIN, dtype: object"
      ]
     },
     "execution_count": 18,
     "metadata": {},
     "output_type": "execute_result"
    }
   ],
   "source": [
    "# column G\n",
    "# get clin from tpid\n",
    "df['CLIN'] = df.TPID.str.split(\".\", expand=True,)[2]\n",
    "df['CLIN'].head(3)"
   ]
  },
  {
   "cell_type": "code",
   "execution_count": 19,
   "metadata": {
    "collapsed": false
   },
   "outputs": [
    {
     "data": {
      "text/plain": [
       "0    000\n",
       "1    514\n",
       "2    514\n",
       "Name: WBS, dtype: object"
      ]
     },
     "execution_count": 19,
     "metadata": {},
     "output_type": "execute_result"
    }
   ],
   "source": [
    "# column H\n",
    "# get wbs from tpid\n",
    "df['WBS'] = df.TPID.str.split(\".\", expand=True,)[3]\n",
    "df['WBS'].head(3)"
   ]
  },
  {
   "cell_type": "code",
   "execution_count": 20,
   "metadata": {
    "collapsed": false
   },
   "outputs": [
    {
     "data": {
      "text/plain": [
       "0    1SAP2.X.UNBL.000.LPUNBLL\n",
       "1            1SAP2.C.7400.514\n",
       "2            1SAP2.C.7400.514\n",
       "Name: TPID, dtype: object"
      ]
     },
     "execution_count": 20,
     "metadata": {},
     "output_type": "execute_result"
    }
   ],
   "source": [
    "# column I\n",
    "df['TPID'].head(3)"
   ]
  },
  {
   "cell_type": "code",
   "execution_count": 21,
   "metadata": {
    "collapsed": false
   },
   "outputs": [
    {
     "data": {
      "text/plain": [
       "0    LPUNBLL\n",
       "1        NaN\n",
       "2        NaN\n",
       "Name: TASK, dtype: object"
      ]
     },
     "execution_count": 21,
     "metadata": {},
     "output_type": "execute_result"
    }
   ],
   "source": [
    "# column J\n",
    "df['TASK'].head(3)"
   ]
  },
  {
   "cell_type": "code",
   "execution_count": 22,
   "metadata": {
    "collapsed": false
   },
   "outputs": [
    {
     "data": {
      "text/plain": [
       "0    R\n",
       "1    R\n",
       "2    R\n",
       "Name: Pay Type, dtype: object"
      ]
     },
     "execution_count": 22,
     "metadata": {},
     "output_type": "execute_result"
    }
   ],
   "source": [
    "# column K\n",
    "df['Pay Type'].head(3)"
   ]
  },
  {
   "cell_type": "code",
   "execution_count": 23,
   "metadata": {
    "collapsed": false
   },
   "outputs": [
    {
     "data": {
      "text/plain": [
       "0    FNS\n",
       "1    FNS\n",
       "2    FNS\n",
       "Name: Corporation, dtype: object"
      ]
     },
     "execution_count": 23,
     "metadata": {},
     "output_type": "execute_result"
    }
   ],
   "source": [
    "# column L\n",
    "df['Corporation'].head(3)"
   ]
  },
  {
   "cell_type": "code",
   "execution_count": 24,
   "metadata": {
    "collapsed": false
   },
   "outputs": [
    {
     "data": {
      "text/plain": [
       "0    FNS\n",
       "1    FNS\n",
       "2    FNS\n",
       "Name: Company Name, dtype: object"
      ]
     },
     "execution_count": 24,
     "metadata": {},
     "output_type": "execute_result"
    }
   ],
   "source": [
    "# column M\n",
    "df['Company Name'].head(3)"
   ]
  },
  {
   "cell_type": "code",
   "execution_count": 25,
   "metadata": {
    "collapsed": false
   },
   "outputs": [
    {
     "data": {
      "text/plain": [
       "0    S-VAN LUONG\n",
       "1    S-VAN LUONG\n",
       "2    S-VAN LUONG\n",
       "Name: Approver, dtype: object"
      ]
     },
     "execution_count": 25,
     "metadata": {},
     "output_type": "execute_result"
    }
   ],
   "source": [
    "# column N\n",
    "df['Approver'].head(3)"
   ]
  },
  {
   "cell_type": "code",
   "execution_count": 26,
   "metadata": {
    "collapsed": false
   },
   "outputs": [
    {
     "data": {
      "text/plain": [
       "0    Processed\n",
       "1    Processed\n",
       "2    Processed\n",
       "Name: Status, dtype: object"
      ]
     },
     "execution_count": 26,
     "metadata": {},
     "output_type": "execute_result"
    }
   ],
   "source": [
    "# column O\n",
    "df['Status'].head(3)"
   ]
  },
  {
   "cell_type": "code",
   "execution_count": 27,
   "metadata": {
    "collapsed": false
   },
   "outputs": [
    {
     "data": {
      "text/plain": [
       "0    0.0\n",
       "1    8.0\n",
       "2    8.0\n",
       "Name: Straight, dtype: float64"
      ]
     },
     "execution_count": 27,
     "metadata": {},
     "output_type": "execute_result"
    }
   ],
   "source": [
    "# column P\n",
    "df['Straight'].head(3)"
   ]
  },
  {
   "cell_type": "code",
   "execution_count": 28,
   "metadata": {
    "collapsed": false
   },
   "outputs": [
    {
     "data": {
      "text/plain": [
       "0    0.0\n",
       "1    0.0\n",
       "2    0.0\n",
       "Name: Overtime, dtype: float64"
      ]
     },
     "execution_count": 28,
     "metadata": {},
     "output_type": "execute_result"
    }
   ],
   "source": [
    "# column Q\n",
    "df['Overtime'].head(3)"
   ]
  },
  {
   "cell_type": "code",
   "execution_count": 29,
   "metadata": {
    "collapsed": false
   },
   "outputs": [
    {
     "data": {
      "text/plain": [
       "0    0.0\n",
       "1    8.0\n",
       "2    8.0\n",
       "Name: Total, dtype: float64"
      ]
     },
     "execution_count": 29,
     "metadata": {},
     "output_type": "execute_result"
    }
   ],
   "source": [
    "# column R\n",
    "df['Total'].head(3)"
   ]
  },
  {
   "cell_type": "code",
   "execution_count": 30,
   "metadata": {
    "collapsed": false
   },
   "outputs": [
    {
     "data": {
      "text/plain": [
       "0           2017-07-20 15:04:19\n",
       "1    2017-07-24 16:13:24.999000\n",
       "2           2017-07-31 16:28:13\n",
       "Name: Date Time Entered, dtype: object"
      ]
     },
     "execution_count": 30,
     "metadata": {},
     "output_type": "execute_result"
    }
   ],
   "source": [
    "# column S (modify format)\n",
    "df['Date Time Entered'] = pandas.to_datetime(df['Date Time Entered']).dt.strftime('%Y-%m-%d %h:%m:%s')\n",
    "df['Date Time Entered'].head(3)"
   ]
  },
  {
   "cell_type": "code",
   "execution_count": 31,
   "metadata": {
    "collapsed": false
   },
   "outputs": [
    {
     "data": {
      "text/plain": [
       "0    1.01.01.01\n",
       "1    1.01.01.01\n",
       "2    1.01.01.01\n",
       "Name: Org Id, dtype: object"
      ]
     },
     "execution_count": 31,
     "metadata": {},
     "output_type": "execute_result"
    }
   ],
   "source": [
    "# column T\n",
    "df['Org Id'].head(3)"
   ]
  },
  {
   "cell_type": "code",
   "execution_count": 32,
   "metadata": {
    "collapsed": false
   },
   "outputs": [
    {
     "data": {
      "text/plain": [
       "0    0\n",
       "1    0\n",
       "2    0\n",
       "Name: ChangeID, dtype: object"
      ]
     },
     "execution_count": 32,
     "metadata": {},
     "output_type": "execute_result"
    }
   ],
   "source": [
    "# column U\n",
    "df['ChangeID'].head(3)"
   ]
  },
  {
   "cell_type": "code",
   "execution_count": 33,
   "metadata": {
    "collapsed": false
   },
   "outputs": [
    {
     "data": {
      "text/plain": [
       "0    OY\n",
       "1    OY\n",
       "2    OY\n",
       "Name: OptYr, dtype: object"
      ]
     },
     "execution_count": 33,
     "metadata": {},
     "output_type": "execute_result"
    }
   ],
   "source": [
    "# column V\n",
    "# Opt Yr\n",
    "df['OptYr'].head(3)"
   ]
  },
  {
   "cell_type": "code",
   "execution_count": 34,
   "metadata": {
    "collapsed": false
   },
   "outputs": [
    {
     "data": {
      "text/html": [
       "<div>\n",
       "<table border=\"1\" class=\"dataframe\">\n",
       "  <thead>\n",
       "    <tr style=\"text-align: right;\">\n",
       "      <th></th>\n",
       "      <th>User</th>\n",
       "      <th>User Id</th>\n",
       "      <th>Work Date</th>\n",
       "      <th>Month</th>\n",
       "      <th>Description</th>\n",
       "      <th>REF ID</th>\n",
       "      <th>CLIN</th>\n",
       "      <th>WBS</th>\n",
       "      <th>TASK</th>\n",
       "      <th>TPID</th>\n",
       "      <th>...</th>\n",
       "      <th>Company Name</th>\n",
       "      <th>Approver</th>\n",
       "      <th>Status</th>\n",
       "      <th>Straight</th>\n",
       "      <th>Overtime</th>\n",
       "      <th>Total</th>\n",
       "      <th>Date Time Entered</th>\n",
       "      <th>Org Id</th>\n",
       "      <th>ChangeID</th>\n",
       "      <th>OptYr</th>\n",
       "    </tr>\n",
       "  </thead>\n",
       "  <tbody>\n",
       "    <tr>\n",
       "      <th>0</th>\n",
       "      <td>THOMPSON, MORRIS R</td>\n",
       "      <td>51288</td>\n",
       "      <td>2017-07-21</td>\n",
       "      <td>2017-07</td>\n",
       "      <td>Unbillable L&amp;P</td>\n",
       "      <td>1SAP2</td>\n",
       "      <td>UNBL</td>\n",
       "      <td>000</td>\n",
       "      <td>LPUNBLL</td>\n",
       "      <td>1SAP2.X.UNBL.000.LPUNBLL</td>\n",
       "      <td>...</td>\n",
       "      <td>FNS</td>\n",
       "      <td>S-VAN LUONG</td>\n",
       "      <td>Processed</td>\n",
       "      <td>0.0</td>\n",
       "      <td>0.0</td>\n",
       "      <td>0.0</td>\n",
       "      <td>2017-07-20 15:04:19</td>\n",
       "      <td>1.01.01.01</td>\n",
       "      <td>0</td>\n",
       "      <td>OY</td>\n",
       "    </tr>\n",
       "    <tr>\n",
       "      <th>1</th>\n",
       "      <td>THOMPSON, MORRIS R</td>\n",
       "      <td>51288</td>\n",
       "      <td>2017-07-24</td>\n",
       "      <td>2017-07</td>\n",
       "      <td>Asset Management</td>\n",
       "      <td>1SAP2</td>\n",
       "      <td>7400</td>\n",
       "      <td>514</td>\n",
       "      <td>NaN</td>\n",
       "      <td>1SAP2.C.7400.514</td>\n",
       "      <td>...</td>\n",
       "      <td>FNS</td>\n",
       "      <td>S-VAN LUONG</td>\n",
       "      <td>Processed</td>\n",
       "      <td>8.0</td>\n",
       "      <td>0.0</td>\n",
       "      <td>8.0</td>\n",
       "      <td>2017-07-24 16:13:24.999000</td>\n",
       "      <td>1.01.01.01</td>\n",
       "      <td>0</td>\n",
       "      <td>OY</td>\n",
       "    </tr>\n",
       "    <tr>\n",
       "      <th>2</th>\n",
       "      <td>THOMPSON, MORRIS R</td>\n",
       "      <td>51288</td>\n",
       "      <td>2017-07-31</td>\n",
       "      <td>2017-07</td>\n",
       "      <td>Asset Management</td>\n",
       "      <td>1SAP2</td>\n",
       "      <td>7400</td>\n",
       "      <td>514</td>\n",
       "      <td>NaN</td>\n",
       "      <td>1SAP2.C.7400.514</td>\n",
       "      <td>...</td>\n",
       "      <td>FNS</td>\n",
       "      <td>S-VAN LUONG</td>\n",
       "      <td>Processed</td>\n",
       "      <td>8.0</td>\n",
       "      <td>0.0</td>\n",
       "      <td>8.0</td>\n",
       "      <td>2017-07-31 16:28:13</td>\n",
       "      <td>1.01.01.01</td>\n",
       "      <td>0</td>\n",
       "      <td>OY</td>\n",
       "    </tr>\n",
       "  </tbody>\n",
       "</table>\n",
       "<p>3 rows × 25 columns</p>\n",
       "</div>"
      ],
      "text/plain": [
       "                 User User Id   Work Date    Month       Description REF ID  \\\n",
       "0  THOMPSON, MORRIS R   51288  2017-07-21  2017-07    Unbillable L&P  1SAP2   \n",
       "1  THOMPSON, MORRIS R   51288  2017-07-24  2017-07  Asset Management  1SAP2   \n",
       "2  THOMPSON, MORRIS R   51288  2017-07-31  2017-07  Asset Management  1SAP2   \n",
       "\n",
       "   CLIN  WBS     TASK                      TPID  ...   Company Name  \\\n",
       "0  UNBL  000  LPUNBLL  1SAP2.X.UNBL.000.LPUNBLL  ...            FNS   \n",
       "1  7400  514      NaN          1SAP2.C.7400.514  ...            FNS   \n",
       "2  7400  514      NaN          1SAP2.C.7400.514  ...            FNS   \n",
       "\n",
       "      Approver     Status Straight Overtime Total           Date Time Entered  \\\n",
       "0  S-VAN LUONG  Processed      0.0      0.0   0.0         2017-07-20 15:04:19   \n",
       "1  S-VAN LUONG  Processed      8.0      0.0   8.0  2017-07-24 16:13:24.999000   \n",
       "2  S-VAN LUONG  Processed      8.0      0.0   8.0         2017-07-31 16:28:13   \n",
       "\n",
       "       Org Id  ChangeID  OptYr  \n",
       "0  1.01.01.01         0     OY  \n",
       "1  1.01.01.01         0     OY  \n",
       "2  1.01.01.01         0     OY  \n",
       "\n",
       "[3 rows x 25 columns]"
      ]
     },
     "execution_count": 34,
     "metadata": {},
     "output_type": "execute_result"
    }
   ],
   "source": [
    "# check data format\n",
    "df.head(3)"
   ]
  },
  {
   "cell_type": "code",
   "execution_count": 35,
   "metadata": {
    "collapsed": false
   },
   "outputs": [
    {
     "name": "stdout",
     "output_type": "stream",
     "text": [
      "<class 'pandas.core.frame.DataFrame'>\n",
      "RangeIndex: 595850 entries, 0 to 595849\n",
      "Data columns (total 25 columns):\n",
      "User                 595850 non-null object\n",
      "User Id              595850 non-null object\n",
      "Work Date            595850 non-null object\n",
      "Month                595850 non-null object\n",
      "Description          595850 non-null object\n",
      "REF ID               595850 non-null object\n",
      "CLIN                 595850 non-null object\n",
      "WBS                  595847 non-null object\n",
      "TASK                 308391 non-null object\n",
      "TPID                 595850 non-null object\n",
      "ProjNo               595850 non-null object\n",
      "WB2                  595832 non-null object\n",
      "Project Id           595850 non-null object\n",
      "Pay Type             595850 non-null object\n",
      "Corporation          595850 non-null object\n",
      "Company Name         595850 non-null object\n",
      "Approver             595850 non-null object\n",
      "Status               595850 non-null object\n",
      "Straight             595850 non-null float64\n",
      "Overtime             595850 non-null float64\n",
      "Total                595850 non-null float64\n",
      "Date Time Entered    595850 non-null object\n",
      "Org Id               595850 non-null object\n",
      "ChangeID             595850 non-null object\n",
      "OptYr                595850 non-null object\n",
      "dtypes: float64(3), object(22)\n",
      "memory usage: 113.6+ MB\n"
     ]
    }
   ],
   "source": [
    "# check metadata\n",
    "df.info()"
   ]
  },
  {
   "cell_type": "code",
   "execution_count": 36,
   "metadata": {
    "collapsed": true
   },
   "outputs": [],
   "source": [
    "# delete projno column\n",
    "df = df.drop('ProjNo', 1)"
   ]
  },
  {
   "cell_type": "code",
   "execution_count": 37,
   "metadata": {
    "collapsed": false
   },
   "outputs": [],
   "source": [
    "# delete project id column\n",
    "df = df.drop('Project Id', 1)"
   ]
  },
  {
   "cell_type": "code",
   "execution_count": 38,
   "metadata": {
    "collapsed": true
   },
   "outputs": [],
   "source": [
    "# delete wb2 column\n",
    "df = df.drop('WB2', 1)"
   ]
  },
  {
   "cell_type": "code",
   "execution_count": 39,
   "metadata": {
    "collapsed": false
   },
   "outputs": [
    {
     "data": {
      "text/plain": [
       "Index(['User', 'User Id', 'Work Date', 'Month', 'Description', 'REF ID',\n",
       "       'CLIN', 'WBS', 'TASK', 'TPID', 'Pay Type', 'Corporation',\n",
       "       'Company Name', 'Approver', 'Status', 'Straight', 'Overtime', 'Total',\n",
       "       'Date Time Entered', 'Org Id', 'ChangeID', 'OptYr'],\n",
       "      dtype='object')"
      ]
     },
     "execution_count": 39,
     "metadata": {},
     "output_type": "execute_result"
    }
   ],
   "source": [
    "# check columns\n",
    "df.columns"
   ]
  },
  {
   "cell_type": "code",
   "execution_count": 40,
   "metadata": {
    "collapsed": true
   },
   "outputs": [],
   "source": [
    "# modfiy column order\n",
    "df = df[['User', 'User Id', 'Work Date', 'Month', 'Description', 'REF ID',\n",
    "       'CLIN', 'WBS', 'TPID', 'TASK', 'Pay Type', 'Corporation',\n",
    "       'Company Name', 'Approver', 'Status', 'Straight', 'Overtime', 'Total',\n",
    "       'Date Time Entered', 'Org Id', 'ChangeID', 'OptYr']]"
   ]
  },
  {
   "cell_type": "code",
   "execution_count": 41,
   "metadata": {
    "collapsed": false
   },
   "outputs": [
    {
     "data": {
      "text/plain": [
       "Index(['User', 'User Id', 'Work Date', 'Month', 'Description', 'REF ID',\n",
       "       'CLIN', 'WBS', 'TPID', 'TASK', 'Pay Type', 'Corporation',\n",
       "       'Company Name', 'Approver', 'Status', 'Straight', 'Overtime', 'Total',\n",
       "       'Date Time Entered', 'Org Id', 'ChangeID', 'OptYr'],\n",
       "      dtype='object')"
      ]
     },
     "execution_count": 41,
     "metadata": {},
     "output_type": "execute_result"
    }
   ],
   "source": [
    "# check columns\n",
    "df.columns"
   ]
  },
  {
   "cell_type": "code",
   "execution_count": 42,
   "metadata": {
    "collapsed": false,
    "scrolled": true
   },
   "outputs": [],
   "source": [
    "# write data to csv (default is U:\\Documents)\n",
    "# df.to_csv('import_this_data-modified.csv')"
   ]
  },
  {
   "cell_type": "code",
   "execution_count": 43,
   "metadata": {
    "collapsed": false
   },
   "outputs": [
    {
     "name": "stdout",
     "output_type": "stream",
     "text": [
      "<class 'pandas.core.frame.DataFrame'>\n",
      "RangeIndex: 595850 entries, 0 to 595849\n",
      "Data columns (total 22 columns):\n",
      "User                 595850 non-null object\n",
      "User Id              595850 non-null object\n",
      "Work Date            595850 non-null object\n",
      "Month                595850 non-null object\n",
      "Description          595850 non-null object\n",
      "REF ID               595850 non-null object\n",
      "CLIN                 595850 non-null object\n",
      "WBS                  595847 non-null object\n",
      "TPID                 595850 non-null object\n",
      "TASK                 308391 non-null object\n",
      "Pay Type             595850 non-null object\n",
      "Corporation          595850 non-null object\n",
      "Company Name         595850 non-null object\n",
      "Approver             595850 non-null object\n",
      "Status               595850 non-null object\n",
      "Straight             595850 non-null float64\n",
      "Overtime             595850 non-null float64\n",
      "Total                595850 non-null float64\n",
      "Date Time Entered    595850 non-null object\n",
      "Org Id               595850 non-null object\n",
      "ChangeID             595850 non-null object\n",
      "OptYr                595850 non-null object\n",
      "dtypes: float64(3), object(19)\n",
      "memory usage: 100.0+ MB\n"
     ]
    }
   ],
   "source": [
    "# check metadata\n",
    "df.info()"
   ]
  },
  {
   "cell_type": "code",
   "execution_count": 44,
   "metadata": {
    "collapsed": false
   },
   "outputs": [
    {
     "data": {
      "text/html": [
       "<div>\n",
       "<table border=\"1\" class=\"dataframe\">\n",
       "  <thead>\n",
       "    <tr style=\"text-align: right;\">\n",
       "      <th></th>\n",
       "      <th>User</th>\n",
       "      <th>User Id</th>\n",
       "      <th>Work Date</th>\n",
       "      <th>Month</th>\n",
       "      <th>Description</th>\n",
       "      <th>REF ID</th>\n",
       "      <th>CLIN</th>\n",
       "      <th>WBS</th>\n",
       "      <th>TPID</th>\n",
       "      <th>TASK</th>\n",
       "      <th>...</th>\n",
       "      <th>Company Name</th>\n",
       "      <th>Approver</th>\n",
       "      <th>Status</th>\n",
       "      <th>Straight</th>\n",
       "      <th>Overtime</th>\n",
       "      <th>Total</th>\n",
       "      <th>Date Time Entered</th>\n",
       "      <th>Org Id</th>\n",
       "      <th>ChangeID</th>\n",
       "      <th>OptYr</th>\n",
       "    </tr>\n",
       "  </thead>\n",
       "  <tbody>\n",
       "    <tr>\n",
       "      <th>0</th>\n",
       "      <td>THOMPSON, MORRIS R</td>\n",
       "      <td>51288</td>\n",
       "      <td>2017-07-21</td>\n",
       "      <td>2017-07</td>\n",
       "      <td>Unbillable L&amp;P</td>\n",
       "      <td>1SAP2</td>\n",
       "      <td>UNBL</td>\n",
       "      <td>000</td>\n",
       "      <td>1SAP2.X.UNBL.000.LPUNBLL</td>\n",
       "      <td>LPUNBLL</td>\n",
       "      <td>...</td>\n",
       "      <td>FNS</td>\n",
       "      <td>S-VAN LUONG</td>\n",
       "      <td>Processed</td>\n",
       "      <td>0.0</td>\n",
       "      <td>0.0</td>\n",
       "      <td>0.0</td>\n",
       "      <td>2017-07-20 15:04:19</td>\n",
       "      <td>1.01.01.01</td>\n",
       "      <td>0</td>\n",
       "      <td>OY</td>\n",
       "    </tr>\n",
       "    <tr>\n",
       "      <th>1</th>\n",
       "      <td>THOMPSON, MORRIS R</td>\n",
       "      <td>51288</td>\n",
       "      <td>2017-07-24</td>\n",
       "      <td>2017-07</td>\n",
       "      <td>Asset Management</td>\n",
       "      <td>1SAP2</td>\n",
       "      <td>7400</td>\n",
       "      <td>514</td>\n",
       "      <td>1SAP2.C.7400.514</td>\n",
       "      <td>NaN</td>\n",
       "      <td>...</td>\n",
       "      <td>FNS</td>\n",
       "      <td>S-VAN LUONG</td>\n",
       "      <td>Processed</td>\n",
       "      <td>8.0</td>\n",
       "      <td>0.0</td>\n",
       "      <td>8.0</td>\n",
       "      <td>2017-07-24 16:13:24.999000</td>\n",
       "      <td>1.01.01.01</td>\n",
       "      <td>0</td>\n",
       "      <td>OY</td>\n",
       "    </tr>\n",
       "    <tr>\n",
       "      <th>2</th>\n",
       "      <td>THOMPSON, MORRIS R</td>\n",
       "      <td>51288</td>\n",
       "      <td>2017-07-31</td>\n",
       "      <td>2017-07</td>\n",
       "      <td>Asset Management</td>\n",
       "      <td>1SAP2</td>\n",
       "      <td>7400</td>\n",
       "      <td>514</td>\n",
       "      <td>1SAP2.C.7400.514</td>\n",
       "      <td>NaN</td>\n",
       "      <td>...</td>\n",
       "      <td>FNS</td>\n",
       "      <td>S-VAN LUONG</td>\n",
       "      <td>Processed</td>\n",
       "      <td>8.0</td>\n",
       "      <td>0.0</td>\n",
       "      <td>8.0</td>\n",
       "      <td>2017-07-31 16:28:13</td>\n",
       "      <td>1.01.01.01</td>\n",
       "      <td>0</td>\n",
       "      <td>OY</td>\n",
       "    </tr>\n",
       "  </tbody>\n",
       "</table>\n",
       "<p>3 rows × 22 columns</p>\n",
       "</div>"
      ],
      "text/plain": [
       "                 User User Id   Work Date    Month       Description REF ID  \\\n",
       "0  THOMPSON, MORRIS R   51288  2017-07-21  2017-07    Unbillable L&P  1SAP2   \n",
       "1  THOMPSON, MORRIS R   51288  2017-07-24  2017-07  Asset Management  1SAP2   \n",
       "2  THOMPSON, MORRIS R   51288  2017-07-31  2017-07  Asset Management  1SAP2   \n",
       "\n",
       "   CLIN  WBS                      TPID     TASK  ...  Company Name  \\\n",
       "0  UNBL  000  1SAP2.X.UNBL.000.LPUNBLL  LPUNBLL  ...           FNS   \n",
       "1  7400  514          1SAP2.C.7400.514      NaN  ...           FNS   \n",
       "2  7400  514          1SAP2.C.7400.514      NaN  ...           FNS   \n",
       "\n",
       "      Approver     Status Straight Overtime  Total  \\\n",
       "0  S-VAN LUONG  Processed      0.0      0.0    0.0   \n",
       "1  S-VAN LUONG  Processed      8.0      0.0    8.0   \n",
       "2  S-VAN LUONG  Processed      8.0      0.0    8.0   \n",
       "\n",
       "            Date Time Entered      Org Id ChangeID OptYr  \n",
       "0         2017-07-20 15:04:19  1.01.01.01        0    OY  \n",
       "1  2017-07-24 16:13:24.999000  1.01.01.01        0    OY  \n",
       "2         2017-07-31 16:28:13  1.01.01.01        0    OY  \n",
       "\n",
       "[3 rows x 22 columns]"
      ]
     },
     "execution_count": 44,
     "metadata": {},
     "output_type": "execute_result"
    }
   ],
   "source": [
    "# data check\n",
    "df.head(3)"
   ]
  },
  {
   "cell_type": "code",
   "execution_count": 45,
   "metadata": {
    "collapsed": false
   },
   "outputs": [
    {
     "data": {
      "text/html": [
       "<div>\n",
       "<table border=\"1\" class=\"dataframe\">\n",
       "  <thead>\n",
       "    <tr style=\"text-align: right;\">\n",
       "      <th></th>\n",
       "      <th>A</th>\n",
       "      <th>B</th>\n",
       "      <th>C</th>\n",
       "      <th>D</th>\n",
       "    </tr>\n",
       "  </thead>\n",
       "  <tbody>\n",
       "    <tr>\n",
       "      <th>0</th>\n",
       "      <td>0.0</td>\n",
       "      <td>0.0</td>\n",
       "      <td>foo1</td>\n",
       "      <td>2009-01-01</td>\n",
       "    </tr>\n",
       "    <tr>\n",
       "      <th>1</th>\n",
       "      <td>1.0</td>\n",
       "      <td>1.0</td>\n",
       "      <td>foo2</td>\n",
       "      <td>2009-01-02</td>\n",
       "    </tr>\n",
       "    <tr>\n",
       "      <th>2</th>\n",
       "      <td>2.0</td>\n",
       "      <td>0.0</td>\n",
       "      <td>foo3</td>\n",
       "      <td>2009-01-05</td>\n",
       "    </tr>\n",
       "    <tr>\n",
       "      <th>3</th>\n",
       "      <td>3.0</td>\n",
       "      <td>1.0</td>\n",
       "      <td>foo4</td>\n",
       "      <td>2009-01-06</td>\n",
       "    </tr>\n",
       "    <tr>\n",
       "      <th>4</th>\n",
       "      <td>4.0</td>\n",
       "      <td>0.0</td>\n",
       "      <td>foo5</td>\n",
       "      <td>2009-01-07</td>\n",
       "    </tr>\n",
       "  </tbody>\n",
       "</table>\n",
       "</div>"
      ],
      "text/plain": [
       "     A    B     C          D\n",
       "0  0.0  0.0  foo1 2009-01-01\n",
       "1  1.0  1.0  foo2 2009-01-02\n",
       "2  2.0  0.0  foo3 2009-01-05\n",
       "3  3.0  1.0  foo4 2009-01-06\n",
       "4  4.0  0.0  foo5 2009-01-07"
      ]
     },
     "execution_count": 45,
     "metadata": {},
     "output_type": "execute_result"
    }
   ],
   "source": [
    "# tip 1\n",
    "# create dataframe with mixed data types\n",
    "pandas.util.testing.makeMixedDataFrame()"
   ]
  },
  {
   "cell_type": "code",
   "execution_count": 46,
   "metadata": {
    "collapsed": false
   },
   "outputs": [
    {
     "data": {
      "text/html": [
       "<div>\n",
       "<table border=\"1\" class=\"dataframe\">\n",
       "  <thead>\n",
       "    <tr style=\"text-align: right;\">\n",
       "      <th></th>\n",
       "      <th>A</th>\n",
       "      <th>B</th>\n",
       "      <th>C</th>\n",
       "      <th>A2</th>\n",
       "      <th>D</th>\n",
       "    </tr>\n",
       "  </thead>\n",
       "  <tbody>\n",
       "    <tr>\n",
       "      <th>0</th>\n",
       "      <td>0.0</td>\n",
       "      <td>0.0</td>\n",
       "      <td>foo1</td>\n",
       "      <td>0.0</td>\n",
       "      <td>2009-01-01</td>\n",
       "    </tr>\n",
       "    <tr>\n",
       "      <th>1</th>\n",
       "      <td>1.0</td>\n",
       "      <td>1.0</td>\n",
       "      <td>foo2</td>\n",
       "      <td>2.0</td>\n",
       "      <td>2009-01-02</td>\n",
       "    </tr>\n",
       "    <tr>\n",
       "      <th>2</th>\n",
       "      <td>2.0</td>\n",
       "      <td>0.0</td>\n",
       "      <td>foo3</td>\n",
       "      <td>4.0</td>\n",
       "      <td>2009-01-05</td>\n",
       "    </tr>\n",
       "    <tr>\n",
       "      <th>3</th>\n",
       "      <td>3.0</td>\n",
       "      <td>1.0</td>\n",
       "      <td>foo4</td>\n",
       "      <td>6.0</td>\n",
       "      <td>2009-01-06</td>\n",
       "    </tr>\n",
       "    <tr>\n",
       "      <th>4</th>\n",
       "      <td>4.0</td>\n",
       "      <td>0.0</td>\n",
       "      <td>foo5</td>\n",
       "      <td>8.0</td>\n",
       "      <td>2009-01-07</td>\n",
       "    </tr>\n",
       "  </tbody>\n",
       "</table>\n",
       "</div>"
      ],
      "text/plain": [
       "     A    B     C   A2          D\n",
       "0  0.0  0.0  foo1  0.0 2009-01-01\n",
       "1  1.0  1.0  foo2  2.0 2009-01-02\n",
       "2  2.0  0.0  foo3  4.0 2009-01-05\n",
       "3  3.0  1.0  foo4  6.0 2009-01-06\n",
       "4  4.0  0.0  foo5  8.0 2009-01-07"
      ]
     },
     "execution_count": 46,
     "metadata": {},
     "output_type": "execute_result"
    }
   ],
   "source": [
    "# tip 2\n",
    "# insert a new column which is a function of another column\n",
    "dftest = pandas.util.testing.makeMixedDataFrame()\n",
    "#print(dftest)\n",
    "dftest.insert(3, 'A2', dftest['A'] * 2)\n",
    "dftest"
   ]
  },
  {
   "cell_type": "code",
   "execution_count": 47,
   "metadata": {
    "collapsed": false
   },
   "outputs": [
    {
     "data": {
      "text/html": [
       "<div>\n",
       "<table border=\"1\" class=\"dataframe\">\n",
       "  <thead>\n",
       "    <tr style=\"text-align: right;\">\n",
       "      <th></th>\n",
       "      <th>A</th>\n",
       "      <th>B</th>\n",
       "      <th>C</th>\n",
       "      <th>Country</th>\n",
       "      <th>D</th>\n",
       "    </tr>\n",
       "  </thead>\n",
       "  <tbody>\n",
       "    <tr>\n",
       "      <th>0</th>\n",
       "      <td>0.0</td>\n",
       "      <td>0.0</td>\n",
       "      <td>foo1</td>\n",
       "      <td>USA</td>\n",
       "      <td>2009-01-01</td>\n",
       "    </tr>\n",
       "    <tr>\n",
       "      <th>1</th>\n",
       "      <td>1.0</td>\n",
       "      <td>1.0</td>\n",
       "      <td>foo2</td>\n",
       "      <td>USA</td>\n",
       "      <td>2009-01-02</td>\n",
       "    </tr>\n",
       "    <tr>\n",
       "      <th>2</th>\n",
       "      <td>2.0</td>\n",
       "      <td>0.0</td>\n",
       "      <td>foo3</td>\n",
       "      <td>USA</td>\n",
       "      <td>2009-01-05</td>\n",
       "    </tr>\n",
       "    <tr>\n",
       "      <th>3</th>\n",
       "      <td>3.0</td>\n",
       "      <td>1.0</td>\n",
       "      <td>foo4</td>\n",
       "      <td>USA</td>\n",
       "      <td>2009-01-06</td>\n",
       "    </tr>\n",
       "    <tr>\n",
       "      <th>4</th>\n",
       "      <td>4.0</td>\n",
       "      <td>0.0</td>\n",
       "      <td>foo5</td>\n",
       "      <td>USA</td>\n",
       "      <td>2009-01-07</td>\n",
       "    </tr>\n",
       "  </tbody>\n",
       "</table>\n",
       "</div>"
      ],
      "text/plain": [
       "     A    B     C Country          D\n",
       "0  0.0  0.0  foo1     USA 2009-01-01\n",
       "1  1.0  1.0  foo2     USA 2009-01-02\n",
       "2  2.0  0.0  foo3     USA 2009-01-05\n",
       "3  3.0  1.0  foo4     USA 2009-01-06\n",
       "4  4.0  0.0  foo5     USA 2009-01-07"
      ]
     },
     "execution_count": 47,
     "metadata": {},
     "output_type": "execute_result"
    }
   ],
   "source": [
    "# tip 3\n",
    "# insert a new column with a constant value in the column with index 3 (i.e., 4)\n",
    "dftest = pandas.util.testing.makeMixedDataFrame()\n",
    "dftest.insert(3, 'Country', 'USA')\n",
    "dftest"
   ]
  },
  {
   "cell_type": "code",
   "execution_count": 48,
   "metadata": {
    "collapsed": false
   },
   "outputs": [
    {
     "data": {
      "text/html": [
       "<div>\n",
       "<table border=\"1\" class=\"dataframe\">\n",
       "  <thead>\n",
       "    <tr style=\"text-align: right;\">\n",
       "      <th></th>\n",
       "      <th>ID</th>\n",
       "      <th>B</th>\n",
       "      <th>C</th>\n",
       "      <th>Date</th>\n",
       "    </tr>\n",
       "  </thead>\n",
       "  <tbody>\n",
       "    <tr>\n",
       "      <th>0</th>\n",
       "      <td>0.0</td>\n",
       "      <td>0.0</td>\n",
       "      <td>foo1</td>\n",
       "      <td>2009-01-01</td>\n",
       "    </tr>\n",
       "    <tr>\n",
       "      <th>1</th>\n",
       "      <td>1.0</td>\n",
       "      <td>1.0</td>\n",
       "      <td>foo2</td>\n",
       "      <td>2009-01-02</td>\n",
       "    </tr>\n",
       "    <tr>\n",
       "      <th>2</th>\n",
       "      <td>2.0</td>\n",
       "      <td>0.0</td>\n",
       "      <td>foo3</td>\n",
       "      <td>2009-01-05</td>\n",
       "    </tr>\n",
       "    <tr>\n",
       "      <th>3</th>\n",
       "      <td>3.0</td>\n",
       "      <td>1.0</td>\n",
       "      <td>foo4</td>\n",
       "      <td>2009-01-06</td>\n",
       "    </tr>\n",
       "    <tr>\n",
       "      <th>4</th>\n",
       "      <td>4.0</td>\n",
       "      <td>0.0</td>\n",
       "      <td>foo5</td>\n",
       "      <td>2009-01-07</td>\n",
       "    </tr>\n",
       "  </tbody>\n",
       "</table>\n",
       "</div>"
      ],
      "text/plain": [
       "    ID    B     C       Date\n",
       "0  0.0  0.0  foo1 2009-01-01\n",
       "1  1.0  1.0  foo2 2009-01-02\n",
       "2  2.0  0.0  foo3 2009-01-05\n",
       "3  3.0  1.0  foo4 2009-01-06\n",
       "4  4.0  0.0  foo5 2009-01-07"
      ]
     },
     "execution_count": 48,
     "metadata": {},
     "output_type": "execute_result"
    }
   ],
   "source": [
    "# tip 4\n",
    "# change column names\n",
    "dftest = pandas.util.testing.makeMixedDataFrame()\n",
    "dftest\n",
    "dftest.rename(columns={'A':'ID', 'D':'Date'})"
   ]
  },
  {
   "cell_type": "code",
   "execution_count": 49,
   "metadata": {
    "collapsed": false
   },
   "outputs": [
    {
     "data": {
      "text/html": [
       "<div>\n",
       "<table border=\"1\" class=\"dataframe\">\n",
       "  <thead>\n",
       "    <tr style=\"text-align: right;\">\n",
       "      <th></th>\n",
       "      <th>A</th>\n",
       "      <th>B</th>\n",
       "      <th>C</th>\n",
       "      <th>D</th>\n",
       "      <th>E</th>\n",
       "    </tr>\n",
       "  </thead>\n",
       "  <tbody>\n",
       "    <tr>\n",
       "      <th>0</th>\n",
       "      <td>0.0</td>\n",
       "      <td>0.0</td>\n",
       "      <td>foo1</td>\n",
       "      <td>2009-01-01</td>\n",
       "      <td>foo1</td>\n",
       "    </tr>\n",
       "    <tr>\n",
       "      <th>1</th>\n",
       "      <td>1.0</td>\n",
       "      <td>1.0</td>\n",
       "      <td>foo2</td>\n",
       "      <td>2009-01-02</td>\n",
       "      <td>foo2</td>\n",
       "    </tr>\n",
       "    <tr>\n",
       "      <th>2</th>\n",
       "      <td>2.0</td>\n",
       "      <td>0.0</td>\n",
       "      <td>foo3</td>\n",
       "      <td>2009-01-05</td>\n",
       "      <td>foo3</td>\n",
       "    </tr>\n",
       "    <tr>\n",
       "      <th>3</th>\n",
       "      <td>3.0</td>\n",
       "      <td>1.0</td>\n",
       "      <td>foo4</td>\n",
       "      <td>2009-01-06</td>\n",
       "      <td>foo4</td>\n",
       "    </tr>\n",
       "    <tr>\n",
       "      <th>4</th>\n",
       "      <td>4.0</td>\n",
       "      <td>0.0</td>\n",
       "      <td>foo5</td>\n",
       "      <td>2009-01-07</td>\n",
       "      <td>foo5</td>\n",
       "    </tr>\n",
       "  </tbody>\n",
       "</table>\n",
       "</div>"
      ],
      "text/plain": [
       "     A    B     C          D     E\n",
       "0  0.0  0.0  foo1 2009-01-01  foo1\n",
       "1  1.0  1.0  foo2 2009-01-02  foo2\n",
       "2  2.0  0.0  foo3 2009-01-05  foo3\n",
       "3  3.0  1.0  foo4 2009-01-06  foo4\n",
       "4  4.0  0.0  foo5 2009-01-07  foo5"
      ]
     },
     "execution_count": 49,
     "metadata": {},
     "output_type": "execute_result"
    }
   ],
   "source": [
    "# tip 5\n",
    "# duplicate a column\n",
    "dftest = pandas.util.testing.makeMixedDataFrame()\n",
    "dftest['E'] = dftest['C']\n",
    "dftest"
   ]
  },
  {
   "cell_type": "code",
   "execution_count": 50,
   "metadata": {
    "collapsed": false
   },
   "outputs": [
    {
     "name": "stdout",
     "output_type": "stream",
     "text": [
      "A           float64\n",
      "B           float64\n",
      "C            object\n",
      "D    datetime64[ns]\n",
      "dtype: object\n"
     ]
    }
   ],
   "source": [
    "# tip 6\n",
    "# determine dataframe datatypes\n",
    "dftest = pandas.util.testing.makeMixedDataFrame()\n",
    "dataTypeSeries = dftest.dtypes\n",
    "print(dataTypeSeries)"
   ]
  },
  {
   "cell_type": "code",
   "execution_count": 51,
   "metadata": {
    "collapsed": false
   },
   "outputs": [
    {
     "name": "stdout",
     "output_type": "stream",
     "text": [
      "     A    B     C          D\n",
      "0  0.0  0.0  foo1 2009-01-01\n",
      "1  1.0  1.0  foo2 2009-01-02\n",
      "2  2.0  0.0  foo3 2009-01-05\n",
      "3  3.0  1.0  foo4 2009-01-06\n",
      "4  4.0  0.0  foo5 2009-01-07\n",
      "     A    B          D\n",
      "0  0.0  0.0 2009-01-01\n",
      "1  1.0  1.0 2009-01-02\n",
      "2  2.0  0.0 2009-01-05\n",
      "3  3.0  1.0 2009-01-06\n",
      "4  4.0  0.0 2009-01-07\n"
     ]
    }
   ],
   "source": [
    "# tip 7\n",
    "# delete a dataframe column\n",
    "\n",
    "# df = df.drop('column_name', 1)\n",
    "# where 1 is the axis number (0 for rows and 1 for columns.)\n",
    "\n",
    "# To delete the column without having to reassign df you can do:\n",
    "# df.drop('column_name', axis=1, inplace=True)\n",
    "\n",
    "# To drop by column number instead of by column label, try this to delete, e.g. the 1st, 2nd and 4th columns:\n",
    "# df = df.drop(df.columns[[0, 1, 3]], axis=1)  \n",
    "# df.columns is zero-based pd.Index \n",
    "\n",
    "# Working with \"text\" syntax for the columns:\n",
    "# df.drop(['column_nameA', 'column_nameB'], axis=1, inplace=True)\n",
    "\n",
    "dftest = pandas.util.testing.makeMixedDataFrame()\n",
    "print(dftest)\n",
    "dftest = dftest.drop('C', 1)\n",
    "print(dftest)"
   ]
  },
  {
   "cell_type": "code",
   "execution_count": 52,
   "metadata": {
    "collapsed": false
   },
   "outputs": [
    {
     "name": "stdout",
     "output_type": "stream",
     "text": [
      "     A    B     C          D\n",
      "0  0.0  0.0  foo1 2009-01-01\n",
      "1  1.0  1.0  foo2 2009-01-02\n",
      "2  2.0  0.0  foo3 2009-01-05\n",
      "3  3.0  1.0  foo4 2009-01-06\n",
      "4  4.0  0.0  foo5 2009-01-07\n",
      "           D    B     C    A\n",
      "0 2009-01-01  0.0  foo1  0.0\n",
      "1 2009-01-02  1.0  foo2  1.0\n",
      "2 2009-01-05  0.0  foo3  2.0\n",
      "3 2009-01-06  1.0  foo4  3.0\n",
      "4 2009-01-07  0.0  foo5  4.0\n"
     ]
    }
   ],
   "source": [
    "# tip 8\n",
    "# reorder columns (flipflop column a and column d)\n",
    "dftest = pandas.util.testing.makeMixedDataFrame()\n",
    "print(dftest)\n",
    "dftest = dftest[['D','B','C','A']]\n",
    "print(dftest)"
   ]
  },
  {
   "cell_type": "code",
   "execution_count": 53,
   "metadata": {
    "collapsed": false
   },
   "outputs": [
    {
     "data": {
      "text/html": [
       "<div>\n",
       "<table border=\"1\" class=\"dataframe\">\n",
       "  <thead>\n",
       "    <tr style=\"text-align: right;\">\n",
       "      <th></th>\n",
       "      <th>User</th>\n",
       "      <th>User Id</th>\n",
       "      <th>Work Date</th>\n",
       "      <th>Month</th>\n",
       "      <th>Description</th>\n",
       "      <th>REF ID</th>\n",
       "      <th>CLIN</th>\n",
       "      <th>WBS</th>\n",
       "      <th>TPID</th>\n",
       "      <th>TASK</th>\n",
       "      <th>...</th>\n",
       "      <th>Company Name</th>\n",
       "      <th>Approver</th>\n",
       "      <th>Status</th>\n",
       "      <th>Straight</th>\n",
       "      <th>Overtime</th>\n",
       "      <th>Total</th>\n",
       "      <th>Date Time Entered</th>\n",
       "      <th>Org Id</th>\n",
       "      <th>ChangeID</th>\n",
       "      <th>OptYr</th>\n",
       "    </tr>\n",
       "  </thead>\n",
       "  <tbody>\n",
       "    <tr>\n",
       "      <th>0</th>\n",
       "      <td>THOMPSON, MORRIS R</td>\n",
       "      <td>51288</td>\n",
       "      <td>2017-07-21</td>\n",
       "      <td>2017-07</td>\n",
       "      <td>Unbillable L&amp;P</td>\n",
       "      <td>1SAP2</td>\n",
       "      <td>UNBL</td>\n",
       "      <td>000</td>\n",
       "      <td>1SAP2.X.UNBL.000.LPUNBLL</td>\n",
       "      <td>LPUNBLL</td>\n",
       "      <td>...</td>\n",
       "      <td>FNS</td>\n",
       "      <td>S-VAN LUONG</td>\n",
       "      <td>Processed</td>\n",
       "      <td>0.0</td>\n",
       "      <td>0.0</td>\n",
       "      <td>0.0</td>\n",
       "      <td>2017-07-20 15:04:19</td>\n",
       "      <td>1.01.01.01</td>\n",
       "      <td>0</td>\n",
       "      <td>OY</td>\n",
       "    </tr>\n",
       "    <tr>\n",
       "      <th>1</th>\n",
       "      <td>THOMPSON, MORRIS R</td>\n",
       "      <td>51288</td>\n",
       "      <td>2017-07-24</td>\n",
       "      <td>2017-07</td>\n",
       "      <td>Asset Management</td>\n",
       "      <td>1SAP2</td>\n",
       "      <td>7400</td>\n",
       "      <td>514</td>\n",
       "      <td>1SAP2.C.7400.514</td>\n",
       "      <td>NaN</td>\n",
       "      <td>...</td>\n",
       "      <td>FNS</td>\n",
       "      <td>S-VAN LUONG</td>\n",
       "      <td>Processed</td>\n",
       "      <td>8.0</td>\n",
       "      <td>0.0</td>\n",
       "      <td>8.0</td>\n",
       "      <td>2017-07-24 16:13:24.999000</td>\n",
       "      <td>1.01.01.01</td>\n",
       "      <td>0</td>\n",
       "      <td>OY</td>\n",
       "    </tr>\n",
       "    <tr>\n",
       "      <th>2</th>\n",
       "      <td>THOMPSON, MORRIS R</td>\n",
       "      <td>51288</td>\n",
       "      <td>2017-07-31</td>\n",
       "      <td>2017-07</td>\n",
       "      <td>Asset Management</td>\n",
       "      <td>1SAP2</td>\n",
       "      <td>7400</td>\n",
       "      <td>514</td>\n",
       "      <td>1SAP2.C.7400.514</td>\n",
       "      <td>NaN</td>\n",
       "      <td>...</td>\n",
       "      <td>FNS</td>\n",
       "      <td>S-VAN LUONG</td>\n",
       "      <td>Processed</td>\n",
       "      <td>8.0</td>\n",
       "      <td>0.0</td>\n",
       "      <td>8.0</td>\n",
       "      <td>2017-07-31 16:28:13</td>\n",
       "      <td>1.01.01.01</td>\n",
       "      <td>0</td>\n",
       "      <td>OY</td>\n",
       "    </tr>\n",
       "  </tbody>\n",
       "</table>\n",
       "<p>3 rows × 22 columns</p>\n",
       "</div>"
      ],
      "text/plain": [
       "                 User User Id   Work Date    Month       Description REF ID  \\\n",
       "0  THOMPSON, MORRIS R   51288  2017-07-21  2017-07    Unbillable L&P  1SAP2   \n",
       "1  THOMPSON, MORRIS R   51288  2017-07-24  2017-07  Asset Management  1SAP2   \n",
       "2  THOMPSON, MORRIS R   51288  2017-07-31  2017-07  Asset Management  1SAP2   \n",
       "\n",
       "   CLIN  WBS                      TPID     TASK  ...  Company Name  \\\n",
       "0  UNBL  000  1SAP2.X.UNBL.000.LPUNBLL  LPUNBLL  ...           FNS   \n",
       "1  7400  514          1SAP2.C.7400.514      NaN  ...           FNS   \n",
       "2  7400  514          1SAP2.C.7400.514      NaN  ...           FNS   \n",
       "\n",
       "      Approver     Status Straight Overtime  Total  \\\n",
       "0  S-VAN LUONG  Processed      0.0      0.0    0.0   \n",
       "1  S-VAN LUONG  Processed      8.0      0.0    8.0   \n",
       "2  S-VAN LUONG  Processed      8.0      0.0    8.0   \n",
       "\n",
       "            Date Time Entered      Org Id ChangeID OptYr  \n",
       "0         2017-07-20 15:04:19  1.01.01.01        0    OY  \n",
       "1  2017-07-24 16:13:24.999000  1.01.01.01        0    OY  \n",
       "2         2017-07-31 16:28:13  1.01.01.01        0    OY  \n",
       "\n",
       "[3 rows x 22 columns]"
      ]
     },
     "execution_count": 53,
     "metadata": {},
     "output_type": "execute_result"
    }
   ],
   "source": [
    "df.head(3)"
   ]
  },
  {
   "cell_type": "code",
   "execution_count": 54,
   "metadata": {
    "collapsed": true
   },
   "outputs": [],
   "source": [
    "df.to_excel (r'U:\\import_this_data_1s-modified.xlsx', index = False, header=True)"
   ]
  },
  {
   "cell_type": "code",
   "execution_count": null,
   "metadata": {
    "collapsed": true
   },
   "outputs": [],
   "source": []
  }
 ],
 "metadata": {
  "anaconda-cloud": {},
  "kernelspec": {
   "display_name": "Python [default]",
   "language": "python",
   "name": "python3"
  },
  "language_info": {
   "codemirror_mode": {
    "name": "ipython",
    "version": 3
   },
   "file_extension": ".py",
   "mimetype": "text/x-python",
   "name": "python",
   "nbconvert_exporter": "python",
   "pygments_lexer": "ipython3",
   "version": "3.5.2"
  }
 },
 "nbformat": 4,
 "nbformat_minor": 1
}
