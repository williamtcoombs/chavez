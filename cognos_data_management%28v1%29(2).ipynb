{
 "cells": [
  {
   "cell_type": "code",
   "execution_count": 110,
   "metadata": {
    "collapsed": true
   },
   "outputs": [],
   "source": [
    "# chavez & coombs\n",
    "# 2020-07-16\n",
    "# cognos_data_management(v1).ipynb\n",
    "# this script takes jacobs-cognos-output data and transforms its format to make it compatible with the deltek spreadsheet"
   ]
  },
  {
   "cell_type": "code",
   "execution_count": 111,
   "metadata": {
    "collapsed": false
   },
   "outputs": [],
   "source": [
    "# import module(s)\n",
    "import pandas"
   ]
  },
  {
   "cell_type": "code",
   "execution_count": 112,
   "metadata": {
    "collapsed": false
   },
   "outputs": [],
   "source": [
    "# read data (from U:\\ drive)\n",
    "# deltek_test_file.csv is an 9-row subset of the actual file output\n",
    "df = pandas.read_csv(\"U:\\deltek_test_file.csv\")"
   ]
  },
  {
   "cell_type": "code",
   "execution_count": 113,
   "metadata": {
    "collapsed": false
   },
   "outputs": [
    {
     "data": {
      "text/plain": [
       "Index                 80\n",
       "User                 675\n",
       "User Id               72\n",
       "Work Date            589\n",
       "Month                589\n",
       "Description          603\n",
       "REF ID                72\n",
       "CLIN                 549\n",
       "WBS                   72\n",
       "TASK                  72\n",
       "TPID                 693\n",
       "ProjNo                72\n",
       "WB2                   72\n",
       "Project Id           657\n",
       "Pay Type             558\n",
       "Corporation          540\n",
       "Company Name         540\n",
       "Approver             612\n",
       "Status               594\n",
       "Straight              72\n",
       "Overtime              72\n",
       "Total                 72\n",
       "Date Time Entered    647\n",
       "Org Id               603\n",
       "dtype: int64"
      ]
     },
     "execution_count": 113,
     "metadata": {},
     "output_type": "execute_result"
    }
   ],
   "source": [
    "# check memory usage (bytes)\n",
    "# DataFrame.memory_usage(index=True, deep=False)\n",
    "df.memory_usage(index=True, deep=True)"
   ]
  },
  {
   "cell_type": "code",
   "execution_count": 114,
   "metadata": {
    "collapsed": true
   },
   "outputs": [],
   "source": [
    "# format data\n",
    "# round floating numbers to two decimal places in python pandas \n",
    "pandas.options.display.float_format = '{:.2f}'.format"
   ]
  },
  {
   "cell_type": "code",
   "execution_count": 115,
   "metadata": {
    "collapsed": false
   },
   "outputs": [
    {
     "data": {
      "text/plain": [
       "Index(['User', 'User Id', 'Work Date', 'Month', 'Description', 'REF ID',\n",
       "       'CLIN', 'WBS', 'TASK', 'TPID', 'ProjNo', 'WB2', 'Project Id',\n",
       "       'Pay Type', 'Corporation', 'Company Name', 'Approver', 'Status',\n",
       "       'Straight', 'Overtime', 'Total', 'Date Time Entered', 'Org Id'],\n",
       "      dtype='object')"
      ]
     },
     "execution_count": 115,
     "metadata": {},
     "output_type": "execute_result"
    }
   ],
   "source": [
    "# fields\n",
    "df.columns"
   ]
  },
  {
   "cell_type": "code",
   "execution_count": 116,
   "metadata": {
    "collapsed": false,
    "scrolled": true
   },
   "outputs": [
    {
     "data": {
      "text/html": [
       "<div>\n",
       "<table border=\"1\" class=\"dataframe\">\n",
       "  <thead>\n",
       "    <tr style=\"text-align: right;\">\n",
       "      <th></th>\n",
       "      <th>User</th>\n",
       "      <th>User Id</th>\n",
       "      <th>Work Date</th>\n",
       "      <th>Month</th>\n",
       "      <th>Description</th>\n",
       "      <th>REF ID</th>\n",
       "      <th>CLIN</th>\n",
       "      <th>WBS</th>\n",
       "      <th>TASK</th>\n",
       "      <th>TPID</th>\n",
       "      <th>...</th>\n",
       "      <th>Corporation</th>\n",
       "      <th>Company Name</th>\n",
       "      <th>Approver</th>\n",
       "      <th>Status</th>\n",
       "      <th>Straight</th>\n",
       "      <th>Overtime</th>\n",
       "      <th>Total</th>\n",
       "      <th>Date Time Entered</th>\n",
       "      <th>Org Id</th>\n",
       "      <th>ChangeID</th>\n",
       "    </tr>\n",
       "  </thead>\n",
       "  <tbody>\n",
       "    <tr>\n",
       "      <th>0</th>\n",
       "      <td>THOMPSON, MORRIS R</td>\n",
       "      <td>51288</td>\n",
       "      <td>9-Sep-19</td>\n",
       "      <td>9-Sep-19</td>\n",
       "      <td>Asset Mgmt</td>\n",
       "      <td>13976</td>\n",
       "      <td>.00.</td>\n",
       "      <td>nan</td>\n",
       "      <td>514</td>\n",
       "      <td>13976.00.00.0016.514</td>\n",
       "      <td>...</td>\n",
       "      <td>FNS</td>\n",
       "      <td>FNS</td>\n",
       "      <td>S-VAN LUONG</td>\n",
       "      <td>Processed</td>\n",
       "      <td>9.00</td>\n",
       "      <td>0</td>\n",
       "      <td>9.00</td>\n",
       "      <td>9/9/2019 13:53</td>\n",
       "      <td>1.01.01.01</td>\n",
       "      <td>0</td>\n",
       "    </tr>\n",
       "    <tr>\n",
       "      <th>1</th>\n",
       "      <td>THOMPSON, MORRIS R</td>\n",
       "      <td>51288</td>\n",
       "      <td>13-Sep-19</td>\n",
       "      <td>13-Sep-19</td>\n",
       "      <td>Asset Mgmt</td>\n",
       "      <td>13976</td>\n",
       "      <td>.00.</td>\n",
       "      <td>nan</td>\n",
       "      <td>514</td>\n",
       "      <td>13976.00.00.0016.514</td>\n",
       "      <td>...</td>\n",
       "      <td>FNS</td>\n",
       "      <td>FNS</td>\n",
       "      <td>S-VAN LUONG</td>\n",
       "      <td>Processed</td>\n",
       "      <td>4.00</td>\n",
       "      <td>0</td>\n",
       "      <td>4.00</td>\n",
       "      <td>9/12/2019 14:24</td>\n",
       "      <td>1.01.01.01</td>\n",
       "      <td>0</td>\n",
       "    </tr>\n",
       "    <tr>\n",
       "      <th>2</th>\n",
       "      <td>THOMPSON, MORRIS R</td>\n",
       "      <td>51288</td>\n",
       "      <td>25-Sep-19</td>\n",
       "      <td>25-Sep-19</td>\n",
       "      <td>Asset Mgmt</td>\n",
       "      <td>13976</td>\n",
       "      <td>.00.</td>\n",
       "      <td>nan</td>\n",
       "      <td>514</td>\n",
       "      <td>13976.00.00.0016.514</td>\n",
       "      <td>...</td>\n",
       "      <td>FNS</td>\n",
       "      <td>FNS</td>\n",
       "      <td>S-VAN LUONG</td>\n",
       "      <td>Processed</td>\n",
       "      <td>9.00</td>\n",
       "      <td>0</td>\n",
       "      <td>9.00</td>\n",
       "      <td>9/25/2019 14:13</td>\n",
       "      <td>1.01.01.01</td>\n",
       "      <td>0</td>\n",
       "    </tr>\n",
       "  </tbody>\n",
       "</table>\n",
       "<p>3 rows × 24 columns</p>\n",
       "</div>"
      ],
      "text/plain": [
       "                 User  User Id  Work Date      Month Description  REF ID  \\\n",
       "0  THOMPSON, MORRIS R    51288   9-Sep-19   9-Sep-19  Asset Mgmt   13976   \n",
       "1  THOMPSON, MORRIS R    51288  13-Sep-19  13-Sep-19  Asset Mgmt   13976   \n",
       "2  THOMPSON, MORRIS R    51288  25-Sep-19  25-Sep-19  Asset Mgmt   13976   \n",
       "\n",
       "   CLIN  WBS  TASK                  TPID    ...     Corporation  Company Name  \\\n",
       "0  .00.  nan   514  13976.00.00.0016.514    ...             FNS           FNS   \n",
       "1  .00.  nan   514  13976.00.00.0016.514    ...             FNS           FNS   \n",
       "2  .00.  nan   514  13976.00.00.0016.514    ...             FNS           FNS   \n",
       "\n",
       "      Approver     Status Straight Overtime Total Date Time Entered  \\\n",
       "0  S-VAN LUONG  Processed     9.00        0  9.00    9/9/2019 13:53   \n",
       "1  S-VAN LUONG  Processed     4.00        0  4.00   9/12/2019 14:24   \n",
       "2  S-VAN LUONG  Processed     9.00        0  9.00   9/25/2019 14:13   \n",
       "\n",
       "       Org Id  ChangeID  \n",
       "0  1.01.01.01         0  \n",
       "1  1.01.01.01         0  \n",
       "2  1.01.01.01         0  \n",
       "\n",
       "[3 rows x 24 columns]"
      ]
     },
     "execution_count": 116,
     "metadata": {},
     "output_type": "execute_result"
    }
   ],
   "source": [
    "# add ChangeID\n",
    "df['ChangeID'] = df['ProjNo']\n",
    "df.head(3)"
   ]
  },
  {
   "cell_type": "code",
   "execution_count": 117,
   "metadata": {
    "collapsed": false
   },
   "outputs": [
    {
     "data": {
      "text/html": [
       "<div>\n",
       "<table border=\"1\" class=\"dataframe\">\n",
       "  <thead>\n",
       "    <tr style=\"text-align: right;\">\n",
       "      <th></th>\n",
       "      <th>User</th>\n",
       "      <th>User Id</th>\n",
       "      <th>Work Date</th>\n",
       "      <th>Month</th>\n",
       "      <th>Description</th>\n",
       "      <th>REF ID</th>\n",
       "      <th>CLIN</th>\n",
       "      <th>WBS</th>\n",
       "      <th>TASK</th>\n",
       "      <th>TPID</th>\n",
       "      <th>...</th>\n",
       "      <th>Company Name</th>\n",
       "      <th>Approver</th>\n",
       "      <th>Status</th>\n",
       "      <th>Straight</th>\n",
       "      <th>Overtime</th>\n",
       "      <th>Total</th>\n",
       "      <th>Date Time Entered</th>\n",
       "      <th>Org Id</th>\n",
       "      <th>ChangeID</th>\n",
       "      <th>OptYr</th>\n",
       "    </tr>\n",
       "  </thead>\n",
       "  <tbody>\n",
       "    <tr>\n",
       "      <th>0</th>\n",
       "      <td>THOMPSON, MORRIS R</td>\n",
       "      <td>51288</td>\n",
       "      <td>9-Sep-19</td>\n",
       "      <td>9-Sep-19</td>\n",
       "      <td>Asset Mgmt</td>\n",
       "      <td>13976</td>\n",
       "      <td>.00.</td>\n",
       "      <td>nan</td>\n",
       "      <td>514</td>\n",
       "      <td>13976.00.00.0016.514</td>\n",
       "      <td>...</td>\n",
       "      <td>FNS</td>\n",
       "      <td>S-VAN LUONG</td>\n",
       "      <td>Processed</td>\n",
       "      <td>9.00</td>\n",
       "      <td>0</td>\n",
       "      <td>9.00</td>\n",
       "      <td>9/9/2019 13:53</td>\n",
       "      <td>1.01.01.01</td>\n",
       "      <td>0</td>\n",
       "      <td>OY.</td>\n",
       "    </tr>\n",
       "    <tr>\n",
       "      <th>1</th>\n",
       "      <td>THOMPSON, MORRIS R</td>\n",
       "      <td>51288</td>\n",
       "      <td>13-Sep-19</td>\n",
       "      <td>13-Sep-19</td>\n",
       "      <td>Asset Mgmt</td>\n",
       "      <td>13976</td>\n",
       "      <td>.00.</td>\n",
       "      <td>nan</td>\n",
       "      <td>514</td>\n",
       "      <td>13976.00.00.0016.514</td>\n",
       "      <td>...</td>\n",
       "      <td>FNS</td>\n",
       "      <td>S-VAN LUONG</td>\n",
       "      <td>Processed</td>\n",
       "      <td>4.00</td>\n",
       "      <td>0</td>\n",
       "      <td>4.00</td>\n",
       "      <td>9/12/2019 14:24</td>\n",
       "      <td>1.01.01.01</td>\n",
       "      <td>0</td>\n",
       "      <td>OY.</td>\n",
       "    </tr>\n",
       "    <tr>\n",
       "      <th>2</th>\n",
       "      <td>THOMPSON, MORRIS R</td>\n",
       "      <td>51288</td>\n",
       "      <td>25-Sep-19</td>\n",
       "      <td>25-Sep-19</td>\n",
       "      <td>Asset Mgmt</td>\n",
       "      <td>13976</td>\n",
       "      <td>.00.</td>\n",
       "      <td>nan</td>\n",
       "      <td>514</td>\n",
       "      <td>13976.00.00.0016.514</td>\n",
       "      <td>...</td>\n",
       "      <td>FNS</td>\n",
       "      <td>S-VAN LUONG</td>\n",
       "      <td>Processed</td>\n",
       "      <td>9.00</td>\n",
       "      <td>0</td>\n",
       "      <td>9.00</td>\n",
       "      <td>9/25/2019 14:13</td>\n",
       "      <td>1.01.01.01</td>\n",
       "      <td>0</td>\n",
       "      <td>OY.</td>\n",
       "    </tr>\n",
       "  </tbody>\n",
       "</table>\n",
       "<p>3 rows × 25 columns</p>\n",
       "</div>"
      ],
      "text/plain": [
       "                 User  User Id  Work Date      Month Description  REF ID  \\\n",
       "0  THOMPSON, MORRIS R    51288   9-Sep-19   9-Sep-19  Asset Mgmt   13976   \n",
       "1  THOMPSON, MORRIS R    51288  13-Sep-19  13-Sep-19  Asset Mgmt   13976   \n",
       "2  THOMPSON, MORRIS R    51288  25-Sep-19  25-Sep-19  Asset Mgmt   13976   \n",
       "\n",
       "   CLIN  WBS  TASK                  TPID  ...    Company Name     Approver  \\\n",
       "0  .00.  nan   514  13976.00.00.0016.514  ...             FNS  S-VAN LUONG   \n",
       "1  .00.  nan   514  13976.00.00.0016.514  ...             FNS  S-VAN LUONG   \n",
       "2  .00.  nan   514  13976.00.00.0016.514  ...             FNS  S-VAN LUONG   \n",
       "\n",
       "      Status Straight Overtime Total Date Time Entered      Org Id  ChangeID  \\\n",
       "0  Processed     9.00        0  9.00    9/9/2019 13:53  1.01.01.01         0   \n",
       "1  Processed     4.00        0  4.00   9/12/2019 14:24  1.01.01.01         0   \n",
       "2  Processed     9.00        0  9.00   9/25/2019 14:13  1.01.01.01         0   \n",
       "\n",
       "   OptYr  \n",
       "0    OY.  \n",
       "1    OY.  \n",
       "2    OY.  \n",
       "\n",
       "[3 rows x 25 columns]"
      ]
     },
     "execution_count": 117,
     "metadata": {},
     "output_type": "execute_result"
    }
   ],
   "source": [
    "# add option year\n",
    "df.insert(24, 'OptYr', 'OY.')\n",
    "df.head(3)"
   ]
  },
  {
   "cell_type": "code",
   "execution_count": 118,
   "metadata": {
    "collapsed": false
   },
   "outputs": [
    {
     "data": {
      "text/plain": [
       "0    THOMPSON, MORRIS R\n",
       "1    THOMPSON, MORRIS R\n",
       "2    THOMPSON, MORRIS R\n",
       "Name: User, dtype: object"
      ]
     },
     "execution_count": 118,
     "metadata": {},
     "output_type": "execute_result"
    }
   ],
   "source": [
    "# column A\n",
    "df['User'].head(3)"
   ]
  },
  {
   "cell_type": "code",
   "execution_count": 119,
   "metadata": {
    "collapsed": false
   },
   "outputs": [
    {
     "data": {
      "text/plain": [
       "0    51288\n",
       "1    51288\n",
       "2    51288\n",
       "Name: User Id, dtype: int64"
      ]
     },
     "execution_count": 119,
     "metadata": {},
     "output_type": "execute_result"
    }
   ],
   "source": [
    "# column B\n",
    "df['User Id'].head(3)"
   ]
  },
  {
   "cell_type": "code",
   "execution_count": 120,
   "metadata": {
    "collapsed": false
   },
   "outputs": [
    {
     "data": {
      "text/plain": [
       "0    2019-09-09\n",
       "1    2019-09-13\n",
       "2    2019-09-25\n",
       "Name: Work Date, dtype: object"
      ]
     },
     "execution_count": 120,
     "metadata": {},
     "output_type": "execute_result"
    }
   ],
   "source": [
    "# column C\n",
    "# modify workdate format\n",
    "workdate = pandas.to_datetime(df['Work Date']).dt.strftime('%Y-%m-%d')\n",
    "workdate\n",
    "df['Work Date'] = workdate\n",
    "df['Work Date'].head(3)"
   ]
  },
  {
   "cell_type": "code",
   "execution_count": 121,
   "metadata": {
    "collapsed": false
   },
   "outputs": [
    {
     "data": {
      "text/plain": [
       "0    2019-09\n",
       "1    2019-09\n",
       "2    2019-09\n",
       "Name: Month, dtype: object"
      ]
     },
     "execution_count": 121,
     "metadata": {},
     "output_type": "execute_result"
    }
   ],
   "source": [
    "# column D\n",
    "# modify month format\n",
    "month = pandas.to_datetime(df['Month']).dt.strftime('%Y-%m')\n",
    "month\n",
    "df['Month'] = month\n",
    "df['Month'].head(3)"
   ]
  },
  {
   "cell_type": "code",
   "execution_count": 122,
   "metadata": {
    "collapsed": false
   },
   "outputs": [
    {
     "data": {
      "text/plain": [
       "0    Asset Mgmt\n",
       "1    Asset Mgmt\n",
       "2    Asset Mgmt\n",
       "Name: Description, dtype: object"
      ]
     },
     "execution_count": 122,
     "metadata": {},
     "output_type": "execute_result"
    }
   ],
   "source": [
    "# column E\n",
    "df['Description'].head(3)"
   ]
  },
  {
   "cell_type": "code",
   "execution_count": 123,
   "metadata": {
    "collapsed": false
   },
   "outputs": [
    {
     "data": {
      "text/plain": [
       "0    13976\n",
       "1    13976\n",
       "2    13976\n",
       "Name: REF ID, dtype: int64"
      ]
     },
     "execution_count": 123,
     "metadata": {},
     "output_type": "execute_result"
    }
   ],
   "source": [
    "# column F\n",
    "df['REF ID'].head(3)"
   ]
  },
  {
   "cell_type": "code",
   "execution_count": 124,
   "metadata": {
    "collapsed": false
   },
   "outputs": [
    {
     "data": {
      "text/plain": [
       "0    0016\n",
       "1    0016\n",
       "2    0016\n",
       "3    0016\n",
       "4    0016\n",
       "5    0016\n",
       "6    0016\n",
       "7    0016\n",
       "8    0016\n",
       "Name: CLIN, dtype: object"
      ]
     },
     "execution_count": 124,
     "metadata": {},
     "output_type": "execute_result"
    }
   ],
   "source": [
    "# column G\n",
    "# get clin from tpid\n",
    "clin = df.TPID.str.split(\".\", expand=True,)[3]\n",
    "df['CLIN'] = clin\n",
    "df['CLIN']"
   ]
  },
  {
   "cell_type": "code",
   "execution_count": 125,
   "metadata": {
    "collapsed": false
   },
   "outputs": [
    {
     "data": {
      "text/plain": [
       "0    514\n",
       "1    514\n",
       "2    514\n",
       "3    514\n",
       "4    514\n",
       "5    514\n",
       "6    514\n",
       "7    514\n",
       "8    514\n",
       "Name: WBS, dtype: object"
      ]
     },
     "execution_count": 125,
     "metadata": {},
     "output_type": "execute_result"
    }
   ],
   "source": [
    "# column H\n",
    "# get wbs from tpid\n",
    "wbs = df.TPID.str.split(\".\", expand=True,)[4]\n",
    "df['WBS'] = wbs\n",
    "df['WBS']"
   ]
  },
  {
   "cell_type": "code",
   "execution_count": 126,
   "metadata": {
    "collapsed": false
   },
   "outputs": [
    {
     "data": {
      "text/plain": [
       "0    13976.00.00.0016.514\n",
       "1    13976.00.00.0016.514\n",
       "2    13976.00.00.0016.514\n",
       "Name: TPID, dtype: object"
      ]
     },
     "execution_count": 126,
     "metadata": {},
     "output_type": "execute_result"
    }
   ],
   "source": [
    "# column I\n",
    "df['TPID'].head(3)"
   ]
  },
  {
   "cell_type": "code",
   "execution_count": 127,
   "metadata": {
    "collapsed": false
   },
   "outputs": [
    {
     "data": {
      "text/plain": [
       "0    514\n",
       "1    514\n",
       "2    514\n",
       "Name: TASK, dtype: int64"
      ]
     },
     "execution_count": 127,
     "metadata": {},
     "output_type": "execute_result"
    }
   ],
   "source": [
    "# column J\n",
    "df['TASK'].head(3)"
   ]
  },
  {
   "cell_type": "code",
   "execution_count": 128,
   "metadata": {
    "collapsed": false
   },
   "outputs": [
    {
     "data": {
      "text/plain": [
       "0    R\n",
       "1    R\n",
       "2    R\n",
       "Name: Pay Type, dtype: object"
      ]
     },
     "execution_count": 128,
     "metadata": {},
     "output_type": "execute_result"
    }
   ],
   "source": [
    "# column K\n",
    "df['Pay Type'].head(3)"
   ]
  },
  {
   "cell_type": "code",
   "execution_count": 129,
   "metadata": {
    "collapsed": false
   },
   "outputs": [
    {
     "data": {
      "text/plain": [
       "0    FNS\n",
       "1    FNS\n",
       "2    FNS\n",
       "Name: Corporation, dtype: object"
      ]
     },
     "execution_count": 129,
     "metadata": {},
     "output_type": "execute_result"
    }
   ],
   "source": [
    "# column L\n",
    "df['Corporation'].head(3)"
   ]
  },
  {
   "cell_type": "code",
   "execution_count": 130,
   "metadata": {
    "collapsed": false
   },
   "outputs": [
    {
     "data": {
      "text/plain": [
       "0    FNS\n",
       "1    FNS\n",
       "2    FNS\n",
       "Name: Company Name, dtype: object"
      ]
     },
     "execution_count": 130,
     "metadata": {},
     "output_type": "execute_result"
    }
   ],
   "source": [
    "# column M\n",
    "df['Company Name'].head(3)"
   ]
  },
  {
   "cell_type": "code",
   "execution_count": 131,
   "metadata": {
    "collapsed": false
   },
   "outputs": [
    {
     "data": {
      "text/plain": [
       "0    S-VAN LUONG\n",
       "1    S-VAN LUONG\n",
       "2    S-VAN LUONG\n",
       "Name: Approver, dtype: object"
      ]
     },
     "execution_count": 131,
     "metadata": {},
     "output_type": "execute_result"
    }
   ],
   "source": [
    "# column N\n",
    "df['Approver'].head(3)"
   ]
  },
  {
   "cell_type": "code",
   "execution_count": 132,
   "metadata": {
    "collapsed": false
   },
   "outputs": [
    {
     "data": {
      "text/plain": [
       "0    Processed\n",
       "1    Processed\n",
       "2    Processed\n",
       "Name: Status, dtype: object"
      ]
     },
     "execution_count": 132,
     "metadata": {},
     "output_type": "execute_result"
    }
   ],
   "source": [
    "# column O\n",
    "df['Status'].head(3)"
   ]
  },
  {
   "cell_type": "code",
   "execution_count": 133,
   "metadata": {
    "collapsed": false
   },
   "outputs": [
    {
     "data": {
      "text/plain": [
       "count   9.00\n",
       "mean    7.61\n",
       "std     3.34\n",
       "min     0.00\n",
       "25%     9.00\n",
       "50%     9.00\n",
       "75%     9.50\n",
       "max     9.50\n",
       "Name: Straight, dtype: float64"
      ]
     },
     "execution_count": 133,
     "metadata": {},
     "output_type": "execute_result"
    }
   ],
   "source": [
    "# column P\n",
    "df['Straight'].head(3)\n",
    "df['Straight'].describe()"
   ]
  },
  {
   "cell_type": "code",
   "execution_count": 134,
   "metadata": {
    "collapsed": false
   },
   "outputs": [
    {
     "data": {
      "text/plain": [
       "count   9.00\n",
       "mean    0.00\n",
       "std     0.00\n",
       "min     0.00\n",
       "25%     0.00\n",
       "50%     0.00\n",
       "75%     0.00\n",
       "max     0.00\n",
       "Name: Overtime, dtype: float64"
      ]
     },
     "execution_count": 134,
     "metadata": {},
     "output_type": "execute_result"
    }
   ],
   "source": [
    "# column Q\n",
    "df['Overtime'].head(3)\n",
    "df['Overtime'].describe()"
   ]
  },
  {
   "cell_type": "code",
   "execution_count": 135,
   "metadata": {
    "collapsed": false
   },
   "outputs": [
    {
     "data": {
      "text/plain": [
       "count   9.00\n",
       "mean    7.61\n",
       "std     3.34\n",
       "min     0.00\n",
       "25%     9.00\n",
       "50%     9.00\n",
       "75%     9.50\n",
       "max     9.50\n",
       "Name: Total, dtype: float64"
      ]
     },
     "execution_count": 135,
     "metadata": {},
     "output_type": "execute_result"
    }
   ],
   "source": [
    "# column R\n",
    "df['Total'].head(3)\n",
    "df['Total'].describe()"
   ]
  },
  {
   "cell_type": "code",
   "execution_count": 136,
   "metadata": {
    "collapsed": false
   },
   "outputs": [
    {
     "data": {
      "text/plain": [
       "0    2019-09-09 13:53:00\n",
       "1    2019-09-12 14:24:00\n",
       "2    2019-09-25 14:13:00\n",
       "Name: Date Time Entered, dtype: object"
      ]
     },
     "execution_count": 136,
     "metadata": {},
     "output_type": "execute_result"
    }
   ],
   "source": [
    "# column S\n",
    "pandas.to_datetime(df['Date Time Entered']).dt.strftime('%Y-%m-%d %h:%m:%s').head(3)"
   ]
  },
  {
   "cell_type": "code",
   "execution_count": 137,
   "metadata": {
    "collapsed": false
   },
   "outputs": [
    {
     "data": {
      "text/plain": [
       "0    1.01.01.01\n",
       "1    1.01.01.01\n",
       "2    1.01.01.01\n",
       "Name: Org Id, dtype: object"
      ]
     },
     "execution_count": 137,
     "metadata": {},
     "output_type": "execute_result"
    }
   ],
   "source": [
    "# column T\n",
    "df['Org Id'].head(3)"
   ]
  },
  {
   "cell_type": "code",
   "execution_count": 138,
   "metadata": {
    "collapsed": false
   },
   "outputs": [
    {
     "data": {
      "text/plain": [
       "0    0\n",
       "1    0\n",
       "2    0\n",
       "Name: ChangeID, dtype: int64"
      ]
     },
     "execution_count": 138,
     "metadata": {},
     "output_type": "execute_result"
    }
   ],
   "source": [
    "# column U\n",
    "df['ChangeID'].head(3)"
   ]
  },
  {
   "cell_type": "code",
   "execution_count": 139,
   "metadata": {
    "collapsed": false
   },
   "outputs": [
    {
     "data": {
      "text/plain": [
       "0    OY.\n",
       "1    OY.\n",
       "2    OY.\n",
       "Name: OptYr, dtype: object"
      ]
     },
     "execution_count": 139,
     "metadata": {},
     "output_type": "execute_result"
    }
   ],
   "source": [
    "# column V\n",
    "# Opt Yr\n",
    "df['OptYr'].head(3)"
   ]
  },
  {
   "cell_type": "code",
   "execution_count": 140,
   "metadata": {
    "collapsed": false
   },
   "outputs": [
    {
     "data": {
      "text/html": [
       "<div>\n",
       "<table border=\"1\" class=\"dataframe\">\n",
       "  <thead>\n",
       "    <tr style=\"text-align: right;\">\n",
       "      <th></th>\n",
       "      <th>User</th>\n",
       "      <th>User Id</th>\n",
       "      <th>Work Date</th>\n",
       "      <th>Month</th>\n",
       "      <th>Description</th>\n",
       "      <th>REF ID</th>\n",
       "      <th>CLIN</th>\n",
       "      <th>WBS</th>\n",
       "      <th>TASK</th>\n",
       "      <th>TPID</th>\n",
       "      <th>...</th>\n",
       "      <th>Company Name</th>\n",
       "      <th>Approver</th>\n",
       "      <th>Status</th>\n",
       "      <th>Straight</th>\n",
       "      <th>Overtime</th>\n",
       "      <th>Total</th>\n",
       "      <th>Date Time Entered</th>\n",
       "      <th>Org Id</th>\n",
       "      <th>ChangeID</th>\n",
       "      <th>OptYr</th>\n",
       "    </tr>\n",
       "  </thead>\n",
       "  <tbody>\n",
       "    <tr>\n",
       "      <th>0</th>\n",
       "      <td>THOMPSON, MORRIS R</td>\n",
       "      <td>51288</td>\n",
       "      <td>2019-09-09</td>\n",
       "      <td>2019-09</td>\n",
       "      <td>Asset Mgmt</td>\n",
       "      <td>13976</td>\n",
       "      <td>0016</td>\n",
       "      <td>514</td>\n",
       "      <td>514</td>\n",
       "      <td>13976.00.00.0016.514</td>\n",
       "      <td>...</td>\n",
       "      <td>FNS</td>\n",
       "      <td>S-VAN LUONG</td>\n",
       "      <td>Processed</td>\n",
       "      <td>9.00</td>\n",
       "      <td>0</td>\n",
       "      <td>9.00</td>\n",
       "      <td>9/9/2019 13:53</td>\n",
       "      <td>1.01.01.01</td>\n",
       "      <td>0</td>\n",
       "      <td>OY.</td>\n",
       "    </tr>\n",
       "    <tr>\n",
       "      <th>1</th>\n",
       "      <td>THOMPSON, MORRIS R</td>\n",
       "      <td>51288</td>\n",
       "      <td>2019-09-13</td>\n",
       "      <td>2019-09</td>\n",
       "      <td>Asset Mgmt</td>\n",
       "      <td>13976</td>\n",
       "      <td>0016</td>\n",
       "      <td>514</td>\n",
       "      <td>514</td>\n",
       "      <td>13976.00.00.0016.514</td>\n",
       "      <td>...</td>\n",
       "      <td>FNS</td>\n",
       "      <td>S-VAN LUONG</td>\n",
       "      <td>Processed</td>\n",
       "      <td>4.00</td>\n",
       "      <td>0</td>\n",
       "      <td>4.00</td>\n",
       "      <td>9/12/2019 14:24</td>\n",
       "      <td>1.01.01.01</td>\n",
       "      <td>0</td>\n",
       "      <td>OY.</td>\n",
       "    </tr>\n",
       "    <tr>\n",
       "      <th>2</th>\n",
       "      <td>THOMPSON, MORRIS R</td>\n",
       "      <td>51288</td>\n",
       "      <td>2019-09-25</td>\n",
       "      <td>2019-09</td>\n",
       "      <td>Asset Mgmt</td>\n",
       "      <td>13976</td>\n",
       "      <td>0016</td>\n",
       "      <td>514</td>\n",
       "      <td>514</td>\n",
       "      <td>13976.00.00.0016.514</td>\n",
       "      <td>...</td>\n",
       "      <td>FNS</td>\n",
       "      <td>S-VAN LUONG</td>\n",
       "      <td>Processed</td>\n",
       "      <td>9.00</td>\n",
       "      <td>0</td>\n",
       "      <td>9.00</td>\n",
       "      <td>9/25/2019 14:13</td>\n",
       "      <td>1.01.01.01</td>\n",
       "      <td>0</td>\n",
       "      <td>OY.</td>\n",
       "    </tr>\n",
       "  </tbody>\n",
       "</table>\n",
       "<p>3 rows × 25 columns</p>\n",
       "</div>"
      ],
      "text/plain": [
       "                 User  User Id   Work Date    Month Description  REF ID  CLIN  \\\n",
       "0  THOMPSON, MORRIS R    51288  2019-09-09  2019-09  Asset Mgmt   13976  0016   \n",
       "1  THOMPSON, MORRIS R    51288  2019-09-13  2019-09  Asset Mgmt   13976  0016   \n",
       "2  THOMPSON, MORRIS R    51288  2019-09-25  2019-09  Asset Mgmt   13976  0016   \n",
       "\n",
       "   WBS  TASK                  TPID  ...    Company Name     Approver  \\\n",
       "0  514   514  13976.00.00.0016.514  ...             FNS  S-VAN LUONG   \n",
       "1  514   514  13976.00.00.0016.514  ...             FNS  S-VAN LUONG   \n",
       "2  514   514  13976.00.00.0016.514  ...             FNS  S-VAN LUONG   \n",
       "\n",
       "      Status Straight Overtime Total Date Time Entered      Org Id  ChangeID  \\\n",
       "0  Processed     9.00        0  9.00    9/9/2019 13:53  1.01.01.01         0   \n",
       "1  Processed     4.00        0  4.00   9/12/2019 14:24  1.01.01.01         0   \n",
       "2  Processed     9.00        0  9.00   9/25/2019 14:13  1.01.01.01         0   \n",
       "\n",
       "   OptYr  \n",
       "0    OY.  \n",
       "1    OY.  \n",
       "2    OY.  \n",
       "\n",
       "[3 rows x 25 columns]"
      ]
     },
     "execution_count": 140,
     "metadata": {},
     "output_type": "execute_result"
    }
   ],
   "source": [
    "# write data to csv (default is U:\\Documents)\n",
    "df.to_csv('deltek_test_file-modified.csv')\n",
    "df.head(3)"
   ]
  },
  {
   "cell_type": "code",
   "execution_count": 141,
   "metadata": {
    "collapsed": false
   },
   "outputs": [
    {
     "data": {
      "text/html": [
       "<div>\n",
       "<table border=\"1\" class=\"dataframe\">\n",
       "  <thead>\n",
       "    <tr style=\"text-align: right;\">\n",
       "      <th></th>\n",
       "      <th>A</th>\n",
       "      <th>B</th>\n",
       "      <th>C</th>\n",
       "      <th>D</th>\n",
       "    </tr>\n",
       "  </thead>\n",
       "  <tbody>\n",
       "    <tr>\n",
       "      <th>0</th>\n",
       "      <td>0.00</td>\n",
       "      <td>0.00</td>\n",
       "      <td>foo1</td>\n",
       "      <td>2009-01-01</td>\n",
       "    </tr>\n",
       "    <tr>\n",
       "      <th>1</th>\n",
       "      <td>1.00</td>\n",
       "      <td>1.00</td>\n",
       "      <td>foo2</td>\n",
       "      <td>2009-01-02</td>\n",
       "    </tr>\n",
       "    <tr>\n",
       "      <th>2</th>\n",
       "      <td>2.00</td>\n",
       "      <td>0.00</td>\n",
       "      <td>foo3</td>\n",
       "      <td>2009-01-05</td>\n",
       "    </tr>\n",
       "    <tr>\n",
       "      <th>3</th>\n",
       "      <td>3.00</td>\n",
       "      <td>1.00</td>\n",
       "      <td>foo4</td>\n",
       "      <td>2009-01-06</td>\n",
       "    </tr>\n",
       "    <tr>\n",
       "      <th>4</th>\n",
       "      <td>4.00</td>\n",
       "      <td>0.00</td>\n",
       "      <td>foo5</td>\n",
       "      <td>2009-01-07</td>\n",
       "    </tr>\n",
       "  </tbody>\n",
       "</table>\n",
       "</div>"
      ],
      "text/plain": [
       "     A    B     C          D\n",
       "0 0.00 0.00  foo1 2009-01-01\n",
       "1 1.00 1.00  foo2 2009-01-02\n",
       "2 2.00 0.00  foo3 2009-01-05\n",
       "3 3.00 1.00  foo4 2009-01-06\n",
       "4 4.00 0.00  foo5 2009-01-07"
      ]
     },
     "execution_count": 141,
     "metadata": {},
     "output_type": "execute_result"
    }
   ],
   "source": [
    "# tip 1\n",
    "# create dataframe with mixed data types\n",
    "pandas.util.testing.makeMixedDataFrame()"
   ]
  },
  {
   "cell_type": "code",
   "execution_count": 142,
   "metadata": {
    "collapsed": false
   },
   "outputs": [
    {
     "data": {
      "text/html": [
       "<div>\n",
       "<table border=\"1\" class=\"dataframe\">\n",
       "  <thead>\n",
       "    <tr style=\"text-align: right;\">\n",
       "      <th></th>\n",
       "      <th>A</th>\n",
       "      <th>B</th>\n",
       "      <th>C</th>\n",
       "      <th>A2</th>\n",
       "      <th>D</th>\n",
       "    </tr>\n",
       "  </thead>\n",
       "  <tbody>\n",
       "    <tr>\n",
       "      <th>0</th>\n",
       "      <td>0.00</td>\n",
       "      <td>0.00</td>\n",
       "      <td>foo1</td>\n",
       "      <td>0.00</td>\n",
       "      <td>2009-01-01</td>\n",
       "    </tr>\n",
       "    <tr>\n",
       "      <th>1</th>\n",
       "      <td>1.00</td>\n",
       "      <td>1.00</td>\n",
       "      <td>foo2</td>\n",
       "      <td>2.00</td>\n",
       "      <td>2009-01-02</td>\n",
       "    </tr>\n",
       "    <tr>\n",
       "      <th>2</th>\n",
       "      <td>2.00</td>\n",
       "      <td>0.00</td>\n",
       "      <td>foo3</td>\n",
       "      <td>4.00</td>\n",
       "      <td>2009-01-05</td>\n",
       "    </tr>\n",
       "    <tr>\n",
       "      <th>3</th>\n",
       "      <td>3.00</td>\n",
       "      <td>1.00</td>\n",
       "      <td>foo4</td>\n",
       "      <td>6.00</td>\n",
       "      <td>2009-01-06</td>\n",
       "    </tr>\n",
       "    <tr>\n",
       "      <th>4</th>\n",
       "      <td>4.00</td>\n",
       "      <td>0.00</td>\n",
       "      <td>foo5</td>\n",
       "      <td>8.00</td>\n",
       "      <td>2009-01-07</td>\n",
       "    </tr>\n",
       "  </tbody>\n",
       "</table>\n",
       "</div>"
      ],
      "text/plain": [
       "     A    B     C   A2          D\n",
       "0 0.00 0.00  foo1 0.00 2009-01-01\n",
       "1 1.00 1.00  foo2 2.00 2009-01-02\n",
       "2 2.00 0.00  foo3 4.00 2009-01-05\n",
       "3 3.00 1.00  foo4 6.00 2009-01-06\n",
       "4 4.00 0.00  foo5 8.00 2009-01-07"
      ]
     },
     "execution_count": 142,
     "metadata": {},
     "output_type": "execute_result"
    }
   ],
   "source": [
    "# tip 2\n",
    "# insert a new column which is a function of another column\n",
    "dftest = pandas.util.testing.makeMixedDataFrame()\n",
    "#print(dftest)\n",
    "dftest.insert(3, 'A2', dftest['A'] * 2)\n",
    "dftest"
   ]
  },
  {
   "cell_type": "code",
   "execution_count": 143,
   "metadata": {
    "collapsed": false
   },
   "outputs": [
    {
     "data": {
      "text/html": [
       "<div>\n",
       "<table border=\"1\" class=\"dataframe\">\n",
       "  <thead>\n",
       "    <tr style=\"text-align: right;\">\n",
       "      <th></th>\n",
       "      <th>A</th>\n",
       "      <th>B</th>\n",
       "      <th>C</th>\n",
       "      <th>Country</th>\n",
       "      <th>D</th>\n",
       "    </tr>\n",
       "  </thead>\n",
       "  <tbody>\n",
       "    <tr>\n",
       "      <th>0</th>\n",
       "      <td>0.00</td>\n",
       "      <td>0.00</td>\n",
       "      <td>foo1</td>\n",
       "      <td>USA</td>\n",
       "      <td>2009-01-01</td>\n",
       "    </tr>\n",
       "    <tr>\n",
       "      <th>1</th>\n",
       "      <td>1.00</td>\n",
       "      <td>1.00</td>\n",
       "      <td>foo2</td>\n",
       "      <td>USA</td>\n",
       "      <td>2009-01-02</td>\n",
       "    </tr>\n",
       "    <tr>\n",
       "      <th>2</th>\n",
       "      <td>2.00</td>\n",
       "      <td>0.00</td>\n",
       "      <td>foo3</td>\n",
       "      <td>USA</td>\n",
       "      <td>2009-01-05</td>\n",
       "    </tr>\n",
       "    <tr>\n",
       "      <th>3</th>\n",
       "      <td>3.00</td>\n",
       "      <td>1.00</td>\n",
       "      <td>foo4</td>\n",
       "      <td>USA</td>\n",
       "      <td>2009-01-06</td>\n",
       "    </tr>\n",
       "    <tr>\n",
       "      <th>4</th>\n",
       "      <td>4.00</td>\n",
       "      <td>0.00</td>\n",
       "      <td>foo5</td>\n",
       "      <td>USA</td>\n",
       "      <td>2009-01-07</td>\n",
       "    </tr>\n",
       "  </tbody>\n",
       "</table>\n",
       "</div>"
      ],
      "text/plain": [
       "     A    B     C Country          D\n",
       "0 0.00 0.00  foo1     USA 2009-01-01\n",
       "1 1.00 1.00  foo2     USA 2009-01-02\n",
       "2 2.00 0.00  foo3     USA 2009-01-05\n",
       "3 3.00 1.00  foo4     USA 2009-01-06\n",
       "4 4.00 0.00  foo5     USA 2009-01-07"
      ]
     },
     "execution_count": 143,
     "metadata": {},
     "output_type": "execute_result"
    }
   ],
   "source": [
    "# tip 3\n",
    "# insert a new column with a constant value in the column with index 3 (i.e., 4)\n",
    "dftest = pandas.util.testing.makeMixedDataFrame()\n",
    "dftest.insert(3, 'Country', 'USA')\n",
    "dftest"
   ]
  },
  {
   "cell_type": "code",
   "execution_count": 144,
   "metadata": {
    "collapsed": false
   },
   "outputs": [
    {
     "data": {
      "text/html": [
       "<div>\n",
       "<table border=\"1\" class=\"dataframe\">\n",
       "  <thead>\n",
       "    <tr style=\"text-align: right;\">\n",
       "      <th></th>\n",
       "      <th>ID</th>\n",
       "      <th>B</th>\n",
       "      <th>C</th>\n",
       "      <th>Date</th>\n",
       "    </tr>\n",
       "  </thead>\n",
       "  <tbody>\n",
       "    <tr>\n",
       "      <th>0</th>\n",
       "      <td>0.00</td>\n",
       "      <td>0.00</td>\n",
       "      <td>foo1</td>\n",
       "      <td>2009-01-01</td>\n",
       "    </tr>\n",
       "    <tr>\n",
       "      <th>1</th>\n",
       "      <td>1.00</td>\n",
       "      <td>1.00</td>\n",
       "      <td>foo2</td>\n",
       "      <td>2009-01-02</td>\n",
       "    </tr>\n",
       "    <tr>\n",
       "      <th>2</th>\n",
       "      <td>2.00</td>\n",
       "      <td>0.00</td>\n",
       "      <td>foo3</td>\n",
       "      <td>2009-01-05</td>\n",
       "    </tr>\n",
       "    <tr>\n",
       "      <th>3</th>\n",
       "      <td>3.00</td>\n",
       "      <td>1.00</td>\n",
       "      <td>foo4</td>\n",
       "      <td>2009-01-06</td>\n",
       "    </tr>\n",
       "    <tr>\n",
       "      <th>4</th>\n",
       "      <td>4.00</td>\n",
       "      <td>0.00</td>\n",
       "      <td>foo5</td>\n",
       "      <td>2009-01-07</td>\n",
       "    </tr>\n",
       "  </tbody>\n",
       "</table>\n",
       "</div>"
      ],
      "text/plain": [
       "    ID    B     C       Date\n",
       "0 0.00 0.00  foo1 2009-01-01\n",
       "1 1.00 1.00  foo2 2009-01-02\n",
       "2 2.00 0.00  foo3 2009-01-05\n",
       "3 3.00 1.00  foo4 2009-01-06\n",
       "4 4.00 0.00  foo5 2009-01-07"
      ]
     },
     "execution_count": 144,
     "metadata": {},
     "output_type": "execute_result"
    }
   ],
   "source": [
    "# tip 4\n",
    "# change column names\n",
    "dftest = pandas.util.testing.makeMixedDataFrame()\n",
    "dftest\n",
    "dftest.rename(columns={'A':'ID', 'D':'Date'})"
   ]
  },
  {
   "cell_type": "code",
   "execution_count": 145,
   "metadata": {
    "collapsed": false
   },
   "outputs": [
    {
     "data": {
      "text/html": [
       "<div>\n",
       "<table border=\"1\" class=\"dataframe\">\n",
       "  <thead>\n",
       "    <tr style=\"text-align: right;\">\n",
       "      <th></th>\n",
       "      <th>A</th>\n",
       "      <th>B</th>\n",
       "      <th>C</th>\n",
       "      <th>D</th>\n",
       "      <th>E</th>\n",
       "    </tr>\n",
       "  </thead>\n",
       "  <tbody>\n",
       "    <tr>\n",
       "      <th>0</th>\n",
       "      <td>0.00</td>\n",
       "      <td>0.00</td>\n",
       "      <td>foo1</td>\n",
       "      <td>2009-01-01</td>\n",
       "      <td>foo1</td>\n",
       "    </tr>\n",
       "    <tr>\n",
       "      <th>1</th>\n",
       "      <td>1.00</td>\n",
       "      <td>1.00</td>\n",
       "      <td>foo2</td>\n",
       "      <td>2009-01-02</td>\n",
       "      <td>foo2</td>\n",
       "    </tr>\n",
       "    <tr>\n",
       "      <th>2</th>\n",
       "      <td>2.00</td>\n",
       "      <td>0.00</td>\n",
       "      <td>foo3</td>\n",
       "      <td>2009-01-05</td>\n",
       "      <td>foo3</td>\n",
       "    </tr>\n",
       "    <tr>\n",
       "      <th>3</th>\n",
       "      <td>3.00</td>\n",
       "      <td>1.00</td>\n",
       "      <td>foo4</td>\n",
       "      <td>2009-01-06</td>\n",
       "      <td>foo4</td>\n",
       "    </tr>\n",
       "    <tr>\n",
       "      <th>4</th>\n",
       "      <td>4.00</td>\n",
       "      <td>0.00</td>\n",
       "      <td>foo5</td>\n",
       "      <td>2009-01-07</td>\n",
       "      <td>foo5</td>\n",
       "    </tr>\n",
       "  </tbody>\n",
       "</table>\n",
       "</div>"
      ],
      "text/plain": [
       "     A    B     C          D     E\n",
       "0 0.00 0.00  foo1 2009-01-01  foo1\n",
       "1 1.00 1.00  foo2 2009-01-02  foo2\n",
       "2 2.00 0.00  foo3 2009-01-05  foo3\n",
       "3 3.00 1.00  foo4 2009-01-06  foo4\n",
       "4 4.00 0.00  foo5 2009-01-07  foo5"
      ]
     },
     "execution_count": 145,
     "metadata": {},
     "output_type": "execute_result"
    }
   ],
   "source": [
    "# tip 5\n",
    "# duplicate a column\n",
    "dftest = pandas.util.testing.makeMixedDataFrame()\n",
    "dftest['E'] = dftest['C']\n",
    "dftest"
   ]
  },
  {
   "cell_type": "code",
   "execution_count": null,
   "metadata": {
    "collapsed": true
   },
   "outputs": [],
   "source": []
  }
 ],
 "metadata": {
  "anaconda-cloud": {},
  "kernelspec": {
   "display_name": "Python [default]",
   "language": "python",
   "name": "python3"
  },
  "language_info": {
   "codemirror_mode": {
    "name": "ipython",
    "version": 3
   },
   "file_extension": ".py",
   "mimetype": "text/x-python",
   "name": "python",
   "nbconvert_exporter": "python",
   "pygments_lexer": "ipython3",
   "version": "3.5.2"
  }
 },
 "nbformat": 4,
 "nbformat_minor": 1
}
