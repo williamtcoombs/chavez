{
 "cells": [
  {
   "cell_type": "code",
   "execution_count": 20,
   "metadata": {
    "collapsed": false
   },
   "outputs": [],
   "source": [
    "# chavez & coombs\n",
    "# cognos_data_management(v1).ipynb\n",
    "# this script takes jacobs-cognos-output data and transforms its format to make it compatible with the deltek spreadsheet"
   ]
  },
  {
   "cell_type": "code",
   "execution_count": 21,
   "metadata": {
    "collapsed": false
   },
   "outputs": [],
   "source": [
    "# import module(s)\n",
    "import pandas\n",
    "import datetime"
   ]
  },
  {
   "cell_type": "code",
   "execution_count": 22,
   "metadata": {
    "collapsed": true
   },
   "outputs": [],
   "source": [
    "# read data (from U:\\ drive)\n",
    "# chavez.csv is an 9-row subset of the actual file output\n",
    "df = pandas.read_csv(\"U:\\chavez.csv\")"
   ]
  },
  {
   "cell_type": "code",
   "execution_count": 23,
   "metadata": {
    "collapsed": true
   },
   "outputs": [],
   "source": [
    "# format data\n",
    "# round floating numbers to two decimal places in python pandas \n",
    "pandas.options.display.float_format = '{:.2f}'.format"
   ]
  },
  {
   "cell_type": "code",
   "execution_count": 30,
   "metadata": {
    "collapsed": false
   },
   "outputs": [
    {
     "name": "stdout",
     "output_type": "stream",
     "text": [
      "\n",
      "\n",
      "Empty DataFrame\n",
      "Columns: [User, User Id, Work Date, Month, Description, REF ID, CLIN, WBS, TASK, TPID, ProjNo, WB2, Project Id, Pay Type, Corporation, Company Name, Approver, Status, Straight, Overtime, Total, Date Time Entered, Org Id]\n",
      "Index: []\n",
      "\n",
      "[0 rows x 23 columns]\n"
     ]
    }
   ],
   "source": [
    "# what are the original headers?\n",
    "print('\\n')\n",
    "print(df.head(0))"
   ]
  },
  {
   "cell_type": "code",
   "execution_count": 46,
   "metadata": {
    "collapsed": false
   },
   "outputs": [
    {
     "name": "stdout",
     "output_type": "stream",
     "text": [
      "0    THOMPSON, MORRIS R\n",
      "1    THOMPSON, MORRIS R\n",
      "2    THOMPSON, MORRIS R\n",
      "Name: User, dtype: object\n"
     ]
    }
   ],
   "source": [
    "# (this will be used in latest deltek spreadsheet column A)\n",
    "print(df['User'].head(3))"
   ]
  },
  {
   "cell_type": "code",
   "execution_count": 47,
   "metadata": {
    "collapsed": false
   },
   "outputs": [
    {
     "name": "stdout",
     "output_type": "stream",
     "text": [
      "0    51288\n",
      "1    51288\n",
      "2    51288\n",
      "Name: User Id, dtype: int64\n"
     ]
    }
   ],
   "source": [
    "# column B\n",
    "print(df['User Id'].head(3))"
   ]
  },
  {
   "cell_type": "code",
   "execution_count": 48,
   "metadata": {
    "collapsed": false
   },
   "outputs": [
    {
     "name": "stdout",
     "output_type": "stream",
     "text": [
      "0    2019-09-09\n",
      "1    2019-09-13\n",
      "2    2019-09-25\n",
      "Name: Work Date, dtype: object\n"
     ]
    }
   ],
   "source": [
    "# column C\n",
    "print(pandas.to_datetime(df['Work Date']).dt.strftime('%Y-%m-%d').head(3)) "
   ]
  },
  {
   "cell_type": "code",
   "execution_count": 49,
   "metadata": {
    "collapsed": false
   },
   "outputs": [
    {
     "name": "stdout",
     "output_type": "stream",
     "text": [
      "0    2019-09\n",
      "1    2019-09\n",
      "2    2019-09\n",
      "Name: Month, dtype: object\n"
     ]
    }
   ],
   "source": [
    "# column D\n",
    "print(pandas.to_datetime(df['Month']).dt.strftime('%Y-%m').head(3)) "
   ]
  },
  {
   "cell_type": "code",
   "execution_count": 50,
   "metadata": {
    "collapsed": false
   },
   "outputs": [
    {
     "name": "stdout",
     "output_type": "stream",
     "text": [
      "0    Asset Mgmt\n",
      "1    Asset Mgmt\n",
      "2    Asset Mgmt\n",
      "Name: Description, dtype: object\n"
     ]
    }
   ],
   "source": [
    "# column E\n",
    "print(df['Description'].head(3)) "
   ]
  },
  {
   "cell_type": "code",
   "execution_count": 51,
   "metadata": {
    "collapsed": false
   },
   "outputs": [
    {
     "name": "stdout",
     "output_type": "stream",
     "text": [
      "0    13976\n",
      "1    13976\n",
      "2    13976\n",
      "Name: REF ID, dtype: int64\n"
     ]
    }
   ],
   "source": [
    "# column F\n",
    "print(df['REF ID'].head(3)) "
   ]
  },
  {
   "cell_type": "code",
   "execution_count": 52,
   "metadata": {
    "collapsed": false
   },
   "outputs": [
    {
     "name": "stdout",
     "output_type": "stream",
     "text": [
      "0    0016\n",
      "1    0016\n",
      "2    0016\n",
      "Name: 3, dtype: object\n"
     ]
    }
   ],
   "source": [
    "# column G (CLIN) has label \"3\"\n",
    "print(df.TPID.str.split(\".\", expand=True,)[3].head(3)) "
   ]
  },
  {
   "cell_type": "code",
   "execution_count": 53,
   "metadata": {
    "collapsed": false
   },
   "outputs": [
    {
     "name": "stdout",
     "output_type": "stream",
     "text": [
      "0    514\n",
      "1    514\n",
      "2    514\n",
      "Name: 4, dtype: object\n"
     ]
    }
   ],
   "source": [
    "# column H (WBS) has label \"3\"\n",
    "print(df.TPID.str.split(\".\", expand=True,)[4].head(3)) "
   ]
  },
  {
   "cell_type": "code",
   "execution_count": 54,
   "metadata": {
    "collapsed": false
   },
   "outputs": [
    {
     "name": "stdout",
     "output_type": "stream",
     "text": [
      "0    13976.00.00.0016.514\n",
      "1    13976.00.00.0016.514\n",
      "2    13976.00.00.0016.514\n",
      "Name: TPID, dtype: object\n"
     ]
    }
   ],
   "source": [
    "# column I\n",
    "print(df['TPID'].head(3)) "
   ]
  },
  {
   "cell_type": "code",
   "execution_count": 55,
   "metadata": {
    "collapsed": false
   },
   "outputs": [
    {
     "name": "stdout",
     "output_type": "stream",
     "text": [
      "0    514\n",
      "1    514\n",
      "2    514\n",
      "Name: TASK, dtype: int64\n"
     ]
    }
   ],
   "source": [
    "# column J\n",
    "print(df['TASK'].head(3))"
   ]
  },
  {
   "cell_type": "code",
   "execution_count": 57,
   "metadata": {
    "collapsed": false
   },
   "outputs": [
    {
     "name": "stdout",
     "output_type": "stream",
     "text": [
      "0    R\n",
      "1    R\n",
      "2    R\n",
      "Name: Pay Type, dtype: object\n"
     ]
    }
   ],
   "source": [
    "# column K\n",
    "print(df['Pay Type'].head(3))"
   ]
  },
  {
   "cell_type": "code",
   "execution_count": 61,
   "metadata": {
    "collapsed": false
   },
   "outputs": [
    {
     "name": "stdout",
     "output_type": "stream",
     "text": [
      "0    FNS\n",
      "1    FNS\n",
      "2    FNS\n",
      "Name: Corporation, dtype: object\n"
     ]
    }
   ],
   "source": [
    "# column L\n",
    "print(df['Corporation'].head(3))"
   ]
  },
  {
   "cell_type": "code",
   "execution_count": 63,
   "metadata": {
    "collapsed": false
   },
   "outputs": [
    {
     "name": "stdout",
     "output_type": "stream",
     "text": [
      "0    FNS\n",
      "1    FNS\n",
      "2    FNS\n",
      "Name: Company Name, dtype: object\n"
     ]
    }
   ],
   "source": [
    "# column M\n",
    "print(df['Company Name'].head(3))"
   ]
  },
  {
   "cell_type": "code",
   "execution_count": 65,
   "metadata": {
    "collapsed": false
   },
   "outputs": [
    {
     "name": "stdout",
     "output_type": "stream",
     "text": [
      "0    S-VAN LUONG\n",
      "1    S-VAN LUONG\n",
      "2    S-VAN LUONG\n",
      "Name: Approver, dtype: object\n"
     ]
    }
   ],
   "source": [
    "# column N\n",
    "print(df['Approver'].head(3))"
   ]
  },
  {
   "cell_type": "code",
   "execution_count": 67,
   "metadata": {
    "collapsed": false
   },
   "outputs": [
    {
     "name": "stdout",
     "output_type": "stream",
     "text": [
      "0    Processed\n",
      "1    Processed\n",
      "2    Processed\n",
      "Name: Status, dtype: object\n"
     ]
    }
   ],
   "source": [
    "# column O\n",
    "print(df['Status'].head(3))"
   ]
  },
  {
   "cell_type": "code",
   "execution_count": 104,
   "metadata": {
    "collapsed": false
   },
   "outputs": [
    {
     "name": "stdout",
     "output_type": "stream",
     "text": [
      "0   9.00\n",
      "1   4.00\n",
      "2   9.00\n",
      "Name: Straight, dtype: float64\n"
     ]
    },
    {
     "data": {
      "text/plain": [
       "count   9.00\n",
       "mean    7.61\n",
       "std     3.34\n",
       "min     0.00\n",
       "25%     9.00\n",
       "50%     9.00\n",
       "75%     9.50\n",
       "max     9.50\n",
       "Name: Straight, dtype: float64"
      ]
     },
     "execution_count": 104,
     "metadata": {},
     "output_type": "execute_result"
    }
   ],
   "source": [
    "# column P\n",
    "print(df['Straight'].head(3))\n",
    "df['Straight'].describe()"
   ]
  },
  {
   "cell_type": "code",
   "execution_count": 105,
   "metadata": {
    "collapsed": false
   },
   "outputs": [
    {
     "name": "stdout",
     "output_type": "stream",
     "text": [
      "0    0\n",
      "1    0\n",
      "2    0\n",
      "Name: Overtime, dtype: int64\n"
     ]
    },
    {
     "data": {
      "text/plain": [
       "count   9.00\n",
       "mean    0.00\n",
       "std     0.00\n",
       "min     0.00\n",
       "25%     0.00\n",
       "50%     0.00\n",
       "75%     0.00\n",
       "max     0.00\n",
       "Name: Overtime, dtype: float64"
      ]
     },
     "execution_count": 105,
     "metadata": {},
     "output_type": "execute_result"
    }
   ],
   "source": [
    "# column Q\n",
    "print(df['Overtime'].head(3))\n",
    "df['Overtime'].describe()"
   ]
  },
  {
   "cell_type": "code",
   "execution_count": 106,
   "metadata": {
    "collapsed": false
   },
   "outputs": [
    {
     "name": "stdout",
     "output_type": "stream",
     "text": [
      "0   9.00\n",
      "1   4.00\n",
      "2   9.00\n",
      "Name: Total, dtype: float64\n"
     ]
    },
    {
     "data": {
      "text/plain": [
       "count   9.00\n",
       "mean    7.61\n",
       "std     3.34\n",
       "min     0.00\n",
       "25%     9.00\n",
       "50%     9.00\n",
       "75%     9.50\n",
       "max     9.50\n",
       "Name: Total, dtype: float64"
      ]
     },
     "execution_count": 106,
     "metadata": {},
     "output_type": "execute_result"
    }
   ],
   "source": [
    "# column R\n",
    "print(df['Total'].head(3))\n",
    "df['Total'].describe()"
   ]
  },
  {
   "cell_type": "code",
   "execution_count": 86,
   "metadata": {
    "collapsed": false
   },
   "outputs": [
    {
     "name": "stdout",
     "output_type": "stream",
     "text": [
      "0    2019-09-09 13:53:00\n",
      "1    2019-09-12 14:24:00\n",
      "2    2019-09-25 14:13:00\n",
      "Name: Date Time Entered, dtype: object\n"
     ]
    }
   ],
   "source": [
    "# column S\n",
    "print(pandas.to_datetime(df['Date Time Entered']).dt.strftime('%Y-%m-%d %h:%m:%s').head(3)) "
   ]
  },
  {
   "cell_type": "code",
   "execution_count": 87,
   "metadata": {
    "collapsed": false
   },
   "outputs": [
    {
     "name": "stdout",
     "output_type": "stream",
     "text": [
      "0    1.01.01.01\n",
      "1    1.01.01.01\n",
      "2    1.01.01.01\n",
      "Name: Org Id, dtype: object\n"
     ]
    }
   ],
   "source": [
    "# column T\n",
    "print(df['Org Id'].head(3))"
   ]
  },
  {
   "cell_type": "code",
   "execution_count": 88,
   "metadata": {
    "collapsed": false
   },
   "outputs": [
    {
     "name": "stdout",
     "output_type": "stream",
     "text": [
      "0    0\n",
      "1    0\n",
      "2    0\n",
      "Name: ProjNo, dtype: int64\n"
     ]
    }
   ],
   "source": [
    "# column U\n",
    "print(df['ProjNo'].head(3))"
   ]
  },
  {
   "cell_type": "code",
   "execution_count": 81,
   "metadata": {
    "collapsed": false
   },
   "outputs": [
    {
     "name": "stdout",
     "output_type": "stream",
     "text": [
      "insert opt yr\n"
     ]
    }
   ],
   "source": [
    "# column V\n",
    "# Opt Yr\n",
    "print('insert opt yr')"
   ]
  },
  {
   "cell_type": "code",
   "execution_count": 108,
   "metadata": {
    "collapsed": false
   },
   "outputs": [
    {
     "name": "stdout",
     "output_type": "stream",
     "text": [
      "                 User  User Id  Work Date\n",
      "0  THOMPSON, MORRIS R    51288   9-Sep-19\n",
      "1  THOMPSON, MORRIS R    51288  13-Sep-19\n",
      "2  THOMPSON, MORRIS R    51288  25-Sep-19\n"
     ]
    }
   ],
   "source": [
    "# write data to csv (default is U:\\Documents)\n",
    "modified_df = df[['User', 'User Id', 'Work Date']]\n",
    "print(modified_df.head(3))\n",
    "modified_df.to_csv('deltek.csv')"
   ]
  },
  {
   "cell_type": "code",
   "execution_count": 99,
   "metadata": {
    "collapsed": false
   },
   "outputs": [
    {
     "name": "stdout",
     "output_type": "stream",
     "text": [
      "0    0016\n",
      "1    0016\n",
      "2    0016\n",
      "Name: 3, dtype: object\n"
     ]
    }
   ],
   "source": [
    "# get clin from tpid\n",
    "clin = df.TPID.str.split(\".\", expand=True,)[3]\n",
    "print(clin.head(3))"
   ]
  },
  {
   "cell_type": "code",
   "execution_count": 102,
   "metadata": {
    "collapsed": false
   },
   "outputs": [
    {
     "name": "stdout",
     "output_type": "stream",
     "text": [
      "0    514\n",
      "1    514\n",
      "2    514\n",
      "Name: 4, dtype: object\n"
     ]
    }
   ],
   "source": [
    "# get wbs from tpid\n",
    "wbs = df.TPID.str.split(\".\", expand=True,)[4]\n",
    "print(wbs.head(3))"
   ]
  },
  {
   "cell_type": "code",
   "execution_count": null,
   "metadata": {
    "collapsed": false
   },
   "outputs": [],
   "source": []
  }
 ],
 "metadata": {
  "anaconda-cloud": {},
  "kernelspec": {
   "display_name": "Python [default]",
   "language": "python",
   "name": "python3"
  },
  "language_info": {
   "codemirror_mode": {
    "name": "ipython",
    "version": 3
   },
   "file_extension": ".py",
   "mimetype": "text/x-python",
   "name": "python",
   "nbconvert_exporter": "python",
   "pygments_lexer": "ipython3",
   "version": "3.5.2"
  }
 },
 "nbformat": 4,
 "nbformat_minor": 1
}
