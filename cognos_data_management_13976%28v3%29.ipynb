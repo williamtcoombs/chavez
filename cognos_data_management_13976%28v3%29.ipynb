{
 "cells": [
  {
   "cell_type": "code",
   "execution_count": 6,
   "metadata": {
    "collapsed": true
   },
   "outputs": [],
   "source": [
    "# chavez & coombs \n",
    "# cognos_data_management_13976(v3).ipynb\n",
    "# 2020-08-14\n",
    "# this script makes cognos-output data compatible with chavez-created analytic processes"
   ]
  },
  {
   "cell_type": "markdown",
   "metadata": {},
   "source": [
    "Steps:\n",
    "1. Download the deltek data as an Excel file\n",
    "2. Save 'AP2 Regular & OT Hours for Adv by CCC_#505ap.xlsx' as a CSV file\n",
    "3. Run the code below"
   ]
  },
  {
   "cell_type": "code",
   "execution_count": 7,
   "metadata": {
    "collapsed": true
   },
   "outputs": [],
   "source": [
    "# to determine conda version or conda and python versions, from a cmd window at the \">\" prompt:\n",
    "# > conda -V\n",
    "#   conda 4.2.9\n",
    "# > python --version\n",
    "#   Python 3.5.2 :: Anaconda 4.2.0 (64-bit)  "
   ]
  },
  {
   "cell_type": "code",
   "execution_count": 8,
   "metadata": {
    "collapsed": false
   },
   "outputs": [],
   "source": [
    "# import modules\n",
    "import pandas\n",
    "import os\n",
    "import sys\n",
    "import gc\n",
    "# import numpy\n",
    "# import matplotlib\n",
    "# import pylab"
   ]
  },
  {
   "cell_type": "code",
   "execution_count": 9,
   "metadata": {
    "collapsed": false
   },
   "outputs": [
    {
     "name": "stdout",
     "output_type": "stream",
     "text": [
      "\\\\ain2\\dfsroot\\userdata48\\willitc0\\Data\n"
     ]
    }
   ],
   "source": [
    "# current working directory\n",
    "print(os.getcwd())"
   ]
  },
  {
   "cell_type": "markdown",
   "metadata": {},
   "source": [
    "\"read_csv() vs read_excel() in pandas: When to use which and why\" by Ashwin A. Vardhan\n",
    "\n",
    "Have you ever wondered if that excel file that you have, can be made to read faster instead of sitting idle for 10 minutes while your code scans through it? I’ll try to answer it here with a personal experience of mine.\n",
    "\n",
    "So, I was performing some operations on an excel file using pandas, whose dimensions were 509579 x 240, and it had a size of 295 MB. However, reading that file took about 528 seconds (average over 10 iterations), whereas, on converting it to csv and reading it (using pandas) took just 13 seconds (again, average over 10 iterations), which is an improvement of about 40 times. As you can observe, the file was too huge, and read_excel is just slower in performance. This has been mentioned on stackoverflow too.\n",
    "\n",
    "So, when will you actually need to convert an excel file to csv before processing it? Usually, if your excel file is small (~100,000 rows, ~50 columns), there won’t be much of a performance issue, unless, you need to run that process very frequently, because, that small delay may get compunded and bite you! But, if your excel file is massive, and you need to process it frequently (or not), it’s better to first convert the excel into a csv, and voila! see the magic happen."
   ]
  },
  {
   "cell_type": "code",
   "execution_count": 10,
   "metadata": {
    "collapsed": false
   },
   "outputs": [],
   "source": [
    "# read data\n",
    "# df = pd.read_csv (r'Path where the CSV file is stored\\File name.csv')\n",
    "data = pandas.read_csv (r'U:\\AP2 Regular & OT Hours for Adv by CCC_#505ap.csv', low_memory=False)"
   ]
  },
  {
   "cell_type": "markdown",
   "metadata": {},
   "source": [
    "Pandas has the following data types:\n",
    "    object\n",
    "    int64\n",
    "    float64\n",
    "    bool\n",
    "    datetime64\n",
    "    timedelta[ns]\n",
    "    category"
   ]
  },
  {
   "cell_type": "code",
   "execution_count": 11,
   "metadata": {
    "collapsed": false
   },
   "outputs": [
    {
     "name": "stdout",
     "output_type": "stream",
     "text": [
      "<class 'pandas.core.frame.DataFrame'>\n",
      "RangeIndex: 224524 entries, 0 to 224523\n",
      "Data columns (total 23 columns):\n",
      "User                 224524 non-null object\n",
      "User Id              224524 non-null object\n",
      "Work Date            224524 non-null object\n",
      "Month                224524 non-null object\n",
      "Description          224524 non-null object\n",
      "REF ID               224524 non-null int64\n",
      "CLIN                 224524 non-null object\n",
      "WBS                  38891 non-null object\n",
      "TASK                 224524 non-null object\n",
      "TPID                 224524 non-null object\n",
      "ProjNo               224524 non-null object\n",
      "WB2                  224524 non-null object\n",
      "Project Id           224524 non-null object\n",
      "Pay Type             224524 non-null object\n",
      "Corporation          224524 non-null object\n",
      "Company Name         224524 non-null object\n",
      "Approver             224524 non-null object\n",
      "Status               224524 non-null object\n",
      "Straight             224524 non-null float64\n",
      "Overtime             224524 non-null float64\n",
      "Total                224524 non-null float64\n",
      "Date Time Entered    224524 non-null object\n",
      "Org Id               224508 non-null object\n",
      "dtypes: float64(3), int64(1), object(19)\n",
      "memory usage: 39.4+ MB\n"
     ]
    }
   ],
   "source": [
    "# check metadata\n",
    "data.info()"
   ]
  },
  {
   "cell_type": "code",
   "execution_count": 12,
   "metadata": {
    "collapsed": false
   },
   "outputs": [
    {
     "data": {
      "text/html": [
       "<div>\n",
       "<table border=\"1\" class=\"dataframe\">\n",
       "  <thead>\n",
       "    <tr style=\"text-align: right;\">\n",
       "      <th></th>\n",
       "      <th>User</th>\n",
       "      <th>Work Date</th>\n",
       "      <th>Description</th>\n",
       "      <th>TPID</th>\n",
       "      <th>Straight</th>\n",
       "      <th>Overtime</th>\n",
       "      <th>Total</th>\n",
       "    </tr>\n",
       "  </thead>\n",
       "  <tbody>\n",
       "    <tr>\n",
       "      <th>0</th>\n",
       "      <td>SCHNEIDER, LAURA E</td>\n",
       "      <td>Jul 14, 2020</td>\n",
       "      <td>Standby Only - COVID-19</td>\n",
       "      <td>13976.00.01.0111.999</td>\n",
       "      <td>0.0</td>\n",
       "      <td>0.0</td>\n",
       "      <td>0.0</td>\n",
       "    </tr>\n",
       "    <tr>\n",
       "      <th>1</th>\n",
       "      <td>SCHNEIDER, LAURA E</td>\n",
       "      <td>Jul 17, 2020</td>\n",
       "      <td>Standby Only - COVID-19</td>\n",
       "      <td>13976.00.01.0111.999</td>\n",
       "      <td>0.0</td>\n",
       "      <td>0.0</td>\n",
       "      <td>0.0</td>\n",
       "    </tr>\n",
       "  </tbody>\n",
       "</table>\n",
       "</div>"
      ],
      "text/plain": [
       "                 User     Work Date              Description  \\\n",
       "0  SCHNEIDER, LAURA E  Jul 14, 2020  Standby Only - COVID-19   \n",
       "1  SCHNEIDER, LAURA E  Jul 17, 2020  Standby Only - COVID-19   \n",
       "\n",
       "                   TPID  Straight  Overtime  Total  \n",
       "0  13976.00.01.0111.999       0.0       0.0    0.0  \n",
       "1  13976.00.01.0111.999       0.0       0.0    0.0  "
      ]
     },
     "execution_count": 12,
     "metadata": {},
     "output_type": "execute_result"
    }
   ],
   "source": [
    "# trim data\n",
    "df = pandas.DataFrame(data, columns= ['User','Work Date', 'Description', 'TPID', 'Straight', 'Overtime', 'Total'])\n",
    "df.head(2)"
   ]
  },
  {
   "cell_type": "code",
   "execution_count": 13,
   "metadata": {
    "collapsed": false
   },
   "outputs": [
    {
     "name": "stdout",
     "output_type": "stream",
     "text": [
      "<class 'pandas.core.frame.DataFrame'>\n",
      "RangeIndex: 224524 entries, 0 to 224523\n",
      "Data columns (total 7 columns):\n",
      "User           224524 non-null object\n",
      "Work Date      224524 non-null object\n",
      "Description    224524 non-null object\n",
      "TPID           224524 non-null object\n",
      "Straight       224524 non-null float64\n",
      "Overtime       224524 non-null float64\n",
      "Total          224524 non-null float64\n",
      "dtypes: float64(3), object(4)\n",
      "memory usage: 12.0+ MB\n"
     ]
    }
   ],
   "source": [
    "# check metadata\n",
    "df.info()"
   ]
  },
  {
   "cell_type": "code",
   "execution_count": 14,
   "metadata": {
    "collapsed": false
   },
   "outputs": [
    {
     "data": {
      "text/plain": [
       "(224524, 7)"
      ]
     },
     "execution_count": 14,
     "metadata": {},
     "output_type": "execute_result"
    }
   ],
   "source": [
    "# check dataframe dimensions (rows x columns)\n",
    "df.shape"
   ]
  },
  {
   "cell_type": "code",
   "execution_count": 15,
   "metadata": {
    "collapsed": true
   },
   "outputs": [],
   "source": [
    "# format data\n",
    "# round floating numbers to two decimal places in python pandas \n",
    "pandas.options.display.float_format = '{:.2f}'.format"
   ]
  },
  {
   "cell_type": "code",
   "execution_count": 16,
   "metadata": {
    "collapsed": false
   },
   "outputs": [
    {
     "data": {
      "text/plain": [
       "User            object\n",
       "Work Date       object\n",
       "Description     object\n",
       "TPID            object\n",
       "Straight       float64\n",
       "Overtime       float64\n",
       "Total          float64\n",
       "dtype: object"
      ]
     },
     "execution_count": 16,
     "metadata": {},
     "output_type": "execute_result"
    }
   ],
   "source": [
    "# check data types\n",
    "df.dtypes"
   ]
  },
  {
   "cell_type": "code",
   "execution_count": 17,
   "metadata": {
    "collapsed": false
   },
   "outputs": [
    {
     "data": {
      "text/html": [
       "<div>\n",
       "<table border=\"1\" class=\"dataframe\">\n",
       "  <thead>\n",
       "    <tr style=\"text-align: right;\">\n",
       "      <th></th>\n",
       "      <th>User</th>\n",
       "      <th>Work Date</th>\n",
       "      <th>Description</th>\n",
       "      <th>CLIN</th>\n",
       "      <th>TPID</th>\n",
       "      <th>Straight</th>\n",
       "      <th>Overtime</th>\n",
       "      <th>Total</th>\n",
       "    </tr>\n",
       "  </thead>\n",
       "  <tbody>\n",
       "    <tr>\n",
       "      <th>0</th>\n",
       "      <td>SCHNEIDER, LAURA E</td>\n",
       "      <td>Jul 14, 2020</td>\n",
       "      <td>Standby Only - COVID-19</td>\n",
       "      <td></td>\n",
       "      <td>13976.00.01.0111.999</td>\n",
       "      <td>0.00</td>\n",
       "      <td>0.00</td>\n",
       "      <td>0.00</td>\n",
       "    </tr>\n",
       "    <tr>\n",
       "      <th>1</th>\n",
       "      <td>SCHNEIDER, LAURA E</td>\n",
       "      <td>Jul 17, 2020</td>\n",
       "      <td>Standby Only - COVID-19</td>\n",
       "      <td></td>\n",
       "      <td>13976.00.01.0111.999</td>\n",
       "      <td>0.00</td>\n",
       "      <td>0.00</td>\n",
       "      <td>0.00</td>\n",
       "    </tr>\n",
       "    <tr>\n",
       "      <th>2</th>\n",
       "      <td>SCHNEIDER, LAURA E</td>\n",
       "      <td>Jul 20, 2020</td>\n",
       "      <td>Standby Only - COVID-19</td>\n",
       "      <td></td>\n",
       "      <td>13976.00.01.0111.999</td>\n",
       "      <td>8.00</td>\n",
       "      <td>0.00</td>\n",
       "      <td>8.00</td>\n",
       "    </tr>\n",
       "  </tbody>\n",
       "</table>\n",
       "</div>"
      ],
      "text/plain": [
       "                 User     Work Date              Description CLIN  \\\n",
       "0  SCHNEIDER, LAURA E  Jul 14, 2020  Standby Only - COVID-19        \n",
       "1  SCHNEIDER, LAURA E  Jul 17, 2020  Standby Only - COVID-19        \n",
       "2  SCHNEIDER, LAURA E  Jul 20, 2020  Standby Only - COVID-19        \n",
       "\n",
       "                   TPID  Straight  Overtime  Total  \n",
       "0  13976.00.01.0111.999      0.00      0.00   0.00  \n",
       "1  13976.00.01.0111.999      0.00      0.00   0.00  \n",
       "2  13976.00.01.0111.999      8.00      0.00   8.00  "
      ]
     },
     "execution_count": 17,
     "metadata": {},
     "output_type": "execute_result"
    }
   ],
   "source": [
    "# add clin placeholder column\n",
    "df.insert(3, 'CLIN', '')\n",
    "df.head(3)"
   ]
  },
  {
   "cell_type": "code",
   "execution_count": 18,
   "metadata": {
    "collapsed": false
   },
   "outputs": [
    {
     "data": {
      "text/html": [
       "<div>\n",
       "<table border=\"1\" class=\"dataframe\">\n",
       "  <thead>\n",
       "    <tr style=\"text-align: right;\">\n",
       "      <th></th>\n",
       "      <th>User</th>\n",
       "      <th>Work Date</th>\n",
       "      <th>Description</th>\n",
       "      <th>CLIN</th>\n",
       "      <th>WBS</th>\n",
       "      <th>TPID</th>\n",
       "      <th>Straight</th>\n",
       "      <th>Overtime</th>\n",
       "      <th>Total</th>\n",
       "    </tr>\n",
       "  </thead>\n",
       "  <tbody>\n",
       "    <tr>\n",
       "      <th>0</th>\n",
       "      <td>SCHNEIDER, LAURA E</td>\n",
       "      <td>Jul 14, 2020</td>\n",
       "      <td>Standby Only - COVID-19</td>\n",
       "      <td></td>\n",
       "      <td></td>\n",
       "      <td>13976.00.01.0111.999</td>\n",
       "      <td>0.00</td>\n",
       "      <td>0.00</td>\n",
       "      <td>0.00</td>\n",
       "    </tr>\n",
       "    <tr>\n",
       "      <th>1</th>\n",
       "      <td>SCHNEIDER, LAURA E</td>\n",
       "      <td>Jul 17, 2020</td>\n",
       "      <td>Standby Only - COVID-19</td>\n",
       "      <td></td>\n",
       "      <td></td>\n",
       "      <td>13976.00.01.0111.999</td>\n",
       "      <td>0.00</td>\n",
       "      <td>0.00</td>\n",
       "      <td>0.00</td>\n",
       "    </tr>\n",
       "    <tr>\n",
       "      <th>2</th>\n",
       "      <td>SCHNEIDER, LAURA E</td>\n",
       "      <td>Jul 20, 2020</td>\n",
       "      <td>Standby Only - COVID-19</td>\n",
       "      <td></td>\n",
       "      <td></td>\n",
       "      <td>13976.00.01.0111.999</td>\n",
       "      <td>8.00</td>\n",
       "      <td>0.00</td>\n",
       "      <td>8.00</td>\n",
       "    </tr>\n",
       "  </tbody>\n",
       "</table>\n",
       "</div>"
      ],
      "text/plain": [
       "                 User     Work Date              Description CLIN WBS  \\\n",
       "0  SCHNEIDER, LAURA E  Jul 14, 2020  Standby Only - COVID-19            \n",
       "1  SCHNEIDER, LAURA E  Jul 17, 2020  Standby Only - COVID-19            \n",
       "2  SCHNEIDER, LAURA E  Jul 20, 2020  Standby Only - COVID-19            \n",
       "\n",
       "                   TPID  Straight  Overtime  Total  \n",
       "0  13976.00.01.0111.999      0.00      0.00   0.00  \n",
       "1  13976.00.01.0111.999      0.00      0.00   0.00  \n",
       "2  13976.00.01.0111.999      8.00      0.00   8.00  "
      ]
     },
     "execution_count": 18,
     "metadata": {},
     "output_type": "execute_result"
    }
   ],
   "source": [
    "# add wbs placeholder column\n",
    "df.insert(4, 'WBS', '')\n",
    "df.head(3)"
   ]
  },
  {
   "cell_type": "code",
   "execution_count": 19,
   "metadata": {
    "collapsed": false
   },
   "outputs": [
    {
     "data": {
      "text/html": [
       "<div>\n",
       "<table border=\"1\" class=\"dataframe\">\n",
       "  <thead>\n",
       "    <tr style=\"text-align: right;\">\n",
       "      <th></th>\n",
       "      <th>User</th>\n",
       "      <th>Work Date</th>\n",
       "      <th>Description</th>\n",
       "      <th>CLIN</th>\n",
       "      <th>WBS</th>\n",
       "      <th>TPID</th>\n",
       "      <th>Straight</th>\n",
       "      <th>Overtime</th>\n",
       "      <th>Total</th>\n",
       "      <th>SR_temp</th>\n",
       "    </tr>\n",
       "  </thead>\n",
       "  <tbody>\n",
       "    <tr>\n",
       "      <th>0</th>\n",
       "      <td>SCHNEIDER, LAURA E</td>\n",
       "      <td>Jul 14, 2020</td>\n",
       "      <td>Standby Only - COVID-19</td>\n",
       "      <td></td>\n",
       "      <td></td>\n",
       "      <td>13976.00.01.0111.999</td>\n",
       "      <td>0.00</td>\n",
       "      <td>0.00</td>\n",
       "      <td>0.00</td>\n",
       "      <td></td>\n",
       "    </tr>\n",
       "    <tr>\n",
       "      <th>1</th>\n",
       "      <td>SCHNEIDER, LAURA E</td>\n",
       "      <td>Jul 17, 2020</td>\n",
       "      <td>Standby Only - COVID-19</td>\n",
       "      <td></td>\n",
       "      <td></td>\n",
       "      <td>13976.00.01.0111.999</td>\n",
       "      <td>0.00</td>\n",
       "      <td>0.00</td>\n",
       "      <td>0.00</td>\n",
       "      <td></td>\n",
       "    </tr>\n",
       "    <tr>\n",
       "      <th>2</th>\n",
       "      <td>SCHNEIDER, LAURA E</td>\n",
       "      <td>Jul 20, 2020</td>\n",
       "      <td>Standby Only - COVID-19</td>\n",
       "      <td></td>\n",
       "      <td></td>\n",
       "      <td>13976.00.01.0111.999</td>\n",
       "      <td>8.00</td>\n",
       "      <td>0.00</td>\n",
       "      <td>8.00</td>\n",
       "      <td></td>\n",
       "    </tr>\n",
       "  </tbody>\n",
       "</table>\n",
       "</div>"
      ],
      "text/plain": [
       "                 User     Work Date              Description CLIN WBS  \\\n",
       "0  SCHNEIDER, LAURA E  Jul 14, 2020  Standby Only - COVID-19            \n",
       "1  SCHNEIDER, LAURA E  Jul 17, 2020  Standby Only - COVID-19            \n",
       "2  SCHNEIDER, LAURA E  Jul 20, 2020  Standby Only - COVID-19            \n",
       "\n",
       "                   TPID  Straight  Overtime  Total SR_temp  \n",
       "0  13976.00.01.0111.999      0.00      0.00   0.00          \n",
       "1  13976.00.01.0111.999      0.00      0.00   0.00          \n",
       "2  13976.00.01.0111.999      8.00      0.00   8.00          "
      ]
     },
     "execution_count": 19,
     "metadata": {},
     "output_type": "execute_result"
    }
   ],
   "source": [
    "# add SR placeholder column\n",
    "df.insert(9, 'SR_temp', '')\n",
    "df.head(3)"
   ]
  },
  {
   "cell_type": "code",
   "execution_count": 20,
   "metadata": {
    "collapsed": false
   },
   "outputs": [
    {
     "data": {
      "text/html": [
       "<div>\n",
       "<table border=\"1\" class=\"dataframe\">\n",
       "  <thead>\n",
       "    <tr style=\"text-align: right;\">\n",
       "      <th></th>\n",
       "      <th>User</th>\n",
       "      <th>Work Date</th>\n",
       "      <th>Description</th>\n",
       "      <th>CLIN</th>\n",
       "      <th>WBS</th>\n",
       "      <th>TPID</th>\n",
       "      <th>Straight</th>\n",
       "      <th>Overtime</th>\n",
       "      <th>Total</th>\n",
       "      <th>SR_temp</th>\n",
       "      <th>OptYr</th>\n",
       "    </tr>\n",
       "  </thead>\n",
       "  <tbody>\n",
       "    <tr>\n",
       "      <th>0</th>\n",
       "      <td>SCHNEIDER, LAURA E</td>\n",
       "      <td>Jul 14, 2020</td>\n",
       "      <td>Standby Only - COVID-19</td>\n",
       "      <td></td>\n",
       "      <td></td>\n",
       "      <td>13976.00.01.0111.999</td>\n",
       "      <td>0.00</td>\n",
       "      <td>0.00</td>\n",
       "      <td>0.00</td>\n",
       "      <td></td>\n",
       "      <td>OY.</td>\n",
       "    </tr>\n",
       "    <tr>\n",
       "      <th>1</th>\n",
       "      <td>SCHNEIDER, LAURA E</td>\n",
       "      <td>Jul 17, 2020</td>\n",
       "      <td>Standby Only - COVID-19</td>\n",
       "      <td></td>\n",
       "      <td></td>\n",
       "      <td>13976.00.01.0111.999</td>\n",
       "      <td>0.00</td>\n",
       "      <td>0.00</td>\n",
       "      <td>0.00</td>\n",
       "      <td></td>\n",
       "      <td>OY.</td>\n",
       "    </tr>\n",
       "    <tr>\n",
       "      <th>2</th>\n",
       "      <td>SCHNEIDER, LAURA E</td>\n",
       "      <td>Jul 20, 2020</td>\n",
       "      <td>Standby Only - COVID-19</td>\n",
       "      <td></td>\n",
       "      <td></td>\n",
       "      <td>13976.00.01.0111.999</td>\n",
       "      <td>8.00</td>\n",
       "      <td>0.00</td>\n",
       "      <td>8.00</td>\n",
       "      <td></td>\n",
       "      <td>OY.</td>\n",
       "    </tr>\n",
       "  </tbody>\n",
       "</table>\n",
       "</div>"
      ],
      "text/plain": [
       "                 User     Work Date              Description CLIN WBS  \\\n",
       "0  SCHNEIDER, LAURA E  Jul 14, 2020  Standby Only - COVID-19            \n",
       "1  SCHNEIDER, LAURA E  Jul 17, 2020  Standby Only - COVID-19            \n",
       "2  SCHNEIDER, LAURA E  Jul 20, 2020  Standby Only - COVID-19            \n",
       "\n",
       "                   TPID  Straight  Overtime  Total SR_temp OptYr  \n",
       "0  13976.00.01.0111.999      0.00      0.00   0.00           OY.  \n",
       "1  13976.00.01.0111.999      0.00      0.00   0.00           OY.  \n",
       "2  13976.00.01.0111.999      8.00      0.00   8.00           OY.  "
      ]
     },
     "execution_count": 20,
     "metadata": {},
     "output_type": "execute_result"
    }
   ],
   "source": [
    "# add option year column\n",
    "df.insert(10, 'OptYr', 'OY.')\n",
    "df.head(3)"
   ]
  },
  {
   "cell_type": "code",
   "execution_count": 21,
   "metadata": {
    "collapsed": false
   },
   "outputs": [
    {
     "name": "stdout",
     "output_type": "stream",
     "text": [
      "<class 'pandas.core.frame.DataFrame'>\n",
      "RangeIndex: 224524 entries, 0 to 224523\n",
      "Data columns (total 11 columns):\n",
      "User           224524 non-null object\n",
      "Work Date      224524 non-null object\n",
      "Description    224524 non-null object\n",
      "CLIN           224524 non-null object\n",
      "WBS            224524 non-null object\n",
      "TPID           224524 non-null object\n",
      "Straight       224524 non-null float64\n",
      "Overtime       224524 non-null float64\n",
      "Total          224524 non-null float64\n",
      "SR_temp        224524 non-null object\n",
      "OptYr          224524 non-null object\n",
      "dtypes: float64(3), object(8)\n",
      "memory usage: 18.8+ MB\n"
     ]
    }
   ],
   "source": [
    "# check metadata\n",
    "df.info()"
   ]
  },
  {
   "cell_type": "code",
   "execution_count": 22,
   "metadata": {
    "collapsed": false
   },
   "outputs": [
    {
     "data": {
      "text/plain": [
       "0    SCHNEIDER, LAURA E\n",
       "1    SCHNEIDER, LAURA E\n",
       "Name: User, dtype: object"
      ]
     },
     "execution_count": 22,
     "metadata": {},
     "output_type": "execute_result"
    }
   ],
   "source": [
    "# column a\n",
    "df['User'].head(2)"
   ]
  },
  {
   "cell_type": "code",
   "execution_count": 23,
   "metadata": {
    "collapsed": false
   },
   "outputs": [
    {
     "data": {
      "text/html": [
       "<div>\n",
       "<table border=\"1\" class=\"dataframe\">\n",
       "  <thead>\n",
       "    <tr style=\"text-align: right;\">\n",
       "      <th></th>\n",
       "      <th>User</th>\n",
       "      <th>Work Date</th>\n",
       "      <th>Description</th>\n",
       "      <th>CLIN</th>\n",
       "      <th>WBS</th>\n",
       "      <th>TPID</th>\n",
       "      <th>Straight</th>\n",
       "      <th>Overtime</th>\n",
       "      <th>Total</th>\n",
       "      <th>SR_temp</th>\n",
       "      <th>OptYr</th>\n",
       "    </tr>\n",
       "  </thead>\n",
       "  <tbody>\n",
       "    <tr>\n",
       "      <th>0</th>\n",
       "      <td>SCHNEIDER, LAURA E</td>\n",
       "      <td>2020-07-14</td>\n",
       "      <td>Standby Only - COVID-19</td>\n",
       "      <td></td>\n",
       "      <td></td>\n",
       "      <td>13976.00.01.0111.999</td>\n",
       "      <td>0.00</td>\n",
       "      <td>0.00</td>\n",
       "      <td>0.00</td>\n",
       "      <td></td>\n",
       "      <td>OY.</td>\n",
       "    </tr>\n",
       "    <tr>\n",
       "      <th>1</th>\n",
       "      <td>SCHNEIDER, LAURA E</td>\n",
       "      <td>2020-07-17</td>\n",
       "      <td>Standby Only - COVID-19</td>\n",
       "      <td></td>\n",
       "      <td></td>\n",
       "      <td>13976.00.01.0111.999</td>\n",
       "      <td>0.00</td>\n",
       "      <td>0.00</td>\n",
       "      <td>0.00</td>\n",
       "      <td></td>\n",
       "      <td>OY.</td>\n",
       "    </tr>\n",
       "  </tbody>\n",
       "</table>\n",
       "</div>"
      ],
      "text/plain": [
       "                 User   Work Date              Description CLIN WBS  \\\n",
       "0  SCHNEIDER, LAURA E  2020-07-14  Standby Only - COVID-19            \n",
       "1  SCHNEIDER, LAURA E  2020-07-17  Standby Only - COVID-19            \n",
       "\n",
       "                   TPID  Straight  Overtime  Total SR_temp OptYr  \n",
       "0  13976.00.01.0111.999      0.00      0.00   0.00           OY.  \n",
       "1  13976.00.01.0111.999      0.00      0.00   0.00           OY.  "
      ]
     },
     "execution_count": 23,
     "metadata": {},
     "output_type": "execute_result"
    }
   ],
   "source": [
    "# column b\n",
    "# modify workdate format\n",
    "df['Work Date'] = pandas.to_datetime(df['Work Date']).dt.strftime('%Y-%m-%d')\n",
    "df.head(2)"
   ]
  },
  {
   "cell_type": "code",
   "execution_count": 24,
   "metadata": {
    "collapsed": false
   },
   "outputs": [
    {
     "data": {
      "text/plain": [
       "0    Standby Only - COVID-19\n",
       "1    Standby Only - COVID-19\n",
       "Name: Description, dtype: object"
      ]
     },
     "execution_count": 24,
     "metadata": {},
     "output_type": "execute_result"
    }
   ],
   "source": [
    "# column c\n",
    "df['Description'].head(2)"
   ]
  },
  {
   "cell_type": "code",
   "execution_count": 25,
   "metadata": {
    "collapsed": false
   },
   "outputs": [
    {
     "data": {
      "text/html": [
       "<div>\n",
       "<table border=\"1\" class=\"dataframe\">\n",
       "  <thead>\n",
       "    <tr style=\"text-align: right;\">\n",
       "      <th></th>\n",
       "      <th>User</th>\n",
       "      <th>Work Date</th>\n",
       "      <th>Description</th>\n",
       "      <th>CLIN</th>\n",
       "      <th>WBS</th>\n",
       "      <th>TPID</th>\n",
       "      <th>Straight</th>\n",
       "      <th>Overtime</th>\n",
       "      <th>Total</th>\n",
       "      <th>SR_temp</th>\n",
       "      <th>OptYr</th>\n",
       "    </tr>\n",
       "  </thead>\n",
       "  <tbody>\n",
       "    <tr>\n",
       "      <th>0</th>\n",
       "      <td>SCHNEIDER, LAURA E</td>\n",
       "      <td>2020-07-14</td>\n",
       "      <td>Standby Only - COVID-19</td>\n",
       "      <td>0111</td>\n",
       "      <td></td>\n",
       "      <td>13976.00.01.0111.999</td>\n",
       "      <td>0.00</td>\n",
       "      <td>0.00</td>\n",
       "      <td>0.00</td>\n",
       "      <td></td>\n",
       "      <td>OY.</td>\n",
       "    </tr>\n",
       "    <tr>\n",
       "      <th>1</th>\n",
       "      <td>SCHNEIDER, LAURA E</td>\n",
       "      <td>2020-07-17</td>\n",
       "      <td>Standby Only - COVID-19</td>\n",
       "      <td>0111</td>\n",
       "      <td></td>\n",
       "      <td>13976.00.01.0111.999</td>\n",
       "      <td>0.00</td>\n",
       "      <td>0.00</td>\n",
       "      <td>0.00</td>\n",
       "      <td></td>\n",
       "      <td>OY.</td>\n",
       "    </tr>\n",
       "  </tbody>\n",
       "</table>\n",
       "</div>"
      ],
      "text/plain": [
       "                 User   Work Date              Description  CLIN WBS  \\\n",
       "0  SCHNEIDER, LAURA E  2020-07-14  Standby Only - COVID-19  0111       \n",
       "1  SCHNEIDER, LAURA E  2020-07-17  Standby Only - COVID-19  0111       \n",
       "\n",
       "                   TPID  Straight  Overtime  Total SR_temp OptYr  \n",
       "0  13976.00.01.0111.999      0.00      0.00   0.00           OY.  \n",
       "1  13976.00.01.0111.999      0.00      0.00   0.00           OY.  "
      ]
     },
     "execution_count": 25,
     "metadata": {},
     "output_type": "execute_result"
    }
   ],
   "source": [
    "# column d\n",
    "# get clin from tpid\n",
    "df['CLIN'] = data.TPID.str.split(\".\", expand=True,)[3]\n",
    "df.head(2)"
   ]
  },
  {
   "cell_type": "code",
   "execution_count": 26,
   "metadata": {
    "collapsed": false
   },
   "outputs": [
    {
     "data": {
      "text/html": [
       "<div>\n",
       "<table border=\"1\" class=\"dataframe\">\n",
       "  <thead>\n",
       "    <tr style=\"text-align: right;\">\n",
       "      <th></th>\n",
       "      <th>User</th>\n",
       "      <th>Work Date</th>\n",
       "      <th>Description</th>\n",
       "      <th>CLIN</th>\n",
       "      <th>WBS</th>\n",
       "      <th>TPID</th>\n",
       "      <th>Straight</th>\n",
       "      <th>Overtime</th>\n",
       "      <th>Total</th>\n",
       "      <th>SR_temp</th>\n",
       "      <th>OptYr</th>\n",
       "    </tr>\n",
       "  </thead>\n",
       "  <tbody>\n",
       "    <tr>\n",
       "      <th>0</th>\n",
       "      <td>SCHNEIDER, LAURA E</td>\n",
       "      <td>2020-07-14</td>\n",
       "      <td>Standby Only - COVID-19</td>\n",
       "      <td>0111</td>\n",
       "      <td>999</td>\n",
       "      <td>13976.00.01.0111.999</td>\n",
       "      <td>0.00</td>\n",
       "      <td>0.00</td>\n",
       "      <td>0.00</td>\n",
       "      <td></td>\n",
       "      <td>OY.</td>\n",
       "    </tr>\n",
       "    <tr>\n",
       "      <th>1</th>\n",
       "      <td>SCHNEIDER, LAURA E</td>\n",
       "      <td>2020-07-17</td>\n",
       "      <td>Standby Only - COVID-19</td>\n",
       "      <td>0111</td>\n",
       "      <td>999</td>\n",
       "      <td>13976.00.01.0111.999</td>\n",
       "      <td>0.00</td>\n",
       "      <td>0.00</td>\n",
       "      <td>0.00</td>\n",
       "      <td></td>\n",
       "      <td>OY.</td>\n",
       "    </tr>\n",
       "  </tbody>\n",
       "</table>\n",
       "</div>"
      ],
      "text/plain": [
       "                 User   Work Date              Description  CLIN  WBS  \\\n",
       "0  SCHNEIDER, LAURA E  2020-07-14  Standby Only - COVID-19  0111  999   \n",
       "1  SCHNEIDER, LAURA E  2020-07-17  Standby Only - COVID-19  0111  999   \n",
       "\n",
       "                   TPID  Straight  Overtime  Total SR_temp OptYr  \n",
       "0  13976.00.01.0111.999      0.00      0.00   0.00           OY.  \n",
       "1  13976.00.01.0111.999      0.00      0.00   0.00           OY.  "
      ]
     },
     "execution_count": 26,
     "metadata": {},
     "output_type": "execute_result"
    }
   ],
   "source": [
    "# column e\n",
    "# get wbs from tpid\n",
    "df['WBS'] = data.TPID.str.split(\".\", expand=True,)[4]\n",
    "df.head(2)"
   ]
  },
  {
   "cell_type": "code",
   "execution_count": 27,
   "metadata": {
    "collapsed": false
   },
   "outputs": [
    {
     "data": {
      "text/html": [
       "<div>\n",
       "<table border=\"1\" class=\"dataframe\">\n",
       "  <thead>\n",
       "    <tr style=\"text-align: right;\">\n",
       "      <th></th>\n",
       "      <th>User</th>\n",
       "      <th>Work Date</th>\n",
       "      <th>Description</th>\n",
       "      <th>CLIN</th>\n",
       "      <th>WBS</th>\n",
       "      <th>TPID</th>\n",
       "      <th>Straight</th>\n",
       "      <th>Overtime</th>\n",
       "      <th>Total</th>\n",
       "      <th>SR_temp</th>\n",
       "      <th>OptYr</th>\n",
       "    </tr>\n",
       "  </thead>\n",
       "  <tbody>\n",
       "    <tr>\n",
       "      <th>0</th>\n",
       "      <td>SCHNEIDER, LAURA E</td>\n",
       "      <td>2020-07-14</td>\n",
       "      <td>Standby Only - COVID-19</td>\n",
       "      <td>0111</td>\n",
       "      <td>999</td>\n",
       "      <td>13976.00.01.0111.999</td>\n",
       "      <td>0.00</td>\n",
       "      <td>0.00</td>\n",
       "      <td>0.00</td>\n",
       "      <td></td>\n",
       "      <td>OY.</td>\n",
       "    </tr>\n",
       "    <tr>\n",
       "      <th>1</th>\n",
       "      <td>SCHNEIDER, LAURA E</td>\n",
       "      <td>2020-07-17</td>\n",
       "      <td>Standby Only - COVID-19</td>\n",
       "      <td>0111</td>\n",
       "      <td>999</td>\n",
       "      <td>13976.00.01.0111.999</td>\n",
       "      <td>0.00</td>\n",
       "      <td>0.00</td>\n",
       "      <td>0.00</td>\n",
       "      <td></td>\n",
       "      <td>OY.</td>\n",
       "    </tr>\n",
       "  </tbody>\n",
       "</table>\n",
       "</div>"
      ],
      "text/plain": [
       "                 User   Work Date              Description  CLIN  WBS  \\\n",
       "0  SCHNEIDER, LAURA E  2020-07-14  Standby Only - COVID-19  0111  999   \n",
       "1  SCHNEIDER, LAURA E  2020-07-17  Standby Only - COVID-19  0111  999   \n",
       "\n",
       "                   TPID  Straight  Overtime  Total SR_temp OptYr  \n",
       "0  13976.00.01.0111.999      0.00      0.00   0.00           OY.  \n",
       "1  13976.00.01.0111.999      0.00      0.00   0.00           OY.  "
      ]
     },
     "execution_count": 27,
     "metadata": {},
     "output_type": "execute_result"
    }
   ],
   "source": [
    "# column f\n",
    "# tpid\n",
    "df.head(2)"
   ]
  },
  {
   "cell_type": "code",
   "execution_count": 28,
   "metadata": {
    "collapsed": false
   },
   "outputs": [],
   "source": [
    "# save syntax to modfiy column order\n",
    "# df = df[['User', 'Work Date', 'Description', 'CLIN', 'WBS', 'TPID', 'Straight', 'Overtime', 'Total', 'SR', 'OptYr']]"
   ]
  },
  {
   "cell_type": "code",
   "execution_count": 29,
   "metadata": {
    "collapsed": false
   },
   "outputs": [
    {
     "name": "stdout",
     "output_type": "stream",
     "text": [
      "<class 'pandas.core.frame.DataFrame'>\n",
      "RangeIndex: 224524 entries, 0 to 224523\n",
      "Data columns (total 11 columns):\n",
      "User           224524 non-null object\n",
      "Work Date      224524 non-null object\n",
      "Description    224524 non-null object\n",
      "CLIN           224524 non-null object\n",
      "WBS            224524 non-null object\n",
      "TPID           224524 non-null object\n",
      "Straight       224524 non-null float64\n",
      "Overtime       224524 non-null float64\n",
      "Total          224524 non-null float64\n",
      "SR_temp        224524 non-null object\n",
      "OptYr          224524 non-null object\n",
      "dtypes: float64(3), object(8)\n",
      "memory usage: 18.8+ MB\n"
     ]
    }
   ],
   "source": [
    "# check metadata\n",
    "df.info()"
   ]
  },
  {
   "cell_type": "code",
   "execution_count": 30,
   "metadata": {
    "collapsed": false
   },
   "outputs": [
    {
     "name": "stdout",
     "output_type": "stream",
     "text": [
      "<class 'pandas.core.frame.DataFrame'>\n",
      "RangeIndex: 224524 entries, 0 to 224523\n",
      "Data columns (total 23 columns):\n",
      "User                 224524 non-null object\n",
      "User Id              224524 non-null object\n",
      "Work Date            224524 non-null object\n",
      "Month                224524 non-null object\n",
      "Description          224524 non-null object\n",
      "REF ID               224524 non-null int64\n",
      "CLIN                 224524 non-null object\n",
      "WBS                  38891 non-null object\n",
      "TASK                 224524 non-null object\n",
      "TPID                 224524 non-null object\n",
      "ProjNo               224524 non-null object\n",
      "WB2                  224524 non-null object\n",
      "Project Id           224524 non-null object\n",
      "Pay Type             224524 non-null object\n",
      "Corporation          224524 non-null object\n",
      "Company Name         224524 non-null object\n",
      "Approver             224524 non-null object\n",
      "Status               224524 non-null object\n",
      "Straight             224524 non-null float64\n",
      "Overtime             224524 non-null float64\n",
      "Total                224524 non-null float64\n",
      "Date Time Entered    224524 non-null object\n",
      "Org Id               224508 non-null object\n",
      "dtypes: float64(3), int64(1), object(19)\n",
      "memory usage: 39.4+ MB\n"
     ]
    }
   ],
   "source": [
    "data.info()"
   ]
  },
  {
   "cell_type": "code",
   "execution_count": 31,
   "metadata": {
    "collapsed": false
   },
   "outputs": [
    {
     "name": "stdout",
     "output_type": "stream",
     "text": [
      "data 287816297\n",
      "df 124849967\n",
      "Straight 1796296\n",
      "TPID 17599580\n"
     ]
    }
   ],
   "source": [
    "# what size are some of the objects?\n",
    "print('data', sys.getsizeof(data))\n",
    "print('df', sys.getsizeof(df))\n",
    "print('Straight', sys.getsizeof(df['Straight']))\n",
    "print('TPID', sys.getsizeof(df['TPID']))"
   ]
  },
  {
   "cell_type": "code",
   "execution_count": 32,
   "metadata": {
    "collapsed": true
   },
   "outputs": [],
   "source": [
    "# delete original dataframe to free up memory\n",
    "del[data]"
   ]
  },
  {
   "cell_type": "code",
   "execution_count": 33,
   "metadata": {
    "collapsed": true
   },
   "outputs": [],
   "source": [
    "# save delete datafrome column syntax\n",
    "# df = df.drop('Company Name', 1)"
   ]
  },
  {
   "cell_type": "code",
   "execution_count": 34,
   "metadata": {
    "collapsed": false
   },
   "outputs": [
    {
     "data": {
      "text/plain": [
       "61"
      ]
     },
     "execution_count": 34,
     "metadata": {},
     "output_type": "execute_result"
    }
   ],
   "source": [
    "gc.collect()"
   ]
  },
  {
   "cell_type": "code",
   "execution_count": 35,
   "metadata": {
    "collapsed": false
   },
   "outputs": [
    {
     "data": {
      "text/plain": [
       "0    20\n",
       "1    20\n",
       "2    20\n",
       "Name: tpid_length, dtype: int64"
      ]
     },
     "execution_count": 35,
     "metadata": {},
     "output_type": "execute_result"
    }
   ],
   "source": [
    "# add tpid character count column\n",
    "df['tpid_length'] = df['TPID'].str.len()\n",
    "df['tpid_length'].head(3)"
   ]
  },
  {
   "cell_type": "code",
   "execution_count": 36,
   "metadata": {
    "collapsed": false
   },
   "outputs": [
    {
     "data": {
      "text/plain": [
       "2338    28\n",
       "2339    28\n",
       "2340    28\n",
       "Name: tpid_length, dtype: int64"
      ]
     },
     "execution_count": 36,
     "metadata": {},
     "output_type": "execute_result"
    }
   ],
   "source": [
    "# where tpid_length = 28\n",
    "df['tpid_length'][df['tpid_length'] == 28].head(3)"
   ]
  },
  {
   "cell_type": "code",
   "execution_count": 37,
   "metadata": {
    "collapsed": false
   },
   "outputs": [
    {
     "data": {
      "text/html": [
       "<div>\n",
       "<table border=\"1\" class=\"dataframe\">\n",
       "  <thead>\n",
       "    <tr style=\"text-align: right;\">\n",
       "      <th></th>\n",
       "      <th>User</th>\n",
       "      <th>Work Date</th>\n",
       "      <th>Description</th>\n",
       "      <th>CLIN</th>\n",
       "      <th>WBS</th>\n",
       "      <th>TPID</th>\n",
       "      <th>Straight</th>\n",
       "      <th>Overtime</th>\n",
       "      <th>Total</th>\n",
       "      <th>SR_temp</th>\n",
       "      <th>OptYr</th>\n",
       "      <th>tpid_length</th>\n",
       "    </tr>\n",
       "  </thead>\n",
       "  <tbody>\n",
       "    <tr>\n",
       "      <th>0</th>\n",
       "      <td>SCHNEIDER, LAURA E</td>\n",
       "      <td>2020-07-14</td>\n",
       "      <td>Standby Only - COVID-19</td>\n",
       "      <td>0111</td>\n",
       "      <td>999</td>\n",
       "      <td>13976.00.01.0111.999</td>\n",
       "      <td>0.00</td>\n",
       "      <td>0.00</td>\n",
       "      <td>0.00</td>\n",
       "      <td></td>\n",
       "      <td>OY.</td>\n",
       "      <td>20</td>\n",
       "    </tr>\n",
       "    <tr>\n",
       "      <th>1</th>\n",
       "      <td>SCHNEIDER, LAURA E</td>\n",
       "      <td>2020-07-17</td>\n",
       "      <td>Standby Only - COVID-19</td>\n",
       "      <td>0111</td>\n",
       "      <td>999</td>\n",
       "      <td>13976.00.01.0111.999</td>\n",
       "      <td>0.00</td>\n",
       "      <td>0.00</td>\n",
       "      <td>0.00</td>\n",
       "      <td></td>\n",
       "      <td>OY.</td>\n",
       "      <td>20</td>\n",
       "    </tr>\n",
       "  </tbody>\n",
       "</table>\n",
       "</div>"
      ],
      "text/plain": [
       "                 User   Work Date              Description  CLIN  WBS  \\\n",
       "0  SCHNEIDER, LAURA E  2020-07-14  Standby Only - COVID-19  0111  999   \n",
       "1  SCHNEIDER, LAURA E  2020-07-17  Standby Only - COVID-19  0111  999   \n",
       "\n",
       "                   TPID  Straight  Overtime  Total SR_temp OptYr  tpid_length  \n",
       "0  13976.00.01.0111.999      0.00      0.00   0.00           OY.           20  \n",
       "1  13976.00.01.0111.999      0.00      0.00   0.00           OY.           20  "
      ]
     },
     "execution_count": 37,
     "metadata": {},
     "output_type": "execute_result"
    }
   ],
   "source": [
    "df.head(2)"
   ]
  },
  {
   "cell_type": "code",
   "execution_count": 38,
   "metadata": {
    "collapsed": false
   },
   "outputs": [
    {
     "data": {
      "text/html": [
       "<div>\n",
       "<table border=\"1\" class=\"dataframe\">\n",
       "  <thead>\n",
       "    <tr style=\"text-align: right;\">\n",
       "      <th></th>\n",
       "      <th>User</th>\n",
       "      <th>Work Date</th>\n",
       "      <th>Description</th>\n",
       "      <th>CLIN</th>\n",
       "      <th>WBS</th>\n",
       "      <th>TPID</th>\n",
       "      <th>Straight</th>\n",
       "      <th>Overtime</th>\n",
       "      <th>Total</th>\n",
       "      <th>SR_temp</th>\n",
       "      <th>OptYr</th>\n",
       "      <th>tpid_length</th>\n",
       "    </tr>\n",
       "  </thead>\n",
       "  <tbody>\n",
       "    <tr>\n",
       "      <th>0</th>\n",
       "      <td>SCHNEIDER, LAURA E</td>\n",
       "      <td>2020-07-14</td>\n",
       "      <td>Standby Only - COVID-19</td>\n",
       "      <td>0111</td>\n",
       "      <td>999</td>\n",
       "      <td>13976.00.01.0111.999</td>\n",
       "      <td>0.00</td>\n",
       "      <td>0.00</td>\n",
       "      <td>0.00</td>\n",
       "      <td></td>\n",
       "      <td>OY.</td>\n",
       "      <td>20</td>\n",
       "    </tr>\n",
       "    <tr>\n",
       "      <th>1</th>\n",
       "      <td>SCHNEIDER, LAURA E</td>\n",
       "      <td>2020-07-17</td>\n",
       "      <td>Standby Only - COVID-19</td>\n",
       "      <td>0111</td>\n",
       "      <td>999</td>\n",
       "      <td>13976.00.01.0111.999</td>\n",
       "      <td>0.00</td>\n",
       "      <td>0.00</td>\n",
       "      <td>0.00</td>\n",
       "      <td></td>\n",
       "      <td>OY.</td>\n",
       "      <td>20</td>\n",
       "    </tr>\n",
       "    <tr>\n",
       "      <th>2</th>\n",
       "      <td>SCHNEIDER, LAURA E</td>\n",
       "      <td>2020-07-20</td>\n",
       "      <td>Standby Only - COVID-19</td>\n",
       "      <td>0111</td>\n",
       "      <td>999</td>\n",
       "      <td>13976.00.01.0111.999</td>\n",
       "      <td>8.00</td>\n",
       "      <td>0.00</td>\n",
       "      <td>8.00</td>\n",
       "      <td></td>\n",
       "      <td>OY.</td>\n",
       "      <td>20</td>\n",
       "    </tr>\n",
       "  </tbody>\n",
       "</table>\n",
       "</div>"
      ],
      "text/plain": [
       "                 User   Work Date              Description  CLIN  WBS  \\\n",
       "0  SCHNEIDER, LAURA E  2020-07-14  Standby Only - COVID-19  0111  999   \n",
       "1  SCHNEIDER, LAURA E  2020-07-17  Standby Only - COVID-19  0111  999   \n",
       "2  SCHNEIDER, LAURA E  2020-07-20  Standby Only - COVID-19  0111  999   \n",
       "\n",
       "                   TPID  Straight  Overtime  Total SR_temp OptYr  tpid_length  \n",
       "0  13976.00.01.0111.999      0.00      0.00   0.00           OY.           20  \n",
       "1  13976.00.01.0111.999      0.00      0.00   0.00           OY.           20  \n",
       "2  13976.00.01.0111.999      8.00      0.00   8.00           OY.           20  "
      ]
     },
     "execution_count": 38,
     "metadata": {},
     "output_type": "execute_result"
    }
   ],
   "source": [
    "# where tpid_length != 28\n",
    "df[df['tpid_length'] != 28].head(3)"
   ]
  },
  {
   "cell_type": "code",
   "execution_count": 39,
   "metadata": {
    "collapsed": false
   },
   "outputs": [
    {
     "data": {
      "text/plain": [
       "(185633, 12)"
      ]
     },
     "execution_count": 39,
     "metadata": {},
     "output_type": "execute_result"
    }
   ],
   "source": [
    "# filter on tpid_length\n",
    "df20 = df[df['tpid_length'] != 28]\n",
    "df20.shape"
   ]
  },
  {
   "cell_type": "code",
   "execution_count": 40,
   "metadata": {
    "collapsed": false
   },
   "outputs": [
    {
     "data": {
      "text/html": [
       "<div>\n",
       "<table border=\"1\" class=\"dataframe\">\n",
       "  <thead>\n",
       "    <tr style=\"text-align: right;\">\n",
       "      <th></th>\n",
       "      <th>User</th>\n",
       "      <th>Work Date</th>\n",
       "      <th>Description</th>\n",
       "      <th>CLIN</th>\n",
       "      <th>WBS</th>\n",
       "      <th>TPID</th>\n",
       "      <th>Straight</th>\n",
       "      <th>Overtime</th>\n",
       "      <th>Total</th>\n",
       "      <th>SR_temp</th>\n",
       "      <th>OptYr</th>\n",
       "      <th>tpid_length</th>\n",
       "    </tr>\n",
       "  </thead>\n",
       "  <tbody>\n",
       "    <tr>\n",
       "      <th>0</th>\n",
       "      <td>SCHNEIDER, LAURA E</td>\n",
       "      <td>2020-07-14</td>\n",
       "      <td>Standby Only - COVID-19</td>\n",
       "      <td>0111</td>\n",
       "      <td>999</td>\n",
       "      <td>13976.00.01.0111.999</td>\n",
       "      <td>0.00</td>\n",
       "      <td>0.00</td>\n",
       "      <td>0.00</td>\n",
       "      <td></td>\n",
       "      <td>OY.</td>\n",
       "      <td>20</td>\n",
       "    </tr>\n",
       "    <tr>\n",
       "      <th>1</th>\n",
       "      <td>SCHNEIDER, LAURA E</td>\n",
       "      <td>2020-07-17</td>\n",
       "      <td>Standby Only - COVID-19</td>\n",
       "      <td>0111</td>\n",
       "      <td>999</td>\n",
       "      <td>13976.00.01.0111.999</td>\n",
       "      <td>0.00</td>\n",
       "      <td>0.00</td>\n",
       "      <td>0.00</td>\n",
       "      <td></td>\n",
       "      <td>OY.</td>\n",
       "      <td>20</td>\n",
       "    </tr>\n",
       "    <tr>\n",
       "      <th>2</th>\n",
       "      <td>SCHNEIDER, LAURA E</td>\n",
       "      <td>2020-07-20</td>\n",
       "      <td>Standby Only - COVID-19</td>\n",
       "      <td>0111</td>\n",
       "      <td>999</td>\n",
       "      <td>13976.00.01.0111.999</td>\n",
       "      <td>8.00</td>\n",
       "      <td>0.00</td>\n",
       "      <td>8.00</td>\n",
       "      <td></td>\n",
       "      <td>OY.</td>\n",
       "      <td>20</td>\n",
       "    </tr>\n",
       "  </tbody>\n",
       "</table>\n",
       "</div>"
      ],
      "text/plain": [
       "                 User   Work Date              Description  CLIN  WBS  \\\n",
       "0  SCHNEIDER, LAURA E  2020-07-14  Standby Only - COVID-19  0111  999   \n",
       "1  SCHNEIDER, LAURA E  2020-07-17  Standby Only - COVID-19  0111  999   \n",
       "2  SCHNEIDER, LAURA E  2020-07-20  Standby Only - COVID-19  0111  999   \n",
       "\n",
       "                   TPID  Straight  Overtime  Total SR_temp OptYr  tpid_length  \n",
       "0  13976.00.01.0111.999      0.00      0.00   0.00           OY.           20  \n",
       "1  13976.00.01.0111.999      0.00      0.00   0.00           OY.           20  \n",
       "2  13976.00.01.0111.999      8.00      0.00   8.00           OY.           20  "
      ]
     },
     "execution_count": 40,
     "metadata": {},
     "output_type": "execute_result"
    }
   ],
   "source": [
    "df20.head(3)"
   ]
  },
  {
   "cell_type": "code",
   "execution_count": 41,
   "metadata": {
    "collapsed": false
   },
   "outputs": [
    {
     "data": {
      "text/plain": [
       "(38891, 12)"
      ]
     },
     "execution_count": 41,
     "metadata": {},
     "output_type": "execute_result"
    }
   ],
   "source": [
    "# filter on tpid_length\n",
    "df28 = df[df['tpid_length'] == 28]\n",
    "df28.shape"
   ]
  },
  {
   "cell_type": "code",
   "execution_count": 42,
   "metadata": {
    "collapsed": false
   },
   "outputs": [
    {
     "data": {
      "text/plain": [
       "461"
      ]
     },
     "execution_count": 42,
     "metadata": {},
     "output_type": "execute_result"
    }
   ],
   "source": [
    "del[df]\n",
    "gc.collect()"
   ]
  },
  {
   "cell_type": "code",
   "execution_count": 43,
   "metadata": {
    "collapsed": false
   },
   "outputs": [
    {
     "data": {
      "text/html": [
       "<div>\n",
       "<table border=\"1\" class=\"dataframe\">\n",
       "  <thead>\n",
       "    <tr style=\"text-align: right;\">\n",
       "      <th></th>\n",
       "      <th>User</th>\n",
       "      <th>Work Date</th>\n",
       "      <th>Description</th>\n",
       "      <th>CLIN</th>\n",
       "      <th>WBS</th>\n",
       "      <th>TPID</th>\n",
       "      <th>Straight</th>\n",
       "      <th>Overtime</th>\n",
       "      <th>Total</th>\n",
       "      <th>SR_temp</th>\n",
       "      <th>SR</th>\n",
       "      <th>OptYr</th>\n",
       "      <th>tpid_length</th>\n",
       "    </tr>\n",
       "  </thead>\n",
       "  <tbody>\n",
       "    <tr>\n",
       "      <th>0</th>\n",
       "      <td>SCHNEIDER, LAURA E</td>\n",
       "      <td>2020-07-14</td>\n",
       "      <td>Standby Only - COVID-19</td>\n",
       "      <td>0111</td>\n",
       "      <td>999</td>\n",
       "      <td>13976.00.01.0111.999</td>\n",
       "      <td>0.00</td>\n",
       "      <td>0.00</td>\n",
       "      <td>0.00</td>\n",
       "      <td></td>\n",
       "      <td>SR-0000000</td>\n",
       "      <td>OY.</td>\n",
       "      <td>20</td>\n",
       "    </tr>\n",
       "    <tr>\n",
       "      <th>1</th>\n",
       "      <td>SCHNEIDER, LAURA E</td>\n",
       "      <td>2020-07-17</td>\n",
       "      <td>Standby Only - COVID-19</td>\n",
       "      <td>0111</td>\n",
       "      <td>999</td>\n",
       "      <td>13976.00.01.0111.999</td>\n",
       "      <td>0.00</td>\n",
       "      <td>0.00</td>\n",
       "      <td>0.00</td>\n",
       "      <td></td>\n",
       "      <td>SR-0000000</td>\n",
       "      <td>OY.</td>\n",
       "      <td>20</td>\n",
       "    </tr>\n",
       "    <tr>\n",
       "      <th>2</th>\n",
       "      <td>SCHNEIDER, LAURA E</td>\n",
       "      <td>2020-07-20</td>\n",
       "      <td>Standby Only - COVID-19</td>\n",
       "      <td>0111</td>\n",
       "      <td>999</td>\n",
       "      <td>13976.00.01.0111.999</td>\n",
       "      <td>8.00</td>\n",
       "      <td>0.00</td>\n",
       "      <td>8.00</td>\n",
       "      <td></td>\n",
       "      <td>SR-0000000</td>\n",
       "      <td>OY.</td>\n",
       "      <td>20</td>\n",
       "    </tr>\n",
       "  </tbody>\n",
       "</table>\n",
       "</div>"
      ],
      "text/plain": [
       "                 User   Work Date              Description  CLIN  WBS  \\\n",
       "0  SCHNEIDER, LAURA E  2020-07-14  Standby Only - COVID-19  0111  999   \n",
       "1  SCHNEIDER, LAURA E  2020-07-17  Standby Only - COVID-19  0111  999   \n",
       "2  SCHNEIDER, LAURA E  2020-07-20  Standby Only - COVID-19  0111  999   \n",
       "\n",
       "                   TPID  Straight  Overtime  Total SR_temp          SR OptYr  \\\n",
       "0  13976.00.01.0111.999      0.00      0.00   0.00          SR-0000000   OY.   \n",
       "1  13976.00.01.0111.999      0.00      0.00   0.00          SR-0000000   OY.   \n",
       "2  13976.00.01.0111.999      8.00      0.00   8.00          SR-0000000   OY.   \n",
       "\n",
       "   tpid_length  \n",
       "0           20  \n",
       "1           20  \n",
       "2           20  "
      ]
     },
     "execution_count": 43,
     "metadata": {},
     "output_type": "execute_result"
    }
   ],
   "source": [
    "# SR column\n",
    "df20.insert(10, 'SR', 'SR-0000000')\n",
    "df20.head(3)"
   ]
  },
  {
   "cell_type": "code",
   "execution_count": 44,
   "metadata": {
    "collapsed": false
   },
   "outputs": [
    {
     "data": {
      "text/html": [
       "<div>\n",
       "<table border=\"1\" class=\"dataframe\">\n",
       "  <thead>\n",
       "    <tr style=\"text-align: right;\">\n",
       "      <th></th>\n",
       "      <th>User</th>\n",
       "      <th>Work Date</th>\n",
       "      <th>Description</th>\n",
       "      <th>CLIN</th>\n",
       "      <th>WBS</th>\n",
       "      <th>TPID</th>\n",
       "      <th>Straight</th>\n",
       "      <th>Overtime</th>\n",
       "      <th>Total</th>\n",
       "      <th>SR</th>\n",
       "      <th>OptYr</th>\n",
       "      <th>tpid_length</th>\n",
       "    </tr>\n",
       "  </thead>\n",
       "  <tbody>\n",
       "    <tr>\n",
       "      <th>0</th>\n",
       "      <td>SCHNEIDER, LAURA E</td>\n",
       "      <td>2020-07-14</td>\n",
       "      <td>Standby Only - COVID-19</td>\n",
       "      <td>0111</td>\n",
       "      <td>999</td>\n",
       "      <td>13976.00.01.0111.999</td>\n",
       "      <td>0.00</td>\n",
       "      <td>0.00</td>\n",
       "      <td>0.00</td>\n",
       "      <td>SR-0000000</td>\n",
       "      <td>OY.</td>\n",
       "      <td>20</td>\n",
       "    </tr>\n",
       "    <tr>\n",
       "      <th>1</th>\n",
       "      <td>SCHNEIDER, LAURA E</td>\n",
       "      <td>2020-07-17</td>\n",
       "      <td>Standby Only - COVID-19</td>\n",
       "      <td>0111</td>\n",
       "      <td>999</td>\n",
       "      <td>13976.00.01.0111.999</td>\n",
       "      <td>0.00</td>\n",
       "      <td>0.00</td>\n",
       "      <td>0.00</td>\n",
       "      <td>SR-0000000</td>\n",
       "      <td>OY.</td>\n",
       "      <td>20</td>\n",
       "    </tr>\n",
       "    <tr>\n",
       "      <th>2</th>\n",
       "      <td>SCHNEIDER, LAURA E</td>\n",
       "      <td>2020-07-20</td>\n",
       "      <td>Standby Only - COVID-19</td>\n",
       "      <td>0111</td>\n",
       "      <td>999</td>\n",
       "      <td>13976.00.01.0111.999</td>\n",
       "      <td>8.00</td>\n",
       "      <td>0.00</td>\n",
       "      <td>8.00</td>\n",
       "      <td>SR-0000000</td>\n",
       "      <td>OY.</td>\n",
       "      <td>20</td>\n",
       "    </tr>\n",
       "  </tbody>\n",
       "</table>\n",
       "</div>"
      ],
      "text/plain": [
       "                 User   Work Date              Description  CLIN  WBS  \\\n",
       "0  SCHNEIDER, LAURA E  2020-07-14  Standby Only - COVID-19  0111  999   \n",
       "1  SCHNEIDER, LAURA E  2020-07-17  Standby Only - COVID-19  0111  999   \n",
       "2  SCHNEIDER, LAURA E  2020-07-20  Standby Only - COVID-19  0111  999   \n",
       "\n",
       "                   TPID  Straight  Overtime  Total          SR OptYr  \\\n",
       "0  13976.00.01.0111.999      0.00      0.00   0.00  SR-0000000   OY.   \n",
       "1  13976.00.01.0111.999      0.00      0.00   0.00  SR-0000000   OY.   \n",
       "2  13976.00.01.0111.999      8.00      0.00   8.00  SR-0000000   OY.   \n",
       "\n",
       "   tpid_length  \n",
       "0           20  \n",
       "1           20  \n",
       "2           20  "
      ]
     },
     "execution_count": 44,
     "metadata": {},
     "output_type": "execute_result"
    }
   ],
   "source": [
    "# delete SR_temp column\n",
    "df20 = df20.drop('SR_temp', 1)\n",
    "df20.head(3)"
   ]
  },
  {
   "cell_type": "code",
   "execution_count": 45,
   "metadata": {
    "collapsed": false
   },
   "outputs": [
    {
     "data": {
      "text/html": [
       "<div>\n",
       "<table border=\"1\" class=\"dataframe\">\n",
       "  <thead>\n",
       "    <tr style=\"text-align: right;\">\n",
       "      <th></th>\n",
       "      <th>User</th>\n",
       "      <th>Work Date</th>\n",
       "      <th>Description</th>\n",
       "      <th>CLIN</th>\n",
       "      <th>WBS</th>\n",
       "      <th>TPID</th>\n",
       "      <th>Straight</th>\n",
       "      <th>Overtime</th>\n",
       "      <th>Total</th>\n",
       "      <th>SR_temp</th>\n",
       "      <th>OptYr</th>\n",
       "      <th>tpid_length</th>\n",
       "    </tr>\n",
       "  </thead>\n",
       "  <tbody>\n",
       "    <tr>\n",
       "      <th>2338</th>\n",
       "      <td>TIMMONS, CARL A</td>\n",
       "      <td>2019-09-23</td>\n",
       "      <td>Installation-Fixed Price</td>\n",
       "      <td>0014</td>\n",
       "      <td>000</td>\n",
       "      <td>13976.00.00.0014.000.5262550</td>\n",
       "      <td>8.00</td>\n",
       "      <td>0.00</td>\n",
       "      <td>8.00</td>\n",
       "      <td></td>\n",
       "      <td>OY.</td>\n",
       "      <td>28</td>\n",
       "    </tr>\n",
       "    <tr>\n",
       "      <th>2339</th>\n",
       "      <td>TIMMONS, CARL A</td>\n",
       "      <td>2019-09-24</td>\n",
       "      <td>Installation-Fixed Price</td>\n",
       "      <td>0014</td>\n",
       "      <td>000</td>\n",
       "      <td>13976.00.00.0014.000.5262550</td>\n",
       "      <td>8.00</td>\n",
       "      <td>0.00</td>\n",
       "      <td>8.00</td>\n",
       "      <td></td>\n",
       "      <td>OY.</td>\n",
       "      <td>28</td>\n",
       "    </tr>\n",
       "    <tr>\n",
       "      <th>2340</th>\n",
       "      <td>TIMMONS, CARL A</td>\n",
       "      <td>2019-09-27</td>\n",
       "      <td>Installation-Fixed Price</td>\n",
       "      <td>0014</td>\n",
       "      <td>000</td>\n",
       "      <td>13976.00.00.0014.000.5262550</td>\n",
       "      <td>8.00</td>\n",
       "      <td>0.00</td>\n",
       "      <td>8.00</td>\n",
       "      <td></td>\n",
       "      <td>OY.</td>\n",
       "      <td>28</td>\n",
       "    </tr>\n",
       "  </tbody>\n",
       "</table>\n",
       "</div>"
      ],
      "text/plain": [
       "                 User   Work Date               Description  CLIN  WBS  \\\n",
       "2338  TIMMONS, CARL A  2019-09-23  Installation-Fixed Price  0014  000   \n",
       "2339  TIMMONS, CARL A  2019-09-24  Installation-Fixed Price  0014  000   \n",
       "2340  TIMMONS, CARL A  2019-09-27  Installation-Fixed Price  0014  000   \n",
       "\n",
       "                              TPID  Straight  Overtime  Total SR_temp OptYr  \\\n",
       "2338  13976.00.00.0014.000.5262550      8.00      0.00   8.00           OY.   \n",
       "2339  13976.00.00.0014.000.5262550      8.00      0.00   8.00           OY.   \n",
       "2340  13976.00.00.0014.000.5262550      8.00      0.00   8.00           OY.   \n",
       "\n",
       "      tpid_length  \n",
       "2338           28  \n",
       "2339           28  \n",
       "2340           28  "
      ]
     },
     "execution_count": 45,
     "metadata": {},
     "output_type": "execute_result"
    }
   ],
   "source": [
    "df28.head(3)"
   ]
  },
  {
   "cell_type": "code",
   "execution_count": 46,
   "metadata": {
    "collapsed": false
   },
   "outputs": [
    {
     "data": {
      "text/html": [
       "<div>\n",
       "<table border=\"1\" class=\"dataframe\">\n",
       "  <thead>\n",
       "    <tr style=\"text-align: right;\">\n",
       "      <th></th>\n",
       "      <th>User</th>\n",
       "      <th>Work Date</th>\n",
       "      <th>Description</th>\n",
       "      <th>CLIN</th>\n",
       "      <th>WBS</th>\n",
       "      <th>TPID</th>\n",
       "      <th>Straight</th>\n",
       "      <th>Overtime</th>\n",
       "      <th>Total</th>\n",
       "      <th>SR_temp</th>\n",
       "      <th>OptYr</th>\n",
       "      <th>tpid_length</th>\n",
       "      <th>SR_no</th>\n",
       "    </tr>\n",
       "  </thead>\n",
       "  <tbody>\n",
       "    <tr>\n",
       "      <th>2338</th>\n",
       "      <td>TIMMONS, CARL A</td>\n",
       "      <td>2019-09-23</td>\n",
       "      <td>Installation-Fixed Price</td>\n",
       "      <td>0014</td>\n",
       "      <td>000</td>\n",
       "      <td>13976.00.00.0014.000.5262550</td>\n",
       "      <td>8.00</td>\n",
       "      <td>0.00</td>\n",
       "      <td>8.00</td>\n",
       "      <td></td>\n",
       "      <td>OY.</td>\n",
       "      <td>28</td>\n",
       "      <td>5262550</td>\n",
       "    </tr>\n",
       "    <tr>\n",
       "      <th>2339</th>\n",
       "      <td>TIMMONS, CARL A</td>\n",
       "      <td>2019-09-24</td>\n",
       "      <td>Installation-Fixed Price</td>\n",
       "      <td>0014</td>\n",
       "      <td>000</td>\n",
       "      <td>13976.00.00.0014.000.5262550</td>\n",
       "      <td>8.00</td>\n",
       "      <td>0.00</td>\n",
       "      <td>8.00</td>\n",
       "      <td></td>\n",
       "      <td>OY.</td>\n",
       "      <td>28</td>\n",
       "      <td>5262550</td>\n",
       "    </tr>\n",
       "    <tr>\n",
       "      <th>2340</th>\n",
       "      <td>TIMMONS, CARL A</td>\n",
       "      <td>2019-09-27</td>\n",
       "      <td>Installation-Fixed Price</td>\n",
       "      <td>0014</td>\n",
       "      <td>000</td>\n",
       "      <td>13976.00.00.0014.000.5262550</td>\n",
       "      <td>8.00</td>\n",
       "      <td>0.00</td>\n",
       "      <td>8.00</td>\n",
       "      <td></td>\n",
       "      <td>OY.</td>\n",
       "      <td>28</td>\n",
       "      <td>5262550</td>\n",
       "    </tr>\n",
       "  </tbody>\n",
       "</table>\n",
       "</div>"
      ],
      "text/plain": [
       "                 User   Work Date               Description  CLIN  WBS  \\\n",
       "2338  TIMMONS, CARL A  2019-09-23  Installation-Fixed Price  0014  000   \n",
       "2339  TIMMONS, CARL A  2019-09-24  Installation-Fixed Price  0014  000   \n",
       "2340  TIMMONS, CARL A  2019-09-27  Installation-Fixed Price  0014  000   \n",
       "\n",
       "                              TPID  Straight  Overtime  Total SR_temp OptYr  \\\n",
       "2338  13976.00.00.0014.000.5262550      8.00      0.00   8.00           OY.   \n",
       "2339  13976.00.00.0014.000.5262550      8.00      0.00   8.00           OY.   \n",
       "2340  13976.00.00.0014.000.5262550      8.00      0.00   8.00           OY.   \n",
       "\n",
       "      tpid_length    SR_no  \n",
       "2338           28  5262550  \n",
       "2339           28  5262550  \n",
       "2340           28  5262550  "
      ]
     },
     "execution_count": 46,
     "metadata": {},
     "output_type": "execute_result"
    }
   ],
   "source": [
    "# get sr from tpid\n",
    "df28['SR_no'] = df28.TPID.str.split(\".\", expand=True,)[5]\n",
    "df28.head(3)"
   ]
  },
  {
   "cell_type": "code",
   "execution_count": 47,
   "metadata": {
    "collapsed": false
   },
   "outputs": [
    {
     "data": {
      "text/html": [
       "<div>\n",
       "<table border=\"1\" class=\"dataframe\">\n",
       "  <thead>\n",
       "    <tr style=\"text-align: right;\">\n",
       "      <th></th>\n",
       "      <th>User</th>\n",
       "      <th>Work Date</th>\n",
       "      <th>Description</th>\n",
       "      <th>CLIN</th>\n",
       "      <th>WBS</th>\n",
       "      <th>TPID</th>\n",
       "      <th>Straight</th>\n",
       "      <th>Overtime</th>\n",
       "      <th>Total</th>\n",
       "      <th>SR_temp</th>\n",
       "      <th>SR_prefix</th>\n",
       "      <th>OptYr</th>\n",
       "      <th>tpid_length</th>\n",
       "      <th>SR_no</th>\n",
       "    </tr>\n",
       "  </thead>\n",
       "  <tbody>\n",
       "    <tr>\n",
       "      <th>2338</th>\n",
       "      <td>TIMMONS, CARL A</td>\n",
       "      <td>2019-09-23</td>\n",
       "      <td>Installation-Fixed Price</td>\n",
       "      <td>0014</td>\n",
       "      <td>000</td>\n",
       "      <td>13976.00.00.0014.000.5262550</td>\n",
       "      <td>8.00</td>\n",
       "      <td>0.00</td>\n",
       "      <td>8.00</td>\n",
       "      <td></td>\n",
       "      <td>SR-</td>\n",
       "      <td>OY.</td>\n",
       "      <td>28</td>\n",
       "      <td>5262550</td>\n",
       "    </tr>\n",
       "    <tr>\n",
       "      <th>2339</th>\n",
       "      <td>TIMMONS, CARL A</td>\n",
       "      <td>2019-09-24</td>\n",
       "      <td>Installation-Fixed Price</td>\n",
       "      <td>0014</td>\n",
       "      <td>000</td>\n",
       "      <td>13976.00.00.0014.000.5262550</td>\n",
       "      <td>8.00</td>\n",
       "      <td>0.00</td>\n",
       "      <td>8.00</td>\n",
       "      <td></td>\n",
       "      <td>SR-</td>\n",
       "      <td>OY.</td>\n",
       "      <td>28</td>\n",
       "      <td>5262550</td>\n",
       "    </tr>\n",
       "    <tr>\n",
       "      <th>2340</th>\n",
       "      <td>TIMMONS, CARL A</td>\n",
       "      <td>2019-09-27</td>\n",
       "      <td>Installation-Fixed Price</td>\n",
       "      <td>0014</td>\n",
       "      <td>000</td>\n",
       "      <td>13976.00.00.0014.000.5262550</td>\n",
       "      <td>8.00</td>\n",
       "      <td>0.00</td>\n",
       "      <td>8.00</td>\n",
       "      <td></td>\n",
       "      <td>SR-</td>\n",
       "      <td>OY.</td>\n",
       "      <td>28</td>\n",
       "      <td>5262550</td>\n",
       "    </tr>\n",
       "  </tbody>\n",
       "</table>\n",
       "</div>"
      ],
      "text/plain": [
       "                 User   Work Date               Description  CLIN  WBS  \\\n",
       "2338  TIMMONS, CARL A  2019-09-23  Installation-Fixed Price  0014  000   \n",
       "2339  TIMMONS, CARL A  2019-09-24  Installation-Fixed Price  0014  000   \n",
       "2340  TIMMONS, CARL A  2019-09-27  Installation-Fixed Price  0014  000   \n",
       "\n",
       "                              TPID  Straight  Overtime  Total SR_temp  \\\n",
       "2338  13976.00.00.0014.000.5262550      8.00      0.00   8.00           \n",
       "2339  13976.00.00.0014.000.5262550      8.00      0.00   8.00           \n",
       "2340  13976.00.00.0014.000.5262550      8.00      0.00   8.00           \n",
       "\n",
       "     SR_prefix OptYr  tpid_length    SR_no  \n",
       "2338       SR-   OY.           28  5262550  \n",
       "2339       SR-   OY.           28  5262550  \n",
       "2340       SR-   OY.           28  5262550  "
      ]
     },
     "execution_count": 47,
     "metadata": {},
     "output_type": "execute_result"
    }
   ],
   "source": [
    "df28.insert(10, 'SR_prefix', 'SR-')\n",
    "df28.head(3)"
   ]
  },
  {
   "cell_type": "code",
   "execution_count": 48,
   "metadata": {
    "collapsed": false
   },
   "outputs": [
    {
     "data": {
      "text/html": [
       "<div>\n",
       "<table border=\"1\" class=\"dataframe\">\n",
       "  <thead>\n",
       "    <tr style=\"text-align: right;\">\n",
       "      <th></th>\n",
       "      <th>User</th>\n",
       "      <th>Work Date</th>\n",
       "      <th>Description</th>\n",
       "      <th>CLIN</th>\n",
       "      <th>WBS</th>\n",
       "      <th>TPID</th>\n",
       "      <th>Straight</th>\n",
       "      <th>Overtime</th>\n",
       "      <th>Total</th>\n",
       "      <th>SR_temp</th>\n",
       "      <th>SR_prefix</th>\n",
       "      <th>OptYr</th>\n",
       "      <th>tpid_length</th>\n",
       "      <th>SR_no</th>\n",
       "      <th>SR</th>\n",
       "    </tr>\n",
       "  </thead>\n",
       "  <tbody>\n",
       "    <tr>\n",
       "      <th>2338</th>\n",
       "      <td>TIMMONS, CARL A</td>\n",
       "      <td>2019-09-23</td>\n",
       "      <td>Installation-Fixed Price</td>\n",
       "      <td>0014</td>\n",
       "      <td>000</td>\n",
       "      <td>13976.00.00.0014.000.5262550</td>\n",
       "      <td>8.00</td>\n",
       "      <td>0.00</td>\n",
       "      <td>8.00</td>\n",
       "      <td></td>\n",
       "      <td>SR-</td>\n",
       "      <td>OY.</td>\n",
       "      <td>28</td>\n",
       "      <td>5262550</td>\n",
       "      <td>SR-5262550</td>\n",
       "    </tr>\n",
       "    <tr>\n",
       "      <th>2339</th>\n",
       "      <td>TIMMONS, CARL A</td>\n",
       "      <td>2019-09-24</td>\n",
       "      <td>Installation-Fixed Price</td>\n",
       "      <td>0014</td>\n",
       "      <td>000</td>\n",
       "      <td>13976.00.00.0014.000.5262550</td>\n",
       "      <td>8.00</td>\n",
       "      <td>0.00</td>\n",
       "      <td>8.00</td>\n",
       "      <td></td>\n",
       "      <td>SR-</td>\n",
       "      <td>OY.</td>\n",
       "      <td>28</td>\n",
       "      <td>5262550</td>\n",
       "      <td>SR-5262550</td>\n",
       "    </tr>\n",
       "    <tr>\n",
       "      <th>2340</th>\n",
       "      <td>TIMMONS, CARL A</td>\n",
       "      <td>2019-09-27</td>\n",
       "      <td>Installation-Fixed Price</td>\n",
       "      <td>0014</td>\n",
       "      <td>000</td>\n",
       "      <td>13976.00.00.0014.000.5262550</td>\n",
       "      <td>8.00</td>\n",
       "      <td>0.00</td>\n",
       "      <td>8.00</td>\n",
       "      <td></td>\n",
       "      <td>SR-</td>\n",
       "      <td>OY.</td>\n",
       "      <td>28</td>\n",
       "      <td>5262550</td>\n",
       "      <td>SR-5262550</td>\n",
       "    </tr>\n",
       "  </tbody>\n",
       "</table>\n",
       "</div>"
      ],
      "text/plain": [
       "                 User   Work Date               Description  CLIN  WBS  \\\n",
       "2338  TIMMONS, CARL A  2019-09-23  Installation-Fixed Price  0014  000   \n",
       "2339  TIMMONS, CARL A  2019-09-24  Installation-Fixed Price  0014  000   \n",
       "2340  TIMMONS, CARL A  2019-09-27  Installation-Fixed Price  0014  000   \n",
       "\n",
       "                              TPID  Straight  Overtime  Total SR_temp  \\\n",
       "2338  13976.00.00.0014.000.5262550      8.00      0.00   8.00           \n",
       "2339  13976.00.00.0014.000.5262550      8.00      0.00   8.00           \n",
       "2340  13976.00.00.0014.000.5262550      8.00      0.00   8.00           \n",
       "\n",
       "     SR_prefix OptYr  tpid_length    SR_no          SR  \n",
       "2338       SR-   OY.           28  5262550  SR-5262550  \n",
       "2339       SR-   OY.           28  5262550  SR-5262550  \n",
       "2340       SR-   OY.           28  5262550  SR-5262550  "
      ]
     },
     "execution_count": 48,
     "metadata": {},
     "output_type": "execute_result"
    }
   ],
   "source": [
    "df28['SR'] = df28['SR_prefix'] + df28['SR_no']\n",
    "df28.head(3)"
   ]
  },
  {
   "cell_type": "code",
   "execution_count": 49,
   "metadata": {
    "collapsed": false
   },
   "outputs": [
    {
     "data": {
      "text/html": [
       "<div>\n",
       "<table border=\"1\" class=\"dataframe\">\n",
       "  <thead>\n",
       "    <tr style=\"text-align: right;\">\n",
       "      <th></th>\n",
       "      <th>User</th>\n",
       "      <th>Work Date</th>\n",
       "      <th>Description</th>\n",
       "      <th>CLIN</th>\n",
       "      <th>WBS</th>\n",
       "      <th>TPID</th>\n",
       "      <th>Straight</th>\n",
       "      <th>Overtime</th>\n",
       "      <th>Total</th>\n",
       "      <th>SR_prefix</th>\n",
       "      <th>OptYr</th>\n",
       "      <th>tpid_length</th>\n",
       "      <th>SR_no</th>\n",
       "      <th>SR</th>\n",
       "    </tr>\n",
       "  </thead>\n",
       "  <tbody>\n",
       "    <tr>\n",
       "      <th>2338</th>\n",
       "      <td>TIMMONS, CARL A</td>\n",
       "      <td>2019-09-23</td>\n",
       "      <td>Installation-Fixed Price</td>\n",
       "      <td>0014</td>\n",
       "      <td>000</td>\n",
       "      <td>13976.00.00.0014.000.5262550</td>\n",
       "      <td>8.00</td>\n",
       "      <td>0.00</td>\n",
       "      <td>8.00</td>\n",
       "      <td>SR-</td>\n",
       "      <td>OY.</td>\n",
       "      <td>28</td>\n",
       "      <td>5262550</td>\n",
       "      <td>SR-5262550</td>\n",
       "    </tr>\n",
       "    <tr>\n",
       "      <th>2339</th>\n",
       "      <td>TIMMONS, CARL A</td>\n",
       "      <td>2019-09-24</td>\n",
       "      <td>Installation-Fixed Price</td>\n",
       "      <td>0014</td>\n",
       "      <td>000</td>\n",
       "      <td>13976.00.00.0014.000.5262550</td>\n",
       "      <td>8.00</td>\n",
       "      <td>0.00</td>\n",
       "      <td>8.00</td>\n",
       "      <td>SR-</td>\n",
       "      <td>OY.</td>\n",
       "      <td>28</td>\n",
       "      <td>5262550</td>\n",
       "      <td>SR-5262550</td>\n",
       "    </tr>\n",
       "    <tr>\n",
       "      <th>2340</th>\n",
       "      <td>TIMMONS, CARL A</td>\n",
       "      <td>2019-09-27</td>\n",
       "      <td>Installation-Fixed Price</td>\n",
       "      <td>0014</td>\n",
       "      <td>000</td>\n",
       "      <td>13976.00.00.0014.000.5262550</td>\n",
       "      <td>8.00</td>\n",
       "      <td>0.00</td>\n",
       "      <td>8.00</td>\n",
       "      <td>SR-</td>\n",
       "      <td>OY.</td>\n",
       "      <td>28</td>\n",
       "      <td>5262550</td>\n",
       "      <td>SR-5262550</td>\n",
       "    </tr>\n",
       "  </tbody>\n",
       "</table>\n",
       "</div>"
      ],
      "text/plain": [
       "                 User   Work Date               Description  CLIN  WBS  \\\n",
       "2338  TIMMONS, CARL A  2019-09-23  Installation-Fixed Price  0014  000   \n",
       "2339  TIMMONS, CARL A  2019-09-24  Installation-Fixed Price  0014  000   \n",
       "2340  TIMMONS, CARL A  2019-09-27  Installation-Fixed Price  0014  000   \n",
       "\n",
       "                              TPID  Straight  Overtime  Total SR_prefix OptYr  \\\n",
       "2338  13976.00.00.0014.000.5262550      8.00      0.00   8.00       SR-   OY.   \n",
       "2339  13976.00.00.0014.000.5262550      8.00      0.00   8.00       SR-   OY.   \n",
       "2340  13976.00.00.0014.000.5262550      8.00      0.00   8.00       SR-   OY.   \n",
       "\n",
       "      tpid_length    SR_no          SR  \n",
       "2338           28  5262550  SR-5262550  \n",
       "2339           28  5262550  SR-5262550  \n",
       "2340           28  5262550  SR-5262550  "
      ]
     },
     "execution_count": 49,
     "metadata": {},
     "output_type": "execute_result"
    }
   ],
   "source": [
    "# delete SR_temp column\n",
    "df28 = df28.drop('SR_temp', 1)\n",
    "df28.head(3)"
   ]
  },
  {
   "cell_type": "code",
   "execution_count": 50,
   "metadata": {
    "collapsed": false
   },
   "outputs": [
    {
     "data": {
      "text/html": [
       "<div>\n",
       "<table border=\"1\" class=\"dataframe\">\n",
       "  <thead>\n",
       "    <tr style=\"text-align: right;\">\n",
       "      <th></th>\n",
       "      <th>User</th>\n",
       "      <th>Work Date</th>\n",
       "      <th>Description</th>\n",
       "      <th>CLIN</th>\n",
       "      <th>WBS</th>\n",
       "      <th>TPID</th>\n",
       "      <th>Straight</th>\n",
       "      <th>Overtime</th>\n",
       "      <th>Total</th>\n",
       "      <th>OptYr</th>\n",
       "      <th>tpid_length</th>\n",
       "      <th>SR_no</th>\n",
       "      <th>SR</th>\n",
       "    </tr>\n",
       "  </thead>\n",
       "  <tbody>\n",
       "    <tr>\n",
       "      <th>2338</th>\n",
       "      <td>TIMMONS, CARL A</td>\n",
       "      <td>2019-09-23</td>\n",
       "      <td>Installation-Fixed Price</td>\n",
       "      <td>0014</td>\n",
       "      <td>000</td>\n",
       "      <td>13976.00.00.0014.000.5262550</td>\n",
       "      <td>8.00</td>\n",
       "      <td>0.00</td>\n",
       "      <td>8.00</td>\n",
       "      <td>OY.</td>\n",
       "      <td>28</td>\n",
       "      <td>5262550</td>\n",
       "      <td>SR-5262550</td>\n",
       "    </tr>\n",
       "    <tr>\n",
       "      <th>2339</th>\n",
       "      <td>TIMMONS, CARL A</td>\n",
       "      <td>2019-09-24</td>\n",
       "      <td>Installation-Fixed Price</td>\n",
       "      <td>0014</td>\n",
       "      <td>000</td>\n",
       "      <td>13976.00.00.0014.000.5262550</td>\n",
       "      <td>8.00</td>\n",
       "      <td>0.00</td>\n",
       "      <td>8.00</td>\n",
       "      <td>OY.</td>\n",
       "      <td>28</td>\n",
       "      <td>5262550</td>\n",
       "      <td>SR-5262550</td>\n",
       "    </tr>\n",
       "    <tr>\n",
       "      <th>2340</th>\n",
       "      <td>TIMMONS, CARL A</td>\n",
       "      <td>2019-09-27</td>\n",
       "      <td>Installation-Fixed Price</td>\n",
       "      <td>0014</td>\n",
       "      <td>000</td>\n",
       "      <td>13976.00.00.0014.000.5262550</td>\n",
       "      <td>8.00</td>\n",
       "      <td>0.00</td>\n",
       "      <td>8.00</td>\n",
       "      <td>OY.</td>\n",
       "      <td>28</td>\n",
       "      <td>5262550</td>\n",
       "      <td>SR-5262550</td>\n",
       "    </tr>\n",
       "  </tbody>\n",
       "</table>\n",
       "</div>"
      ],
      "text/plain": [
       "                 User   Work Date               Description  CLIN  WBS  \\\n",
       "2338  TIMMONS, CARL A  2019-09-23  Installation-Fixed Price  0014  000   \n",
       "2339  TIMMONS, CARL A  2019-09-24  Installation-Fixed Price  0014  000   \n",
       "2340  TIMMONS, CARL A  2019-09-27  Installation-Fixed Price  0014  000   \n",
       "\n",
       "                              TPID  Straight  Overtime  Total OptYr  \\\n",
       "2338  13976.00.00.0014.000.5262550      8.00      0.00   8.00   OY.   \n",
       "2339  13976.00.00.0014.000.5262550      8.00      0.00   8.00   OY.   \n",
       "2340  13976.00.00.0014.000.5262550      8.00      0.00   8.00   OY.   \n",
       "\n",
       "      tpid_length    SR_no          SR  \n",
       "2338           28  5262550  SR-5262550  \n",
       "2339           28  5262550  SR-5262550  \n",
       "2340           28  5262550  SR-5262550  "
      ]
     },
     "execution_count": 50,
     "metadata": {},
     "output_type": "execute_result"
    }
   ],
   "source": [
    "# delete SR_prefix column\n",
    "df28 = df28.drop('SR_prefix', 1)\n",
    "df28.head(3)"
   ]
  },
  {
   "cell_type": "code",
   "execution_count": 51,
   "metadata": {
    "collapsed": false
   },
   "outputs": [
    {
     "data": {
      "text/html": [
       "<div>\n",
       "<table border=\"1\" class=\"dataframe\">\n",
       "  <thead>\n",
       "    <tr style=\"text-align: right;\">\n",
       "      <th></th>\n",
       "      <th>User</th>\n",
       "      <th>Work Date</th>\n",
       "      <th>Description</th>\n",
       "      <th>CLIN</th>\n",
       "      <th>WBS</th>\n",
       "      <th>TPID</th>\n",
       "      <th>Straight</th>\n",
       "      <th>Overtime</th>\n",
       "      <th>Total</th>\n",
       "      <th>OptYr</th>\n",
       "      <th>tpid_length</th>\n",
       "      <th>SR</th>\n",
       "    </tr>\n",
       "  </thead>\n",
       "  <tbody>\n",
       "    <tr>\n",
       "      <th>2338</th>\n",
       "      <td>TIMMONS, CARL A</td>\n",
       "      <td>2019-09-23</td>\n",
       "      <td>Installation-Fixed Price</td>\n",
       "      <td>0014</td>\n",
       "      <td>000</td>\n",
       "      <td>13976.00.00.0014.000.5262550</td>\n",
       "      <td>8.00</td>\n",
       "      <td>0.00</td>\n",
       "      <td>8.00</td>\n",
       "      <td>OY.</td>\n",
       "      <td>28</td>\n",
       "      <td>SR-5262550</td>\n",
       "    </tr>\n",
       "    <tr>\n",
       "      <th>2339</th>\n",
       "      <td>TIMMONS, CARL A</td>\n",
       "      <td>2019-09-24</td>\n",
       "      <td>Installation-Fixed Price</td>\n",
       "      <td>0014</td>\n",
       "      <td>000</td>\n",
       "      <td>13976.00.00.0014.000.5262550</td>\n",
       "      <td>8.00</td>\n",
       "      <td>0.00</td>\n",
       "      <td>8.00</td>\n",
       "      <td>OY.</td>\n",
       "      <td>28</td>\n",
       "      <td>SR-5262550</td>\n",
       "    </tr>\n",
       "    <tr>\n",
       "      <th>2340</th>\n",
       "      <td>TIMMONS, CARL A</td>\n",
       "      <td>2019-09-27</td>\n",
       "      <td>Installation-Fixed Price</td>\n",
       "      <td>0014</td>\n",
       "      <td>000</td>\n",
       "      <td>13976.00.00.0014.000.5262550</td>\n",
       "      <td>8.00</td>\n",
       "      <td>0.00</td>\n",
       "      <td>8.00</td>\n",
       "      <td>OY.</td>\n",
       "      <td>28</td>\n",
       "      <td>SR-5262550</td>\n",
       "    </tr>\n",
       "  </tbody>\n",
       "</table>\n",
       "</div>"
      ],
      "text/plain": [
       "                 User   Work Date               Description  CLIN  WBS  \\\n",
       "2338  TIMMONS, CARL A  2019-09-23  Installation-Fixed Price  0014  000   \n",
       "2339  TIMMONS, CARL A  2019-09-24  Installation-Fixed Price  0014  000   \n",
       "2340  TIMMONS, CARL A  2019-09-27  Installation-Fixed Price  0014  000   \n",
       "\n",
       "                              TPID  Straight  Overtime  Total OptYr  \\\n",
       "2338  13976.00.00.0014.000.5262550      8.00      0.00   8.00   OY.   \n",
       "2339  13976.00.00.0014.000.5262550      8.00      0.00   8.00   OY.   \n",
       "2340  13976.00.00.0014.000.5262550      8.00      0.00   8.00   OY.   \n",
       "\n",
       "      tpid_length          SR  \n",
       "2338           28  SR-5262550  \n",
       "2339           28  SR-5262550  \n",
       "2340           28  SR-5262550  "
      ]
     },
     "execution_count": 51,
     "metadata": {},
     "output_type": "execute_result"
    }
   ],
   "source": [
    "# delete SR_no column\n",
    "df28 = df28.drop('SR_no', 1)\n",
    "df28.head(3)"
   ]
  },
  {
   "cell_type": "code",
   "execution_count": 52,
   "metadata": {
    "collapsed": false
   },
   "outputs": [],
   "source": [
    "# standardize column order\n",
    "df20 = df20[['User', 'Work Date', 'Description', 'CLIN', 'WBS', 'TPID', 'Straight', 'Overtime', 'Total', 'SR', 'OptYr', 'tpid_length']]\n",
    "df28 = df28[['User', 'Work Date', 'Description', 'CLIN', 'WBS', 'TPID', 'Straight', 'Overtime', 'Total', 'SR', 'OptYr', 'tpid_length']]"
   ]
  },
  {
   "cell_type": "code",
   "execution_count": 53,
   "metadata": {
    "collapsed": false
   },
   "outputs": [],
   "source": [
    "# concatenate vertical dataframes\n",
    "df = pandas.concat([df20, df28], axis=0)"
   ]
  },
  {
   "cell_type": "code",
   "execution_count": 54,
   "metadata": {
    "collapsed": false
   },
   "outputs": [
    {
     "data": {
      "text/plain": [
       "(185633, 12)"
      ]
     },
     "execution_count": 54,
     "metadata": {},
     "output_type": "execute_result"
    }
   ],
   "source": [
    "df20.shape"
   ]
  },
  {
   "cell_type": "code",
   "execution_count": 55,
   "metadata": {
    "collapsed": false
   },
   "outputs": [
    {
     "data": {
      "text/plain": [
       "(38891, 12)"
      ]
     },
     "execution_count": 55,
     "metadata": {},
     "output_type": "execute_result"
    }
   ],
   "source": [
    "df28.shape"
   ]
  },
  {
   "cell_type": "code",
   "execution_count": 56,
   "metadata": {
    "collapsed": false
   },
   "outputs": [
    {
     "data": {
      "text/plain": [
       "(224524, 12)"
      ]
     },
     "execution_count": 56,
     "metadata": {},
     "output_type": "execute_result"
    }
   ],
   "source": [
    "# check columns\n",
    "df.shape"
   ]
  },
  {
   "cell_type": "code",
   "execution_count": 57,
   "metadata": {
    "collapsed": true
   },
   "outputs": [],
   "source": [
    "del[df20, df28]"
   ]
  },
  {
   "cell_type": "code",
   "execution_count": 58,
   "metadata": {
    "collapsed": false
   },
   "outputs": [
    {
     "data": {
      "text/plain": [
       "277"
      ]
     },
     "execution_count": 58,
     "metadata": {},
     "output_type": "execute_result"
    }
   ],
   "source": [
    "gc.collect()"
   ]
  },
  {
   "cell_type": "code",
   "execution_count": 59,
   "metadata": {
    "collapsed": false,
    "scrolled": true
   },
   "outputs": [],
   "source": [
    "# write data to csv (default is U:\\Documents)\n",
    "df.to_csv('AP2 Regular & OT Hours for Adv by CCC_#505ap-modified.csv')"
   ]
  },
  {
   "cell_type": "code",
   "execution_count": 60,
   "metadata": {
    "collapsed": false
   },
   "outputs": [
    {
     "name": "stdout",
     "output_type": "stream",
     "text": [
      "<class 'pandas.core.frame.DataFrame'>\n",
      "Int64Index: 224524 entries, 0 to 224482\n",
      "Data columns (total 12 columns):\n",
      "User           224524 non-null object\n",
      "Work Date      224524 non-null object\n",
      "Description    224524 non-null object\n",
      "CLIN           224524 non-null object\n",
      "WBS            224524 non-null object\n",
      "TPID           224524 non-null object\n",
      "Straight       224524 non-null float64\n",
      "Overtime       224524 non-null float64\n",
      "Total          224524 non-null float64\n",
      "SR             224524 non-null object\n",
      "OptYr          224524 non-null object\n",
      "tpid_length    224524 non-null int64\n",
      "dtypes: float64(3), int64(1), object(8)\n",
      "memory usage: 22.3+ MB\n"
     ]
    }
   ],
   "source": [
    "# check metadata\n",
    "df.info()"
   ]
  },
  {
   "cell_type": "code",
   "execution_count": 61,
   "metadata": {
    "collapsed": false
   },
   "outputs": [
    {
     "data": {
      "text/html": [
       "<div>\n",
       "<table border=\"1\" class=\"dataframe\">\n",
       "  <thead>\n",
       "    <tr style=\"text-align: right;\">\n",
       "      <th></th>\n",
       "      <th>User</th>\n",
       "      <th>Work Date</th>\n",
       "      <th>Description</th>\n",
       "      <th>CLIN</th>\n",
       "      <th>WBS</th>\n",
       "      <th>TPID</th>\n",
       "      <th>Straight</th>\n",
       "      <th>Overtime</th>\n",
       "      <th>Total</th>\n",
       "      <th>SR</th>\n",
       "      <th>OptYr</th>\n",
       "      <th>tpid_length</th>\n",
       "    </tr>\n",
       "  </thead>\n",
       "  <tbody>\n",
       "    <tr>\n",
       "      <th>0</th>\n",
       "      <td>SCHNEIDER, LAURA E</td>\n",
       "      <td>2020-07-14</td>\n",
       "      <td>Standby Only - COVID-19</td>\n",
       "      <td>0111</td>\n",
       "      <td>999</td>\n",
       "      <td>13976.00.01.0111.999</td>\n",
       "      <td>0.00</td>\n",
       "      <td>0.00</td>\n",
       "      <td>0.00</td>\n",
       "      <td>SR-0000000</td>\n",
       "      <td>OY.</td>\n",
       "      <td>20</td>\n",
       "    </tr>\n",
       "    <tr>\n",
       "      <th>1</th>\n",
       "      <td>SCHNEIDER, LAURA E</td>\n",
       "      <td>2020-07-17</td>\n",
       "      <td>Standby Only - COVID-19</td>\n",
       "      <td>0111</td>\n",
       "      <td>999</td>\n",
       "      <td>13976.00.01.0111.999</td>\n",
       "      <td>0.00</td>\n",
       "      <td>0.00</td>\n",
       "      <td>0.00</td>\n",
       "      <td>SR-0000000</td>\n",
       "      <td>OY.</td>\n",
       "      <td>20</td>\n",
       "    </tr>\n",
       "    <tr>\n",
       "      <th>2</th>\n",
       "      <td>SCHNEIDER, LAURA E</td>\n",
       "      <td>2020-07-20</td>\n",
       "      <td>Standby Only - COVID-19</td>\n",
       "      <td>0111</td>\n",
       "      <td>999</td>\n",
       "      <td>13976.00.01.0111.999</td>\n",
       "      <td>8.00</td>\n",
       "      <td>0.00</td>\n",
       "      <td>8.00</td>\n",
       "      <td>SR-0000000</td>\n",
       "      <td>OY.</td>\n",
       "      <td>20</td>\n",
       "    </tr>\n",
       "  </tbody>\n",
       "</table>\n",
       "</div>"
      ],
      "text/plain": [
       "                 User   Work Date              Description  CLIN  WBS  \\\n",
       "0  SCHNEIDER, LAURA E  2020-07-14  Standby Only - COVID-19  0111  999   \n",
       "1  SCHNEIDER, LAURA E  2020-07-17  Standby Only - COVID-19  0111  999   \n",
       "2  SCHNEIDER, LAURA E  2020-07-20  Standby Only - COVID-19  0111  999   \n",
       "\n",
       "                   TPID  Straight  Overtime  Total          SR OptYr  \\\n",
       "0  13976.00.01.0111.999      0.00      0.00   0.00  SR-0000000   OY.   \n",
       "1  13976.00.01.0111.999      0.00      0.00   0.00  SR-0000000   OY.   \n",
       "2  13976.00.01.0111.999      8.00      0.00   8.00  SR-0000000   OY.   \n",
       "\n",
       "   tpid_length  \n",
       "0           20  \n",
       "1           20  \n",
       "2           20  "
      ]
     },
     "execution_count": 61,
     "metadata": {},
     "output_type": "execute_result"
    }
   ],
   "source": [
    "# data check\n",
    "df.head(3)"
   ]
  },
  {
   "cell_type": "code",
   "execution_count": 62,
   "metadata": {
    "collapsed": false
   },
   "outputs": [
    {
     "data": {
      "text/html": [
       "<div>\n",
       "<table border=\"1\" class=\"dataframe\">\n",
       "  <thead>\n",
       "    <tr style=\"text-align: right;\">\n",
       "      <th></th>\n",
       "      <th>A</th>\n",
       "      <th>B</th>\n",
       "      <th>C</th>\n",
       "      <th>D</th>\n",
       "    </tr>\n",
       "  </thead>\n",
       "  <tbody>\n",
       "    <tr>\n",
       "      <th>0</th>\n",
       "      <td>0.00</td>\n",
       "      <td>0.00</td>\n",
       "      <td>foo1</td>\n",
       "      <td>2009-01-01</td>\n",
       "    </tr>\n",
       "    <tr>\n",
       "      <th>1</th>\n",
       "      <td>1.00</td>\n",
       "      <td>1.00</td>\n",
       "      <td>foo2</td>\n",
       "      <td>2009-01-02</td>\n",
       "    </tr>\n",
       "    <tr>\n",
       "      <th>2</th>\n",
       "      <td>2.00</td>\n",
       "      <td>0.00</td>\n",
       "      <td>foo3</td>\n",
       "      <td>2009-01-05</td>\n",
       "    </tr>\n",
       "    <tr>\n",
       "      <th>3</th>\n",
       "      <td>3.00</td>\n",
       "      <td>1.00</td>\n",
       "      <td>foo4</td>\n",
       "      <td>2009-01-06</td>\n",
       "    </tr>\n",
       "    <tr>\n",
       "      <th>4</th>\n",
       "      <td>4.00</td>\n",
       "      <td>0.00</td>\n",
       "      <td>foo5</td>\n",
       "      <td>2009-01-07</td>\n",
       "    </tr>\n",
       "  </tbody>\n",
       "</table>\n",
       "</div>"
      ],
      "text/plain": [
       "     A    B     C          D\n",
       "0 0.00 0.00  foo1 2009-01-01\n",
       "1 1.00 1.00  foo2 2009-01-02\n",
       "2 2.00 0.00  foo3 2009-01-05\n",
       "3 3.00 1.00  foo4 2009-01-06\n",
       "4 4.00 0.00  foo5 2009-01-07"
      ]
     },
     "execution_count": 62,
     "metadata": {},
     "output_type": "execute_result"
    }
   ],
   "source": [
    "# tip 1\n",
    "# create dataframe with mixed data types\n",
    "pandas.util.testing.makeMixedDataFrame()"
   ]
  },
  {
   "cell_type": "code",
   "execution_count": 63,
   "metadata": {
    "collapsed": false
   },
   "outputs": [
    {
     "data": {
      "text/html": [
       "<div>\n",
       "<table border=\"1\" class=\"dataframe\">\n",
       "  <thead>\n",
       "    <tr style=\"text-align: right;\">\n",
       "      <th></th>\n",
       "      <th>A</th>\n",
       "      <th>B</th>\n",
       "      <th>C</th>\n",
       "      <th>A2</th>\n",
       "      <th>D</th>\n",
       "    </tr>\n",
       "  </thead>\n",
       "  <tbody>\n",
       "    <tr>\n",
       "      <th>0</th>\n",
       "      <td>0.00</td>\n",
       "      <td>0.00</td>\n",
       "      <td>foo1</td>\n",
       "      <td>0.00</td>\n",
       "      <td>2009-01-01</td>\n",
       "    </tr>\n",
       "    <tr>\n",
       "      <th>1</th>\n",
       "      <td>1.00</td>\n",
       "      <td>1.00</td>\n",
       "      <td>foo2</td>\n",
       "      <td>2.00</td>\n",
       "      <td>2009-01-02</td>\n",
       "    </tr>\n",
       "    <tr>\n",
       "      <th>2</th>\n",
       "      <td>2.00</td>\n",
       "      <td>0.00</td>\n",
       "      <td>foo3</td>\n",
       "      <td>4.00</td>\n",
       "      <td>2009-01-05</td>\n",
       "    </tr>\n",
       "    <tr>\n",
       "      <th>3</th>\n",
       "      <td>3.00</td>\n",
       "      <td>1.00</td>\n",
       "      <td>foo4</td>\n",
       "      <td>6.00</td>\n",
       "      <td>2009-01-06</td>\n",
       "    </tr>\n",
       "    <tr>\n",
       "      <th>4</th>\n",
       "      <td>4.00</td>\n",
       "      <td>0.00</td>\n",
       "      <td>foo5</td>\n",
       "      <td>8.00</td>\n",
       "      <td>2009-01-07</td>\n",
       "    </tr>\n",
       "  </tbody>\n",
       "</table>\n",
       "</div>"
      ],
      "text/plain": [
       "     A    B     C   A2          D\n",
       "0 0.00 0.00  foo1 0.00 2009-01-01\n",
       "1 1.00 1.00  foo2 2.00 2009-01-02\n",
       "2 2.00 0.00  foo3 4.00 2009-01-05\n",
       "3 3.00 1.00  foo4 6.00 2009-01-06\n",
       "4 4.00 0.00  foo5 8.00 2009-01-07"
      ]
     },
     "execution_count": 63,
     "metadata": {},
     "output_type": "execute_result"
    }
   ],
   "source": [
    "# tip 2\n",
    "# insert a new column which is a function of another column\n",
    "dftest = pandas.util.testing.makeMixedDataFrame()\n",
    "#print(dftest)\n",
    "dftest.insert(3, 'A2', dftest['A'] * 2)\n",
    "dftest"
   ]
  },
  {
   "cell_type": "code",
   "execution_count": 64,
   "metadata": {
    "collapsed": false
   },
   "outputs": [
    {
     "data": {
      "text/html": [
       "<div>\n",
       "<table border=\"1\" class=\"dataframe\">\n",
       "  <thead>\n",
       "    <tr style=\"text-align: right;\">\n",
       "      <th></th>\n",
       "      <th>A</th>\n",
       "      <th>B</th>\n",
       "      <th>C</th>\n",
       "      <th>Country</th>\n",
       "      <th>D</th>\n",
       "    </tr>\n",
       "  </thead>\n",
       "  <tbody>\n",
       "    <tr>\n",
       "      <th>0</th>\n",
       "      <td>0.00</td>\n",
       "      <td>0.00</td>\n",
       "      <td>foo1</td>\n",
       "      <td>USA</td>\n",
       "      <td>2009-01-01</td>\n",
       "    </tr>\n",
       "    <tr>\n",
       "      <th>1</th>\n",
       "      <td>1.00</td>\n",
       "      <td>1.00</td>\n",
       "      <td>foo2</td>\n",
       "      <td>USA</td>\n",
       "      <td>2009-01-02</td>\n",
       "    </tr>\n",
       "    <tr>\n",
       "      <th>2</th>\n",
       "      <td>2.00</td>\n",
       "      <td>0.00</td>\n",
       "      <td>foo3</td>\n",
       "      <td>USA</td>\n",
       "      <td>2009-01-05</td>\n",
       "    </tr>\n",
       "    <tr>\n",
       "      <th>3</th>\n",
       "      <td>3.00</td>\n",
       "      <td>1.00</td>\n",
       "      <td>foo4</td>\n",
       "      <td>USA</td>\n",
       "      <td>2009-01-06</td>\n",
       "    </tr>\n",
       "    <tr>\n",
       "      <th>4</th>\n",
       "      <td>4.00</td>\n",
       "      <td>0.00</td>\n",
       "      <td>foo5</td>\n",
       "      <td>USA</td>\n",
       "      <td>2009-01-07</td>\n",
       "    </tr>\n",
       "  </tbody>\n",
       "</table>\n",
       "</div>"
      ],
      "text/plain": [
       "     A    B     C Country          D\n",
       "0 0.00 0.00  foo1     USA 2009-01-01\n",
       "1 1.00 1.00  foo2     USA 2009-01-02\n",
       "2 2.00 0.00  foo3     USA 2009-01-05\n",
       "3 3.00 1.00  foo4     USA 2009-01-06\n",
       "4 4.00 0.00  foo5     USA 2009-01-07"
      ]
     },
     "execution_count": 64,
     "metadata": {},
     "output_type": "execute_result"
    }
   ],
   "source": [
    "# tip 3\n",
    "# insert a new column with a constant value in the column with index 3 (i.e., 4)\n",
    "dftest = pandas.util.testing.makeMixedDataFrame()\n",
    "dftest.insert(3, 'Country', 'USA')\n",
    "dftest"
   ]
  },
  {
   "cell_type": "code",
   "execution_count": 65,
   "metadata": {
    "collapsed": false
   },
   "outputs": [
    {
     "data": {
      "text/html": [
       "<div>\n",
       "<table border=\"1\" class=\"dataframe\">\n",
       "  <thead>\n",
       "    <tr style=\"text-align: right;\">\n",
       "      <th></th>\n",
       "      <th>ID</th>\n",
       "      <th>B</th>\n",
       "      <th>C</th>\n",
       "      <th>Date</th>\n",
       "    </tr>\n",
       "  </thead>\n",
       "  <tbody>\n",
       "    <tr>\n",
       "      <th>0</th>\n",
       "      <td>0.00</td>\n",
       "      <td>0.00</td>\n",
       "      <td>foo1</td>\n",
       "      <td>2009-01-01</td>\n",
       "    </tr>\n",
       "    <tr>\n",
       "      <th>1</th>\n",
       "      <td>1.00</td>\n",
       "      <td>1.00</td>\n",
       "      <td>foo2</td>\n",
       "      <td>2009-01-02</td>\n",
       "    </tr>\n",
       "    <tr>\n",
       "      <th>2</th>\n",
       "      <td>2.00</td>\n",
       "      <td>0.00</td>\n",
       "      <td>foo3</td>\n",
       "      <td>2009-01-05</td>\n",
       "    </tr>\n",
       "    <tr>\n",
       "      <th>3</th>\n",
       "      <td>3.00</td>\n",
       "      <td>1.00</td>\n",
       "      <td>foo4</td>\n",
       "      <td>2009-01-06</td>\n",
       "    </tr>\n",
       "    <tr>\n",
       "      <th>4</th>\n",
       "      <td>4.00</td>\n",
       "      <td>0.00</td>\n",
       "      <td>foo5</td>\n",
       "      <td>2009-01-07</td>\n",
       "    </tr>\n",
       "  </tbody>\n",
       "</table>\n",
       "</div>"
      ],
      "text/plain": [
       "    ID    B     C       Date\n",
       "0 0.00 0.00  foo1 2009-01-01\n",
       "1 1.00 1.00  foo2 2009-01-02\n",
       "2 2.00 0.00  foo3 2009-01-05\n",
       "3 3.00 1.00  foo4 2009-01-06\n",
       "4 4.00 0.00  foo5 2009-01-07"
      ]
     },
     "execution_count": 65,
     "metadata": {},
     "output_type": "execute_result"
    }
   ],
   "source": [
    "# tip 4\n",
    "# change column names\n",
    "dftest = pandas.util.testing.makeMixedDataFrame()\n",
    "dftest\n",
    "dftest.rename(columns={'A':'ID', 'D':'Date'})"
   ]
  },
  {
   "cell_type": "code",
   "execution_count": 66,
   "metadata": {
    "collapsed": false
   },
   "outputs": [
    {
     "data": {
      "text/html": [
       "<div>\n",
       "<table border=\"1\" class=\"dataframe\">\n",
       "  <thead>\n",
       "    <tr style=\"text-align: right;\">\n",
       "      <th></th>\n",
       "      <th>A</th>\n",
       "      <th>B</th>\n",
       "      <th>C</th>\n",
       "      <th>D</th>\n",
       "      <th>E</th>\n",
       "    </tr>\n",
       "  </thead>\n",
       "  <tbody>\n",
       "    <tr>\n",
       "      <th>0</th>\n",
       "      <td>0.00</td>\n",
       "      <td>0.00</td>\n",
       "      <td>foo1</td>\n",
       "      <td>2009-01-01</td>\n",
       "      <td>foo1</td>\n",
       "    </tr>\n",
       "    <tr>\n",
       "      <th>1</th>\n",
       "      <td>1.00</td>\n",
       "      <td>1.00</td>\n",
       "      <td>foo2</td>\n",
       "      <td>2009-01-02</td>\n",
       "      <td>foo2</td>\n",
       "    </tr>\n",
       "    <tr>\n",
       "      <th>2</th>\n",
       "      <td>2.00</td>\n",
       "      <td>0.00</td>\n",
       "      <td>foo3</td>\n",
       "      <td>2009-01-05</td>\n",
       "      <td>foo3</td>\n",
       "    </tr>\n",
       "    <tr>\n",
       "      <th>3</th>\n",
       "      <td>3.00</td>\n",
       "      <td>1.00</td>\n",
       "      <td>foo4</td>\n",
       "      <td>2009-01-06</td>\n",
       "      <td>foo4</td>\n",
       "    </tr>\n",
       "    <tr>\n",
       "      <th>4</th>\n",
       "      <td>4.00</td>\n",
       "      <td>0.00</td>\n",
       "      <td>foo5</td>\n",
       "      <td>2009-01-07</td>\n",
       "      <td>foo5</td>\n",
       "    </tr>\n",
       "  </tbody>\n",
       "</table>\n",
       "</div>"
      ],
      "text/plain": [
       "     A    B     C          D     E\n",
       "0 0.00 0.00  foo1 2009-01-01  foo1\n",
       "1 1.00 1.00  foo2 2009-01-02  foo2\n",
       "2 2.00 0.00  foo3 2009-01-05  foo3\n",
       "3 3.00 1.00  foo4 2009-01-06  foo4\n",
       "4 4.00 0.00  foo5 2009-01-07  foo5"
      ]
     },
     "execution_count": 66,
     "metadata": {},
     "output_type": "execute_result"
    }
   ],
   "source": [
    "# tip 5\n",
    "# duplicate a column\n",
    "dftest = pandas.util.testing.makeMixedDataFrame()\n",
    "dftest['E'] = dftest['C']\n",
    "dftest"
   ]
  },
  {
   "cell_type": "code",
   "execution_count": 67,
   "metadata": {
    "collapsed": false
   },
   "outputs": [
    {
     "name": "stdout",
     "output_type": "stream",
     "text": [
      "A           float64\n",
      "B           float64\n",
      "C            object\n",
      "D    datetime64[ns]\n",
      "dtype: object\n"
     ]
    }
   ],
   "source": [
    "# tip 6\n",
    "# determine dataframe datatypes\n",
    "dftest = pandas.util.testing.makeMixedDataFrame()\n",
    "dataTypeSeries = dftest.dtypes\n",
    "print(dataTypeSeries)"
   ]
  },
  {
   "cell_type": "code",
   "execution_count": 68,
   "metadata": {
    "collapsed": false
   },
   "outputs": [
    {
     "name": "stdout",
     "output_type": "stream",
     "text": [
      "     A    B     C          D\n",
      "0 0.00 0.00  foo1 2009-01-01\n",
      "1 1.00 1.00  foo2 2009-01-02\n",
      "2 2.00 0.00  foo3 2009-01-05\n",
      "3 3.00 1.00  foo4 2009-01-06\n",
      "4 4.00 0.00  foo5 2009-01-07\n",
      "     A    B          D\n",
      "0 0.00 0.00 2009-01-01\n",
      "1 1.00 1.00 2009-01-02\n",
      "2 2.00 0.00 2009-01-05\n",
      "3 3.00 1.00 2009-01-06\n",
      "4 4.00 0.00 2009-01-07\n"
     ]
    }
   ],
   "source": [
    "# tip 7\n",
    "# delete a dataframe column\n",
    "\n",
    "# df = df.drop('column_name', 1)\n",
    "# where 1 is the axis number (0 for rows and 1 for columns.)\n",
    "\n",
    "# To delete the column without having to reassign df you can do:\n",
    "# df.drop('column_name', axis=1, inplace=True)\n",
    "\n",
    "# To drop by column number instead of by column label, try this to delete, e.g. the 1st, 2nd and 4th columns:\n",
    "# df = df.drop(df.columns[[0, 1, 3]], axis=1)  \n",
    "# df.columns is zero-based pd.Index \n",
    "\n",
    "# Working with \"text\" syntax for the columns:\n",
    "# df.drop(['column_nameA', 'column_nameB'], axis=1, inplace=True)\n",
    "\n",
    "dftest = pandas.util.testing.makeMixedDataFrame()\n",
    "print(dftest)\n",
    "dftest = dftest.drop('C', 1)\n",
    "print(dftest)"
   ]
  },
  {
   "cell_type": "code",
   "execution_count": 69,
   "metadata": {
    "collapsed": false
   },
   "outputs": [
    {
     "name": "stdout",
     "output_type": "stream",
     "text": [
      "     A    B     C          D\n",
      "0 0.00 0.00  foo1 2009-01-01\n",
      "1 1.00 1.00  foo2 2009-01-02\n",
      "2 2.00 0.00  foo3 2009-01-05\n",
      "3 3.00 1.00  foo4 2009-01-06\n",
      "4 4.00 0.00  foo5 2009-01-07\n",
      "           D    B     C    A\n",
      "0 2009-01-01 0.00  foo1 0.00\n",
      "1 2009-01-02 1.00  foo2 1.00\n",
      "2 2009-01-05 0.00  foo3 2.00\n",
      "3 2009-01-06 1.00  foo4 3.00\n",
      "4 2009-01-07 0.00  foo5 4.00\n"
     ]
    }
   ],
   "source": [
    "# tip 8\n",
    "# reorder columns (flipflop column a and column d)\n",
    "dftest = pandas.util.testing.makeMixedDataFrame()\n",
    "print(dftest)\n",
    "dftest = dftest[['D','B','C','A']]\n",
    "print(dftest)"
   ]
  },
  {
   "cell_type": "code",
   "execution_count": 70,
   "metadata": {
    "collapsed": false
   },
   "outputs": [
    {
     "data": {
      "text/html": [
       "<div>\n",
       "<table border=\"1\" class=\"dataframe\">\n",
       "  <thead>\n",
       "    <tr style=\"text-align: right;\">\n",
       "      <th></th>\n",
       "      <th>User</th>\n",
       "      <th>Work Date</th>\n",
       "      <th>Description</th>\n",
       "      <th>CLIN</th>\n",
       "      <th>WBS</th>\n",
       "      <th>TPID</th>\n",
       "      <th>Straight</th>\n",
       "      <th>Overtime</th>\n",
       "      <th>Total</th>\n",
       "      <th>SR</th>\n",
       "      <th>OptYr</th>\n",
       "      <th>tpid_length</th>\n",
       "    </tr>\n",
       "  </thead>\n",
       "  <tbody>\n",
       "    <tr>\n",
       "      <th>0</th>\n",
       "      <td>SCHNEIDER, LAURA E</td>\n",
       "      <td>2020-07-14</td>\n",
       "      <td>Standby Only - COVID-19</td>\n",
       "      <td>0111</td>\n",
       "      <td>999</td>\n",
       "      <td>13976.00.01.0111.999</td>\n",
       "      <td>0.00</td>\n",
       "      <td>0.00</td>\n",
       "      <td>0.00</td>\n",
       "      <td>SR-0000000</td>\n",
       "      <td>OY.</td>\n",
       "      <td>20</td>\n",
       "    </tr>\n",
       "    <tr>\n",
       "      <th>1</th>\n",
       "      <td>SCHNEIDER, LAURA E</td>\n",
       "      <td>2020-07-17</td>\n",
       "      <td>Standby Only - COVID-19</td>\n",
       "      <td>0111</td>\n",
       "      <td>999</td>\n",
       "      <td>13976.00.01.0111.999</td>\n",
       "      <td>0.00</td>\n",
       "      <td>0.00</td>\n",
       "      <td>0.00</td>\n",
       "      <td>SR-0000000</td>\n",
       "      <td>OY.</td>\n",
       "      <td>20</td>\n",
       "    </tr>\n",
       "    <tr>\n",
       "      <th>2</th>\n",
       "      <td>SCHNEIDER, LAURA E</td>\n",
       "      <td>2020-07-20</td>\n",
       "      <td>Standby Only - COVID-19</td>\n",
       "      <td>0111</td>\n",
       "      <td>999</td>\n",
       "      <td>13976.00.01.0111.999</td>\n",
       "      <td>8.00</td>\n",
       "      <td>0.00</td>\n",
       "      <td>8.00</td>\n",
       "      <td>SR-0000000</td>\n",
       "      <td>OY.</td>\n",
       "      <td>20</td>\n",
       "    </tr>\n",
       "  </tbody>\n",
       "</table>\n",
       "</div>"
      ],
      "text/plain": [
       "                 User   Work Date              Description  CLIN  WBS  \\\n",
       "0  SCHNEIDER, LAURA E  2020-07-14  Standby Only - COVID-19  0111  999   \n",
       "1  SCHNEIDER, LAURA E  2020-07-17  Standby Only - COVID-19  0111  999   \n",
       "2  SCHNEIDER, LAURA E  2020-07-20  Standby Only - COVID-19  0111  999   \n",
       "\n",
       "                   TPID  Straight  Overtime  Total          SR OptYr  \\\n",
       "0  13976.00.01.0111.999      0.00      0.00   0.00  SR-0000000   OY.   \n",
       "1  13976.00.01.0111.999      0.00      0.00   0.00  SR-0000000   OY.   \n",
       "2  13976.00.01.0111.999      8.00      0.00   8.00  SR-0000000   OY.   \n",
       "\n",
       "   tpid_length  \n",
       "0           20  \n",
       "1           20  \n",
       "2           20  "
      ]
     },
     "execution_count": 70,
     "metadata": {},
     "output_type": "execute_result"
    }
   ],
   "source": [
    "df.head(3)"
   ]
  },
  {
   "cell_type": "code",
   "execution_count": 71,
   "metadata": {
    "collapsed": false
   },
   "outputs": [
    {
     "data": {
      "text/html": [
       "<div>\n",
       "<table border=\"1\" class=\"dataframe\">\n",
       "  <thead>\n",
       "    <tr style=\"text-align: right;\">\n",
       "      <th></th>\n",
       "      <th>User</th>\n",
       "      <th>Work Date</th>\n",
       "      <th>Description</th>\n",
       "      <th>CLIN</th>\n",
       "      <th>WBS</th>\n",
       "      <th>TPID</th>\n",
       "      <th>Straight</th>\n",
       "      <th>Overtime</th>\n",
       "      <th>Total</th>\n",
       "      <th>SR</th>\n",
       "      <th>OptYr</th>\n",
       "    </tr>\n",
       "  </thead>\n",
       "  <tbody>\n",
       "    <tr>\n",
       "      <th>0</th>\n",
       "      <td>SCHNEIDER, LAURA E</td>\n",
       "      <td>2020-07-14</td>\n",
       "      <td>Standby Only - COVID-19</td>\n",
       "      <td>0111</td>\n",
       "      <td>999</td>\n",
       "      <td>13976.00.01.0111.999</td>\n",
       "      <td>0.00</td>\n",
       "      <td>0.00</td>\n",
       "      <td>0.00</td>\n",
       "      <td>SR-0000000</td>\n",
       "      <td>OY.</td>\n",
       "    </tr>\n",
       "    <tr>\n",
       "      <th>1</th>\n",
       "      <td>SCHNEIDER, LAURA E</td>\n",
       "      <td>2020-07-17</td>\n",
       "      <td>Standby Only - COVID-19</td>\n",
       "      <td>0111</td>\n",
       "      <td>999</td>\n",
       "      <td>13976.00.01.0111.999</td>\n",
       "      <td>0.00</td>\n",
       "      <td>0.00</td>\n",
       "      <td>0.00</td>\n",
       "      <td>SR-0000000</td>\n",
       "      <td>OY.</td>\n",
       "    </tr>\n",
       "    <tr>\n",
       "      <th>2</th>\n",
       "      <td>SCHNEIDER, LAURA E</td>\n",
       "      <td>2020-07-20</td>\n",
       "      <td>Standby Only - COVID-19</td>\n",
       "      <td>0111</td>\n",
       "      <td>999</td>\n",
       "      <td>13976.00.01.0111.999</td>\n",
       "      <td>8.00</td>\n",
       "      <td>0.00</td>\n",
       "      <td>8.00</td>\n",
       "      <td>SR-0000000</td>\n",
       "      <td>OY.</td>\n",
       "    </tr>\n",
       "  </tbody>\n",
       "</table>\n",
       "</div>"
      ],
      "text/plain": [
       "                 User   Work Date              Description  CLIN  WBS  \\\n",
       "0  SCHNEIDER, LAURA E  2020-07-14  Standby Only - COVID-19  0111  999   \n",
       "1  SCHNEIDER, LAURA E  2020-07-17  Standby Only - COVID-19  0111  999   \n",
       "2  SCHNEIDER, LAURA E  2020-07-20  Standby Only - COVID-19  0111  999   \n",
       "\n",
       "                   TPID  Straight  Overtime  Total          SR OptYr  \n",
       "0  13976.00.01.0111.999      0.00      0.00   0.00  SR-0000000   OY.  \n",
       "1  13976.00.01.0111.999      0.00      0.00   0.00  SR-0000000   OY.  \n",
       "2  13976.00.01.0111.999      8.00      0.00   8.00  SR-0000000   OY.  "
      ]
     },
     "execution_count": 71,
     "metadata": {},
     "output_type": "execute_result"
    }
   ],
   "source": [
    "# delete tpid_length column\n",
    "df = df.drop('tpid_length', 1)\n",
    "df.head(3)"
   ]
  },
  {
   "cell_type": "code",
   "execution_count": 72,
   "metadata": {
    "collapsed": true
   },
   "outputs": [],
   "source": [
    "df.to_excel (r'U:\\AP2 Regular & OT Hours for Adv by CCC_#505ap-modified.xlsx', index = False, header=True)"
   ]
  }
 ],
 "metadata": {
  "anaconda-cloud": {},
  "kernelspec": {
   "display_name": "Python [default]",
   "language": "python",
   "name": "python3"
  },
  "language_info": {
   "codemirror_mode": {
    "name": "ipython",
    "version": 3
   },
   "file_extension": ".py",
   "mimetype": "text/x-python",
   "name": "python",
   "nbconvert_exporter": "python",
   "pygments_lexer": "ipython3",
   "version": "3.5.2"
  }
 },
 "nbformat": 4,
 "nbformat_minor": 1
}
