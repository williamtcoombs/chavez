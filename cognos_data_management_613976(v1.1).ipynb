{
 "cells": [
  {
   "cell_type": "code",
   "execution_count": 24,
   "metadata": {
    "collapsed": true
   },
   "outputs": [],
   "source": [
    "# chavez & coombs \n",
    "# cognos_data_management_613976(v1).ipynb\n",
    "# 2021-01-04\n",
    "# this script makes cognos-output data compatible with chavez-created analytic processes"
   ]
  },
  {
   "cell_type": "markdown",
   "metadata": {},
   "source": [
    "Steps:\n",
    "1. Download the deltek data as an Excel file\n",
    "2. Save 'AP2 Regular & OT Hours for Adv by CCC_#505ap.xlsx' as a CSV file\n",
    "3. Run the code below"
   ]
  },
  {
   "cell_type": "code",
   "execution_count": 25,
   "metadata": {
    "collapsed": true
   },
   "outputs": [],
   "source": [
    "# to determine conda version or conda and python versions, from a cmd window at the \">\" prompt:\n",
    "# > conda -V\n",
    "#   conda 4.2.9\n",
    "# > python --version\n",
    "#   Python 3.5.2 :: Anaconda 4.2.0 (64-bit)  "
   ]
  },
  {
   "cell_type": "code",
   "execution_count": 26,
   "metadata": {
    "collapsed": false
   },
   "outputs": [],
   "source": [
    "# import modules\n",
    "import pandas\n",
    "import os\n",
    "import sys\n",
    "import gc\n",
    "# import numpy\n",
    "# import matplotlib\n",
    "# import pylab"
   ]
  },
  {
   "cell_type": "code",
   "execution_count": 27,
   "metadata": {
    "collapsed": false
   },
   "outputs": [
    {
     "name": "stdout",
     "output_type": "stream",
     "text": [
      "\\\\ain2\\dfsroot\\userdata48\\willitc0\\Data\n"
     ]
    }
   ],
   "source": [
    "# current working directory\n",
    "print(os.getcwd())"
   ]
  },
  {
   "cell_type": "markdown",
   "metadata": {},
   "source": [
    "\"read_csv() vs read_excel() in pandas: When to use which and why\" by Ashwin A. Vardhan\n",
    "\n",
    "Have you ever wondered if that excel file that you have, can be made to read faster instead of sitting idle for 10 minutes while your code scans through it? I’ll try to answer it here with a personal experience of mine.\n",
    "\n",
    "So, I was performing some operations on an excel file using pandas, whose dimensions were 509579 x 240, and it had a size of 295 MB. However, reading that file took about 528 seconds (average over 10 iterations), whereas, on converting it to csv and reading it (using pandas) took just 13 seconds (again, average over 10 iterations), which is an improvement of about 40 times. As you can observe, the file was too huge, and read_excel is just slower in performance. This has been mentioned on stackoverflow too.\n",
    "\n",
    "So, when will you actually need to convert an excel file to csv before processing it? Usually, if your excel file is small (~100,000 rows, ~50 columns), there won’t be much of a performance issue, unless, you need to run that process very frequently, because, that small delay may get compunded and bite you! But, if your excel file is massive, and you need to process it frequently (or not), it’s better to first convert the excel into a csv, and voila! see the magic happen."
   ]
  },
  {
   "cell_type": "code",
   "execution_count": 28,
   "metadata": {
    "collapsed": false
   },
   "outputs": [],
   "source": [
    "# read data\n",
    "# df = pd.read_csv (r'Path where the CSV file is stored\\File name.csv')\n",
    "data = pandas.read_csv (r'U:\\613976 Regular & OT Hours for Adv by CCC_#505 including Project_Id 122920.csv', low_memory=False)"
   ]
  },
  {
   "cell_type": "markdown",
   "metadata": {},
   "source": [
    "Pandas has the following data types:\n",
    "    object\n",
    "    int64\n",
    "    float64\n",
    "    bool\n",
    "    datetime64\n",
    "    timedelta[ns]\n",
    "    category"
   ]
  },
  {
   "cell_type": "code",
   "execution_count": 29,
   "metadata": {
    "collapsed": false
   },
   "outputs": [
    {
     "name": "stdout",
     "output_type": "stream",
     "text": [
      "<class 'pandas.core.frame.DataFrame'>\n",
      "RangeIndex: 35924 entries, 0 to 35923\n",
      "Data columns (total 23 columns):\n",
      "User                         35924 non-null object\n",
      "User ID                      35924 non-null object\n",
      "Work Date                    35924 non-null object\n",
      "Timesheet Period End Date    35924 non-null object\n",
      "WBS                          0 non-null float64\n",
      "Description                  35924 non-null object\n",
      "Timesheet Class              35924 non-null object\n",
      "Project ID                   35924 non-null object\n",
      "Pay Type                     35924 non-null object\n",
      "Vendor ID                    9490 non-null object\n",
      "Corporation                  35924 non-null object\n",
      "Org ID                       35924 non-null object\n",
      "Company Name                 35924 non-null object\n",
      "SUP_EMPL_GROUP_CD            0 non-null float64\n",
      "SUP_EMPL_GROUP_DESC          0 non-null float64\n",
      "MGR_EMPL_GROUP_CD            34660 non-null object\n",
      "MGR_EMPL_GROUP_DESC          34660 non-null object\n",
      "Status                       35924 non-null object\n",
      "Straight                     35924 non-null float64\n",
      "Overtime                     35924 non-null float64\n",
      "Total                        35924 non-null float64\n",
      "Date Time Entered            35924 non-null object\n",
      "CCC                          26045 non-null object\n",
      "dtypes: float64(6), object(17)\n",
      "memory usage: 6.3+ MB\n"
     ]
    }
   ],
   "source": [
    "# check metadata\n",
    "data.info()"
   ]
  },
  {
   "cell_type": "code",
   "execution_count": 30,
   "metadata": {
    "collapsed": false
   },
   "outputs": [
    {
     "data": {
      "text/html": [
       "<div>\n",
       "<table border=\"1\" class=\"dataframe\">\n",
       "  <thead>\n",
       "    <tr style=\"text-align: right;\">\n",
       "      <th></th>\n",
       "      <th>User</th>\n",
       "      <th>Work Date</th>\n",
       "      <th>Description</th>\n",
       "      <th>Project ID</th>\n",
       "      <th>Straight</th>\n",
       "      <th>Overtime</th>\n",
       "      <th>Total</th>\n",
       "    </tr>\n",
       "  </thead>\n",
       "  <tbody>\n",
       "    <tr>\n",
       "      <th>0</th>\n",
       "      <td>Schneider, Laura E</td>\n",
       "      <td>10-6-20</td>\n",
       "      <td>Software Services</td>\n",
       "      <td>613976.00.01.0111.509</td>\n",
       "      <td>10.00</td>\n",
       "      <td>0.00</td>\n",
       "      <td>10.00</td>\n",
       "    </tr>\n",
       "    <tr>\n",
       "      <th>1</th>\n",
       "      <td>Schneider, Laura E</td>\n",
       "      <td>10-7-20</td>\n",
       "      <td>Software Services</td>\n",
       "      <td>613976.00.01.0111.509</td>\n",
       "      <td>10.00</td>\n",
       "      <td>0.00</td>\n",
       "      <td>10.00</td>\n",
       "    </tr>\n",
       "  </tbody>\n",
       "</table>\n",
       "</div>"
      ],
      "text/plain": [
       "                 User Work Date        Description             Project ID  \\\n",
       "0  Schneider, Laura E   10-6-20  Software Services  613976.00.01.0111.509   \n",
       "1  Schneider, Laura E   10-7-20  Software Services  613976.00.01.0111.509   \n",
       "\n",
       "   Straight  Overtime  Total  \n",
       "0     10.00      0.00  10.00  \n",
       "1     10.00      0.00  10.00  "
      ]
     },
     "execution_count": 30,
     "metadata": {},
     "output_type": "execute_result"
    }
   ],
   "source": [
    "# trim data\n",
    "df = pandas.DataFrame(data, columns= ['User','Work Date', 'Description', 'Project ID', 'Straight', 'Overtime', 'Total'])\n",
    "df.head(2)"
   ]
  },
  {
   "cell_type": "code",
   "execution_count": 31,
   "metadata": {
    "collapsed": false
   },
   "outputs": [
    {
     "name": "stdout",
     "output_type": "stream",
     "text": [
      "<class 'pandas.core.frame.DataFrame'>\n",
      "RangeIndex: 35924 entries, 0 to 35923\n",
      "Data columns (total 7 columns):\n",
      "User           35924 non-null object\n",
      "Work Date      35924 non-null object\n",
      "Description    35924 non-null object\n",
      "Project ID     35924 non-null object\n",
      "Straight       35924 non-null float64\n",
      "Overtime       35924 non-null float64\n",
      "Total          35924 non-null float64\n",
      "dtypes: float64(3), object(4)\n",
      "memory usage: 1.9+ MB\n"
     ]
    }
   ],
   "source": [
    "# check metadata\n",
    "df.info()"
   ]
  },
  {
   "cell_type": "code",
   "execution_count": 32,
   "metadata": {
    "collapsed": false
   },
   "outputs": [
    {
     "data": {
      "text/plain": [
       "(35924, 7)"
      ]
     },
     "execution_count": 32,
     "metadata": {},
     "output_type": "execute_result"
    }
   ],
   "source": [
    "# check dataframe dimensions (rows x columns)\n",
    "df.shape"
   ]
  },
  {
   "cell_type": "code",
   "execution_count": 33,
   "metadata": {
    "collapsed": true
   },
   "outputs": [],
   "source": [
    "# format data\n",
    "# round floating numbers to two decimal places in python pandas \n",
    "pandas.options.display.float_format = '{:.2f}'.format"
   ]
  },
  {
   "cell_type": "code",
   "execution_count": 34,
   "metadata": {
    "collapsed": false
   },
   "outputs": [
    {
     "data": {
      "text/plain": [
       "User            object\n",
       "Work Date       object\n",
       "Description     object\n",
       "Project ID      object\n",
       "Straight       float64\n",
       "Overtime       float64\n",
       "Total          float64\n",
       "dtype: object"
      ]
     },
     "execution_count": 34,
     "metadata": {},
     "output_type": "execute_result"
    }
   ],
   "source": [
    "# check data types\n",
    "df.dtypes"
   ]
  },
  {
   "cell_type": "code",
   "execution_count": 35,
   "metadata": {
    "collapsed": false
   },
   "outputs": [
    {
     "data": {
      "text/html": [
       "<div>\n",
       "<table border=\"1\" class=\"dataframe\">\n",
       "  <thead>\n",
       "    <tr style=\"text-align: right;\">\n",
       "      <th></th>\n",
       "      <th>User</th>\n",
       "      <th>Work Date</th>\n",
       "      <th>Description</th>\n",
       "      <th>CLIN</th>\n",
       "      <th>Project ID</th>\n",
       "      <th>Straight</th>\n",
       "      <th>Overtime</th>\n",
       "      <th>Total</th>\n",
       "    </tr>\n",
       "  </thead>\n",
       "  <tbody>\n",
       "    <tr>\n",
       "      <th>0</th>\n",
       "      <td>Schneider, Laura E</td>\n",
       "      <td>10-6-20</td>\n",
       "      <td>Software Services</td>\n",
       "      <td></td>\n",
       "      <td>613976.00.01.0111.509</td>\n",
       "      <td>10.00</td>\n",
       "      <td>0.00</td>\n",
       "      <td>10.00</td>\n",
       "    </tr>\n",
       "    <tr>\n",
       "      <th>1</th>\n",
       "      <td>Schneider, Laura E</td>\n",
       "      <td>10-7-20</td>\n",
       "      <td>Software Services</td>\n",
       "      <td></td>\n",
       "      <td>613976.00.01.0111.509</td>\n",
       "      <td>10.00</td>\n",
       "      <td>0.00</td>\n",
       "      <td>10.00</td>\n",
       "    </tr>\n",
       "    <tr>\n",
       "      <th>2</th>\n",
       "      <td>Schneider, Laura E</td>\n",
       "      <td>10-8-20</td>\n",
       "      <td>Software Services</td>\n",
       "      <td></td>\n",
       "      <td>613976.00.01.0111.509</td>\n",
       "      <td>10.00</td>\n",
       "      <td>0.00</td>\n",
       "      <td>10.00</td>\n",
       "    </tr>\n",
       "  </tbody>\n",
       "</table>\n",
       "</div>"
      ],
      "text/plain": [
       "                 User Work Date        Description CLIN  \\\n",
       "0  Schneider, Laura E   10-6-20  Software Services        \n",
       "1  Schneider, Laura E   10-7-20  Software Services        \n",
       "2  Schneider, Laura E   10-8-20  Software Services        \n",
       "\n",
       "              Project ID  Straight  Overtime  Total  \n",
       "0  613976.00.01.0111.509     10.00      0.00  10.00  \n",
       "1  613976.00.01.0111.509     10.00      0.00  10.00  \n",
       "2  613976.00.01.0111.509     10.00      0.00  10.00  "
      ]
     },
     "execution_count": 35,
     "metadata": {},
     "output_type": "execute_result"
    }
   ],
   "source": [
    "# add clin placeholder column\n",
    "df.insert(3, 'CLIN', '')\n",
    "df.head(3)"
   ]
  },
  {
   "cell_type": "code",
   "execution_count": 36,
   "metadata": {
    "collapsed": false
   },
   "outputs": [
    {
     "data": {
      "text/html": [
       "<div>\n",
       "<table border=\"1\" class=\"dataframe\">\n",
       "  <thead>\n",
       "    <tr style=\"text-align: right;\">\n",
       "      <th></th>\n",
       "      <th>User</th>\n",
       "      <th>Work Date</th>\n",
       "      <th>Description</th>\n",
       "      <th>CLIN</th>\n",
       "      <th>WBS</th>\n",
       "      <th>Project ID</th>\n",
       "      <th>Straight</th>\n",
       "      <th>Overtime</th>\n",
       "      <th>Total</th>\n",
       "    </tr>\n",
       "  </thead>\n",
       "  <tbody>\n",
       "    <tr>\n",
       "      <th>0</th>\n",
       "      <td>Schneider, Laura E</td>\n",
       "      <td>10-6-20</td>\n",
       "      <td>Software Services</td>\n",
       "      <td></td>\n",
       "      <td></td>\n",
       "      <td>613976.00.01.0111.509</td>\n",
       "      <td>10.00</td>\n",
       "      <td>0.00</td>\n",
       "      <td>10.00</td>\n",
       "    </tr>\n",
       "    <tr>\n",
       "      <th>1</th>\n",
       "      <td>Schneider, Laura E</td>\n",
       "      <td>10-7-20</td>\n",
       "      <td>Software Services</td>\n",
       "      <td></td>\n",
       "      <td></td>\n",
       "      <td>613976.00.01.0111.509</td>\n",
       "      <td>10.00</td>\n",
       "      <td>0.00</td>\n",
       "      <td>10.00</td>\n",
       "    </tr>\n",
       "    <tr>\n",
       "      <th>2</th>\n",
       "      <td>Schneider, Laura E</td>\n",
       "      <td>10-8-20</td>\n",
       "      <td>Software Services</td>\n",
       "      <td></td>\n",
       "      <td></td>\n",
       "      <td>613976.00.01.0111.509</td>\n",
       "      <td>10.00</td>\n",
       "      <td>0.00</td>\n",
       "      <td>10.00</td>\n",
       "    </tr>\n",
       "  </tbody>\n",
       "</table>\n",
       "</div>"
      ],
      "text/plain": [
       "                 User Work Date        Description CLIN WBS  \\\n",
       "0  Schneider, Laura E   10-6-20  Software Services            \n",
       "1  Schneider, Laura E   10-7-20  Software Services            \n",
       "2  Schneider, Laura E   10-8-20  Software Services            \n",
       "\n",
       "              Project ID  Straight  Overtime  Total  \n",
       "0  613976.00.01.0111.509     10.00      0.00  10.00  \n",
       "1  613976.00.01.0111.509     10.00      0.00  10.00  \n",
       "2  613976.00.01.0111.509     10.00      0.00  10.00  "
      ]
     },
     "execution_count": 36,
     "metadata": {},
     "output_type": "execute_result"
    }
   ],
   "source": [
    "# add wbs placeholder column\n",
    "df.insert(4, 'WBS', '')\n",
    "df.head(3)"
   ]
  },
  {
   "cell_type": "code",
   "execution_count": 37,
   "metadata": {
    "collapsed": false
   },
   "outputs": [
    {
     "data": {
      "text/html": [
       "<div>\n",
       "<table border=\"1\" class=\"dataframe\">\n",
       "  <thead>\n",
       "    <tr style=\"text-align: right;\">\n",
       "      <th></th>\n",
       "      <th>User</th>\n",
       "      <th>Work Date</th>\n",
       "      <th>Description</th>\n",
       "      <th>CLIN</th>\n",
       "      <th>WBS</th>\n",
       "      <th>Project ID</th>\n",
       "      <th>Straight</th>\n",
       "      <th>Overtime</th>\n",
       "      <th>Total</th>\n",
       "      <th>SR_temp</th>\n",
       "    </tr>\n",
       "  </thead>\n",
       "  <tbody>\n",
       "    <tr>\n",
       "      <th>0</th>\n",
       "      <td>Schneider, Laura E</td>\n",
       "      <td>10-6-20</td>\n",
       "      <td>Software Services</td>\n",
       "      <td></td>\n",
       "      <td></td>\n",
       "      <td>613976.00.01.0111.509</td>\n",
       "      <td>10.00</td>\n",
       "      <td>0.00</td>\n",
       "      <td>10.00</td>\n",
       "      <td></td>\n",
       "    </tr>\n",
       "    <tr>\n",
       "      <th>1</th>\n",
       "      <td>Schneider, Laura E</td>\n",
       "      <td>10-7-20</td>\n",
       "      <td>Software Services</td>\n",
       "      <td></td>\n",
       "      <td></td>\n",
       "      <td>613976.00.01.0111.509</td>\n",
       "      <td>10.00</td>\n",
       "      <td>0.00</td>\n",
       "      <td>10.00</td>\n",
       "      <td></td>\n",
       "    </tr>\n",
       "    <tr>\n",
       "      <th>2</th>\n",
       "      <td>Schneider, Laura E</td>\n",
       "      <td>10-8-20</td>\n",
       "      <td>Software Services</td>\n",
       "      <td></td>\n",
       "      <td></td>\n",
       "      <td>613976.00.01.0111.509</td>\n",
       "      <td>10.00</td>\n",
       "      <td>0.00</td>\n",
       "      <td>10.00</td>\n",
       "      <td></td>\n",
       "    </tr>\n",
       "  </tbody>\n",
       "</table>\n",
       "</div>"
      ],
      "text/plain": [
       "                 User Work Date        Description CLIN WBS  \\\n",
       "0  Schneider, Laura E   10-6-20  Software Services            \n",
       "1  Schneider, Laura E   10-7-20  Software Services            \n",
       "2  Schneider, Laura E   10-8-20  Software Services            \n",
       "\n",
       "              Project ID  Straight  Overtime  Total SR_temp  \n",
       "0  613976.00.01.0111.509     10.00      0.00  10.00          \n",
       "1  613976.00.01.0111.509     10.00      0.00  10.00          \n",
       "2  613976.00.01.0111.509     10.00      0.00  10.00          "
      ]
     },
     "execution_count": 37,
     "metadata": {},
     "output_type": "execute_result"
    }
   ],
   "source": [
    "# add SR placeholder column\n",
    "df.insert(9, 'SR_temp', '')\n",
    "df.head(3)"
   ]
  },
  {
   "cell_type": "code",
   "execution_count": 38,
   "metadata": {
    "collapsed": false
   },
   "outputs": [
    {
     "data": {
      "text/html": [
       "<div>\n",
       "<table border=\"1\" class=\"dataframe\">\n",
       "  <thead>\n",
       "    <tr style=\"text-align: right;\">\n",
       "      <th></th>\n",
       "      <th>User</th>\n",
       "      <th>Work Date</th>\n",
       "      <th>Description</th>\n",
       "      <th>CLIN</th>\n",
       "      <th>WBS</th>\n",
       "      <th>Project ID</th>\n",
       "      <th>Straight</th>\n",
       "      <th>Overtime</th>\n",
       "      <th>Total</th>\n",
       "      <th>SR_temp</th>\n",
       "      <th>OptYr</th>\n",
       "    </tr>\n",
       "  </thead>\n",
       "  <tbody>\n",
       "    <tr>\n",
       "      <th>0</th>\n",
       "      <td>Schneider, Laura E</td>\n",
       "      <td>10-6-20</td>\n",
       "      <td>Software Services</td>\n",
       "      <td></td>\n",
       "      <td></td>\n",
       "      <td>613976.00.01.0111.509</td>\n",
       "      <td>10.00</td>\n",
       "      <td>0.00</td>\n",
       "      <td>10.00</td>\n",
       "      <td></td>\n",
       "      <td>OY..</td>\n",
       "    </tr>\n",
       "    <tr>\n",
       "      <th>1</th>\n",
       "      <td>Schneider, Laura E</td>\n",
       "      <td>10-7-20</td>\n",
       "      <td>Software Services</td>\n",
       "      <td></td>\n",
       "      <td></td>\n",
       "      <td>613976.00.01.0111.509</td>\n",
       "      <td>10.00</td>\n",
       "      <td>0.00</td>\n",
       "      <td>10.00</td>\n",
       "      <td></td>\n",
       "      <td>OY..</td>\n",
       "    </tr>\n",
       "    <tr>\n",
       "      <th>2</th>\n",
       "      <td>Schneider, Laura E</td>\n",
       "      <td>10-8-20</td>\n",
       "      <td>Software Services</td>\n",
       "      <td></td>\n",
       "      <td></td>\n",
       "      <td>613976.00.01.0111.509</td>\n",
       "      <td>10.00</td>\n",
       "      <td>0.00</td>\n",
       "      <td>10.00</td>\n",
       "      <td></td>\n",
       "      <td>OY..</td>\n",
       "    </tr>\n",
       "  </tbody>\n",
       "</table>\n",
       "</div>"
      ],
      "text/plain": [
       "                 User Work Date        Description CLIN WBS  \\\n",
       "0  Schneider, Laura E   10-6-20  Software Services            \n",
       "1  Schneider, Laura E   10-7-20  Software Services            \n",
       "2  Schneider, Laura E   10-8-20  Software Services            \n",
       "\n",
       "              Project ID  Straight  Overtime  Total SR_temp OptYr  \n",
       "0  613976.00.01.0111.509     10.00      0.00  10.00          OY..  \n",
       "1  613976.00.01.0111.509     10.00      0.00  10.00          OY..  \n",
       "2  613976.00.01.0111.509     10.00      0.00  10.00          OY..  "
      ]
     },
     "execution_count": 38,
     "metadata": {},
     "output_type": "execute_result"
    }
   ],
   "source": [
    "# add option year column\n",
    "df.insert(10, 'OptYr', 'OY..')\n",
    "df.head(3)"
   ]
  },
  {
   "cell_type": "code",
   "execution_count": 39,
   "metadata": {
    "collapsed": false
   },
   "outputs": [
    {
     "name": "stdout",
     "output_type": "stream",
     "text": [
      "<class 'pandas.core.frame.DataFrame'>\n",
      "RangeIndex: 35924 entries, 0 to 35923\n",
      "Data columns (total 11 columns):\n",
      "User           35924 non-null object\n",
      "Work Date      35924 non-null object\n",
      "Description    35924 non-null object\n",
      "CLIN           35924 non-null object\n",
      "WBS            35924 non-null object\n",
      "Project ID     35924 non-null object\n",
      "Straight       35924 non-null float64\n",
      "Overtime       35924 non-null float64\n",
      "Total          35924 non-null float64\n",
      "SR_temp        35924 non-null object\n",
      "OptYr          35924 non-null object\n",
      "dtypes: float64(3), object(8)\n",
      "memory usage: 3.0+ MB\n"
     ]
    }
   ],
   "source": [
    "# check metadata\n",
    "df.info()"
   ]
  },
  {
   "cell_type": "code",
   "execution_count": 40,
   "metadata": {
    "collapsed": false
   },
   "outputs": [
    {
     "data": {
      "text/plain": [
       "0    Schneider, Laura E\n",
       "1    Schneider, Laura E\n",
       "Name: User, dtype: object"
      ]
     },
     "execution_count": 40,
     "metadata": {},
     "output_type": "execute_result"
    }
   ],
   "source": [
    "# column a\n",
    "df['User'].head(2)"
   ]
  },
  {
   "cell_type": "code",
   "execution_count": 41,
   "metadata": {
    "collapsed": false
   },
   "outputs": [
    {
     "data": {
      "text/html": [
       "<div>\n",
       "<table border=\"1\" class=\"dataframe\">\n",
       "  <thead>\n",
       "    <tr style=\"text-align: right;\">\n",
       "      <th></th>\n",
       "      <th>User</th>\n",
       "      <th>Work Date</th>\n",
       "      <th>Description</th>\n",
       "      <th>CLIN</th>\n",
       "      <th>WBS</th>\n",
       "      <th>Project ID</th>\n",
       "      <th>Straight</th>\n",
       "      <th>Overtime</th>\n",
       "      <th>Total</th>\n",
       "      <th>SR_temp</th>\n",
       "      <th>OptYr</th>\n",
       "    </tr>\n",
       "  </thead>\n",
       "  <tbody>\n",
       "    <tr>\n",
       "      <th>0</th>\n",
       "      <td>Schneider, Laura E</td>\n",
       "      <td>2020-10-06</td>\n",
       "      <td>Software Services</td>\n",
       "      <td></td>\n",
       "      <td></td>\n",
       "      <td>613976.00.01.0111.509</td>\n",
       "      <td>10.00</td>\n",
       "      <td>0.00</td>\n",
       "      <td>10.00</td>\n",
       "      <td></td>\n",
       "      <td>OY..</td>\n",
       "    </tr>\n",
       "    <tr>\n",
       "      <th>1</th>\n",
       "      <td>Schneider, Laura E</td>\n",
       "      <td>2020-10-07</td>\n",
       "      <td>Software Services</td>\n",
       "      <td></td>\n",
       "      <td></td>\n",
       "      <td>613976.00.01.0111.509</td>\n",
       "      <td>10.00</td>\n",
       "      <td>0.00</td>\n",
       "      <td>10.00</td>\n",
       "      <td></td>\n",
       "      <td>OY..</td>\n",
       "    </tr>\n",
       "  </tbody>\n",
       "</table>\n",
       "</div>"
      ],
      "text/plain": [
       "                 User   Work Date        Description CLIN WBS  \\\n",
       "0  Schneider, Laura E  2020-10-06  Software Services            \n",
       "1  Schneider, Laura E  2020-10-07  Software Services            \n",
       "\n",
       "              Project ID  Straight  Overtime  Total SR_temp OptYr  \n",
       "0  613976.00.01.0111.509     10.00      0.00  10.00          OY..  \n",
       "1  613976.00.01.0111.509     10.00      0.00  10.00          OY..  "
      ]
     },
     "execution_count": 41,
     "metadata": {},
     "output_type": "execute_result"
    }
   ],
   "source": [
    "# column b\n",
    "# modify workdate format\n",
    "df['Work Date'] = pandas.to_datetime(df['Work Date']).dt.strftime('%Y-%m-%d')\n",
    "df.head(2)"
   ]
  },
  {
   "cell_type": "code",
   "execution_count": 42,
   "metadata": {
    "collapsed": false
   },
   "outputs": [
    {
     "data": {
      "text/plain": [
       "0    Software Services\n",
       "1    Software Services\n",
       "Name: Description, dtype: object"
      ]
     },
     "execution_count": 42,
     "metadata": {},
     "output_type": "execute_result"
    }
   ],
   "source": [
    "# column c\n",
    "df['Description'].head(2)"
   ]
  },
  {
   "cell_type": "code",
   "execution_count": 43,
   "metadata": {
    "collapsed": true
   },
   "outputs": [],
   "source": [
    "# relabel Project ID to id\n",
    "df = df.rename(columns={'Project ID': 'ProjectID'})"
   ]
  },
  {
   "cell_type": "code",
   "execution_count": 44,
   "metadata": {
    "collapsed": false
   },
   "outputs": [
    {
     "data": {
      "text/html": [
       "<div>\n",
       "<table border=\"1\" class=\"dataframe\">\n",
       "  <thead>\n",
       "    <tr style=\"text-align: right;\">\n",
       "      <th></th>\n",
       "      <th>User</th>\n",
       "      <th>Work Date</th>\n",
       "      <th>Description</th>\n",
       "      <th>CLIN</th>\n",
       "      <th>WBS</th>\n",
       "      <th>ProjectID</th>\n",
       "      <th>Straight</th>\n",
       "      <th>Overtime</th>\n",
       "      <th>Total</th>\n",
       "      <th>SR_temp</th>\n",
       "      <th>OptYr</th>\n",
       "    </tr>\n",
       "  </thead>\n",
       "  <tbody>\n",
       "    <tr>\n",
       "      <th>0</th>\n",
       "      <td>Schneider, Laura E</td>\n",
       "      <td>2020-10-06</td>\n",
       "      <td>Software Services</td>\n",
       "      <td></td>\n",
       "      <td></td>\n",
       "      <td>613976.00.01.0111.509</td>\n",
       "      <td>10.00</td>\n",
       "      <td>0.00</td>\n",
       "      <td>10.00</td>\n",
       "      <td></td>\n",
       "      <td>OY..</td>\n",
       "    </tr>\n",
       "    <tr>\n",
       "      <th>1</th>\n",
       "      <td>Schneider, Laura E</td>\n",
       "      <td>2020-10-07</td>\n",
       "      <td>Software Services</td>\n",
       "      <td></td>\n",
       "      <td></td>\n",
       "      <td>613976.00.01.0111.509</td>\n",
       "      <td>10.00</td>\n",
       "      <td>0.00</td>\n",
       "      <td>10.00</td>\n",
       "      <td></td>\n",
       "      <td>OY..</td>\n",
       "    </tr>\n",
       "  </tbody>\n",
       "</table>\n",
       "</div>"
      ],
      "text/plain": [
       "                 User   Work Date        Description CLIN WBS  \\\n",
       "0  Schneider, Laura E  2020-10-06  Software Services            \n",
       "1  Schneider, Laura E  2020-10-07  Software Services            \n",
       "\n",
       "               ProjectID  Straight  Overtime  Total SR_temp OptYr  \n",
       "0  613976.00.01.0111.509     10.00      0.00  10.00          OY..  \n",
       "1  613976.00.01.0111.509     10.00      0.00  10.00          OY..  "
      ]
     },
     "execution_count": 44,
     "metadata": {},
     "output_type": "execute_result"
    }
   ],
   "source": [
    "df.head(2)"
   ]
  },
  {
   "cell_type": "code",
   "execution_count": 46,
   "metadata": {
    "collapsed": false
   },
   "outputs": [
    {
     "data": {
      "text/html": [
       "<div>\n",
       "<table border=\"1\" class=\"dataframe\">\n",
       "  <thead>\n",
       "    <tr style=\"text-align: right;\">\n",
       "      <th></th>\n",
       "      <th>User</th>\n",
       "      <th>Work Date</th>\n",
       "      <th>Description</th>\n",
       "      <th>CLIN</th>\n",
       "      <th>WBS</th>\n",
       "      <th>ProjectID</th>\n",
       "      <th>Straight</th>\n",
       "      <th>Overtime</th>\n",
       "      <th>Total</th>\n",
       "      <th>SR_temp</th>\n",
       "      <th>OptYr</th>\n",
       "    </tr>\n",
       "  </thead>\n",
       "  <tbody>\n",
       "    <tr>\n",
       "      <th>0</th>\n",
       "      <td>Schneider, Laura E</td>\n",
       "      <td>2020-10-06</td>\n",
       "      <td>Software Services</td>\n",
       "      <td>0111</td>\n",
       "      <td></td>\n",
       "      <td>613976.00.01.0111.509</td>\n",
       "      <td>10.00</td>\n",
       "      <td>0.00</td>\n",
       "      <td>10.00</td>\n",
       "      <td></td>\n",
       "      <td>OY..</td>\n",
       "    </tr>\n",
       "    <tr>\n",
       "      <th>1</th>\n",
       "      <td>Schneider, Laura E</td>\n",
       "      <td>2020-10-07</td>\n",
       "      <td>Software Services</td>\n",
       "      <td>0111</td>\n",
       "      <td></td>\n",
       "      <td>613976.00.01.0111.509</td>\n",
       "      <td>10.00</td>\n",
       "      <td>0.00</td>\n",
       "      <td>10.00</td>\n",
       "      <td></td>\n",
       "      <td>OY..</td>\n",
       "    </tr>\n",
       "  </tbody>\n",
       "</table>\n",
       "</div>"
      ],
      "text/plain": [
       "                 User   Work Date        Description  CLIN WBS  \\\n",
       "0  Schneider, Laura E  2020-10-06  Software Services  0111       \n",
       "1  Schneider, Laura E  2020-10-07  Software Services  0111       \n",
       "\n",
       "               ProjectID  Straight  Overtime  Total SR_temp OptYr  \n",
       "0  613976.00.01.0111.509     10.00      0.00  10.00          OY..  \n",
       "1  613976.00.01.0111.509     10.00      0.00  10.00          OY..  "
      ]
     },
     "execution_count": 46,
     "metadata": {},
     "output_type": "execute_result"
    }
   ],
   "source": [
    "# column d\n",
    "# get clin\n",
    "df['CLIN'] = df.ProjectID.str.split(\".\", expand=True,)[3]\n",
    "df.head(2)"
   ]
  },
  {
   "cell_type": "code",
   "execution_count": 47,
   "metadata": {
    "collapsed": false
   },
   "outputs": [
    {
     "data": {
      "text/html": [
       "<div>\n",
       "<table border=\"1\" class=\"dataframe\">\n",
       "  <thead>\n",
       "    <tr style=\"text-align: right;\">\n",
       "      <th></th>\n",
       "      <th>User</th>\n",
       "      <th>Work Date</th>\n",
       "      <th>Description</th>\n",
       "      <th>CLIN</th>\n",
       "      <th>WBS</th>\n",
       "      <th>ProjectID</th>\n",
       "      <th>Straight</th>\n",
       "      <th>Overtime</th>\n",
       "      <th>Total</th>\n",
       "      <th>SR_temp</th>\n",
       "      <th>OptYr</th>\n",
       "    </tr>\n",
       "  </thead>\n",
       "  <tbody>\n",
       "    <tr>\n",
       "      <th>0</th>\n",
       "      <td>Schneider, Laura E</td>\n",
       "      <td>2020-10-06</td>\n",
       "      <td>Software Services</td>\n",
       "      <td>0111</td>\n",
       "      <td>509</td>\n",
       "      <td>613976.00.01.0111.509</td>\n",
       "      <td>10.00</td>\n",
       "      <td>0.00</td>\n",
       "      <td>10.00</td>\n",
       "      <td></td>\n",
       "      <td>OY..</td>\n",
       "    </tr>\n",
       "    <tr>\n",
       "      <th>1</th>\n",
       "      <td>Schneider, Laura E</td>\n",
       "      <td>2020-10-07</td>\n",
       "      <td>Software Services</td>\n",
       "      <td>0111</td>\n",
       "      <td>509</td>\n",
       "      <td>613976.00.01.0111.509</td>\n",
       "      <td>10.00</td>\n",
       "      <td>0.00</td>\n",
       "      <td>10.00</td>\n",
       "      <td></td>\n",
       "      <td>OY..</td>\n",
       "    </tr>\n",
       "  </tbody>\n",
       "</table>\n",
       "</div>"
      ],
      "text/plain": [
       "                 User   Work Date        Description  CLIN  WBS  \\\n",
       "0  Schneider, Laura E  2020-10-06  Software Services  0111  509   \n",
       "1  Schneider, Laura E  2020-10-07  Software Services  0111  509   \n",
       "\n",
       "               ProjectID  Straight  Overtime  Total SR_temp OptYr  \n",
       "0  613976.00.01.0111.509     10.00      0.00  10.00          OY..  \n",
       "1  613976.00.01.0111.509     10.00      0.00  10.00          OY..  "
      ]
     },
     "execution_count": 47,
     "metadata": {},
     "output_type": "execute_result"
    }
   ],
   "source": [
    "# column e\n",
    "# get wbs\n",
    "df['WBS'] = df.ProjectID.str.split(\".\", expand=True,)[4]\n",
    "df.head(2)"
   ]
  },
  {
   "cell_type": "code",
   "execution_count": 48,
   "metadata": {
    "collapsed": false
   },
   "outputs": [
    {
     "data": {
      "text/html": [
       "<div>\n",
       "<table border=\"1\" class=\"dataframe\">\n",
       "  <thead>\n",
       "    <tr style=\"text-align: right;\">\n",
       "      <th></th>\n",
       "      <th>User</th>\n",
       "      <th>Work Date</th>\n",
       "      <th>Description</th>\n",
       "      <th>CLIN</th>\n",
       "      <th>WBS</th>\n",
       "      <th>ProjectID</th>\n",
       "      <th>Straight</th>\n",
       "      <th>Overtime</th>\n",
       "      <th>Total</th>\n",
       "      <th>SR_temp</th>\n",
       "      <th>OptYr</th>\n",
       "    </tr>\n",
       "  </thead>\n",
       "  <tbody>\n",
       "    <tr>\n",
       "      <th>0</th>\n",
       "      <td>Schneider, Laura E</td>\n",
       "      <td>2020-10-06</td>\n",
       "      <td>Software Services</td>\n",
       "      <td>0111</td>\n",
       "      <td>509</td>\n",
       "      <td>613976.00.01.0111.509</td>\n",
       "      <td>10.00</td>\n",
       "      <td>0.00</td>\n",
       "      <td>10.00</td>\n",
       "      <td></td>\n",
       "      <td>OY..</td>\n",
       "    </tr>\n",
       "    <tr>\n",
       "      <th>1</th>\n",
       "      <td>Schneider, Laura E</td>\n",
       "      <td>2020-10-07</td>\n",
       "      <td>Software Services</td>\n",
       "      <td>0111</td>\n",
       "      <td>509</td>\n",
       "      <td>613976.00.01.0111.509</td>\n",
       "      <td>10.00</td>\n",
       "      <td>0.00</td>\n",
       "      <td>10.00</td>\n",
       "      <td></td>\n",
       "      <td>OY..</td>\n",
       "    </tr>\n",
       "  </tbody>\n",
       "</table>\n",
       "</div>"
      ],
      "text/plain": [
       "                 User   Work Date        Description  CLIN  WBS  \\\n",
       "0  Schneider, Laura E  2020-10-06  Software Services  0111  509   \n",
       "1  Schneider, Laura E  2020-10-07  Software Services  0111  509   \n",
       "\n",
       "               ProjectID  Straight  Overtime  Total SR_temp OptYr  \n",
       "0  613976.00.01.0111.509     10.00      0.00  10.00          OY..  \n",
       "1  613976.00.01.0111.509     10.00      0.00  10.00          OY..  "
      ]
     },
     "execution_count": 48,
     "metadata": {},
     "output_type": "execute_result"
    }
   ],
   "source": [
    "# column f\n",
    "# ProjectID\n",
    "df.head(2)"
   ]
  },
  {
   "cell_type": "code",
   "execution_count": 49,
   "metadata": {
    "collapsed": false
   },
   "outputs": [
    {
     "name": "stdout",
     "output_type": "stream",
     "text": [
      "<class 'pandas.core.frame.DataFrame'>\n",
      "RangeIndex: 35924 entries, 0 to 35923\n",
      "Data columns (total 11 columns):\n",
      "User           35924 non-null object\n",
      "Work Date      35924 non-null object\n",
      "Description    35924 non-null object\n",
      "CLIN           35924 non-null object\n",
      "WBS            35924 non-null object\n",
      "ProjectID      35924 non-null object\n",
      "Straight       35924 non-null float64\n",
      "Overtime       35924 non-null float64\n",
      "Total          35924 non-null float64\n",
      "SR_temp        35924 non-null object\n",
      "OptYr          35924 non-null object\n",
      "dtypes: float64(3), object(8)\n",
      "memory usage: 3.0+ MB\n"
     ]
    }
   ],
   "source": [
    "# check metadata\n",
    "df.info()"
   ]
  },
  {
   "cell_type": "code",
   "execution_count": 50,
   "metadata": {
    "collapsed": false
   },
   "outputs": [
    {
     "name": "stdout",
     "output_type": "stream",
     "text": [
      "<class 'pandas.core.frame.DataFrame'>\n",
      "RangeIndex: 35924 entries, 0 to 35923\n",
      "Data columns (total 23 columns):\n",
      "User                         35924 non-null object\n",
      "User ID                      35924 non-null object\n",
      "Work Date                    35924 non-null object\n",
      "Timesheet Period End Date    35924 non-null object\n",
      "WBS                          0 non-null float64\n",
      "Description                  35924 non-null object\n",
      "Timesheet Class              35924 non-null object\n",
      "Project ID                   35924 non-null object\n",
      "Pay Type                     35924 non-null object\n",
      "Vendor ID                    9490 non-null object\n",
      "Corporation                  35924 non-null object\n",
      "Org ID                       35924 non-null object\n",
      "Company Name                 35924 non-null object\n",
      "SUP_EMPL_GROUP_CD            0 non-null float64\n",
      "SUP_EMPL_GROUP_DESC          0 non-null float64\n",
      "MGR_EMPL_GROUP_CD            34660 non-null object\n",
      "MGR_EMPL_GROUP_DESC          34660 non-null object\n",
      "Status                       35924 non-null object\n",
      "Straight                     35924 non-null float64\n",
      "Overtime                     35924 non-null float64\n",
      "Total                        35924 non-null float64\n",
      "Date Time Entered            35924 non-null object\n",
      "CCC                          26045 non-null object\n",
      "dtypes: float64(6), object(17)\n",
      "memory usage: 6.3+ MB\n"
     ]
    }
   ],
   "source": [
    "data.info()"
   ]
  },
  {
   "cell_type": "code",
   "execution_count": 53,
   "metadata": {
    "collapsed": false
   },
   "outputs": [
    {
     "name": "stdout",
     "output_type": "stream",
     "text": [
      "data 41848945\n",
      "df 20067149\n"
     ]
    }
   ],
   "source": [
    "# what size are some of the objects?\n",
    "print('data', sys.getsizeof(data))\n",
    "print('df', sys.getsizeof(df))"
   ]
  },
  {
   "cell_type": "code",
   "execution_count": 54,
   "metadata": {
    "collapsed": true
   },
   "outputs": [],
   "source": [
    "# delete original dataframe to free up memory\n",
    "del[data]"
   ]
  },
  {
   "cell_type": "code",
   "execution_count": 55,
   "metadata": {
    "collapsed": false
   },
   "outputs": [
    {
     "data": {
      "text/plain": [
       "497"
      ]
     },
     "execution_count": 55,
     "metadata": {},
     "output_type": "execute_result"
    }
   ],
   "source": [
    "gc.collect()"
   ]
  },
  {
   "cell_type": "code",
   "execution_count": 58,
   "metadata": {
    "collapsed": false
   },
   "outputs": [
    {
     "data": {
      "text/plain": [
       "0    21\n",
       "1    21\n",
       "Name: id_length, dtype: int64"
      ]
     },
     "execution_count": 58,
     "metadata": {},
     "output_type": "execute_result"
    }
   ],
   "source": [
    "# add ProjectID character count column\n",
    "df['id_length'] = df['ProjectID'].str.len()\n",
    "df.id_length.head(2)"
   ]
  },
  {
   "cell_type": "code",
   "execution_count": 59,
   "metadata": {
    "collapsed": false
   },
   "outputs": [
    {
     "data": {
      "text/plain": [
       "array([21, 29], dtype=int64)"
      ]
     },
     "execution_count": 59,
     "metadata": {},
     "output_type": "execute_result"
    }
   ],
   "source": [
    "df.id_length.unique()"
   ]
  },
  {
   "cell_type": "code",
   "execution_count": 60,
   "metadata": {
    "collapsed": false
   },
   "outputs": [
    {
     "data": {
      "text/plain": [
       "83    29\n",
       "84    29\n",
       "85    29\n",
       "Name: id_length, dtype: int64"
      ]
     },
     "execution_count": 60,
     "metadata": {},
     "output_type": "execute_result"
    }
   ],
   "source": [
    "# where id_length = 29\n",
    "df['id_length'][df['id_length'] == 29].head(3)"
   ]
  },
  {
   "cell_type": "code",
   "execution_count": 61,
   "metadata": {
    "collapsed": false
   },
   "outputs": [
    {
     "data": {
      "text/html": [
       "<div>\n",
       "<table border=\"1\" class=\"dataframe\">\n",
       "  <thead>\n",
       "    <tr style=\"text-align: right;\">\n",
       "      <th></th>\n",
       "      <th>User</th>\n",
       "      <th>Work Date</th>\n",
       "      <th>Description</th>\n",
       "      <th>CLIN</th>\n",
       "      <th>WBS</th>\n",
       "      <th>ProjectID</th>\n",
       "      <th>Straight</th>\n",
       "      <th>Overtime</th>\n",
       "      <th>Total</th>\n",
       "      <th>SR_temp</th>\n",
       "      <th>OptYr</th>\n",
       "      <th>id_length</th>\n",
       "    </tr>\n",
       "  </thead>\n",
       "  <tbody>\n",
       "    <tr>\n",
       "      <th>0</th>\n",
       "      <td>Schneider, Laura E</td>\n",
       "      <td>2020-10-06</td>\n",
       "      <td>Software Services</td>\n",
       "      <td>0111</td>\n",
       "      <td>509</td>\n",
       "      <td>613976.00.01.0111.509</td>\n",
       "      <td>10.00</td>\n",
       "      <td>0.00</td>\n",
       "      <td>10.00</td>\n",
       "      <td></td>\n",
       "      <td>OY..</td>\n",
       "      <td>21</td>\n",
       "    </tr>\n",
       "    <tr>\n",
       "      <th>1</th>\n",
       "      <td>Schneider, Laura E</td>\n",
       "      <td>2020-10-07</td>\n",
       "      <td>Software Services</td>\n",
       "      <td>0111</td>\n",
       "      <td>509</td>\n",
       "      <td>613976.00.01.0111.509</td>\n",
       "      <td>10.00</td>\n",
       "      <td>0.00</td>\n",
       "      <td>10.00</td>\n",
       "      <td></td>\n",
       "      <td>OY..</td>\n",
       "      <td>21</td>\n",
       "    </tr>\n",
       "  </tbody>\n",
       "</table>\n",
       "</div>"
      ],
      "text/plain": [
       "                 User   Work Date        Description  CLIN  WBS  \\\n",
       "0  Schneider, Laura E  2020-10-06  Software Services  0111  509   \n",
       "1  Schneider, Laura E  2020-10-07  Software Services  0111  509   \n",
       "\n",
       "               ProjectID  Straight  Overtime  Total SR_temp OptYr  id_length  \n",
       "0  613976.00.01.0111.509     10.00      0.00  10.00          OY..         21  \n",
       "1  613976.00.01.0111.509     10.00      0.00  10.00          OY..         21  "
      ]
     },
     "execution_count": 61,
     "metadata": {},
     "output_type": "execute_result"
    }
   ],
   "source": [
    "df.head(2)"
   ]
  },
  {
   "cell_type": "code",
   "execution_count": 62,
   "metadata": {
    "collapsed": false
   },
   "outputs": [
    {
     "data": {
      "text/html": [
       "<div>\n",
       "<table border=\"1\" class=\"dataframe\">\n",
       "  <thead>\n",
       "    <tr style=\"text-align: right;\">\n",
       "      <th></th>\n",
       "      <th>User</th>\n",
       "      <th>Work Date</th>\n",
       "      <th>Description</th>\n",
       "      <th>CLIN</th>\n",
       "      <th>WBS</th>\n",
       "      <th>ProjectID</th>\n",
       "      <th>Straight</th>\n",
       "      <th>Overtime</th>\n",
       "      <th>Total</th>\n",
       "      <th>SR_temp</th>\n",
       "      <th>OptYr</th>\n",
       "      <th>id_length</th>\n",
       "    </tr>\n",
       "  </thead>\n",
       "  <tbody>\n",
       "    <tr>\n",
       "      <th>0</th>\n",
       "      <td>Schneider, Laura E</td>\n",
       "      <td>2020-10-06</td>\n",
       "      <td>Software Services</td>\n",
       "      <td>0111</td>\n",
       "      <td>509</td>\n",
       "      <td>613976.00.01.0111.509</td>\n",
       "      <td>10.00</td>\n",
       "      <td>0.00</td>\n",
       "      <td>10.00</td>\n",
       "      <td></td>\n",
       "      <td>OY..</td>\n",
       "      <td>21</td>\n",
       "    </tr>\n",
       "    <tr>\n",
       "      <th>1</th>\n",
       "      <td>Schneider, Laura E</td>\n",
       "      <td>2020-10-07</td>\n",
       "      <td>Software Services</td>\n",
       "      <td>0111</td>\n",
       "      <td>509</td>\n",
       "      <td>613976.00.01.0111.509</td>\n",
       "      <td>10.00</td>\n",
       "      <td>0.00</td>\n",
       "      <td>10.00</td>\n",
       "      <td></td>\n",
       "      <td>OY..</td>\n",
       "      <td>21</td>\n",
       "    </tr>\n",
       "    <tr>\n",
       "      <th>2</th>\n",
       "      <td>Schneider, Laura E</td>\n",
       "      <td>2020-10-08</td>\n",
       "      <td>Software Services</td>\n",
       "      <td>0111</td>\n",
       "      <td>509</td>\n",
       "      <td>613976.00.01.0111.509</td>\n",
       "      <td>10.00</td>\n",
       "      <td>0.00</td>\n",
       "      <td>10.00</td>\n",
       "      <td></td>\n",
       "      <td>OY..</td>\n",
       "      <td>21</td>\n",
       "    </tr>\n",
       "  </tbody>\n",
       "</table>\n",
       "</div>"
      ],
      "text/plain": [
       "                 User   Work Date        Description  CLIN  WBS  \\\n",
       "0  Schneider, Laura E  2020-10-06  Software Services  0111  509   \n",
       "1  Schneider, Laura E  2020-10-07  Software Services  0111  509   \n",
       "2  Schneider, Laura E  2020-10-08  Software Services  0111  509   \n",
       "\n",
       "               ProjectID  Straight  Overtime  Total SR_temp OptYr  id_length  \n",
       "0  613976.00.01.0111.509     10.00      0.00  10.00          OY..         21  \n",
       "1  613976.00.01.0111.509     10.00      0.00  10.00          OY..         21  \n",
       "2  613976.00.01.0111.509     10.00      0.00  10.00          OY..         21  "
      ]
     },
     "execution_count": 62,
     "metadata": {},
     "output_type": "execute_result"
    }
   ],
   "source": [
    "# where tpid_length != 29\n",
    "df[df['id_length'] != 29].head(3)"
   ]
  },
  {
   "cell_type": "code",
   "execution_count": 63,
   "metadata": {
    "collapsed": false
   },
   "outputs": [
    {
     "data": {
      "text/plain": [
       "(29615, 12)"
      ]
     },
     "execution_count": 63,
     "metadata": {},
     "output_type": "execute_result"
    }
   ],
   "source": [
    "# filter on id_length\n",
    "df21 = df[df['id_length'] != 29]\n",
    "df21.shape"
   ]
  },
  {
   "cell_type": "code",
   "execution_count": 64,
   "metadata": {
    "collapsed": false
   },
   "outputs": [
    {
     "data": {
      "text/html": [
       "<div>\n",
       "<table border=\"1\" class=\"dataframe\">\n",
       "  <thead>\n",
       "    <tr style=\"text-align: right;\">\n",
       "      <th></th>\n",
       "      <th>User</th>\n",
       "      <th>Work Date</th>\n",
       "      <th>Description</th>\n",
       "      <th>CLIN</th>\n",
       "      <th>WBS</th>\n",
       "      <th>ProjectID</th>\n",
       "      <th>Straight</th>\n",
       "      <th>Overtime</th>\n",
       "      <th>Total</th>\n",
       "      <th>SR_temp</th>\n",
       "      <th>OptYr</th>\n",
       "      <th>id_length</th>\n",
       "    </tr>\n",
       "  </thead>\n",
       "  <tbody>\n",
       "    <tr>\n",
       "      <th>0</th>\n",
       "      <td>Schneider, Laura E</td>\n",
       "      <td>2020-10-06</td>\n",
       "      <td>Software Services</td>\n",
       "      <td>0111</td>\n",
       "      <td>509</td>\n",
       "      <td>613976.00.01.0111.509</td>\n",
       "      <td>10.00</td>\n",
       "      <td>0.00</td>\n",
       "      <td>10.00</td>\n",
       "      <td></td>\n",
       "      <td>OY..</td>\n",
       "      <td>21</td>\n",
       "    </tr>\n",
       "    <tr>\n",
       "      <th>1</th>\n",
       "      <td>Schneider, Laura E</td>\n",
       "      <td>2020-10-07</td>\n",
       "      <td>Software Services</td>\n",
       "      <td>0111</td>\n",
       "      <td>509</td>\n",
       "      <td>613976.00.01.0111.509</td>\n",
       "      <td>10.00</td>\n",
       "      <td>0.00</td>\n",
       "      <td>10.00</td>\n",
       "      <td></td>\n",
       "      <td>OY..</td>\n",
       "      <td>21</td>\n",
       "    </tr>\n",
       "    <tr>\n",
       "      <th>2</th>\n",
       "      <td>Schneider, Laura E</td>\n",
       "      <td>2020-10-08</td>\n",
       "      <td>Software Services</td>\n",
       "      <td>0111</td>\n",
       "      <td>509</td>\n",
       "      <td>613976.00.01.0111.509</td>\n",
       "      <td>10.00</td>\n",
       "      <td>0.00</td>\n",
       "      <td>10.00</td>\n",
       "      <td></td>\n",
       "      <td>OY..</td>\n",
       "      <td>21</td>\n",
       "    </tr>\n",
       "  </tbody>\n",
       "</table>\n",
       "</div>"
      ],
      "text/plain": [
       "                 User   Work Date        Description  CLIN  WBS  \\\n",
       "0  Schneider, Laura E  2020-10-06  Software Services  0111  509   \n",
       "1  Schneider, Laura E  2020-10-07  Software Services  0111  509   \n",
       "2  Schneider, Laura E  2020-10-08  Software Services  0111  509   \n",
       "\n",
       "               ProjectID  Straight  Overtime  Total SR_temp OptYr  id_length  \n",
       "0  613976.00.01.0111.509     10.00      0.00  10.00          OY..         21  \n",
       "1  613976.00.01.0111.509     10.00      0.00  10.00          OY..         21  \n",
       "2  613976.00.01.0111.509     10.00      0.00  10.00          OY..         21  "
      ]
     },
     "execution_count": 64,
     "metadata": {},
     "output_type": "execute_result"
    }
   ],
   "source": [
    "df21.head(3)"
   ]
  },
  {
   "cell_type": "code",
   "execution_count": 65,
   "metadata": {
    "collapsed": false
   },
   "outputs": [
    {
     "data": {
      "text/plain": [
       "(6309, 12)"
      ]
     },
     "execution_count": 65,
     "metadata": {},
     "output_type": "execute_result"
    }
   ],
   "source": [
    "# filter on id_length\n",
    "df29 = df[df['id_length'] == 29]\n",
    "df29.shape"
   ]
  },
  {
   "cell_type": "code",
   "execution_count": 66,
   "metadata": {
    "collapsed": false
   },
   "outputs": [
    {
     "data": {
      "text/plain": [
       "0"
      ]
     },
     "execution_count": 66,
     "metadata": {},
     "output_type": "execute_result"
    }
   ],
   "source": [
    "# check size (should equal zero)\n",
    "df.shape[0] - (df21.shape[0] + df29.shape[0])"
   ]
  },
  {
   "cell_type": "code",
   "execution_count": 67,
   "metadata": {
    "collapsed": false
   },
   "outputs": [
    {
     "data": {
      "text/plain": [
       "437"
      ]
     },
     "execution_count": 67,
     "metadata": {},
     "output_type": "execute_result"
    }
   ],
   "source": [
    "# memory management\n",
    "del[df]\n",
    "gc.collect()"
   ]
  },
  {
   "cell_type": "code",
   "execution_count": 68,
   "metadata": {
    "collapsed": false
   },
   "outputs": [
    {
     "data": {
      "text/html": [
       "<div>\n",
       "<table border=\"1\" class=\"dataframe\">\n",
       "  <thead>\n",
       "    <tr style=\"text-align: right;\">\n",
       "      <th></th>\n",
       "      <th>User</th>\n",
       "      <th>Work Date</th>\n",
       "      <th>Description</th>\n",
       "      <th>CLIN</th>\n",
       "      <th>WBS</th>\n",
       "      <th>ProjectID</th>\n",
       "      <th>Straight</th>\n",
       "      <th>Overtime</th>\n",
       "      <th>Total</th>\n",
       "      <th>SR_temp</th>\n",
       "      <th>SR</th>\n",
       "      <th>OptYr</th>\n",
       "      <th>id_length</th>\n",
       "    </tr>\n",
       "  </thead>\n",
       "  <tbody>\n",
       "    <tr>\n",
       "      <th>0</th>\n",
       "      <td>Schneider, Laura E</td>\n",
       "      <td>2020-10-06</td>\n",
       "      <td>Software Services</td>\n",
       "      <td>0111</td>\n",
       "      <td>509</td>\n",
       "      <td>613976.00.01.0111.509</td>\n",
       "      <td>10.00</td>\n",
       "      <td>0.00</td>\n",
       "      <td>10.00</td>\n",
       "      <td></td>\n",
       "      <td>SR-0000000</td>\n",
       "      <td>OY..</td>\n",
       "      <td>21</td>\n",
       "    </tr>\n",
       "    <tr>\n",
       "      <th>1</th>\n",
       "      <td>Schneider, Laura E</td>\n",
       "      <td>2020-10-07</td>\n",
       "      <td>Software Services</td>\n",
       "      <td>0111</td>\n",
       "      <td>509</td>\n",
       "      <td>613976.00.01.0111.509</td>\n",
       "      <td>10.00</td>\n",
       "      <td>0.00</td>\n",
       "      <td>10.00</td>\n",
       "      <td></td>\n",
       "      <td>SR-0000000</td>\n",
       "      <td>OY..</td>\n",
       "      <td>21</td>\n",
       "    </tr>\n",
       "    <tr>\n",
       "      <th>2</th>\n",
       "      <td>Schneider, Laura E</td>\n",
       "      <td>2020-10-08</td>\n",
       "      <td>Software Services</td>\n",
       "      <td>0111</td>\n",
       "      <td>509</td>\n",
       "      <td>613976.00.01.0111.509</td>\n",
       "      <td>10.00</td>\n",
       "      <td>0.00</td>\n",
       "      <td>10.00</td>\n",
       "      <td></td>\n",
       "      <td>SR-0000000</td>\n",
       "      <td>OY..</td>\n",
       "      <td>21</td>\n",
       "    </tr>\n",
       "  </tbody>\n",
       "</table>\n",
       "</div>"
      ],
      "text/plain": [
       "                 User   Work Date        Description  CLIN  WBS  \\\n",
       "0  Schneider, Laura E  2020-10-06  Software Services  0111  509   \n",
       "1  Schneider, Laura E  2020-10-07  Software Services  0111  509   \n",
       "2  Schneider, Laura E  2020-10-08  Software Services  0111  509   \n",
       "\n",
       "               ProjectID  Straight  Overtime  Total SR_temp          SR OptYr  \\\n",
       "0  613976.00.01.0111.509     10.00      0.00  10.00          SR-0000000  OY..   \n",
       "1  613976.00.01.0111.509     10.00      0.00  10.00          SR-0000000  OY..   \n",
       "2  613976.00.01.0111.509     10.00      0.00  10.00          SR-0000000  OY..   \n",
       "\n",
       "   id_length  \n",
       "0         21  \n",
       "1         21  \n",
       "2         21  "
      ]
     },
     "execution_count": 68,
     "metadata": {},
     "output_type": "execute_result"
    }
   ],
   "source": [
    "# SR column\n",
    "df21.insert(10, 'SR', 'SR-0000000')\n",
    "df21.head(3)"
   ]
  },
  {
   "cell_type": "code",
   "execution_count": 69,
   "metadata": {
    "collapsed": false
   },
   "outputs": [
    {
     "data": {
      "text/html": [
       "<div>\n",
       "<table border=\"1\" class=\"dataframe\">\n",
       "  <thead>\n",
       "    <tr style=\"text-align: right;\">\n",
       "      <th></th>\n",
       "      <th>User</th>\n",
       "      <th>Work Date</th>\n",
       "      <th>Description</th>\n",
       "      <th>CLIN</th>\n",
       "      <th>WBS</th>\n",
       "      <th>ProjectID</th>\n",
       "      <th>Straight</th>\n",
       "      <th>Overtime</th>\n",
       "      <th>Total</th>\n",
       "      <th>SR</th>\n",
       "      <th>OptYr</th>\n",
       "      <th>id_length</th>\n",
       "    </tr>\n",
       "  </thead>\n",
       "  <tbody>\n",
       "    <tr>\n",
       "      <th>0</th>\n",
       "      <td>Schneider, Laura E</td>\n",
       "      <td>2020-10-06</td>\n",
       "      <td>Software Services</td>\n",
       "      <td>0111</td>\n",
       "      <td>509</td>\n",
       "      <td>613976.00.01.0111.509</td>\n",
       "      <td>10.00</td>\n",
       "      <td>0.00</td>\n",
       "      <td>10.00</td>\n",
       "      <td>SR-0000000</td>\n",
       "      <td>OY..</td>\n",
       "      <td>21</td>\n",
       "    </tr>\n",
       "    <tr>\n",
       "      <th>1</th>\n",
       "      <td>Schneider, Laura E</td>\n",
       "      <td>2020-10-07</td>\n",
       "      <td>Software Services</td>\n",
       "      <td>0111</td>\n",
       "      <td>509</td>\n",
       "      <td>613976.00.01.0111.509</td>\n",
       "      <td>10.00</td>\n",
       "      <td>0.00</td>\n",
       "      <td>10.00</td>\n",
       "      <td>SR-0000000</td>\n",
       "      <td>OY..</td>\n",
       "      <td>21</td>\n",
       "    </tr>\n",
       "    <tr>\n",
       "      <th>2</th>\n",
       "      <td>Schneider, Laura E</td>\n",
       "      <td>2020-10-08</td>\n",
       "      <td>Software Services</td>\n",
       "      <td>0111</td>\n",
       "      <td>509</td>\n",
       "      <td>613976.00.01.0111.509</td>\n",
       "      <td>10.00</td>\n",
       "      <td>0.00</td>\n",
       "      <td>10.00</td>\n",
       "      <td>SR-0000000</td>\n",
       "      <td>OY..</td>\n",
       "      <td>21</td>\n",
       "    </tr>\n",
       "  </tbody>\n",
       "</table>\n",
       "</div>"
      ],
      "text/plain": [
       "                 User   Work Date        Description  CLIN  WBS  \\\n",
       "0  Schneider, Laura E  2020-10-06  Software Services  0111  509   \n",
       "1  Schneider, Laura E  2020-10-07  Software Services  0111  509   \n",
       "2  Schneider, Laura E  2020-10-08  Software Services  0111  509   \n",
       "\n",
       "               ProjectID  Straight  Overtime  Total          SR OptYr  \\\n",
       "0  613976.00.01.0111.509     10.00      0.00  10.00  SR-0000000  OY..   \n",
       "1  613976.00.01.0111.509     10.00      0.00  10.00  SR-0000000  OY..   \n",
       "2  613976.00.01.0111.509     10.00      0.00  10.00  SR-0000000  OY..   \n",
       "\n",
       "   id_length  \n",
       "0         21  \n",
       "1         21  \n",
       "2         21  "
      ]
     },
     "execution_count": 69,
     "metadata": {},
     "output_type": "execute_result"
    }
   ],
   "source": [
    "# delete SR_temp column\n",
    "df21 = df21.drop('SR_temp', 1)\n",
    "df21.head(3)"
   ]
  },
  {
   "cell_type": "code",
   "execution_count": 70,
   "metadata": {
    "collapsed": false
   },
   "outputs": [
    {
     "data": {
      "text/html": [
       "<div>\n",
       "<table border=\"1\" class=\"dataframe\">\n",
       "  <thead>\n",
       "    <tr style=\"text-align: right;\">\n",
       "      <th></th>\n",
       "      <th>User</th>\n",
       "      <th>Work Date</th>\n",
       "      <th>Description</th>\n",
       "      <th>CLIN</th>\n",
       "      <th>WBS</th>\n",
       "      <th>ProjectID</th>\n",
       "      <th>Straight</th>\n",
       "      <th>Overtime</th>\n",
       "      <th>Total</th>\n",
       "      <th>SR_temp</th>\n",
       "      <th>OptYr</th>\n",
       "      <th>id_length</th>\n",
       "    </tr>\n",
       "  </thead>\n",
       "  <tbody>\n",
       "    <tr>\n",
       "      <th>83</th>\n",
       "      <td>Cherry, Christopher H</td>\n",
       "      <td>2020-10-19</td>\n",
       "      <td>Installation-Fixed Price</td>\n",
       "      <td>0114</td>\n",
       "      <td>000</td>\n",
       "      <td>613976.00.01.0114.000.5838381</td>\n",
       "      <td>8.00</td>\n",
       "      <td>0.00</td>\n",
       "      <td>8.00</td>\n",
       "      <td></td>\n",
       "      <td>OY..</td>\n",
       "      <td>29</td>\n",
       "    </tr>\n",
       "    <tr>\n",
       "      <th>84</th>\n",
       "      <td>Cherry, Christopher H</td>\n",
       "      <td>2020-10-20</td>\n",
       "      <td>Installation-Fixed Price</td>\n",
       "      <td>0114</td>\n",
       "      <td>000</td>\n",
       "      <td>613976.00.01.0114.000.5838381</td>\n",
       "      <td>8.00</td>\n",
       "      <td>0.00</td>\n",
       "      <td>8.00</td>\n",
       "      <td></td>\n",
       "      <td>OY..</td>\n",
       "      <td>29</td>\n",
       "    </tr>\n",
       "    <tr>\n",
       "      <th>85</th>\n",
       "      <td>Cherry, Christopher H</td>\n",
       "      <td>2020-10-21</td>\n",
       "      <td>Installation-Fixed Price</td>\n",
       "      <td>0114</td>\n",
       "      <td>000</td>\n",
       "      <td>613976.00.01.0114.000.5838381</td>\n",
       "      <td>8.00</td>\n",
       "      <td>0.00</td>\n",
       "      <td>8.00</td>\n",
       "      <td></td>\n",
       "      <td>OY..</td>\n",
       "      <td>29</td>\n",
       "    </tr>\n",
       "  </tbody>\n",
       "</table>\n",
       "</div>"
      ],
      "text/plain": [
       "                     User   Work Date               Description  CLIN  WBS  \\\n",
       "83  Cherry, Christopher H  2020-10-19  Installation-Fixed Price  0114  000   \n",
       "84  Cherry, Christopher H  2020-10-20  Installation-Fixed Price  0114  000   \n",
       "85  Cherry, Christopher H  2020-10-21  Installation-Fixed Price  0114  000   \n",
       "\n",
       "                        ProjectID  Straight  Overtime  Total SR_temp OptYr  \\\n",
       "83  613976.00.01.0114.000.5838381      8.00      0.00   8.00          OY..   \n",
       "84  613976.00.01.0114.000.5838381      8.00      0.00   8.00          OY..   \n",
       "85  613976.00.01.0114.000.5838381      8.00      0.00   8.00          OY..   \n",
       "\n",
       "    id_length  \n",
       "83         29  \n",
       "84         29  \n",
       "85         29  "
      ]
     },
     "execution_count": 70,
     "metadata": {},
     "output_type": "execute_result"
    }
   ],
   "source": [
    "df29.head(3)"
   ]
  },
  {
   "cell_type": "code",
   "execution_count": 71,
   "metadata": {
    "collapsed": false
   },
   "outputs": [
    {
     "name": "stderr",
     "output_type": "stream",
     "text": [
      "C:\\Program Files\\Anaconda3\\lib\\site-packages\\ipykernel\\__main__.py:2: SettingWithCopyWarning: \n",
      "A value is trying to be set on a copy of a slice from a DataFrame.\n",
      "Try using .loc[row_indexer,col_indexer] = value instead\n",
      "\n",
      "See the caveats in the documentation: http://pandas.pydata.org/pandas-docs/stable/indexing.html#indexing-view-versus-copy\n",
      "  from ipykernel import kernelapp as app\n"
     ]
    },
    {
     "data": {
      "text/html": [
       "<div>\n",
       "<table border=\"1\" class=\"dataframe\">\n",
       "  <thead>\n",
       "    <tr style=\"text-align: right;\">\n",
       "      <th></th>\n",
       "      <th>User</th>\n",
       "      <th>Work Date</th>\n",
       "      <th>Description</th>\n",
       "      <th>CLIN</th>\n",
       "      <th>WBS</th>\n",
       "      <th>ProjectID</th>\n",
       "      <th>Straight</th>\n",
       "      <th>Overtime</th>\n",
       "      <th>Total</th>\n",
       "      <th>SR_temp</th>\n",
       "      <th>OptYr</th>\n",
       "      <th>id_length</th>\n",
       "      <th>SR_no</th>\n",
       "    </tr>\n",
       "  </thead>\n",
       "  <tbody>\n",
       "    <tr>\n",
       "      <th>83</th>\n",
       "      <td>Cherry, Christopher H</td>\n",
       "      <td>2020-10-19</td>\n",
       "      <td>Installation-Fixed Price</td>\n",
       "      <td>0114</td>\n",
       "      <td>000</td>\n",
       "      <td>613976.00.01.0114.000.5838381</td>\n",
       "      <td>8.00</td>\n",
       "      <td>0.00</td>\n",
       "      <td>8.00</td>\n",
       "      <td></td>\n",
       "      <td>OY..</td>\n",
       "      <td>29</td>\n",
       "      <td>5838381</td>\n",
       "    </tr>\n",
       "    <tr>\n",
       "      <th>84</th>\n",
       "      <td>Cherry, Christopher H</td>\n",
       "      <td>2020-10-20</td>\n",
       "      <td>Installation-Fixed Price</td>\n",
       "      <td>0114</td>\n",
       "      <td>000</td>\n",
       "      <td>613976.00.01.0114.000.5838381</td>\n",
       "      <td>8.00</td>\n",
       "      <td>0.00</td>\n",
       "      <td>8.00</td>\n",
       "      <td></td>\n",
       "      <td>OY..</td>\n",
       "      <td>29</td>\n",
       "      <td>5838381</td>\n",
       "    </tr>\n",
       "    <tr>\n",
       "      <th>85</th>\n",
       "      <td>Cherry, Christopher H</td>\n",
       "      <td>2020-10-21</td>\n",
       "      <td>Installation-Fixed Price</td>\n",
       "      <td>0114</td>\n",
       "      <td>000</td>\n",
       "      <td>613976.00.01.0114.000.5838381</td>\n",
       "      <td>8.00</td>\n",
       "      <td>0.00</td>\n",
       "      <td>8.00</td>\n",
       "      <td></td>\n",
       "      <td>OY..</td>\n",
       "      <td>29</td>\n",
       "      <td>5838381</td>\n",
       "    </tr>\n",
       "  </tbody>\n",
       "</table>\n",
       "</div>"
      ],
      "text/plain": [
       "                     User   Work Date               Description  CLIN  WBS  \\\n",
       "83  Cherry, Christopher H  2020-10-19  Installation-Fixed Price  0114  000   \n",
       "84  Cherry, Christopher H  2020-10-20  Installation-Fixed Price  0114  000   \n",
       "85  Cherry, Christopher H  2020-10-21  Installation-Fixed Price  0114  000   \n",
       "\n",
       "                        ProjectID  Straight  Overtime  Total SR_temp OptYr  \\\n",
       "83  613976.00.01.0114.000.5838381      8.00      0.00   8.00          OY..   \n",
       "84  613976.00.01.0114.000.5838381      8.00      0.00   8.00          OY..   \n",
       "85  613976.00.01.0114.000.5838381      8.00      0.00   8.00          OY..   \n",
       "\n",
       "    id_length    SR_no  \n",
       "83         29  5838381  \n",
       "84         29  5838381  \n",
       "85         29  5838381  "
      ]
     },
     "execution_count": 71,
     "metadata": {},
     "output_type": "execute_result"
    }
   ],
   "source": [
    "# get sr from tpid\n",
    "df29['SR_no'] = df29.ProjectID.str.split(\".\", expand=True,)[5]\n",
    "df29.head(3)"
   ]
  },
  {
   "cell_type": "code",
   "execution_count": 72,
   "metadata": {
    "collapsed": false
   },
   "outputs": [
    {
     "data": {
      "text/html": [
       "<div>\n",
       "<table border=\"1\" class=\"dataframe\">\n",
       "  <thead>\n",
       "    <tr style=\"text-align: right;\">\n",
       "      <th></th>\n",
       "      <th>User</th>\n",
       "      <th>Work Date</th>\n",
       "      <th>Description</th>\n",
       "      <th>CLIN</th>\n",
       "      <th>WBS</th>\n",
       "      <th>ProjectID</th>\n",
       "      <th>Straight</th>\n",
       "      <th>Overtime</th>\n",
       "      <th>Total</th>\n",
       "      <th>SR_temp</th>\n",
       "      <th>SR_prefix</th>\n",
       "      <th>OptYr</th>\n",
       "      <th>id_length</th>\n",
       "      <th>SR_no</th>\n",
       "    </tr>\n",
       "  </thead>\n",
       "  <tbody>\n",
       "    <tr>\n",
       "      <th>83</th>\n",
       "      <td>Cherry, Christopher H</td>\n",
       "      <td>2020-10-19</td>\n",
       "      <td>Installation-Fixed Price</td>\n",
       "      <td>0114</td>\n",
       "      <td>000</td>\n",
       "      <td>613976.00.01.0114.000.5838381</td>\n",
       "      <td>8.00</td>\n",
       "      <td>0.00</td>\n",
       "      <td>8.00</td>\n",
       "      <td></td>\n",
       "      <td>SR-</td>\n",
       "      <td>OY..</td>\n",
       "      <td>29</td>\n",
       "      <td>5838381</td>\n",
       "    </tr>\n",
       "    <tr>\n",
       "      <th>84</th>\n",
       "      <td>Cherry, Christopher H</td>\n",
       "      <td>2020-10-20</td>\n",
       "      <td>Installation-Fixed Price</td>\n",
       "      <td>0114</td>\n",
       "      <td>000</td>\n",
       "      <td>613976.00.01.0114.000.5838381</td>\n",
       "      <td>8.00</td>\n",
       "      <td>0.00</td>\n",
       "      <td>8.00</td>\n",
       "      <td></td>\n",
       "      <td>SR-</td>\n",
       "      <td>OY..</td>\n",
       "      <td>29</td>\n",
       "      <td>5838381</td>\n",
       "    </tr>\n",
       "    <tr>\n",
       "      <th>85</th>\n",
       "      <td>Cherry, Christopher H</td>\n",
       "      <td>2020-10-21</td>\n",
       "      <td>Installation-Fixed Price</td>\n",
       "      <td>0114</td>\n",
       "      <td>000</td>\n",
       "      <td>613976.00.01.0114.000.5838381</td>\n",
       "      <td>8.00</td>\n",
       "      <td>0.00</td>\n",
       "      <td>8.00</td>\n",
       "      <td></td>\n",
       "      <td>SR-</td>\n",
       "      <td>OY..</td>\n",
       "      <td>29</td>\n",
       "      <td>5838381</td>\n",
       "    </tr>\n",
       "  </tbody>\n",
       "</table>\n",
       "</div>"
      ],
      "text/plain": [
       "                     User   Work Date               Description  CLIN  WBS  \\\n",
       "83  Cherry, Christopher H  2020-10-19  Installation-Fixed Price  0114  000   \n",
       "84  Cherry, Christopher H  2020-10-20  Installation-Fixed Price  0114  000   \n",
       "85  Cherry, Christopher H  2020-10-21  Installation-Fixed Price  0114  000   \n",
       "\n",
       "                        ProjectID  Straight  Overtime  Total SR_temp  \\\n",
       "83  613976.00.01.0114.000.5838381      8.00      0.00   8.00           \n",
       "84  613976.00.01.0114.000.5838381      8.00      0.00   8.00           \n",
       "85  613976.00.01.0114.000.5838381      8.00      0.00   8.00           \n",
       "\n",
       "   SR_prefix OptYr  id_length    SR_no  \n",
       "83       SR-  OY..         29  5838381  \n",
       "84       SR-  OY..         29  5838381  \n",
       "85       SR-  OY..         29  5838381  "
      ]
     },
     "execution_count": 72,
     "metadata": {},
     "output_type": "execute_result"
    }
   ],
   "source": [
    "df29.insert(10, 'SR_prefix', 'SR-')\n",
    "df29.head(3)"
   ]
  },
  {
   "cell_type": "code",
   "execution_count": 73,
   "metadata": {
    "collapsed": false
   },
   "outputs": [
    {
     "name": "stderr",
     "output_type": "stream",
     "text": [
      "C:\\Program Files\\Anaconda3\\lib\\site-packages\\ipykernel\\__main__.py:1: SettingWithCopyWarning: \n",
      "A value is trying to be set on a copy of a slice from a DataFrame.\n",
      "Try using .loc[row_indexer,col_indexer] = value instead\n",
      "\n",
      "See the caveats in the documentation: http://pandas.pydata.org/pandas-docs/stable/indexing.html#indexing-view-versus-copy\n",
      "  if __name__ == '__main__':\n"
     ]
    },
    {
     "data": {
      "text/html": [
       "<div>\n",
       "<table border=\"1\" class=\"dataframe\">\n",
       "  <thead>\n",
       "    <tr style=\"text-align: right;\">\n",
       "      <th></th>\n",
       "      <th>User</th>\n",
       "      <th>Work Date</th>\n",
       "      <th>Description</th>\n",
       "      <th>CLIN</th>\n",
       "      <th>WBS</th>\n",
       "      <th>ProjectID</th>\n",
       "      <th>Straight</th>\n",
       "      <th>Overtime</th>\n",
       "      <th>Total</th>\n",
       "      <th>SR_temp</th>\n",
       "      <th>SR_prefix</th>\n",
       "      <th>OptYr</th>\n",
       "      <th>id_length</th>\n",
       "      <th>SR_no</th>\n",
       "      <th>SR</th>\n",
       "    </tr>\n",
       "  </thead>\n",
       "  <tbody>\n",
       "    <tr>\n",
       "      <th>83</th>\n",
       "      <td>Cherry, Christopher H</td>\n",
       "      <td>2020-10-19</td>\n",
       "      <td>Installation-Fixed Price</td>\n",
       "      <td>0114</td>\n",
       "      <td>000</td>\n",
       "      <td>613976.00.01.0114.000.5838381</td>\n",
       "      <td>8.00</td>\n",
       "      <td>0.00</td>\n",
       "      <td>8.00</td>\n",
       "      <td></td>\n",
       "      <td>SR-</td>\n",
       "      <td>OY..</td>\n",
       "      <td>29</td>\n",
       "      <td>5838381</td>\n",
       "      <td>SR-5838381</td>\n",
       "    </tr>\n",
       "    <tr>\n",
       "      <th>84</th>\n",
       "      <td>Cherry, Christopher H</td>\n",
       "      <td>2020-10-20</td>\n",
       "      <td>Installation-Fixed Price</td>\n",
       "      <td>0114</td>\n",
       "      <td>000</td>\n",
       "      <td>613976.00.01.0114.000.5838381</td>\n",
       "      <td>8.00</td>\n",
       "      <td>0.00</td>\n",
       "      <td>8.00</td>\n",
       "      <td></td>\n",
       "      <td>SR-</td>\n",
       "      <td>OY..</td>\n",
       "      <td>29</td>\n",
       "      <td>5838381</td>\n",
       "      <td>SR-5838381</td>\n",
       "    </tr>\n",
       "    <tr>\n",
       "      <th>85</th>\n",
       "      <td>Cherry, Christopher H</td>\n",
       "      <td>2020-10-21</td>\n",
       "      <td>Installation-Fixed Price</td>\n",
       "      <td>0114</td>\n",
       "      <td>000</td>\n",
       "      <td>613976.00.01.0114.000.5838381</td>\n",
       "      <td>8.00</td>\n",
       "      <td>0.00</td>\n",
       "      <td>8.00</td>\n",
       "      <td></td>\n",
       "      <td>SR-</td>\n",
       "      <td>OY..</td>\n",
       "      <td>29</td>\n",
       "      <td>5838381</td>\n",
       "      <td>SR-5838381</td>\n",
       "    </tr>\n",
       "  </tbody>\n",
       "</table>\n",
       "</div>"
      ],
      "text/plain": [
       "                     User   Work Date               Description  CLIN  WBS  \\\n",
       "83  Cherry, Christopher H  2020-10-19  Installation-Fixed Price  0114  000   \n",
       "84  Cherry, Christopher H  2020-10-20  Installation-Fixed Price  0114  000   \n",
       "85  Cherry, Christopher H  2020-10-21  Installation-Fixed Price  0114  000   \n",
       "\n",
       "                        ProjectID  Straight  Overtime  Total SR_temp  \\\n",
       "83  613976.00.01.0114.000.5838381      8.00      0.00   8.00           \n",
       "84  613976.00.01.0114.000.5838381      8.00      0.00   8.00           \n",
       "85  613976.00.01.0114.000.5838381      8.00      0.00   8.00           \n",
       "\n",
       "   SR_prefix OptYr  id_length    SR_no          SR  \n",
       "83       SR-  OY..         29  5838381  SR-5838381  \n",
       "84       SR-  OY..         29  5838381  SR-5838381  \n",
       "85       SR-  OY..         29  5838381  SR-5838381  "
      ]
     },
     "execution_count": 73,
     "metadata": {},
     "output_type": "execute_result"
    }
   ],
   "source": [
    "df29['SR'] = df29['SR_prefix'] + df29['SR_no']\n",
    "df29.head(3)"
   ]
  },
  {
   "cell_type": "code",
   "execution_count": 74,
   "metadata": {
    "collapsed": false
   },
   "outputs": [
    {
     "data": {
      "text/html": [
       "<div>\n",
       "<table border=\"1\" class=\"dataframe\">\n",
       "  <thead>\n",
       "    <tr style=\"text-align: right;\">\n",
       "      <th></th>\n",
       "      <th>User</th>\n",
       "      <th>Work Date</th>\n",
       "      <th>Description</th>\n",
       "      <th>CLIN</th>\n",
       "      <th>WBS</th>\n",
       "      <th>ProjectID</th>\n",
       "      <th>Straight</th>\n",
       "      <th>Overtime</th>\n",
       "      <th>Total</th>\n",
       "      <th>SR_prefix</th>\n",
       "      <th>OptYr</th>\n",
       "      <th>id_length</th>\n",
       "      <th>SR_no</th>\n",
       "      <th>SR</th>\n",
       "    </tr>\n",
       "  </thead>\n",
       "  <tbody>\n",
       "    <tr>\n",
       "      <th>83</th>\n",
       "      <td>Cherry, Christopher H</td>\n",
       "      <td>2020-10-19</td>\n",
       "      <td>Installation-Fixed Price</td>\n",
       "      <td>0114</td>\n",
       "      <td>000</td>\n",
       "      <td>613976.00.01.0114.000.5838381</td>\n",
       "      <td>8.00</td>\n",
       "      <td>0.00</td>\n",
       "      <td>8.00</td>\n",
       "      <td>SR-</td>\n",
       "      <td>OY..</td>\n",
       "      <td>29</td>\n",
       "      <td>5838381</td>\n",
       "      <td>SR-5838381</td>\n",
       "    </tr>\n",
       "    <tr>\n",
       "      <th>84</th>\n",
       "      <td>Cherry, Christopher H</td>\n",
       "      <td>2020-10-20</td>\n",
       "      <td>Installation-Fixed Price</td>\n",
       "      <td>0114</td>\n",
       "      <td>000</td>\n",
       "      <td>613976.00.01.0114.000.5838381</td>\n",
       "      <td>8.00</td>\n",
       "      <td>0.00</td>\n",
       "      <td>8.00</td>\n",
       "      <td>SR-</td>\n",
       "      <td>OY..</td>\n",
       "      <td>29</td>\n",
       "      <td>5838381</td>\n",
       "      <td>SR-5838381</td>\n",
       "    </tr>\n",
       "    <tr>\n",
       "      <th>85</th>\n",
       "      <td>Cherry, Christopher H</td>\n",
       "      <td>2020-10-21</td>\n",
       "      <td>Installation-Fixed Price</td>\n",
       "      <td>0114</td>\n",
       "      <td>000</td>\n",
       "      <td>613976.00.01.0114.000.5838381</td>\n",
       "      <td>8.00</td>\n",
       "      <td>0.00</td>\n",
       "      <td>8.00</td>\n",
       "      <td>SR-</td>\n",
       "      <td>OY..</td>\n",
       "      <td>29</td>\n",
       "      <td>5838381</td>\n",
       "      <td>SR-5838381</td>\n",
       "    </tr>\n",
       "  </tbody>\n",
       "</table>\n",
       "</div>"
      ],
      "text/plain": [
       "                     User   Work Date               Description  CLIN  WBS  \\\n",
       "83  Cherry, Christopher H  2020-10-19  Installation-Fixed Price  0114  000   \n",
       "84  Cherry, Christopher H  2020-10-20  Installation-Fixed Price  0114  000   \n",
       "85  Cherry, Christopher H  2020-10-21  Installation-Fixed Price  0114  000   \n",
       "\n",
       "                        ProjectID  Straight  Overtime  Total SR_prefix OptYr  \\\n",
       "83  613976.00.01.0114.000.5838381      8.00      0.00   8.00       SR-  OY..   \n",
       "84  613976.00.01.0114.000.5838381      8.00      0.00   8.00       SR-  OY..   \n",
       "85  613976.00.01.0114.000.5838381      8.00      0.00   8.00       SR-  OY..   \n",
       "\n",
       "    id_length    SR_no          SR  \n",
       "83         29  5838381  SR-5838381  \n",
       "84         29  5838381  SR-5838381  \n",
       "85         29  5838381  SR-5838381  "
      ]
     },
     "execution_count": 74,
     "metadata": {},
     "output_type": "execute_result"
    }
   ],
   "source": [
    "# delete SR_temp column\n",
    "df29 = df29.drop('SR_temp', 1)\n",
    "df29.head(3)"
   ]
  },
  {
   "cell_type": "code",
   "execution_count": 75,
   "metadata": {
    "collapsed": false
   },
   "outputs": [
    {
     "data": {
      "text/html": [
       "<div>\n",
       "<table border=\"1\" class=\"dataframe\">\n",
       "  <thead>\n",
       "    <tr style=\"text-align: right;\">\n",
       "      <th></th>\n",
       "      <th>User</th>\n",
       "      <th>Work Date</th>\n",
       "      <th>Description</th>\n",
       "      <th>CLIN</th>\n",
       "      <th>WBS</th>\n",
       "      <th>ProjectID</th>\n",
       "      <th>Straight</th>\n",
       "      <th>Overtime</th>\n",
       "      <th>Total</th>\n",
       "      <th>OptYr</th>\n",
       "      <th>id_length</th>\n",
       "      <th>SR_no</th>\n",
       "      <th>SR</th>\n",
       "    </tr>\n",
       "  </thead>\n",
       "  <tbody>\n",
       "    <tr>\n",
       "      <th>83</th>\n",
       "      <td>Cherry, Christopher H</td>\n",
       "      <td>2020-10-19</td>\n",
       "      <td>Installation-Fixed Price</td>\n",
       "      <td>0114</td>\n",
       "      <td>000</td>\n",
       "      <td>613976.00.01.0114.000.5838381</td>\n",
       "      <td>8.00</td>\n",
       "      <td>0.00</td>\n",
       "      <td>8.00</td>\n",
       "      <td>OY..</td>\n",
       "      <td>29</td>\n",
       "      <td>5838381</td>\n",
       "      <td>SR-5838381</td>\n",
       "    </tr>\n",
       "    <tr>\n",
       "      <th>84</th>\n",
       "      <td>Cherry, Christopher H</td>\n",
       "      <td>2020-10-20</td>\n",
       "      <td>Installation-Fixed Price</td>\n",
       "      <td>0114</td>\n",
       "      <td>000</td>\n",
       "      <td>613976.00.01.0114.000.5838381</td>\n",
       "      <td>8.00</td>\n",
       "      <td>0.00</td>\n",
       "      <td>8.00</td>\n",
       "      <td>OY..</td>\n",
       "      <td>29</td>\n",
       "      <td>5838381</td>\n",
       "      <td>SR-5838381</td>\n",
       "    </tr>\n",
       "    <tr>\n",
       "      <th>85</th>\n",
       "      <td>Cherry, Christopher H</td>\n",
       "      <td>2020-10-21</td>\n",
       "      <td>Installation-Fixed Price</td>\n",
       "      <td>0114</td>\n",
       "      <td>000</td>\n",
       "      <td>613976.00.01.0114.000.5838381</td>\n",
       "      <td>8.00</td>\n",
       "      <td>0.00</td>\n",
       "      <td>8.00</td>\n",
       "      <td>OY..</td>\n",
       "      <td>29</td>\n",
       "      <td>5838381</td>\n",
       "      <td>SR-5838381</td>\n",
       "    </tr>\n",
       "  </tbody>\n",
       "</table>\n",
       "</div>"
      ],
      "text/plain": [
       "                     User   Work Date               Description  CLIN  WBS  \\\n",
       "83  Cherry, Christopher H  2020-10-19  Installation-Fixed Price  0114  000   \n",
       "84  Cherry, Christopher H  2020-10-20  Installation-Fixed Price  0114  000   \n",
       "85  Cherry, Christopher H  2020-10-21  Installation-Fixed Price  0114  000   \n",
       "\n",
       "                        ProjectID  Straight  Overtime  Total OptYr  id_length  \\\n",
       "83  613976.00.01.0114.000.5838381      8.00      0.00   8.00  OY..         29   \n",
       "84  613976.00.01.0114.000.5838381      8.00      0.00   8.00  OY..         29   \n",
       "85  613976.00.01.0114.000.5838381      8.00      0.00   8.00  OY..         29   \n",
       "\n",
       "      SR_no          SR  \n",
       "83  5838381  SR-5838381  \n",
       "84  5838381  SR-5838381  \n",
       "85  5838381  SR-5838381  "
      ]
     },
     "execution_count": 75,
     "metadata": {},
     "output_type": "execute_result"
    }
   ],
   "source": [
    "# delete SR_prefix column\n",
    "df29 = df29.drop('SR_prefix', 1)\n",
    "df29.head(3)"
   ]
  },
  {
   "cell_type": "code",
   "execution_count": 76,
   "metadata": {
    "collapsed": false
   },
   "outputs": [
    {
     "data": {
      "text/html": [
       "<div>\n",
       "<table border=\"1\" class=\"dataframe\">\n",
       "  <thead>\n",
       "    <tr style=\"text-align: right;\">\n",
       "      <th></th>\n",
       "      <th>User</th>\n",
       "      <th>Work Date</th>\n",
       "      <th>Description</th>\n",
       "      <th>CLIN</th>\n",
       "      <th>WBS</th>\n",
       "      <th>ProjectID</th>\n",
       "      <th>Straight</th>\n",
       "      <th>Overtime</th>\n",
       "      <th>Total</th>\n",
       "      <th>OptYr</th>\n",
       "      <th>id_length</th>\n",
       "      <th>SR</th>\n",
       "    </tr>\n",
       "  </thead>\n",
       "  <tbody>\n",
       "    <tr>\n",
       "      <th>83</th>\n",
       "      <td>Cherry, Christopher H</td>\n",
       "      <td>2020-10-19</td>\n",
       "      <td>Installation-Fixed Price</td>\n",
       "      <td>0114</td>\n",
       "      <td>000</td>\n",
       "      <td>613976.00.01.0114.000.5838381</td>\n",
       "      <td>8.00</td>\n",
       "      <td>0.00</td>\n",
       "      <td>8.00</td>\n",
       "      <td>OY..</td>\n",
       "      <td>29</td>\n",
       "      <td>SR-5838381</td>\n",
       "    </tr>\n",
       "    <tr>\n",
       "      <th>84</th>\n",
       "      <td>Cherry, Christopher H</td>\n",
       "      <td>2020-10-20</td>\n",
       "      <td>Installation-Fixed Price</td>\n",
       "      <td>0114</td>\n",
       "      <td>000</td>\n",
       "      <td>613976.00.01.0114.000.5838381</td>\n",
       "      <td>8.00</td>\n",
       "      <td>0.00</td>\n",
       "      <td>8.00</td>\n",
       "      <td>OY..</td>\n",
       "      <td>29</td>\n",
       "      <td>SR-5838381</td>\n",
       "    </tr>\n",
       "    <tr>\n",
       "      <th>85</th>\n",
       "      <td>Cherry, Christopher H</td>\n",
       "      <td>2020-10-21</td>\n",
       "      <td>Installation-Fixed Price</td>\n",
       "      <td>0114</td>\n",
       "      <td>000</td>\n",
       "      <td>613976.00.01.0114.000.5838381</td>\n",
       "      <td>8.00</td>\n",
       "      <td>0.00</td>\n",
       "      <td>8.00</td>\n",
       "      <td>OY..</td>\n",
       "      <td>29</td>\n",
       "      <td>SR-5838381</td>\n",
       "    </tr>\n",
       "  </tbody>\n",
       "</table>\n",
       "</div>"
      ],
      "text/plain": [
       "                     User   Work Date               Description  CLIN  WBS  \\\n",
       "83  Cherry, Christopher H  2020-10-19  Installation-Fixed Price  0114  000   \n",
       "84  Cherry, Christopher H  2020-10-20  Installation-Fixed Price  0114  000   \n",
       "85  Cherry, Christopher H  2020-10-21  Installation-Fixed Price  0114  000   \n",
       "\n",
       "                        ProjectID  Straight  Overtime  Total OptYr  id_length  \\\n",
       "83  613976.00.01.0114.000.5838381      8.00      0.00   8.00  OY..         29   \n",
       "84  613976.00.01.0114.000.5838381      8.00      0.00   8.00  OY..         29   \n",
       "85  613976.00.01.0114.000.5838381      8.00      0.00   8.00  OY..         29   \n",
       "\n",
       "            SR  \n",
       "83  SR-5838381  \n",
       "84  SR-5838381  \n",
       "85  SR-5838381  "
      ]
     },
     "execution_count": 76,
     "metadata": {},
     "output_type": "execute_result"
    }
   ],
   "source": [
    "# delete SR_no column\n",
    "df29 = df29.drop('SR_no', 1)\n",
    "df29.head(3)"
   ]
  },
  {
   "cell_type": "code",
   "execution_count": 77,
   "metadata": {
    "collapsed": false
   },
   "outputs": [],
   "source": [
    "# standardize column order\n",
    "df21 = df21[['User', 'Work Date', 'Description', 'CLIN', 'WBS', 'ProjectID', 'Straight', 'Overtime', 'Total', 'SR', 'OptYr', 'id_length']]\n",
    "df29 = df29[['User', 'Work Date', 'Description', 'CLIN', 'WBS', 'ProjectID', 'Straight', 'Overtime', 'Total', 'SR', 'OptYr', 'id_length']]"
   ]
  },
  {
   "cell_type": "code",
   "execution_count": 78,
   "metadata": {
    "collapsed": false
   },
   "outputs": [],
   "source": [
    "# concatenate vertical dataframes\n",
    "df = pandas.concat([df21, df29], axis=0)"
   ]
  },
  {
   "cell_type": "code",
   "execution_count": 79,
   "metadata": {
    "collapsed": false
   },
   "outputs": [
    {
     "data": {
      "text/plain": [
       "(29615, 12)"
      ]
     },
     "execution_count": 79,
     "metadata": {},
     "output_type": "execute_result"
    }
   ],
   "source": [
    "df21.shape"
   ]
  },
  {
   "cell_type": "code",
   "execution_count": 80,
   "metadata": {
    "collapsed": false
   },
   "outputs": [
    {
     "data": {
      "text/plain": [
       "(6309, 12)"
      ]
     },
     "execution_count": 80,
     "metadata": {},
     "output_type": "execute_result"
    }
   ],
   "source": [
    "df29.shape"
   ]
  },
  {
   "cell_type": "code",
   "execution_count": 81,
   "metadata": {
    "collapsed": false
   },
   "outputs": [
    {
     "data": {
      "text/plain": [
       "(35924, 12)"
      ]
     },
     "execution_count": 81,
     "metadata": {},
     "output_type": "execute_result"
    }
   ],
   "source": [
    "# check columns\n",
    "df.shape"
   ]
  },
  {
   "cell_type": "code",
   "execution_count": 82,
   "metadata": {
    "collapsed": false
   },
   "outputs": [
    {
     "data": {
      "text/plain": [
       "0"
      ]
     },
     "execution_count": 82,
     "metadata": {},
     "output_type": "execute_result"
    }
   ],
   "source": [
    "# check size (should equal zero)\n",
    "df.shape[0] - (df21.shape[0] + df29.shape[0])"
   ]
  },
  {
   "cell_type": "code",
   "execution_count": 83,
   "metadata": {
    "collapsed": true
   },
   "outputs": [],
   "source": [
    "# memory management\n",
    "del[df21, df29]"
   ]
  },
  {
   "cell_type": "code",
   "execution_count": 84,
   "metadata": {
    "collapsed": false
   },
   "outputs": [
    {
     "data": {
      "text/plain": [
       "274"
      ]
     },
     "execution_count": 84,
     "metadata": {},
     "output_type": "execute_result"
    }
   ],
   "source": [
    "gc.collect()"
   ]
  },
  {
   "cell_type": "code",
   "execution_count": 85,
   "metadata": {
    "collapsed": false,
    "scrolled": true
   },
   "outputs": [],
   "source": [
    "# write data to csv (default is U:\\Documents)\n",
    "# df.to_csv('AP2 Regular & OT Hours for Adv by CCC_#505ap-modified.csv')"
   ]
  },
  {
   "cell_type": "code",
   "execution_count": 86,
   "metadata": {
    "collapsed": false
   },
   "outputs": [
    {
     "name": "stdout",
     "output_type": "stream",
     "text": [
      "<class 'pandas.core.frame.DataFrame'>\n",
      "Int64Index: 35924 entries, 0 to 35854\n",
      "Data columns (total 12 columns):\n",
      "User           35924 non-null object\n",
      "Work Date      35924 non-null object\n",
      "Description    35924 non-null object\n",
      "CLIN           35924 non-null object\n",
      "WBS            35924 non-null object\n",
      "ProjectID      35924 non-null object\n",
      "Straight       35924 non-null float64\n",
      "Overtime       35924 non-null float64\n",
      "Total          35924 non-null float64\n",
      "SR             35924 non-null object\n",
      "OptYr          35924 non-null object\n",
      "id_length      35924 non-null int64\n",
      "dtypes: float64(3), int64(1), object(8)\n",
      "memory usage: 3.6+ MB\n"
     ]
    }
   ],
   "source": [
    "# check metadata\n",
    "df.info()"
   ]
  },
  {
   "cell_type": "code",
   "execution_count": 87,
   "metadata": {
    "collapsed": false
   },
   "outputs": [
    {
     "data": {
      "text/html": [
       "<div>\n",
       "<table border=\"1\" class=\"dataframe\">\n",
       "  <thead>\n",
       "    <tr style=\"text-align: right;\">\n",
       "      <th></th>\n",
       "      <th>User</th>\n",
       "      <th>Work Date</th>\n",
       "      <th>Description</th>\n",
       "      <th>CLIN</th>\n",
       "      <th>WBS</th>\n",
       "      <th>ProjectID</th>\n",
       "      <th>Straight</th>\n",
       "      <th>Overtime</th>\n",
       "      <th>Total</th>\n",
       "      <th>SR</th>\n",
       "      <th>OptYr</th>\n",
       "      <th>id_length</th>\n",
       "    </tr>\n",
       "  </thead>\n",
       "  <tbody>\n",
       "    <tr>\n",
       "      <th>0</th>\n",
       "      <td>Schneider, Laura E</td>\n",
       "      <td>2020-10-06</td>\n",
       "      <td>Software Services</td>\n",
       "      <td>0111</td>\n",
       "      <td>509</td>\n",
       "      <td>613976.00.01.0111.509</td>\n",
       "      <td>10.00</td>\n",
       "      <td>0.00</td>\n",
       "      <td>10.00</td>\n",
       "      <td>SR-0000000</td>\n",
       "      <td>OY..</td>\n",
       "      <td>21</td>\n",
       "    </tr>\n",
       "    <tr>\n",
       "      <th>1</th>\n",
       "      <td>Schneider, Laura E</td>\n",
       "      <td>2020-10-07</td>\n",
       "      <td>Software Services</td>\n",
       "      <td>0111</td>\n",
       "      <td>509</td>\n",
       "      <td>613976.00.01.0111.509</td>\n",
       "      <td>10.00</td>\n",
       "      <td>0.00</td>\n",
       "      <td>10.00</td>\n",
       "      <td>SR-0000000</td>\n",
       "      <td>OY..</td>\n",
       "      <td>21</td>\n",
       "    </tr>\n",
       "    <tr>\n",
       "      <th>2</th>\n",
       "      <td>Schneider, Laura E</td>\n",
       "      <td>2020-10-08</td>\n",
       "      <td>Software Services</td>\n",
       "      <td>0111</td>\n",
       "      <td>509</td>\n",
       "      <td>613976.00.01.0111.509</td>\n",
       "      <td>10.00</td>\n",
       "      <td>0.00</td>\n",
       "      <td>10.00</td>\n",
       "      <td>SR-0000000</td>\n",
       "      <td>OY..</td>\n",
       "      <td>21</td>\n",
       "    </tr>\n",
       "  </tbody>\n",
       "</table>\n",
       "</div>"
      ],
      "text/plain": [
       "                 User   Work Date        Description  CLIN  WBS  \\\n",
       "0  Schneider, Laura E  2020-10-06  Software Services  0111  509   \n",
       "1  Schneider, Laura E  2020-10-07  Software Services  0111  509   \n",
       "2  Schneider, Laura E  2020-10-08  Software Services  0111  509   \n",
       "\n",
       "               ProjectID  Straight  Overtime  Total          SR OptYr  \\\n",
       "0  613976.00.01.0111.509     10.00      0.00  10.00  SR-0000000  OY..   \n",
       "1  613976.00.01.0111.509     10.00      0.00  10.00  SR-0000000  OY..   \n",
       "2  613976.00.01.0111.509     10.00      0.00  10.00  SR-0000000  OY..   \n",
       "\n",
       "   id_length  \n",
       "0         21  \n",
       "1         21  \n",
       "2         21  "
      ]
     },
     "execution_count": 87,
     "metadata": {},
     "output_type": "execute_result"
    }
   ],
   "source": [
    "# data check\n",
    "df.head(3)"
   ]
  },
  {
   "cell_type": "code",
   "execution_count": 88,
   "metadata": {
    "collapsed": false
   },
   "outputs": [
    {
     "data": {
      "text/html": [
       "<div>\n",
       "<table border=\"1\" class=\"dataframe\">\n",
       "  <thead>\n",
       "    <tr style=\"text-align: right;\">\n",
       "      <th></th>\n",
       "      <th>A</th>\n",
       "      <th>B</th>\n",
       "      <th>C</th>\n",
       "      <th>D</th>\n",
       "    </tr>\n",
       "  </thead>\n",
       "  <tbody>\n",
       "    <tr>\n",
       "      <th>0</th>\n",
       "      <td>0.00</td>\n",
       "      <td>0.00</td>\n",
       "      <td>foo1</td>\n",
       "      <td>2009-01-01</td>\n",
       "    </tr>\n",
       "    <tr>\n",
       "      <th>1</th>\n",
       "      <td>1.00</td>\n",
       "      <td>1.00</td>\n",
       "      <td>foo2</td>\n",
       "      <td>2009-01-02</td>\n",
       "    </tr>\n",
       "    <tr>\n",
       "      <th>2</th>\n",
       "      <td>2.00</td>\n",
       "      <td>0.00</td>\n",
       "      <td>foo3</td>\n",
       "      <td>2009-01-05</td>\n",
       "    </tr>\n",
       "    <tr>\n",
       "      <th>3</th>\n",
       "      <td>3.00</td>\n",
       "      <td>1.00</td>\n",
       "      <td>foo4</td>\n",
       "      <td>2009-01-06</td>\n",
       "    </tr>\n",
       "    <tr>\n",
       "      <th>4</th>\n",
       "      <td>4.00</td>\n",
       "      <td>0.00</td>\n",
       "      <td>foo5</td>\n",
       "      <td>2009-01-07</td>\n",
       "    </tr>\n",
       "  </tbody>\n",
       "</table>\n",
       "</div>"
      ],
      "text/plain": [
       "     A    B     C          D\n",
       "0 0.00 0.00  foo1 2009-01-01\n",
       "1 1.00 1.00  foo2 2009-01-02\n",
       "2 2.00 0.00  foo3 2009-01-05\n",
       "3 3.00 1.00  foo4 2009-01-06\n",
       "4 4.00 0.00  foo5 2009-01-07"
      ]
     },
     "execution_count": 88,
     "metadata": {},
     "output_type": "execute_result"
    }
   ],
   "source": [
    "# tip 1\n",
    "# create dataframe with mixed data types\n",
    "pandas.util.testing.makeMixedDataFrame()"
   ]
  },
  {
   "cell_type": "code",
   "execution_count": 89,
   "metadata": {
    "collapsed": false
   },
   "outputs": [
    {
     "data": {
      "text/html": [
       "<div>\n",
       "<table border=\"1\" class=\"dataframe\">\n",
       "  <thead>\n",
       "    <tr style=\"text-align: right;\">\n",
       "      <th></th>\n",
       "      <th>A</th>\n",
       "      <th>B</th>\n",
       "      <th>C</th>\n",
       "      <th>A2</th>\n",
       "      <th>D</th>\n",
       "    </tr>\n",
       "  </thead>\n",
       "  <tbody>\n",
       "    <tr>\n",
       "      <th>0</th>\n",
       "      <td>0.00</td>\n",
       "      <td>0.00</td>\n",
       "      <td>foo1</td>\n",
       "      <td>0.00</td>\n",
       "      <td>2009-01-01</td>\n",
       "    </tr>\n",
       "    <tr>\n",
       "      <th>1</th>\n",
       "      <td>1.00</td>\n",
       "      <td>1.00</td>\n",
       "      <td>foo2</td>\n",
       "      <td>2.00</td>\n",
       "      <td>2009-01-02</td>\n",
       "    </tr>\n",
       "    <tr>\n",
       "      <th>2</th>\n",
       "      <td>2.00</td>\n",
       "      <td>0.00</td>\n",
       "      <td>foo3</td>\n",
       "      <td>4.00</td>\n",
       "      <td>2009-01-05</td>\n",
       "    </tr>\n",
       "    <tr>\n",
       "      <th>3</th>\n",
       "      <td>3.00</td>\n",
       "      <td>1.00</td>\n",
       "      <td>foo4</td>\n",
       "      <td>6.00</td>\n",
       "      <td>2009-01-06</td>\n",
       "    </tr>\n",
       "    <tr>\n",
       "      <th>4</th>\n",
       "      <td>4.00</td>\n",
       "      <td>0.00</td>\n",
       "      <td>foo5</td>\n",
       "      <td>8.00</td>\n",
       "      <td>2009-01-07</td>\n",
       "    </tr>\n",
       "  </tbody>\n",
       "</table>\n",
       "</div>"
      ],
      "text/plain": [
       "     A    B     C   A2          D\n",
       "0 0.00 0.00  foo1 0.00 2009-01-01\n",
       "1 1.00 1.00  foo2 2.00 2009-01-02\n",
       "2 2.00 0.00  foo3 4.00 2009-01-05\n",
       "3 3.00 1.00  foo4 6.00 2009-01-06\n",
       "4 4.00 0.00  foo5 8.00 2009-01-07"
      ]
     },
     "execution_count": 89,
     "metadata": {},
     "output_type": "execute_result"
    }
   ],
   "source": [
    "# tip 2\n",
    "# insert a new column which is a function of another column\n",
    "dftest = pandas.util.testing.makeMixedDataFrame()\n",
    "#print(dftest)\n",
    "dftest.insert(3, 'A2', dftest['A'] * 2)\n",
    "dftest"
   ]
  },
  {
   "cell_type": "code",
   "execution_count": 90,
   "metadata": {
    "collapsed": false
   },
   "outputs": [
    {
     "data": {
      "text/html": [
       "<div>\n",
       "<table border=\"1\" class=\"dataframe\">\n",
       "  <thead>\n",
       "    <tr style=\"text-align: right;\">\n",
       "      <th></th>\n",
       "      <th>A</th>\n",
       "      <th>B</th>\n",
       "      <th>C</th>\n",
       "      <th>Country</th>\n",
       "      <th>D</th>\n",
       "    </tr>\n",
       "  </thead>\n",
       "  <tbody>\n",
       "    <tr>\n",
       "      <th>0</th>\n",
       "      <td>0.00</td>\n",
       "      <td>0.00</td>\n",
       "      <td>foo1</td>\n",
       "      <td>USA</td>\n",
       "      <td>2009-01-01</td>\n",
       "    </tr>\n",
       "    <tr>\n",
       "      <th>1</th>\n",
       "      <td>1.00</td>\n",
       "      <td>1.00</td>\n",
       "      <td>foo2</td>\n",
       "      <td>USA</td>\n",
       "      <td>2009-01-02</td>\n",
       "    </tr>\n",
       "    <tr>\n",
       "      <th>2</th>\n",
       "      <td>2.00</td>\n",
       "      <td>0.00</td>\n",
       "      <td>foo3</td>\n",
       "      <td>USA</td>\n",
       "      <td>2009-01-05</td>\n",
       "    </tr>\n",
       "    <tr>\n",
       "      <th>3</th>\n",
       "      <td>3.00</td>\n",
       "      <td>1.00</td>\n",
       "      <td>foo4</td>\n",
       "      <td>USA</td>\n",
       "      <td>2009-01-06</td>\n",
       "    </tr>\n",
       "    <tr>\n",
       "      <th>4</th>\n",
       "      <td>4.00</td>\n",
       "      <td>0.00</td>\n",
       "      <td>foo5</td>\n",
       "      <td>USA</td>\n",
       "      <td>2009-01-07</td>\n",
       "    </tr>\n",
       "  </tbody>\n",
       "</table>\n",
       "</div>"
      ],
      "text/plain": [
       "     A    B     C Country          D\n",
       "0 0.00 0.00  foo1     USA 2009-01-01\n",
       "1 1.00 1.00  foo2     USA 2009-01-02\n",
       "2 2.00 0.00  foo3     USA 2009-01-05\n",
       "3 3.00 1.00  foo4     USA 2009-01-06\n",
       "4 4.00 0.00  foo5     USA 2009-01-07"
      ]
     },
     "execution_count": 90,
     "metadata": {},
     "output_type": "execute_result"
    }
   ],
   "source": [
    "# tip 3\n",
    "# insert a new column with a constant value in the column with index 3 (i.e., 4)\n",
    "dftest = pandas.util.testing.makeMixedDataFrame()\n",
    "dftest.insert(3, 'Country', 'USA')\n",
    "dftest"
   ]
  },
  {
   "cell_type": "code",
   "execution_count": 91,
   "metadata": {
    "collapsed": false
   },
   "outputs": [
    {
     "data": {
      "text/html": [
       "<div>\n",
       "<table border=\"1\" class=\"dataframe\">\n",
       "  <thead>\n",
       "    <tr style=\"text-align: right;\">\n",
       "      <th></th>\n",
       "      <th>ID</th>\n",
       "      <th>B</th>\n",
       "      <th>C</th>\n",
       "      <th>Date</th>\n",
       "    </tr>\n",
       "  </thead>\n",
       "  <tbody>\n",
       "    <tr>\n",
       "      <th>0</th>\n",
       "      <td>0.00</td>\n",
       "      <td>0.00</td>\n",
       "      <td>foo1</td>\n",
       "      <td>2009-01-01</td>\n",
       "    </tr>\n",
       "    <tr>\n",
       "      <th>1</th>\n",
       "      <td>1.00</td>\n",
       "      <td>1.00</td>\n",
       "      <td>foo2</td>\n",
       "      <td>2009-01-02</td>\n",
       "    </tr>\n",
       "    <tr>\n",
       "      <th>2</th>\n",
       "      <td>2.00</td>\n",
       "      <td>0.00</td>\n",
       "      <td>foo3</td>\n",
       "      <td>2009-01-05</td>\n",
       "    </tr>\n",
       "    <tr>\n",
       "      <th>3</th>\n",
       "      <td>3.00</td>\n",
       "      <td>1.00</td>\n",
       "      <td>foo4</td>\n",
       "      <td>2009-01-06</td>\n",
       "    </tr>\n",
       "    <tr>\n",
       "      <th>4</th>\n",
       "      <td>4.00</td>\n",
       "      <td>0.00</td>\n",
       "      <td>foo5</td>\n",
       "      <td>2009-01-07</td>\n",
       "    </tr>\n",
       "  </tbody>\n",
       "</table>\n",
       "</div>"
      ],
      "text/plain": [
       "    ID    B     C       Date\n",
       "0 0.00 0.00  foo1 2009-01-01\n",
       "1 1.00 1.00  foo2 2009-01-02\n",
       "2 2.00 0.00  foo3 2009-01-05\n",
       "3 3.00 1.00  foo4 2009-01-06\n",
       "4 4.00 0.00  foo5 2009-01-07"
      ]
     },
     "execution_count": 91,
     "metadata": {},
     "output_type": "execute_result"
    }
   ],
   "source": [
    "# tip 4\n",
    "# change column names\n",
    "dftest = pandas.util.testing.makeMixedDataFrame()\n",
    "dftest\n",
    "dftest.rename(columns={'A':'ID', 'D':'Date'})"
   ]
  },
  {
   "cell_type": "code",
   "execution_count": 92,
   "metadata": {
    "collapsed": false
   },
   "outputs": [
    {
     "data": {
      "text/html": [
       "<div>\n",
       "<table border=\"1\" class=\"dataframe\">\n",
       "  <thead>\n",
       "    <tr style=\"text-align: right;\">\n",
       "      <th></th>\n",
       "      <th>A</th>\n",
       "      <th>B</th>\n",
       "      <th>C</th>\n",
       "      <th>D</th>\n",
       "      <th>E</th>\n",
       "    </tr>\n",
       "  </thead>\n",
       "  <tbody>\n",
       "    <tr>\n",
       "      <th>0</th>\n",
       "      <td>0.00</td>\n",
       "      <td>0.00</td>\n",
       "      <td>foo1</td>\n",
       "      <td>2009-01-01</td>\n",
       "      <td>foo1</td>\n",
       "    </tr>\n",
       "    <tr>\n",
       "      <th>1</th>\n",
       "      <td>1.00</td>\n",
       "      <td>1.00</td>\n",
       "      <td>foo2</td>\n",
       "      <td>2009-01-02</td>\n",
       "      <td>foo2</td>\n",
       "    </tr>\n",
       "    <tr>\n",
       "      <th>2</th>\n",
       "      <td>2.00</td>\n",
       "      <td>0.00</td>\n",
       "      <td>foo3</td>\n",
       "      <td>2009-01-05</td>\n",
       "      <td>foo3</td>\n",
       "    </tr>\n",
       "    <tr>\n",
       "      <th>3</th>\n",
       "      <td>3.00</td>\n",
       "      <td>1.00</td>\n",
       "      <td>foo4</td>\n",
       "      <td>2009-01-06</td>\n",
       "      <td>foo4</td>\n",
       "    </tr>\n",
       "    <tr>\n",
       "      <th>4</th>\n",
       "      <td>4.00</td>\n",
       "      <td>0.00</td>\n",
       "      <td>foo5</td>\n",
       "      <td>2009-01-07</td>\n",
       "      <td>foo5</td>\n",
       "    </tr>\n",
       "  </tbody>\n",
       "</table>\n",
       "</div>"
      ],
      "text/plain": [
       "     A    B     C          D     E\n",
       "0 0.00 0.00  foo1 2009-01-01  foo1\n",
       "1 1.00 1.00  foo2 2009-01-02  foo2\n",
       "2 2.00 0.00  foo3 2009-01-05  foo3\n",
       "3 3.00 1.00  foo4 2009-01-06  foo4\n",
       "4 4.00 0.00  foo5 2009-01-07  foo5"
      ]
     },
     "execution_count": 92,
     "metadata": {},
     "output_type": "execute_result"
    }
   ],
   "source": [
    "# tip 5\n",
    "# duplicate a column\n",
    "dftest = pandas.util.testing.makeMixedDataFrame()\n",
    "dftest['E'] = dftest['C']\n",
    "dftest"
   ]
  },
  {
   "cell_type": "code",
   "execution_count": 93,
   "metadata": {
    "collapsed": false
   },
   "outputs": [
    {
     "name": "stdout",
     "output_type": "stream",
     "text": [
      "A           float64\n",
      "B           float64\n",
      "C            object\n",
      "D    datetime64[ns]\n",
      "dtype: object\n"
     ]
    }
   ],
   "source": [
    "# tip 6\n",
    "# determine dataframe datatypes\n",
    "dftest = pandas.util.testing.makeMixedDataFrame()\n",
    "dataTypeSeries = dftest.dtypes\n",
    "print(dataTypeSeries)"
   ]
  },
  {
   "cell_type": "code",
   "execution_count": 94,
   "metadata": {
    "collapsed": false
   },
   "outputs": [
    {
     "name": "stdout",
     "output_type": "stream",
     "text": [
      "     A    B     C          D\n",
      "0 0.00 0.00  foo1 2009-01-01\n",
      "1 1.00 1.00  foo2 2009-01-02\n",
      "2 2.00 0.00  foo3 2009-01-05\n",
      "3 3.00 1.00  foo4 2009-01-06\n",
      "4 4.00 0.00  foo5 2009-01-07\n",
      "     A    B          D\n",
      "0 0.00 0.00 2009-01-01\n",
      "1 1.00 1.00 2009-01-02\n",
      "2 2.00 0.00 2009-01-05\n",
      "3 3.00 1.00 2009-01-06\n",
      "4 4.00 0.00 2009-01-07\n"
     ]
    }
   ],
   "source": [
    "# tip 7\n",
    "# delete a dataframe column\n",
    "\n",
    "# df = df.drop('column_name', 1)\n",
    "# where 1 is the axis number (0 for rows and 1 for columns.)\n",
    "\n",
    "# To delete the column without having to reassign df you can do:\n",
    "# df.drop('column_name', axis=1, inplace=True)\n",
    "\n",
    "# To drop by column number instead of by column label, try this to delete, e.g. the 1st, 2nd and 4th columns:\n",
    "# df = df.drop(df.columns[[0, 1, 3]], axis=1)  \n",
    "# df.columns is zero-based pd.Index \n",
    "\n",
    "# Working with \"text\" syntax for the columns:\n",
    "# df.drop(['column_nameA', 'column_nameB'], axis=1, inplace=True)\n",
    "\n",
    "dftest = pandas.util.testing.makeMixedDataFrame()\n",
    "print(dftest)\n",
    "dftest = dftest.drop('C', 1)\n",
    "print(dftest)"
   ]
  },
  {
   "cell_type": "code",
   "execution_count": 95,
   "metadata": {
    "collapsed": false
   },
   "outputs": [
    {
     "name": "stdout",
     "output_type": "stream",
     "text": [
      "     A    B     C          D\n",
      "0 0.00 0.00  foo1 2009-01-01\n",
      "1 1.00 1.00  foo2 2009-01-02\n",
      "2 2.00 0.00  foo3 2009-01-05\n",
      "3 3.00 1.00  foo4 2009-01-06\n",
      "4 4.00 0.00  foo5 2009-01-07\n",
      "           D    B     C    A\n",
      "0 2009-01-01 0.00  foo1 0.00\n",
      "1 2009-01-02 1.00  foo2 1.00\n",
      "2 2009-01-05 0.00  foo3 2.00\n",
      "3 2009-01-06 1.00  foo4 3.00\n",
      "4 2009-01-07 0.00  foo5 4.00\n"
     ]
    }
   ],
   "source": [
    "# tip 8\n",
    "# reorder columns (flipflop column a and column d)\n",
    "dftest = pandas.util.testing.makeMixedDataFrame()\n",
    "print(dftest)\n",
    "dftest = dftest[['D','B','C','A']]\n",
    "print(dftest)"
   ]
  },
  {
   "cell_type": "code",
   "execution_count": 96,
   "metadata": {
    "collapsed": false
   },
   "outputs": [
    {
     "data": {
      "text/html": [
       "<div>\n",
       "<table border=\"1\" class=\"dataframe\">\n",
       "  <thead>\n",
       "    <tr style=\"text-align: right;\">\n",
       "      <th></th>\n",
       "      <th>User</th>\n",
       "      <th>Work Date</th>\n",
       "      <th>Description</th>\n",
       "      <th>CLIN</th>\n",
       "      <th>WBS</th>\n",
       "      <th>ProjectID</th>\n",
       "      <th>Straight</th>\n",
       "      <th>Overtime</th>\n",
       "      <th>Total</th>\n",
       "      <th>SR</th>\n",
       "      <th>OptYr</th>\n",
       "      <th>id_length</th>\n",
       "    </tr>\n",
       "  </thead>\n",
       "  <tbody>\n",
       "    <tr>\n",
       "      <th>0</th>\n",
       "      <td>Schneider, Laura E</td>\n",
       "      <td>2020-10-06</td>\n",
       "      <td>Software Services</td>\n",
       "      <td>0111</td>\n",
       "      <td>509</td>\n",
       "      <td>613976.00.01.0111.509</td>\n",
       "      <td>10.00</td>\n",
       "      <td>0.00</td>\n",
       "      <td>10.00</td>\n",
       "      <td>SR-0000000</td>\n",
       "      <td>OY..</td>\n",
       "      <td>21</td>\n",
       "    </tr>\n",
       "    <tr>\n",
       "      <th>1</th>\n",
       "      <td>Schneider, Laura E</td>\n",
       "      <td>2020-10-07</td>\n",
       "      <td>Software Services</td>\n",
       "      <td>0111</td>\n",
       "      <td>509</td>\n",
       "      <td>613976.00.01.0111.509</td>\n",
       "      <td>10.00</td>\n",
       "      <td>0.00</td>\n",
       "      <td>10.00</td>\n",
       "      <td>SR-0000000</td>\n",
       "      <td>OY..</td>\n",
       "      <td>21</td>\n",
       "    </tr>\n",
       "    <tr>\n",
       "      <th>2</th>\n",
       "      <td>Schneider, Laura E</td>\n",
       "      <td>2020-10-08</td>\n",
       "      <td>Software Services</td>\n",
       "      <td>0111</td>\n",
       "      <td>509</td>\n",
       "      <td>613976.00.01.0111.509</td>\n",
       "      <td>10.00</td>\n",
       "      <td>0.00</td>\n",
       "      <td>10.00</td>\n",
       "      <td>SR-0000000</td>\n",
       "      <td>OY..</td>\n",
       "      <td>21</td>\n",
       "    </tr>\n",
       "  </tbody>\n",
       "</table>\n",
       "</div>"
      ],
      "text/plain": [
       "                 User   Work Date        Description  CLIN  WBS  \\\n",
       "0  Schneider, Laura E  2020-10-06  Software Services  0111  509   \n",
       "1  Schneider, Laura E  2020-10-07  Software Services  0111  509   \n",
       "2  Schneider, Laura E  2020-10-08  Software Services  0111  509   \n",
       "\n",
       "               ProjectID  Straight  Overtime  Total          SR OptYr  \\\n",
       "0  613976.00.01.0111.509     10.00      0.00  10.00  SR-0000000  OY..   \n",
       "1  613976.00.01.0111.509     10.00      0.00  10.00  SR-0000000  OY..   \n",
       "2  613976.00.01.0111.509     10.00      0.00  10.00  SR-0000000  OY..   \n",
       "\n",
       "   id_length  \n",
       "0         21  \n",
       "1         21  \n",
       "2         21  "
      ]
     },
     "execution_count": 96,
     "metadata": {},
     "output_type": "execute_result"
    }
   ],
   "source": [
    "df.head(3)"
   ]
  },
  {
   "cell_type": "code",
   "execution_count": 97,
   "metadata": {
    "collapsed": false
   },
   "outputs": [
    {
     "data": {
      "text/html": [
       "<div>\n",
       "<table border=\"1\" class=\"dataframe\">\n",
       "  <thead>\n",
       "    <tr style=\"text-align: right;\">\n",
       "      <th></th>\n",
       "      <th>User</th>\n",
       "      <th>Work Date</th>\n",
       "      <th>Description</th>\n",
       "      <th>CLIN</th>\n",
       "      <th>WBS</th>\n",
       "      <th>ProjectID</th>\n",
       "      <th>Straight</th>\n",
       "      <th>Overtime</th>\n",
       "      <th>Total</th>\n",
       "      <th>SR</th>\n",
       "      <th>OptYr</th>\n",
       "    </tr>\n",
       "  </thead>\n",
       "  <tbody>\n",
       "    <tr>\n",
       "      <th>0</th>\n",
       "      <td>Schneider, Laura E</td>\n",
       "      <td>2020-10-06</td>\n",
       "      <td>Software Services</td>\n",
       "      <td>0111</td>\n",
       "      <td>509</td>\n",
       "      <td>613976.00.01.0111.509</td>\n",
       "      <td>10.00</td>\n",
       "      <td>0.00</td>\n",
       "      <td>10.00</td>\n",
       "      <td>SR-0000000</td>\n",
       "      <td>OY..</td>\n",
       "    </tr>\n",
       "    <tr>\n",
       "      <th>1</th>\n",
       "      <td>Schneider, Laura E</td>\n",
       "      <td>2020-10-07</td>\n",
       "      <td>Software Services</td>\n",
       "      <td>0111</td>\n",
       "      <td>509</td>\n",
       "      <td>613976.00.01.0111.509</td>\n",
       "      <td>10.00</td>\n",
       "      <td>0.00</td>\n",
       "      <td>10.00</td>\n",
       "      <td>SR-0000000</td>\n",
       "      <td>OY..</td>\n",
       "    </tr>\n",
       "    <tr>\n",
       "      <th>2</th>\n",
       "      <td>Schneider, Laura E</td>\n",
       "      <td>2020-10-08</td>\n",
       "      <td>Software Services</td>\n",
       "      <td>0111</td>\n",
       "      <td>509</td>\n",
       "      <td>613976.00.01.0111.509</td>\n",
       "      <td>10.00</td>\n",
       "      <td>0.00</td>\n",
       "      <td>10.00</td>\n",
       "      <td>SR-0000000</td>\n",
       "      <td>OY..</td>\n",
       "    </tr>\n",
       "  </tbody>\n",
       "</table>\n",
       "</div>"
      ],
      "text/plain": [
       "                 User   Work Date        Description  CLIN  WBS  \\\n",
       "0  Schneider, Laura E  2020-10-06  Software Services  0111  509   \n",
       "1  Schneider, Laura E  2020-10-07  Software Services  0111  509   \n",
       "2  Schneider, Laura E  2020-10-08  Software Services  0111  509   \n",
       "\n",
       "               ProjectID  Straight  Overtime  Total          SR OptYr  \n",
       "0  613976.00.01.0111.509     10.00      0.00  10.00  SR-0000000  OY..  \n",
       "1  613976.00.01.0111.509     10.00      0.00  10.00  SR-0000000  OY..  \n",
       "2  613976.00.01.0111.509     10.00      0.00  10.00  SR-0000000  OY..  "
      ]
     },
     "execution_count": 97,
     "metadata": {},
     "output_type": "execute_result"
    }
   ],
   "source": [
    "# delete tpid_length column\n",
    "df = df.drop('id_length', 1)\n",
    "df.head(3)"
   ]
  },
  {
   "cell_type": "code",
   "execution_count": 98,
   "metadata": {
    "collapsed": true
   },
   "outputs": [],
   "source": [
    "df.to_excel (r'U:\\613976-AP2 Regular & OT Hours for Adv by CCC_#505ap-modified-20210104.xlsx', index = False, header=True)"
   ]
  },
  {
   "cell_type": "code",
   "execution_count": null,
   "metadata": {
    "collapsed": true
   },
   "outputs": [],
   "source": []
  }
 ],
 "metadata": {
  "anaconda-cloud": {},
  "kernelspec": {
   "display_name": "Python [default]",
   "language": "python",
   "name": "python3"
  },
  "language_info": {
   "codemirror_mode": {
    "name": "ipython",
    "version": 3
   },
   "file_extension": ".py",
   "mimetype": "text/x-python",
   "name": "python",
   "nbconvert_exporter": "python",
   "pygments_lexer": "ipython3",
   "version": "3.5.2"
  }
 },
 "nbformat": 4,
 "nbformat_minor": 1
}
